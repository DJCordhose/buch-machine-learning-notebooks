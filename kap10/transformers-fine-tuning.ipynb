{
  "cells": [
    {
      "cell_type": "markdown",
      "metadata": {
        "id": "view-in-github",
        "colab_type": "text"
      },
      "source": [
        "<a href=\"https://colab.research.google.com/github/DJCordhose/buch-machine-learning-notebooks/blob/auflage-3/kap10/transformers-fine-tuning.ipynb\" target=\"_parent\"><img src=\"https://colab.research.google.com/assets/colab-badge.svg\" alt=\"Open In Colab\"/></a>"
      ]
    },
    {
      "cell_type": "markdown",
      "id": "54aa96ee",
      "metadata": {
        "id": "54aa96ee"
      },
      "source": [
        "# Transformers fine tuning on IMDB for sentiment\n",
        "\n",
        "**for this you either need a GPU in your machine or you need to run this on Colab**\n",
        "\n",
        "* https://colab.research.google.com/github/huggingface/notebooks/blob/main/transformers_doc/en/tensorflow/training.ipynb\n",
        "* https://huggingface.co/docs/transformers/training#train-a-tensorflow-model-with-keras\n",
        "* https://huggingface.co/docs/datasets/\n",
        "* https://github.com/huggingface/datasets\n",
        "* https://huggingface.co/datasets/imdb"
      ]
    },
    {
      "cell_type": "markdown",
      "id": "1768e85e",
      "metadata": {
        "id": "1768e85e"
      },
      "source": [
        "## Installation"
      ]
    },
    {
      "cell_type": "code",
      "execution_count": 1,
      "metadata": {
        "id": "g9XJ4FUlhP6g",
        "outputId": "d5b35a97-e3ab-41f4-8f8f-98e354ebd11c",
        "colab": {
          "base_uri": "https://localhost:8080/"
        }
      },
      "outputs": [
        {
          "output_type": "execute_result",
          "data": {
            "text/plain": [
              "True"
            ]
          },
          "metadata": {},
          "execution_count": 1
        }
      ],
      "source": [
        "import sys\n",
        "IN_COLAB = 'google.colab' in sys.modules\n",
        "IN_COLAB"
      ],
      "id": "g9XJ4FUlhP6g"
    },
    {
      "cell_type": "code",
      "execution_count": 2,
      "metadata": {
        "id": "On3tIaqchP6i"
      },
      "outputs": [],
      "source": [
        "if IN_COLAB:\n",
        "    # https://huggingface.co/transformers/installation.html\n",
        "    # https://huggingface.co/docs/datasets/installation.html\n",
        "    !pip install -q transformers datasets"
      ],
      "id": "On3tIaqchP6i"
    },
    {
      "cell_type": "code",
      "execution_count": 3,
      "id": "cf5f2460",
      "metadata": {
        "id": "cf5f2460"
      },
      "outputs": [],
      "source": [
        "import matplotlib.pyplot as plt\n",
        "%matplotlib inline"
      ]
    },
    {
      "cell_type": "code",
      "execution_count": 4,
      "id": "89438dee",
      "metadata": {
        "id": "89438dee"
      },
      "outputs": [],
      "source": [
        "import matplotlib as mpl\n",
        "mpl.rcParams['figure.figsize'] = (20, 8)\n",
        "mpl.rcParams['axes.titlesize'] = 24\n",
        "mpl.rcParams['axes.labelsize'] = 20\n",
        "\n",
        "figsize_3d = (20, 10)"
      ]
    },
    {
      "cell_type": "code",
      "execution_count": 5,
      "id": "8rpM6hoffBH7",
      "metadata": {
        "colab": {
          "base_uri": "https://localhost:8080/",
          "height": 35
        },
        "id": "8rpM6hoffBH7",
        "outputId": "71593562-f5cb-4d18-b1e7-345bb65aff78"
      },
      "outputs": [
        {
          "output_type": "execute_result",
          "data": {
            "text/plain": [
              "'2.14.0'"
            ],
            "application/vnd.google.colaboratory.intrinsic+json": {
              "type": "string"
            }
          },
          "metadata": {},
          "execution_count": 5
        }
      ],
      "source": [
        "import tensorflow as tf\n",
        "tf.__version__"
      ]
    },
    {
      "cell_type": "code",
      "execution_count": 6,
      "id": "5reVkcyPfBv-",
      "metadata": {
        "id": "5reVkcyPfBv-"
      },
      "outputs": [],
      "source": [
        "tf.random.set_seed(42)"
      ]
    },
    {
      "cell_type": "code",
      "execution_count": 7,
      "id": "3-GkM1kDdFpY",
      "metadata": {
        "colab": {
          "base_uri": "https://localhost:8080/"
        },
        "id": "3-GkM1kDdFpY",
        "outputId": "fc900433-90dc-4836-ba47-484ddf66e923"
      },
      "outputs": [
        {
          "output_type": "stream",
          "name": "stdout",
          "text": [
            "Sun Nov 12 13:45:51 2023       \n",
            "+-----------------------------------------------------------------------------+\n",
            "| NVIDIA-SMI 525.105.17   Driver Version: 525.105.17   CUDA Version: 12.0     |\n",
            "|-------------------------------+----------------------+----------------------+\n",
            "| GPU  Name        Persistence-M| Bus-Id        Disp.A | Volatile Uncorr. ECC |\n",
            "| Fan  Temp  Perf  Pwr:Usage/Cap|         Memory-Usage | GPU-Util  Compute M. |\n",
            "|                               |                      |               MIG M. |\n",
            "|===============================+======================+======================|\n",
            "|   0  Tesla V100-SXM2...  Off  | 00000000:00:04.0 Off |                    0 |\n",
            "| N/A   33C    P0    24W / 300W |      0MiB / 16384MiB |      0%      Default |\n",
            "|                               |                      |                  N/A |\n",
            "+-------------------------------+----------------------+----------------------+\n",
            "                                                                               \n",
            "+-----------------------------------------------------------------------------+\n",
            "| Processes:                                                                  |\n",
            "|  GPU   GI   CI        PID   Type   Process name                  GPU Memory |\n",
            "|        ID   ID                                                   Usage      |\n",
            "|=============================================================================|\n",
            "|  No running processes found                                                 |\n",
            "+-----------------------------------------------------------------------------+\n"
          ]
        }
      ],
      "source": [
        "!nvidia-smi"
      ]
    },
    {
      "cell_type": "markdown",
      "id": "1d76c766",
      "metadata": {
        "id": "1d76c766"
      },
      "source": [
        "## Get and prepare data"
      ]
    },
    {
      "cell_type": "code",
      "execution_count": 8,
      "id": "4abd352c",
      "metadata": {
        "id": "4abd352c"
      },
      "outputs": [],
      "source": [
        "from datasets import load_dataset\n",
        "\n",
        "raw_datasets = load_dataset(\"imdb\")"
      ]
    },
    {
      "cell_type": "code",
      "execution_count": 9,
      "id": "b64bae96",
      "metadata": {
        "colab": {
          "base_uri": "https://localhost:8080/"
        },
        "id": "b64bae96",
        "outputId": "23528220-b788-4440-fc78-9f930f712b1a"
      },
      "outputs": [
        {
          "output_type": "execute_result",
          "data": {
            "text/plain": [
              "DatasetDict({\n",
              "    train: Dataset({\n",
              "        features: ['text', 'label'],\n",
              "        num_rows: 25000\n",
              "    })\n",
              "    test: Dataset({\n",
              "        features: ['text', 'label'],\n",
              "        num_rows: 25000\n",
              "    })\n",
              "    unsupervised: Dataset({\n",
              "        features: ['text', 'label'],\n",
              "        num_rows: 50000\n",
              "    })\n",
              "})"
            ]
          },
          "metadata": {},
          "execution_count": 9
        }
      ],
      "source": [
        "raw_datasets"
      ]
    },
    {
      "cell_type": "code",
      "execution_count": 10,
      "id": "85NiJ7LA3sS3",
      "metadata": {
        "colab": {
          "base_uri": "https://localhost:8080/",
          "height": 125
        },
        "id": "85NiJ7LA3sS3",
        "outputId": "8f49447b-5023-4c6a-ea6c-ee69927c467b"
      },
      "outputs": [
        {
          "output_type": "execute_result",
          "data": {
            "text/plain": [
              "'I rented I AM CURIOUS-YELLOW from my video store because of all the controversy that surrounded it when it was first released in 1967. I also heard that at first it was seized by U.S. customs if it ever tried to enter this country, therefore being a fan of films considered \"controversial\" I really had to see this for myself.<br /><br />The plot is centered around a young Swedish drama student named Lena who wants to learn everything she can about life. In particular she wants to focus her attentions to making some sort of documentary on what the average Swede thought about certain political issues such as the Vietnam War and race issues in the United States. In between asking politicians and ordinary denizens of Stockholm about their opinions on politics, she has sex with her drama teacher, classmates, and married men.<br /><br />What kills me about I AM CURIOUS-YELLOW is that 40 years ago, this was considered pornographic. Really, the sex and nudity scenes are few and far between, even then it\\'s not shot like some cheaply made porno. While my countrymen mind find it shocking, in reality sex and nudity are a major staple in Swedish cinema. Even Ingmar Bergman, arguably their answer to good old boy John Ford, had sex scenes in his films.<br /><br />I do commend the filmmakers for the fact that any sex shown in the film is shown for artistic purposes rather than just to shock people and make money to be shown in pornographic theaters in America. I AM CURIOUS-YELLOW is a good film for anyone wanting to study the meat and potatoes (no pun intended) of Swedish cinema. But really, this film doesn\\'t have much of a plot.'"
            ],
            "application/vnd.google.colaboratory.intrinsic+json": {
              "type": "string"
            }
          },
          "metadata": {},
          "execution_count": 10
        }
      ],
      "source": [
        "example_idx = 0\n",
        "raw_datasets[\"train\"]['text'][example_idx]"
      ]
    },
    {
      "cell_type": "code",
      "execution_count": 11,
      "id": "r9an6Ijh36XY",
      "metadata": {
        "colab": {
          "base_uri": "https://localhost:8080/"
        },
        "id": "r9an6Ijh36XY",
        "outputId": "4381380e-d18d-4799-e23c-953184acdd6d"
      },
      "outputs": [
        {
          "output_type": "execute_result",
          "data": {
            "text/plain": [
              "0"
            ]
          },
          "metadata": {},
          "execution_count": 11
        }
      ],
      "source": [
        "# 0: neg, 1: pos\n",
        "raw_datasets[\"train\"]['label'][example_idx]"
      ]
    },
    {
      "cell_type": "code",
      "execution_count": 12,
      "id": "c45b1af2",
      "metadata": {
        "id": "c45b1af2"
      },
      "outputs": [],
      "source": [
        "from transformers import AutoTokenizer\n",
        "\n",
        "tokenizer = AutoTokenizer.from_pretrained(\"bert-base-cased\")"
      ]
    },
    {
      "cell_type": "code",
      "execution_count": 13,
      "id": "06bfb8ef",
      "metadata": {
        "id": "06bfb8ef"
      },
      "outputs": [],
      "source": [
        "del raw_datasets[\"unsupervised\"]\n",
        "\n",
        "def tokenize_function(examples):\n",
        "    return tokenizer(examples[\"text\"], padding=\"max_length\", truncation=True)\n",
        "\n",
        "tokenized_datasets = raw_datasets.map(tokenize_function, batched=True)"
      ]
    },
    {
      "cell_type": "code",
      "source": [
        "# train_dataset = tokenized_datasets[\"train\"]\n",
        "# eval_dataset = tokenized_datasets[\"test\"]"
      ],
      "metadata": {
        "id": "KgnC6waArg3F"
      },
      "id": "KgnC6waArg3F",
      "execution_count": 14,
      "outputs": []
    },
    {
      "cell_type": "markdown",
      "id": "6e168e1b",
      "metadata": {
        "id": "6e168e1b"
      },
      "source": [
        "## Get pretrained model and fine tune"
      ]
    },
    {
      "cell_type": "code",
      "execution_count": 15,
      "id": "0496a154",
      "metadata": {
        "id": "0496a154"
      },
      "outputs": [],
      "source": [
        "small_size = 1_000\n",
        "train_dataset = tokenized_datasets[\"train\"].shuffle(seed=42).select(range(small_size))\n",
        "eval_dataset = tokenized_datasets[\"test\"].shuffle(seed=42).select(range(small_size))"
      ]
    },
    {
      "cell_type": "code",
      "execution_count": 16,
      "id": "287d2c69",
      "metadata": {
        "colab": {
          "base_uri": "https://localhost:8080/"
        },
        "id": "287d2c69",
        "outputId": "03554018-1204-4cb0-9c78-1ae5aa9658b9"
      },
      "outputs": [
        {
          "output_type": "stream",
          "name": "stderr",
          "text": [
            "All PyTorch model weights were used when initializing TFBertForSequenceClassification.\n",
            "\n",
            "Some weights or buffers of the TF 2.0 model TFBertForSequenceClassification were not initialized from the PyTorch model and are newly initialized: ['classifier.weight', 'classifier.bias']\n",
            "You should probably TRAIN this model on a down-stream task to be able to use it for predictions and inference.\n"
          ]
        },
        {
          "output_type": "stream",
          "name": "stdout",
          "text": [
            "Model: \"tf_bert_for_sequence_classification\"\n",
            "_________________________________________________________________\n",
            " Layer (type)                Output Shape              Param #   \n",
            "=================================================================\n",
            " bert (TFBertMainLayer)      multiple                  108310272 \n",
            "                                                                 \n",
            " dropout_37 (Dropout)        multiple                  0         \n",
            "                                                                 \n",
            " classifier (Dense)          multiple                  1538      \n",
            "                                                                 \n",
            "=================================================================\n",
            "Total params: 108311810 (413.18 MB)\n",
            "Trainable params: 108311810 (413.18 MB)\n",
            "Non-trainable params: 0 (0.00 Byte)\n",
            "_________________________________________________________________\n"
          ]
        }
      ],
      "source": [
        "import tensorflow as tf\n",
        "from transformers import TFAutoModelForSequenceClassification\n",
        "\n",
        "model = TFAutoModelForSequenceClassification.from_pretrained(\"bert-base-cased\")\n",
        "model.summary()"
      ]
    },
    {
      "cell_type": "code",
      "execution_count": 17,
      "id": "32ee1b96",
      "metadata": {
        "id": "32ee1b96"
      },
      "outputs": [],
      "source": [
        "# 1 to 3 minutes per epoch on decent GPU (e.g. V100 1min, T4 3min)\n",
        "# don't train for too long, model will overfit\n",
        "EPOCHS = 5\n",
        "# reduce batch size when you encoder OOM error\n",
        "# note, model has more than 100M parameters\n",
        "# batch size 8 doable on 16GB\n",
        "BATCH_SIZE = 8\n",
        "# don't forget, we are fine tuning, increasing the LR might keep the model from even training\n",
        "# LR = 3e-5\n",
        "LR = 1e-5"
      ]
    },
    {
      "cell_type": "code",
      "execution_count": 18,
      "id": "ba79af8f",
      "metadata": {
        "id": "ba79af8f"
      },
      "outputs": [],
      "source": [
        "from transformers import DefaultDataCollator\n",
        "\n",
        "data_collator = DefaultDataCollator(return_tensors=\"tf\")\n",
        "\n",
        "tf_train_dataset = train_dataset.to_tf_dataset(\n",
        "    columns=[\"attention_mask\", \"input_ids\", \"token_type_ids\"],\n",
        "    label_cols=\"label\",\n",
        "    shuffle=True,\n",
        "    collate_fn=data_collator,\n",
        "    batch_size=BATCH_SIZE,\n",
        ")\n",
        "\n",
        "tf_validation_dataset = eval_dataset.to_tf_dataset(\n",
        "    columns=[\"attention_mask\", \"input_ids\", \"token_type_ids\"],\n",
        "    label_cols=\"label\",\n",
        "    shuffle=False,\n",
        "    collate_fn=data_collator,\n",
        "    batch_size=BATCH_SIZE,\n",
        ")"
      ]
    },
    {
      "cell_type": "code",
      "execution_count": 19,
      "id": "db75e13d",
      "metadata": {
        "colab": {
          "base_uri": "https://localhost:8080/"
        },
        "id": "db75e13d",
        "outputId": "5ac96642-c84b-4f3d-9a36-f62566b69e6e"
      },
      "outputs": [
        {
          "output_type": "stream",
          "name": "stdout",
          "text": [
            "Epoch 1/5\n",
            "125/125 [==============================] - 127s 531ms/step - loss: 0.5829 - sparse_categorical_accuracy: 0.6980 - val_loss: 0.3246 - val_sparse_categorical_accuracy: 0.8690\n",
            "Epoch 2/5\n",
            "125/125 [==============================] - 57s 458ms/step - loss: 0.2631 - sparse_categorical_accuracy: 0.9040 - val_loss: 0.3273 - val_sparse_categorical_accuracy: 0.8730\n",
            "Epoch 3/5\n",
            "125/125 [==============================] - 57s 456ms/step - loss: 0.1107 - sparse_categorical_accuracy: 0.9640 - val_loss: 0.4422 - val_sparse_categorical_accuracy: 0.8630\n",
            "Epoch 4/5\n",
            "125/125 [==============================] - 57s 459ms/step - loss: 0.0383 - sparse_categorical_accuracy: 0.9890 - val_loss: 0.4961 - val_sparse_categorical_accuracy: 0.8800\n",
            "Epoch 5/5\n",
            "125/125 [==============================] - 57s 457ms/step - loss: 0.0147 - sparse_categorical_accuracy: 0.9960 - val_loss: 0.5876 - val_sparse_categorical_accuracy: 0.8680\n",
            "CPU times: user 3min 58s, sys: 24.2 s, total: 4min 22s\n",
            "Wall time: 7min 35s\n"
          ]
        }
      ],
      "source": [
        "%%time\n",
        "\n",
        "model.compile(\n",
        "   optimizer=tf.keras.optimizers.Adam(learning_rate=LR),\n",
        "    # You don’t have to pass a loss argument to your models when you compile() them!\n",
        "    # Hugging Face models automatically choose a loss that is appropriate for their task and model architecture if this argument is left blank.\n",
        "    # You can always override this by specifying a loss yourself if you want to!\n",
        "    # loss=tf.keras.losses.SparseCategoricalCrossentropy(from_logits=True),\n",
        "    metrics=tf.metrics.SparseCategoricalAccuracy()\n",
        ")\n",
        "\n",
        "history = model.fit(tf_train_dataset, validation_data=tf_validation_dataset, epochs=EPOCHS)"
      ]
    },
    {
      "cell_type": "markdown",
      "id": "048ebf4a",
      "metadata": {
        "id": "048ebf4a"
      },
      "source": [
        "## Evaluate results"
      ]
    },
    {
      "cell_type": "code",
      "execution_count": 20,
      "id": "38939e4d",
      "metadata": {
        "colab": {
          "base_uri": "https://localhost:8080/"
        },
        "id": "38939e4d",
        "outputId": "63fde401-4bf8-4e63-a068-cdd11f2612b3"
      },
      "outputs": [
        {
          "output_type": "stream",
          "name": "stdout",
          "text": [
            "125/125 [==============================] - 16s 128ms/step - loss: 0.0098 - sparse_categorical_accuracy: 0.9980\n"
          ]
        },
        {
          "output_type": "execute_result",
          "data": {
            "text/plain": [
              "[0.009805191308259964, 0.9980000257492065]"
            ]
          },
          "metadata": {},
          "execution_count": 20
        }
      ],
      "source": [
        "model.evaluate(tf_train_dataset)"
      ]
    },
    {
      "cell_type": "code",
      "execution_count": 21,
      "id": "8d9686f0",
      "metadata": {
        "colab": {
          "base_uri": "https://localhost:8080/"
        },
        "id": "8d9686f0",
        "outputId": "772c3477-3bd6-41ed-cb21-eae98bdf5088"
      },
      "outputs": [
        {
          "output_type": "stream",
          "name": "stdout",
          "text": [
            "125/125 [==============================] - 16s 127ms/step - loss: 0.5876 - sparse_categorical_accuracy: 0.8680\n"
          ]
        },
        {
          "output_type": "execute_result",
          "data": {
            "text/plain": [
              "[0.5875745415687561, 0.8679999709129333]"
            ]
          },
          "metadata": {},
          "execution_count": 21
        }
      ],
      "source": [
        "# training data set too small to not overfit on it\n",
        "model.evaluate(tf_validation_dataset)"
      ]
    },
    {
      "cell_type": "code",
      "execution_count": 22,
      "id": "2eb8316c",
      "metadata": {
        "colab": {
          "base_uri": "https://localhost:8080/",
          "height": 603
        },
        "id": "2eb8316c",
        "outputId": "7b58d604-1118-4878-ae15-cf093587a183"
      },
      "outputs": [
        {
          "output_type": "display_data",
          "data": {
            "text/plain": [
              "<Figure size 2000x800 with 1 Axes>"
            ],
            "image/png": "[encoded data removed]"
          },
          "metadata": {}
        }
      ],
      "source": [
        "# plt.yscale('log')\n",
        "plt.ylabel(\"loss\")\n",
        "plt.xlabel(\"epochs\")\n",
        "plt.title('Loss over time')\n",
        "\n",
        "plt.plot(history.history['loss']);\n",
        "plt.plot(history.history['val_loss']);\n",
        "\n",
        "plt.legend(['Training', 'Validation']);"
      ]
    },
    {
      "cell_type": "code",
      "execution_count": 23,
      "id": "23ec4c5d",
      "metadata": {
        "colab": {
          "base_uri": "https://localhost:8080/",
          "height": 600
        },
        "id": "23ec4c5d",
        "outputId": "d5a1dace-e93a-4879-f44e-310cf42ac9bc"
      },
      "outputs": [
        {
          "output_type": "display_data",
          "data": {
            "text/plain": [
              "<Figure size 2000x800 with 1 Axes>"
            ],
            "image/png": "[encoded data removed]"
          },
          "metadata": {}
        }
      ],
      "source": [
        "# plt.yscale('log')\n",
        "plt.ylabel(\"accuracy\")\n",
        "plt.xlabel(\"epochs\")\n",
        "plt.title('Accuracy over time')\n",
        "\n",
        "plt.plot(history.history['sparse_categorical_accuracy']);\n",
        "plt.plot(history.history['val_sparse_categorical_accuracy']);\n",
        "\n",
        "plt.legend(['Training', 'Validation']);\n"
      ]
    },
    {
      "cell_type": "markdown",
      "id": "67c33a4b",
      "metadata": {
        "id": "67c33a4b"
      },
      "source": [
        "## Try out our fine tuned model\n",
        "\n",
        "Quoting from https://huggingface.co/datasets/imdb\n",
        "* neg: 0\n",
        "* pos: 1\n",
        "\n",
        "https://huggingface.co/transformers/task_summary.html#sequence-classification"
      ]
    },
    {
      "cell_type": "code",
      "execution_count": 24,
      "id": "39a17765",
      "metadata": {
        "id": "39a17765"
      },
      "outputs": [],
      "source": [
        "movie1 = 'Two small cats seek and find adventures. Nice if you like cute movies.'"
      ]
    },
    {
      "cell_type": "code",
      "execution_count": 25,
      "id": "f11ca67f",
      "metadata": {
        "id": "f11ca67f"
      },
      "outputs": [],
      "source": [
        "movie2 = 'Zombies attack a kindergarden. Splatter!'"
      ]
    },
    {
      "cell_type": "code",
      "execution_count": 26,
      "id": "e23cc151",
      "metadata": {
        "id": "e23cc151"
      },
      "outputs": [],
      "source": [
        "movies = [movie1, movie2]"
      ]
    },
    {
      "cell_type": "code",
      "execution_count": 27,
      "id": "f0dcbc3e",
      "metadata": {
        "id": "f0dcbc3e"
      },
      "outputs": [],
      "source": [
        "inputs = tokenizer(movies, padding=\"max_length\", truncation=True, return_tensors=\"tf\")"
      ]
    },
    {
      "cell_type": "code",
      "execution_count": 28,
      "id": "277c07eb",
      "metadata": {
        "colab": {
          "base_uri": "https://localhost:8080/"
        },
        "id": "277c07eb",
        "outputId": "1edeab37-7aa3-448e-849c-65ae7038e8a6"
      },
      "outputs": [
        {
          "output_type": "execute_result",
          "data": {
            "text/plain": [
              "array([0.01681681, 0.98318315], dtype=float32)"
            ]
          },
          "metadata": {},
          "execution_count": 28
        }
      ],
      "source": [
        "# this seems to be a good movie\n",
        "tf.nn.softmax(model(inputs)[0])[0].numpy()"
      ]
    },
    {
      "cell_type": "code",
      "execution_count": 29,
      "id": "f060138c",
      "metadata": {
        "colab": {
          "base_uri": "https://localhost:8080/"
        },
        "id": "f060138c",
        "outputId": "d9647d7a-4632-454b-b9e1-a226dce7385a"
      },
      "outputs": [
        {
          "output_type": "execute_result",
          "data": {
            "text/plain": [
              "array([0.6547532 , 0.34524673], dtype=float32)"
            ]
          },
          "metadata": {},
          "execution_count": 29
        }
      ],
      "source": [
        "# this one not so much\n",
        "tf.nn.softmax(model(inputs)[0])[1].numpy()"
      ]
    },
    {
      "cell_type": "code",
      "execution_count": 29,
      "id": "L53LwkL_iY4y",
      "metadata": {
        "id": "L53LwkL_iY4y"
      },
      "outputs": [],
      "source": []
    }
  ],
  "metadata": {
    "accelerator": "GPU",
    "colab": {
      "name": "transformers-fine-tuning.ipynb",
      "provenance": [],
      "gpuType": "V100",
      "include_colab_link": true
    },
    "kernelspec": {
      "display_name": "Python 3",
      "name": "python3"
    },
    "language_info": {
      "codemirror_mode": {
        "name": "ipython",
        "version": 3
      },
      "file_extension": ".py",
      "mimetype": "text/x-python",
      "name": "python",
      "nbconvert_exporter": "python",
      "pygments_lexer": "ipython3",
      "version": "3.9.18"
    }
  },
  "nbformat": 4,
  "nbformat_minor": 5
}