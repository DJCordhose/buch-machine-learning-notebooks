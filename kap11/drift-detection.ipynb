{
  "cells": [
    {
      "cell_type": "markdown",
      "metadata": {
        "colab_type": "text",
        "id": "view-in-github"
      },
      "source": [
        "<a href=\"https://colab.research.google.com/github/DJCordhose/mlops-drift/blob/main/notebooks/drift.ipynb\" target=\"_parent\"><img src=\"https://colab.research.google.com/assets/colab-badge.svg\" alt=\"Open In Colab\"/></a>"
      ]
    },
    {
      "cell_type": "markdown",
      "metadata": {
        "id": "XdfXfXK2-CiG"
      },
      "source": [
        "# Detecting drift\n",
        "\n",
        "* you can let evidently choose the test or make your own choice\n",
        "  * allows to select per type or per feature: https://docs.evidentlyai.com/reference/api-reference/evidently.options\n",
        "  * which test: https://www.evidentlyai.com/blog/data-drift-detection-large-datasets\n",
        "* Drift algorithm: https://docs.evidentlyai.com/reference/data-drift-algorithm  "
      ]
    },
    {
      "cell_type": "code",
      "execution_count": 2,
      "metadata": {
        "colab": {
          "base_uri": "https://localhost:8080/"
        },
        "id": "RJt7NAaEc9Ig",
        "outputId": "8f552e05-c703-4220-81fe-5b9d936c40fe"
      },
      "outputs": [
        {
          "data": {
            "text/plain": [
              "False"
            ]
          },
          "execution_count": 2,
          "metadata": {},
          "output_type": "execute_result"
        }
      ],
      "source": [
        "import sys\n",
        "IN_COLAB = 'google.colab' in sys.modules\n",
        "IN_COLAB"
      ]
    },
    {
      "cell_type": "code",
      "execution_count": 3,
      "metadata": {
        "colab": {
          "base_uri": "https://localhost:8080/"
        },
        "id": "pP-d8LdjcssR",
        "outputId": "417e3300-ddc4-4675-b42f-eeaf19f46ca7"
      },
      "outputs": [],
      "source": [
        "if IN_COLAB:\n",
        "  !pip install -q evidently==0.4.8"
      ]
    },
    {
      "cell_type": "code",
      "execution_count": 4,
      "metadata": {
        "colab": {
          "base_uri": "https://localhost:8080/",
          "height": 35
        },
        "id": "sQA-t-C5FmVg",
        "outputId": "6aa2b3a3-e10c-48f6-aede-698b0a52f205"
      },
      "outputs": [
        {
          "data": {
            "text/plain": [
              "'0.4.8'"
            ]
          },
          "execution_count": 4,
          "metadata": {},
          "output_type": "execute_result"
        }
      ],
      "source": [
        "import evidently\n",
        "evidently.__version__"
      ]
    },
    {
      "cell_type": "code",
      "execution_count": 5,
      "metadata": {
        "id": "g38Tfm0ucssS"
      },
      "outputs": [],
      "source": [
        "from evidently.metrics import DatasetDriftMetric\n",
        "from evidently.base_metric import InputData, ColumnMapping\n",
        "from evidently.runner.loader import DataLoader, DataOptions\n",
        "from evidently.calculations.data_drift import get_drift_for_columns\n",
        "from evidently.options.data_drift import DataDriftOptions\n",
        "from evidently.utils.data_operations import process_columns"
      ]
    },
    {
      "cell_type": "markdown",
      "metadata": {
        "id": "5Hvbb4YWpZj_"
      },
      "source": [
        "## Preparing reference and current dataset"
      ]
    },
    {
      "cell_type": "code",
      "execution_count": 6,
      "metadata": {
        "id": "sz0p9q4lc9gZ"
      },
      "outputs": [],
      "source": [
        "def url_for_dataset(relative_path):\n",
        "  if IN_COLAB:\n",
        "    url = f'https://github.com/DJCordhose/mlops-drift/raw/main/datasets/insurance_prediction/{relative_path}.csv.gz'\n",
        "  else:\n",
        "    url =  f'./datasets/insurance_prediction/{relative_path}.csv.gz'\n",
        "  return url"
      ]
    },
    {
      "cell_type": "code",
      "execution_count": 7,
      "metadata": {
        "id": "OSqc0EKxeJit"
      },
      "outputs": [],
      "source": [
        "# how many months after training?\n",
        "# iteration = 36 # final month in dataset, should have the biggest difference\n",
        "iteration = 12 # one year later, drift should starting to show"
      ]
    },
    {
      "cell_type": "code",
      "execution_count": 8,
      "metadata": {
        "id": "if_GidjBcssT"
      },
      "outputs": [],
      "source": [
        "reference_dataset_url = url_for_dataset(f'reference')\n",
        "current_dataset_url = url_for_dataset(f'monthly/month-{iteration}')"
      ]
    },
    {
      "cell_type": "code",
      "execution_count": 9,
      "metadata": {
        "colab": {
          "base_uri": "https://localhost:8080/",
          "height": 206
        },
        "id": "lR117Uq_cssT",
        "outputId": "8a12c795-351e-4969-ae94-cf314b9884b9"
      },
      "outputs": [
        {
          "data": {
            "text/html": [
              "<div>\n",
              "<style scoped>\n",
              "    .dataframe tbody tr th:only-of-type {\n",
              "        vertical-align: middle;\n",
              "    }\n",
              "\n",
              "    .dataframe tbody tr th {\n",
              "        vertical-align: top;\n",
              "    }\n",
              "\n",
              "    .dataframe thead th {\n",
              "        text-align: right;\n",
              "    }\n",
              "</style>\n",
              "<table border=\"1\" class=\"dataframe\">\n",
              "  <thead>\n",
              "    <tr style=\"text-align: right;\">\n",
              "      <th></th>\n",
              "      <th>training</th>\n",
              "      <th>age</th>\n",
              "      <th>emergency_braking</th>\n",
              "      <th>braking_distance</th>\n",
              "      <th>power</th>\n",
              "      <th>milage</th>\n",
              "    </tr>\n",
              "  </thead>\n",
              "  <tbody>\n",
              "    <tr>\n",
              "      <th>0</th>\n",
              "      <td>0</td>\n",
              "      <td>41.951100</td>\n",
              "      <td>0</td>\n",
              "      <td>40.933328</td>\n",
              "      <td>122.238329</td>\n",
              "      <td>98.509765</td>\n",
              "    </tr>\n",
              "    <tr>\n",
              "      <th>1</th>\n",
              "      <td>0</td>\n",
              "      <td>24.368286</td>\n",
              "      <td>1</td>\n",
              "      <td>44.797317</td>\n",
              "      <td>113.765298</td>\n",
              "      <td>46.324178</td>\n",
              "    </tr>\n",
              "    <tr>\n",
              "      <th>2</th>\n",
              "      <td>0</td>\n",
              "      <td>18.314649</td>\n",
              "      <td>1</td>\n",
              "      <td>41.587241</td>\n",
              "      <td>143.427269</td>\n",
              "      <td>76.862968</td>\n",
              "    </tr>\n",
              "    <tr>\n",
              "      <th>3</th>\n",
              "      <td>0</td>\n",
              "      <td>51.265254</td>\n",
              "      <td>1</td>\n",
              "      <td>47.266716</td>\n",
              "      <td>111.578133</td>\n",
              "      <td>102.697069</td>\n",
              "    </tr>\n",
              "    <tr>\n",
              "      <th>4</th>\n",
              "      <td>0</td>\n",
              "      <td>23.578861</td>\n",
              "      <td>0</td>\n",
              "      <td>42.835319</td>\n",
              "      <td>145.994235</td>\n",
              "      <td>63.690055</td>\n",
              "    </tr>\n",
              "  </tbody>\n",
              "</table>\n",
              "</div>"
            ],
            "text/plain": [
              "   training        age  emergency_braking  braking_distance       power  \\\n",
              "0         0  41.951100                  0         40.933328  122.238329   \n",
              "1         0  24.368286                  1         44.797317  113.765298   \n",
              "2         0  18.314649                  1         41.587241  143.427269   \n",
              "3         0  51.265254                  1         47.266716  111.578133   \n",
              "4         0  23.578861                  0         42.835319  145.994235   \n",
              "\n",
              "       milage  \n",
              "0   98.509765  \n",
              "1   46.324178  \n",
              "2   76.862968  \n",
              "3  102.697069  \n",
              "4   63.690055  "
            ]
          },
          "execution_count": 9,
          "metadata": {},
          "output_type": "execute_result"
        }
      ],
      "source": [
        "# could just as well be pandas code\n",
        "reference_dataset = DataLoader().load(\n",
        "   filename=reference_dataset_url,\n",
        "   data_options = DataOptions(date_column=None, separator=';'),\n",
        ")\n",
        "reference_dataset = reference_dataset.drop(['risk', 'group', 'group_name', 'good_customer'], axis='columns')\n",
        "reference_dataset.head()"
      ]
    },
    {
      "cell_type": "code",
      "execution_count": 10,
      "metadata": {
        "colab": {
          "base_uri": "https://localhost:8080/",
          "height": 206
        },
        "id": "dHvI5ygJfGNt",
        "outputId": "c4ffc09e-3a8f-46ec-c15d-8956487e4a12"
      },
      "outputs": [
        {
          "data": {
            "text/html": [
              "<div>\n",
              "<style scoped>\n",
              "    .dataframe tbody tr th:only-of-type {\n",
              "        vertical-align: middle;\n",
              "    }\n",
              "\n",
              "    .dataframe tbody tr th {\n",
              "        vertical-align: top;\n",
              "    }\n",
              "\n",
              "    .dataframe thead th {\n",
              "        text-align: right;\n",
              "    }\n",
              "</style>\n",
              "<table border=\"1\" class=\"dataframe\">\n",
              "  <thead>\n",
              "    <tr style=\"text-align: right;\">\n",
              "      <th></th>\n",
              "      <th>training</th>\n",
              "      <th>age</th>\n",
              "      <th>emergency_braking</th>\n",
              "      <th>braking_distance</th>\n",
              "      <th>power</th>\n",
              "      <th>milage</th>\n",
              "    </tr>\n",
              "  </thead>\n",
              "  <tbody>\n",
              "    <tr>\n",
              "      <th>0</th>\n",
              "      <td>0</td>\n",
              "      <td>18.936814</td>\n",
              "      <td>0</td>\n",
              "      <td>43.758711</td>\n",
              "      <td>96.338095</td>\n",
              "      <td>63.786116</td>\n",
              "    </tr>\n",
              "    <tr>\n",
              "      <th>1</th>\n",
              "      <td>0</td>\n",
              "      <td>32.041673</td>\n",
              "      <td>1</td>\n",
              "      <td>29.122178</td>\n",
              "      <td>187.562915</td>\n",
              "      <td>81.079895</td>\n",
              "    </tr>\n",
              "    <tr>\n",
              "      <th>2</th>\n",
              "      <td>0</td>\n",
              "      <td>27.554665</td>\n",
              "      <td>1</td>\n",
              "      <td>40.783638</td>\n",
              "      <td>123.967462</td>\n",
              "      <td>49.117011</td>\n",
              "    </tr>\n",
              "    <tr>\n",
              "      <th>3</th>\n",
              "      <td>0</td>\n",
              "      <td>30.040739</td>\n",
              "      <td>1</td>\n",
              "      <td>37.612380</td>\n",
              "      <td>167.705733</td>\n",
              "      <td>67.576213</td>\n",
              "    </tr>\n",
              "    <tr>\n",
              "      <th>4</th>\n",
              "      <td>0</td>\n",
              "      <td>20.513682</td>\n",
              "      <td>1</td>\n",
              "      <td>37.577958</td>\n",
              "      <td>137.666668</td>\n",
              "      <td>61.367460</td>\n",
              "    </tr>\n",
              "  </tbody>\n",
              "</table>\n",
              "</div>"
            ],
            "text/plain": [
              "   training        age  emergency_braking  braking_distance       power  \\\n",
              "0         0  18.936814                  0         43.758711   96.338095   \n",
              "1         0  32.041673                  1         29.122178  187.562915   \n",
              "2         0  27.554665                  1         40.783638  123.967462   \n",
              "3         0  30.040739                  1         37.612380  167.705733   \n",
              "4         0  20.513682                  1         37.577958  137.666668   \n",
              "\n",
              "      milage  \n",
              "0  63.786116  \n",
              "1  81.079895  \n",
              "2  49.117011  \n",
              "3  67.576213  \n",
              "4  61.367460  "
            ]
          },
          "execution_count": 10,
          "metadata": {},
          "output_type": "execute_result"
        }
      ],
      "source": [
        "# could just as well be pandas code\n",
        "current_dataset = DataLoader().load(\n",
        "   filename=current_dataset_url,\n",
        "   data_options = DataOptions(date_column=None, separator=';'),\n",
        ")\n",
        "current_dataset = current_dataset.drop(['risk', 'group', 'group_name', 'good_customer'], axis='columns')\n",
        "current_dataset.head()"
      ]
    },
    {
      "cell_type": "markdown",
      "metadata": {
        "id": "i2bk4q6JpmKC"
      },
      "source": [
        "## Target / Prediction"
      ]
    },
    {
      "cell_type": "code",
      "execution_count": 11,
      "metadata": {
        "colab": {
          "base_uri": "https://localhost:8080/",
          "height": 35
        },
        "id": "qA5S98PVirx2",
        "outputId": "c6041ecd-1da1-41ab-c77d-ebd9a6d38d4b"
      },
      "outputs": [
        {
          "name": "stderr",
          "output_type": "stream",
          "text": [
            "2023-11-02 09:10:00.227876: I tensorflow/core/util/port.cc:111] oneDNN custom operations are on. You may see slightly different numerical results due to floating-point round-off errors from different computation orders. To turn them off, set the environment variable `TF_ENABLE_ONEDNN_OPTS=0`.\n",
            "2023-11-02 09:10:00.231420: I tensorflow/tsl/cuda/cudart_stub.cc:28] Could not find cuda drivers on your machine, GPU will not be used.\n",
            "2023-11-02 09:10:00.272069: E tensorflow/compiler/xla/stream_executor/cuda/cuda_dnn.cc:9342] Unable to register cuDNN factory: Attempting to register factory for plugin cuDNN when one has already been registered\n",
            "2023-11-02 09:10:00.272129: E tensorflow/compiler/xla/stream_executor/cuda/cuda_fft.cc:609] Unable to register cuFFT factory: Attempting to register factory for plugin cuFFT when one has already been registered\n",
            "2023-11-02 09:10:00.272160: E tensorflow/compiler/xla/stream_executor/cuda/cuda_blas.cc:1518] Unable to register cuBLAS factory: Attempting to register factory for plugin cuBLAS when one has already been registered\n",
            "2023-11-02 09:10:00.284090: I tensorflow/tsl/cuda/cudart_stub.cc:28] Could not find cuda drivers on your machine, GPU will not be used.\n",
            "2023-11-02 09:10:00.286003: I tensorflow/core/platform/cpu_feature_guard.cc:182] This TensorFlow binary is optimized to use available CPU instructions in performance-critical operations.\n",
            "To enable the following instructions: AVX2 AVX512F AVX512_VNNI FMA, in other operations, rebuild TensorFlow with the appropriate compiler flags.\n"
          ]
        },
        {
          "name": "stderr",
          "output_type": "stream",
          "text": [
            "2023-11-02 09:10:01.545118: W tensorflow/compiler/tf2tensorrt/utils/py_utils.cc:38] TF-TRT Warning: Could not find TensorRT\n"
          ]
        },
        {
          "data": {
            "text/plain": [
              "'2.14.0'"
            ]
          },
          "execution_count": 11,
          "metadata": {},
          "output_type": "execute_result"
        }
      ],
      "source": [
        "import tensorflow as tf\n",
        "tf.__version__"
      ]
    },
    {
      "cell_type": "code",
      "execution_count": 12,
      "metadata": {
        "colab": {
          "base_uri": "https://localhost:8080/"
        },
        "id": "EH1T_j2nTmHi",
        "outputId": "1bcb5ff7-4de3-4c53-e3f4-15648bc0ef27"
      },
      "outputs": [],
      "source": [
        "if IN_COLAB:\n",
        "  !wget https://github.com/DJCordhose/buch-machine-learning-notebooks/raw/main/kap11/classifier-binary.keras\n",
        "model_path = 'classifier'\n",
        "model = tf.keras.models.load_model(f'{model_path}-binary.keras')"
      ]
    },
    {
      "cell_type": "code",
      "execution_count": 14,
      "metadata": {
        "id": "lSKMm7DJz2DL"
      },
      "outputs": [],
      "source": [
        "def prediction_name(value: int):\n",
        "  if binary_classifications:\n",
        "    names = ['HIGH', 'MEDIUM', 'LOW']\n",
        "  else:\n",
        "    names = ['BAD', 'GOOD']\n",
        "  return names[value]\n"
      ]
    },
    {
      "cell_type": "code",
      "execution_count": 15,
      "metadata": {
        "colab": {
          "base_uri": "https://localhost:8080/",
          "height": 206
        },
        "id": "E-KNdSACMwWj",
        "outputId": "b0d58bda-6625-444c-8223-0ad4506ff912"
      },
      "outputs": [
        {
          "data": {
            "text/html": [
              "<div>\n",
              "<style scoped>\n",
              "    .dataframe tbody tr th:only-of-type {\n",
              "        vertical-align: middle;\n",
              "    }\n",
              "\n",
              "    .dataframe tbody tr th {\n",
              "        vertical-align: top;\n",
              "    }\n",
              "\n",
              "    .dataframe thead th {\n",
              "        text-align: right;\n",
              "    }\n",
              "</style>\n",
              "<table border=\"1\" class=\"dataframe\">\n",
              "  <thead>\n",
              "    <tr style=\"text-align: right;\">\n",
              "      <th></th>\n",
              "      <th>training</th>\n",
              "      <th>age</th>\n",
              "      <th>emergency_braking</th>\n",
              "      <th>braking_distance</th>\n",
              "      <th>power</th>\n",
              "      <th>milage</th>\n",
              "      <th>prediction</th>\n",
              "    </tr>\n",
              "  </thead>\n",
              "  <tbody>\n",
              "    <tr>\n",
              "      <th>0</th>\n",
              "      <td>0</td>\n",
              "      <td>18.936814</td>\n",
              "      <td>0</td>\n",
              "      <td>43.758711</td>\n",
              "      <td>96.338095</td>\n",
              "      <td>63.786116</td>\n",
              "      <td>HIGH</td>\n",
              "    </tr>\n",
              "    <tr>\n",
              "      <th>1</th>\n",
              "      <td>0</td>\n",
              "      <td>32.041673</td>\n",
              "      <td>1</td>\n",
              "      <td>29.122178</td>\n",
              "      <td>187.562915</td>\n",
              "      <td>81.079895</td>\n",
              "      <td>LOW</td>\n",
              "    </tr>\n",
              "    <tr>\n",
              "      <th>2</th>\n",
              "      <td>0</td>\n",
              "      <td>27.554665</td>\n",
              "      <td>1</td>\n",
              "      <td>40.783638</td>\n",
              "      <td>123.967462</td>\n",
              "      <td>49.117011</td>\n",
              "      <td>LOW</td>\n",
              "    </tr>\n",
              "    <tr>\n",
              "      <th>3</th>\n",
              "      <td>0</td>\n",
              "      <td>30.040739</td>\n",
              "      <td>1</td>\n",
              "      <td>37.612380</td>\n",
              "      <td>167.705733</td>\n",
              "      <td>67.576213</td>\n",
              "      <td>MEDIUM</td>\n",
              "    </tr>\n",
              "    <tr>\n",
              "      <th>4</th>\n",
              "      <td>0</td>\n",
              "      <td>20.513682</td>\n",
              "      <td>1</td>\n",
              "      <td>37.577958</td>\n",
              "      <td>137.666668</td>\n",
              "      <td>61.367460</td>\n",
              "      <td>MEDIUM</td>\n",
              "    </tr>\n",
              "  </tbody>\n",
              "</table>\n",
              "</div>"
            ],
            "text/plain": [
              "   training        age  emergency_braking  braking_distance       power  \\\n",
              "0         0  18.936814                  0         43.758711   96.338095   \n",
              "1         0  32.041673                  1         29.122178  187.562915   \n",
              "2         0  27.554665                  1         40.783638  123.967462   \n",
              "3         0  30.040739                  1         37.612380  167.705733   \n",
              "4         0  20.513682                  1         37.577958  137.666668   \n",
              "\n",
              "      milage prediction  \n",
              "0  63.786116       HIGH  \n",
              "1  81.079895        LOW  \n",
              "2  49.117011        LOW  \n",
              "3  67.576213     MEDIUM  \n",
              "4  61.367460     MEDIUM  "
            ]
          },
          "execution_count": 15,
          "metadata": {},
          "output_type": "execute_result"
        }
      ],
      "source": [
        "X = current_dataset\n",
        "y_pred = model.predict(X, verbose=0).argmax(axis=1)\n",
        "current_dataset_prediction = X.copy()\n",
        "current_dataset_prediction['prediction'] = list(map(prediction_name, y_pred))\n",
        "# current_dataset_prediction['prediction'] = y_pred\n",
        "current_dataset_prediction.head()"
      ]
    },
    {
      "cell_type": "code",
      "execution_count": 16,
      "metadata": {
        "colab": {
          "base_uri": "https://localhost:8080/",
          "height": 206
        },
        "id": "LM1FUkmgMwWk",
        "outputId": "bf5d121e-0944-448a-ae1a-e999761ba51c"
      },
      "outputs": [
        {
          "data": {
            "text/html": [
              "<div>\n",
              "<style scoped>\n",
              "    .dataframe tbody tr th:only-of-type {\n",
              "        vertical-align: middle;\n",
              "    }\n",
              "\n",
              "    .dataframe tbody tr th {\n",
              "        vertical-align: top;\n",
              "    }\n",
              "\n",
              "    .dataframe thead th {\n",
              "        text-align: right;\n",
              "    }\n",
              "</style>\n",
              "<table border=\"1\" class=\"dataframe\">\n",
              "  <thead>\n",
              "    <tr style=\"text-align: right;\">\n",
              "      <th></th>\n",
              "      <th>training</th>\n",
              "      <th>age</th>\n",
              "      <th>emergency_braking</th>\n",
              "      <th>braking_distance</th>\n",
              "      <th>power</th>\n",
              "      <th>milage</th>\n",
              "      <th>prediction</th>\n",
              "    </tr>\n",
              "  </thead>\n",
              "  <tbody>\n",
              "    <tr>\n",
              "      <th>0</th>\n",
              "      <td>0</td>\n",
              "      <td>41.951100</td>\n",
              "      <td>0</td>\n",
              "      <td>40.933328</td>\n",
              "      <td>122.238329</td>\n",
              "      <td>98.509765</td>\n",
              "      <td>MEDIUM</td>\n",
              "    </tr>\n",
              "    <tr>\n",
              "      <th>1</th>\n",
              "      <td>0</td>\n",
              "      <td>24.368286</td>\n",
              "      <td>1</td>\n",
              "      <td>44.797317</td>\n",
              "      <td>113.765298</td>\n",
              "      <td>46.324178</td>\n",
              "      <td>MEDIUM</td>\n",
              "    </tr>\n",
              "    <tr>\n",
              "      <th>2</th>\n",
              "      <td>0</td>\n",
              "      <td>18.314649</td>\n",
              "      <td>1</td>\n",
              "      <td>41.587241</td>\n",
              "      <td>143.427269</td>\n",
              "      <td>76.862968</td>\n",
              "      <td>HIGH</td>\n",
              "    </tr>\n",
              "    <tr>\n",
              "      <th>3</th>\n",
              "      <td>0</td>\n",
              "      <td>51.265254</td>\n",
              "      <td>1</td>\n",
              "      <td>47.266716</td>\n",
              "      <td>111.578133</td>\n",
              "      <td>102.697069</td>\n",
              "      <td>HIGH</td>\n",
              "    </tr>\n",
              "    <tr>\n",
              "      <th>4</th>\n",
              "      <td>0</td>\n",
              "      <td>23.578861</td>\n",
              "      <td>0</td>\n",
              "      <td>42.835319</td>\n",
              "      <td>145.994235</td>\n",
              "      <td>63.690055</td>\n",
              "      <td>HIGH</td>\n",
              "    </tr>\n",
              "  </tbody>\n",
              "</table>\n",
              "</div>"
            ],
            "text/plain": [
              "   training        age  emergency_braking  braking_distance       power  \\\n",
              "0         0  41.951100                  0         40.933328  122.238329   \n",
              "1         0  24.368286                  1         44.797317  113.765298   \n",
              "2         0  18.314649                  1         41.587241  143.427269   \n",
              "3         0  51.265254                  1         47.266716  111.578133   \n",
              "4         0  23.578861                  0         42.835319  145.994235   \n",
              "\n",
              "       milage prediction  \n",
              "0   98.509765     MEDIUM  \n",
              "1   46.324178     MEDIUM  \n",
              "2   76.862968       HIGH  \n",
              "3  102.697069       HIGH  \n",
              "4   63.690055       HIGH  "
            ]
          },
          "execution_count": 16,
          "metadata": {},
          "output_type": "execute_result"
        }
      ],
      "source": [
        "X = reference_dataset\n",
        "y_pred = model.predict(X, verbose=0).argmax(axis=1)\n",
        "reference_dataset_prediction = X.copy()\n",
        "reference_dataset_prediction['prediction'] =  list(map(prediction_name, y_pred))\n",
        "# reference_dataset_prediction['prediction'] =  y_pred\n",
        "reference_dataset_prediction.head()"
      ]
    },
    {
      "cell_type": "markdown",
      "metadata": {
        "id": "HXwnCPD6FmVu"
      },
      "source": [
        "# Calculating Drift"
      ]
    },
    {
      "cell_type": "code",
      "execution_count": 17,
      "metadata": {
        "colab": {
          "base_uri": "https://localhost:8080/"
        },
        "id": "96wgZtWMyILN",
        "outputId": "d409d75d-9fc5-4f2f-873d-a9d62ce2a97d"
      },
      "outputs": [
        {
          "data": {
            "text/plain": [
              "['training',\n",
              " 'emergency_braking',\n",
              " 'age',\n",
              " 'braking_distance',\n",
              " 'power',\n",
              " 'milage',\n",
              " 'prediction']"
            ]
          },
          "execution_count": 17,
          "metadata": {},
          "output_type": "execute_result"
        }
      ],
      "source": [
        "column_mapping = ColumnMapping(\n",
        "    categorical_features=['training', 'emergency_braking'],\n",
        "    numerical_features=['age', 'braking_distance', 'power', 'milage'],\n",
        "    prediction=\"prediction\",\n",
        "    target=None,\n",
        ")\n",
        "drift_share = 0.5\n",
        "columns = column_mapping.categorical_features + column_mapping.numerical_features + [column_mapping.prediction]\n",
        "columns"
      ]
    },
    {
      "cell_type": "code",
      "execution_count": 18,
      "metadata": {
        "id": "w3GdMNBk04WA"
      },
      "outputs": [],
      "source": [
        "input_data = InputData(\n",
        "    reference_data=reference_dataset_prediction,\n",
        "    current_data=current_dataset_prediction,\n",
        "    column_mapping=column_mapping,\n",
        "    current_additional_features=None,\n",
        "    data_definition=None,\n",
        "    reference_additional_features=None,\n",
        "    additional_datasets=None\n",
        ")"
      ]
    },
    {
      "cell_type": "code",
      "execution_count": 19,
      "metadata": {
        "colab": {
          "base_uri": "https://localhost:8080/"
        },
        "id": "SvtKgbLj1AHY",
        "outputId": "26c173e9-3602-47df-dd83-51dd64304136"
      },
      "outputs": [
        {
          "data": {
            "text/plain": [
              "DatasetColumns(type='evidently.metric_results.DatasetColumns', utility_columns=DatasetUtilityColumns(type='evidently.metric_results.DatasetUtilityColumns', date=None, id=None, target=None, prediction='prediction'), target_type='cat', num_feature_names=['age', 'braking_distance', 'milage', 'power'], cat_feature_names=['training', 'emergency_braking'], text_feature_names=[], datetime_feature_names=[], target_names=None, task=None)"
            ]
          },
          "execution_count": 19,
          "metadata": {},
          "output_type": "execute_result"
        }
      ],
      "source": [
        "dataset_columns = process_columns(input_data.reference_data, input_data.column_mapping)\n",
        "dataset_columns"
      ]
    },
    {
      "cell_type": "code",
      "execution_count": 20,
      "metadata": {
        "id": "I_Dn6kFO04WB"
      },
      "outputs": [],
      "source": [
        "result = get_drift_for_columns(\n",
        "    current_data=input_data.current_data,\n",
        "    reference_data=input_data.reference_data,\n",
        "    data_drift_options=DataDriftOptions(),\n",
        "    drift_share_threshold=drift_share,\n",
        "    dataset_columns=dataset_columns,\n",
        "    columns=columns,\n",
        "    agg_data = True\n",
        ")"
      ]
    },
    {
      "cell_type": "code",
      "execution_count": 21,
      "metadata": {
        "colab": {
          "base_uri": "https://localhost:8080/"
        },
        "id": "oH2QqK3LFmVw",
        "outputId": "128fd197-70b7-4878-8bbd-ee1f35abc540"
      },
      "outputs": [
        {
          "data": {
            "text/plain": [
              "7"
            ]
          },
          "execution_count": 21,
          "metadata": {},
          "output_type": "execute_result"
        }
      ],
      "source": [
        "result.number_of_columns"
      ]
    },
    {
      "cell_type": "code",
      "execution_count": 22,
      "metadata": {
        "colab": {
          "base_uri": "https://localhost:8080/"
        },
        "id": "MXqdSTh5FmVx",
        "outputId": "adebae64-d0c2-4e36-a3d5-0d77b0e06b6a"
      },
      "outputs": [
        {
          "data": {
            "text/plain": [
              "2"
            ]
          },
          "execution_count": 22,
          "metadata": {},
          "output_type": "execute_result"
        }
      ],
      "source": [
        "result.number_of_drifted_columns"
      ]
    },
    {
      "cell_type": "code",
      "execution_count": 23,
      "metadata": {
        "colab": {
          "base_uri": "https://localhost:8080/"
        },
        "id": "rTqElj-rFmVx",
        "outputId": "ec5c4526-611a-4cd1-957f-60c3be4bca30"
      },
      "outputs": [
        {
          "data": {
            "text/plain": [
              "0.2857142857142857"
            ]
          },
          "execution_count": 23,
          "metadata": {},
          "output_type": "execute_result"
        }
      ],
      "source": [
        "result.share_of_drifted_columns"
      ]
    },
    {
      "cell_type": "code",
      "execution_count": 24,
      "metadata": {
        "colab": {
          "base_uri": "https://localhost:8080/"
        },
        "id": "-ph0-X08FmVx",
        "outputId": "f5a2c877-7f10-4ccb-abd4-8f00437a4793"
      },
      "outputs": [
        {
          "data": {
            "text/plain": [
              "False"
            ]
          },
          "execution_count": 24,
          "metadata": {},
          "output_type": "execute_result"
        }
      ],
      "source": [
        "result.dataset_drift"
      ]
    },
    {
      "cell_type": "code",
      "execution_count": 25,
      "metadata": {
        "colab": {
          "base_uri": "https://localhost:8080/"
        },
        "id": "_i8uDEfH1Qn0",
        "outputId": "4d728818-d521-4345-96c9-1e49082ad0e8"
      },
      "outputs": [
        {
          "name": "stdout",
          "output_type": "stream",
          "text": [
            "training: 0.005181253622581234 (Jensen-Shannon distance)\n",
            "emergency_braking: 0.13147841305705196 (Jensen-Shannon distance), drifted\n",
            "age: 0.09701144919398294 (Wasserstein distance (normed))\n",
            "braking_distance: 0.0692912211638476 (Wasserstein distance (normed))\n",
            "power: 0.027957726384958408 (Wasserstein distance (normed))\n",
            "milage: 0.22422961324847054 (Wasserstein distance (normed)), drifted\n",
            "prediction: 0.0416103466303872 (Jensen-Shannon distance)\n"
          ]
        }
      ],
      "source": [
        "for column in columns:\n",
        "    drift = result.drift_by_columns[column]\n",
        "    print(f'{column}: {drift.drift_score} ({drift.stattest_name}){\", drifted\" if drift.drift_detected else \"\"}')"
      ]
    },
    {
      "cell_type": "markdown",
      "metadata": {},
      "source": [
        "# Comparing different stats tests\n",
        "\n",
        "https://www.evidentlyai.com/blog/data-drift-detection-large-datasets"
      ]
    },
    {
      "cell_type": "code",
      "execution_count": 26,
      "metadata": {
        "id": "v8gSd7lc1RdB"
      },
      "outputs": [],
      "source": [
        "from evidently.calculations.stattests.jensenshannon import jensenshannon_stat_test\n",
        "from evidently.calculations.stattests.kl_div import kl_div_stat_test\n",
        "from evidently.calculations.stattests.ks_stattest import ks_stat_test\n",
        "from evidently.calculations.stattests.psi import psi_stat_test\n",
        "from evidently.calculations.stattests.wasserstein_distance_norm import wasserstein_stat_test"
      ]
    },
    {
      "cell_type": "code",
      "execution_count": 28,
      "metadata": {},
      "outputs": [
        {
          "data": {
            "text/html": [
              "<div>\n",
              "<style scoped>\n",
              "    .dataframe tbody tr th:only-of-type {\n",
              "        vertical-align: middle;\n",
              "    }\n",
              "\n",
              "    .dataframe tbody tr th {\n",
              "        vertical-align: top;\n",
              "    }\n",
              "\n",
              "    .dataframe thead th {\n",
              "        text-align: right;\n",
              "    }\n",
              "</style>\n",
              "<table border=\"1\" class=\"dataframe\">\n",
              "  <thead>\n",
              "    <tr style=\"text-align: right;\">\n",
              "      <th></th>\n",
              "      <th>training</th>\n",
              "      <th>age</th>\n",
              "      <th>emergency_braking</th>\n",
              "      <th>braking_distance</th>\n",
              "      <th>power</th>\n",
              "      <th>milage</th>\n",
              "      <th>prediction</th>\n",
              "    </tr>\n",
              "  </thead>\n",
              "  <tbody>\n",
              "    <tr>\n",
              "      <th>0</th>\n",
              "      <td>0</td>\n",
              "      <td>18.936814</td>\n",
              "      <td>0</td>\n",
              "      <td>43.758711</td>\n",
              "      <td>96.338095</td>\n",
              "      <td>63.786116</td>\n",
              "      <td>HIGH</td>\n",
              "    </tr>\n",
              "    <tr>\n",
              "      <th>1</th>\n",
              "      <td>0</td>\n",
              "      <td>32.041673</td>\n",
              "      <td>1</td>\n",
              "      <td>29.122178</td>\n",
              "      <td>187.562915</td>\n",
              "      <td>81.079895</td>\n",
              "      <td>LOW</td>\n",
              "    </tr>\n",
              "    <tr>\n",
              "      <th>2</th>\n",
              "      <td>0</td>\n",
              "      <td>27.554665</td>\n",
              "      <td>1</td>\n",
              "      <td>40.783638</td>\n",
              "      <td>123.967462</td>\n",
              "      <td>49.117011</td>\n",
              "      <td>LOW</td>\n",
              "    </tr>\n",
              "    <tr>\n",
              "      <th>3</th>\n",
              "      <td>0</td>\n",
              "      <td>30.040739</td>\n",
              "      <td>1</td>\n",
              "      <td>37.612380</td>\n",
              "      <td>167.705733</td>\n",
              "      <td>67.576213</td>\n",
              "      <td>MEDIUM</td>\n",
              "    </tr>\n",
              "    <tr>\n",
              "      <th>4</th>\n",
              "      <td>0</td>\n",
              "      <td>20.513682</td>\n",
              "      <td>1</td>\n",
              "      <td>37.577958</td>\n",
              "      <td>137.666668</td>\n",
              "      <td>61.367460</td>\n",
              "      <td>MEDIUM</td>\n",
              "    </tr>\n",
              "  </tbody>\n",
              "</table>\n",
              "</div>"
            ],
            "text/plain": [
              "   training        age  emergency_braking  braking_distance       power  \\\n",
              "0         0  18.936814                  0         43.758711   96.338095   \n",
              "1         0  32.041673                  1         29.122178  187.562915   \n",
              "2         0  27.554665                  1         40.783638  123.967462   \n",
              "3         0  30.040739                  1         37.612380  167.705733   \n",
              "4         0  20.513682                  1         37.577958  137.666668   \n",
              "\n",
              "      milage prediction  \n",
              "0  63.786116       HIGH  \n",
              "1  81.079895        LOW  \n",
              "2  49.117011        LOW  \n",
              "3  67.576213     MEDIUM  \n",
              "4  61.367460     MEDIUM  "
            ]
          },
          "execution_count": 28,
          "metadata": {},
          "output_type": "execute_result"
        }
      ],
      "source": [
        "current_dataset_prediction.head()"
      ]
    },
    {
      "cell_type": "code",
      "execution_count": 29,
      "metadata": {},
      "outputs": [
        {
          "data": {
            "text/html": [
              "<div>\n",
              "<style scoped>\n",
              "    .dataframe tbody tr th:only-of-type {\n",
              "        vertical-align: middle;\n",
              "    }\n",
              "\n",
              "    .dataframe tbody tr th {\n",
              "        vertical-align: top;\n",
              "    }\n",
              "\n",
              "    .dataframe thead th {\n",
              "        text-align: right;\n",
              "    }\n",
              "</style>\n",
              "<table border=\"1\" class=\"dataframe\">\n",
              "  <thead>\n",
              "    <tr style=\"text-align: right;\">\n",
              "      <th></th>\n",
              "      <th>training</th>\n",
              "      <th>age</th>\n",
              "      <th>emergency_braking</th>\n",
              "      <th>braking_distance</th>\n",
              "      <th>power</th>\n",
              "      <th>milage</th>\n",
              "      <th>prediction</th>\n",
              "    </tr>\n",
              "  </thead>\n",
              "  <tbody>\n",
              "    <tr>\n",
              "      <th>0</th>\n",
              "      <td>0</td>\n",
              "      <td>41.951100</td>\n",
              "      <td>0</td>\n",
              "      <td>40.933328</td>\n",
              "      <td>122.238329</td>\n",
              "      <td>98.509765</td>\n",
              "      <td>MEDIUM</td>\n",
              "    </tr>\n",
              "    <tr>\n",
              "      <th>1</th>\n",
              "      <td>0</td>\n",
              "      <td>24.368286</td>\n",
              "      <td>1</td>\n",
              "      <td>44.797317</td>\n",
              "      <td>113.765298</td>\n",
              "      <td>46.324178</td>\n",
              "      <td>MEDIUM</td>\n",
              "    </tr>\n",
              "    <tr>\n",
              "      <th>2</th>\n",
              "      <td>0</td>\n",
              "      <td>18.314649</td>\n",
              "      <td>1</td>\n",
              "      <td>41.587241</td>\n",
              "      <td>143.427269</td>\n",
              "      <td>76.862968</td>\n",
              "      <td>HIGH</td>\n",
              "    </tr>\n",
              "    <tr>\n",
              "      <th>3</th>\n",
              "      <td>0</td>\n",
              "      <td>51.265254</td>\n",
              "      <td>1</td>\n",
              "      <td>47.266716</td>\n",
              "      <td>111.578133</td>\n",
              "      <td>102.697069</td>\n",
              "      <td>HIGH</td>\n",
              "    </tr>\n",
              "    <tr>\n",
              "      <th>4</th>\n",
              "      <td>0</td>\n",
              "      <td>23.578861</td>\n",
              "      <td>0</td>\n",
              "      <td>42.835319</td>\n",
              "      <td>145.994235</td>\n",
              "      <td>63.690055</td>\n",
              "      <td>HIGH</td>\n",
              "    </tr>\n",
              "  </tbody>\n",
              "</table>\n",
              "</div>"
            ],
            "text/plain": [
              "   training        age  emergency_braking  braking_distance       power  \\\n",
              "0         0  41.951100                  0         40.933328  122.238329   \n",
              "1         0  24.368286                  1         44.797317  113.765298   \n",
              "2         0  18.314649                  1         41.587241  143.427269   \n",
              "3         0  51.265254                  1         47.266716  111.578133   \n",
              "4         0  23.578861                  0         42.835319  145.994235   \n",
              "\n",
              "       milage prediction  \n",
              "0   98.509765     MEDIUM  \n",
              "1   46.324178     MEDIUM  \n",
              "2   76.862968       HIGH  \n",
              "3  102.697069       HIGH  \n",
              "4   63.690055       HIGH  "
            ]
          },
          "execution_count": 29,
          "metadata": {},
          "output_type": "execute_result"
        }
      ],
      "source": [
        "reference_dataset_prediction.head()"
      ]
    },
    {
      "cell_type": "code",
      "execution_count": 30,
      "metadata": {},
      "outputs": [],
      "source": [
        "feature_name = \"age\"\n",
        "reference_feature = reference_dataset_prediction[feature_name]\n",
        "current_feature = current_dataset_prediction[feature_name]"
      ]
    },
    {
      "cell_type": "code",
      "execution_count": 31,
      "metadata": {},
      "outputs": [
        {
          "data": {
            "text/plain": [
              "StatTestResult(drift_score=0.09701144919398294, drifted=False, actual_threshold=0.1)"
            ]
          },
          "execution_count": 31,
          "metadata": {},
          "output_type": "execute_result"
        }
      ],
      "source": [
        "wasserstein_stat_test(reference_feature, current_feature, 'num', threshold=None)"
      ]
    },
    {
      "cell_type": "code",
      "execution_count": 32,
      "metadata": {},
      "outputs": [
        {
          "data": {
            "text/plain": [
              "StatTestResult(drift_score=0.010164445017412765, drifted=True, actual_threshold=0.05)"
            ]
          },
          "execution_count": 32,
          "metadata": {},
          "output_type": "execute_result"
        }
      ],
      "source": [
        "ks_stat_test(reference_feature, current_feature, 'num', threshold=None)"
      ]
    },
    {
      "cell_type": "code",
      "execution_count": 33,
      "metadata": {},
      "outputs": [
        {
          "data": {
            "text/plain": [
              "StatTestResult(drift_score=3.2251039743059975, drifted=True, actual_threshold=0.1)"
            ]
          },
          "execution_count": 33,
          "metadata": {},
          "output_type": "execute_result"
        }
      ],
      "source": [
        "psi_stat_test(reference_feature, current_feature, 'num', threshold=None)"
      ]
    },
    {
      "cell_type": "code",
      "execution_count": 35,
      "metadata": {},
      "outputs": [],
      "source": [
        "feature_name = \"emergency_braking\"\n",
        "reference_feature = reference_dataset_prediction[feature_name]\n",
        "current_feature = current_dataset_prediction[feature_name]"
      ]
    },
    {
      "cell_type": "code",
      "execution_count": 36,
      "metadata": {},
      "outputs": [
        {
          "data": {
            "text/plain": [
              "StatTestResult(drift_score=0.13147841305705196, drifted=True, actual_threshold=0.1)"
            ]
          },
          "execution_count": 36,
          "metadata": {},
          "output_type": "execute_result"
        }
      ],
      "source": [
        "jensenshannon_stat_test(reference_feature, current_feature, 'cat', threshold=None)"
      ]
    },
    {
      "cell_type": "code",
      "execution_count": 37,
      "metadata": {},
      "outputs": [
        {
          "data": {
            "text/plain": [
              "StatTestResult(drift_score=0.1391049615865103, drifted=True, actual_threshold=0.1)"
            ]
          },
          "execution_count": 37,
          "metadata": {},
          "output_type": "execute_result"
        }
      ],
      "source": [
        "psi_stat_test(reference_feature, current_feature, 'cat', threshold=None)"
      ]
    },
    {
      "cell_type": "code",
      "execution_count": 38,
      "metadata": {},
      "outputs": [
        {
          "data": {
            "text/plain": [
              "StatTestResult(drift_score=0.06931609387501522, drifted=False, actual_threshold=0.1)"
            ]
          },
          "execution_count": 38,
          "metadata": {},
          "output_type": "execute_result"
        }
      ],
      "source": [
        "kl_div_stat_test(reference_feature, current_feature, 'cat', threshold=None)"
      ]
    },
    {
      "cell_type": "code",
      "execution_count": null,
      "metadata": {},
      "outputs": [],
      "source": []
    }
  ],
  "metadata": {
    "colab": {
      "include_colab_link": true,
      "name": "drift.ipynb",
      "provenance": [],
      "toc_visible": true
    },
    "kernelspec": {
      "display_name": "Python 3 (ipykernel)",
      "language": "python",
      "name": "python3"
    },
    "language_info": {
      "codemirror_mode": {
        "name": "ipython",
        "version": 3
      },
      "file_extension": ".py",
      "mimetype": "text/x-python",
      "name": "python",
      "nbconvert_exporter": "python",
      "pygments_lexer": "ipython3",
      "version": "3.9.18"
    }
  },
  "nbformat": 4,
  "nbformat_minor": 0
}
