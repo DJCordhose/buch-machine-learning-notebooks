{
  "cells": [
    {
      "cell_type": "markdown",
      "metadata": {
        "colab_type": "text",
        "id": "view-in-github"
      },
      "source": [
        "<a href=\"https://colab.research.google.com/github/DJCordhose/mlops-drift/blob/main/notebooks/drift.ipynb\" target=\"_parent\"><img src=\"https://colab.research.google.com/assets/colab-badge.svg\" alt=\"Open In Colab\"/></a>"
      ]
    },
    {
      "cell_type": "markdown",
      "metadata": {
        "id": "XdfXfXK2-CiG"
      },
      "source": [
        "# Detecting drift\n",
        "\n",
        "* you can let evidently choose the test or make your own choice\n",
        "  * allows to select per type or per feature: https://docs.evidentlyai.com/reference/api-reference/evidently.options\n",
        "  * which test: https://www.evidentlyai.com/blog/data-drift-detection-large-datasets\n",
        "* Drift algorithm: https://docs.evidentlyai.com/reference/data-drift-algorithm  "
      ]
    },
    {
      "cell_type": "code",
      "execution_count": 1,
      "metadata": {
        "colab": {
          "base_uri": "https://localhost:8080/"
        },
        "id": "RJt7NAaEc9Ig",
        "outputId": "8f552e05-c703-4220-81fe-5b9d936c40fe"
      },
      "outputs": [
        {
          "data": {
            "text/plain": [
              "False"
            ]
          },
          "execution_count": 1,
          "metadata": {},
          "output_type": "execute_result"
        }
      ],
      "source": [
        "import sys\n",
        "IN_COLAB = 'google.colab' in sys.modules\n",
        "IN_COLAB"
      ]
    },
    {
      "cell_type": "code",
      "execution_count": 2,
      "metadata": {},
      "outputs": [],
      "source": [
        "import matplotlib.pyplot as plt\n",
        "%matplotlib inline\n",
        "\n",
        "import matplotlib as mpl\n",
        "mpl.rcParams['figure.figsize'] = (20, 8)\n",
        "mpl.rcParams['axes.titlesize'] = 24\n",
        "mpl.rcParams['axes.labelsize'] = 16"
      ]
    },
    {
      "cell_type": "code",
      "execution_count": 3,
      "metadata": {},
      "outputs": [
        {
          "data": {
            "text/plain": [
              "'0.13.0'"
            ]
          },
          "execution_count": 3,
          "metadata": {},
          "output_type": "execute_result"
        }
      ],
      "source": [
        "import seaborn as sns\n",
        "sns.__version__"
      ]
    },
    {
      "cell_type": "code",
      "execution_count": 4,
      "metadata": {
        "colab": {
          "base_uri": "https://localhost:8080/"
        },
        "id": "pP-d8LdjcssR",
        "outputId": "417e3300-ddc4-4675-b42f-eeaf19f46ca7"
      },
      "outputs": [],
      "source": [
        "if IN_COLAB:\n",
        "  !pip install -q evidently==0.4.8"
      ]
    },
    {
      "cell_type": "code",
      "execution_count": 5,
      "metadata": {
        "colab": {
          "base_uri": "https://localhost:8080/",
          "height": 35
        },
        "id": "sQA-t-C5FmVg",
        "outputId": "6aa2b3a3-e10c-48f6-aede-698b0a52f205"
      },
      "outputs": [
        {
          "data": {
            "text/plain": [
              "'0.4.8'"
            ]
          },
          "execution_count": 5,
          "metadata": {},
          "output_type": "execute_result"
        }
      ],
      "source": [
        "import evidently\n",
        "evidently.__version__"
      ]
    },
    {
      "cell_type": "code",
      "execution_count": 6,
      "metadata": {
        "id": "g38Tfm0ucssS"
      },
      "outputs": [],
      "source": [
        "from evidently.metrics import DatasetDriftMetric\n",
        "from evidently.base_metric import InputData, ColumnMapping\n",
        "from evidently.runner.loader import DataLoader, DataOptions\n",
        "from evidently.calculations.data_drift import get_drift_for_columns\n",
        "from evidently.options.data_drift import DataDriftOptions\n",
        "from evidently.utils.data_operations import process_columns"
      ]
    },
    {
      "cell_type": "markdown",
      "metadata": {
        "id": "5Hvbb4YWpZj_"
      },
      "source": [
        "## Preparing reference and current dataset"
      ]
    },
    {
      "cell_type": "code",
      "execution_count": 7,
      "metadata": {
        "id": "sz0p9q4lc9gZ"
      },
      "outputs": [],
      "source": [
        "def url_for_dataset(relative_path):\n",
        "  if IN_COLAB:\n",
        "    url = f'https://github.com/DJCordhose/buch-machine-learning-notebooks/raw/main/kap11/datasets/insurance_prediction/{relative_path}.csv.gz'\n",
        "  else:\n",
        "    url =  f'./datasets/insurance_prediction/{relative_path}.csv.gz'\n",
        "  return url"
      ]
    },
    {
      "cell_type": "code",
      "execution_count": 8,
      "metadata": {
        "id": "OSqc0EKxeJit"
      },
      "outputs": [],
      "source": [
        "# how many months after training?\n",
        "iteration = 36 # final month in dataset, should have the biggest difference\n",
        "# iteration = 12 # one year later, drift should starting to show"
      ]
    },
    {
      "cell_type": "code",
      "execution_count": 9,
      "metadata": {
        "id": "if_GidjBcssT"
      },
      "outputs": [],
      "source": [
        "reference_dataset_url = url_for_dataset(f'reference')\n",
        "current_dataset_url = url_for_dataset(f'monthly/month-{iteration}')"
      ]
    },
    {
      "cell_type": "code",
      "execution_count": 10,
      "metadata": {
        "colab": {
          "base_uri": "https://localhost:8080/",
          "height": 206
        },
        "id": "lR117Uq_cssT",
        "outputId": "8a12c795-351e-4969-ae94-cf314b9884b9"
      },
      "outputs": [
        {
          "data": {
            "text/html": [
              "<div>\n",
              "<style scoped>\n",
              "    .dataframe tbody tr th:only-of-type {\n",
              "        vertical-align: middle;\n",
              "    }\n",
              "\n",
              "    .dataframe tbody tr th {\n",
              "        vertical-align: top;\n",
              "    }\n",
              "\n",
              "    .dataframe thead th {\n",
              "        text-align: right;\n",
              "    }\n",
              "</style>\n",
              "<table border=\"1\" class=\"dataframe\">\n",
              "  <thead>\n",
              "    <tr style=\"text-align: right;\">\n",
              "      <th></th>\n",
              "      <th>training</th>\n",
              "      <th>age</th>\n",
              "      <th>emergency_braking</th>\n",
              "      <th>braking_distance</th>\n",
              "      <th>power</th>\n",
              "      <th>milage</th>\n",
              "    </tr>\n",
              "  </thead>\n",
              "  <tbody>\n",
              "    <tr>\n",
              "      <th>0</th>\n",
              "      <td>0</td>\n",
              "      <td>41.951100</td>\n",
              "      <td>0</td>\n",
              "      <td>40.933328</td>\n",
              "      <td>122.238329</td>\n",
              "      <td>98.509765</td>\n",
              "    </tr>\n",
              "    <tr>\n",
              "      <th>1</th>\n",
              "      <td>0</td>\n",
              "      <td>24.368286</td>\n",
              "      <td>1</td>\n",
              "      <td>44.797317</td>\n",
              "      <td>113.765298</td>\n",
              "      <td>46.324178</td>\n",
              "    </tr>\n",
              "    <tr>\n",
              "      <th>2</th>\n",
              "      <td>0</td>\n",
              "      <td>18.314649</td>\n",
              "      <td>1</td>\n",
              "      <td>41.587241</td>\n",
              "      <td>143.427269</td>\n",
              "      <td>76.862968</td>\n",
              "    </tr>\n",
              "    <tr>\n",
              "      <th>3</th>\n",
              "      <td>0</td>\n",
              "      <td>51.265254</td>\n",
              "      <td>1</td>\n",
              "      <td>47.266716</td>\n",
              "      <td>111.578133</td>\n",
              "      <td>102.697069</td>\n",
              "    </tr>\n",
              "    <tr>\n",
              "      <th>4</th>\n",
              "      <td>0</td>\n",
              "      <td>23.578861</td>\n",
              "      <td>0</td>\n",
              "      <td>42.835319</td>\n",
              "      <td>145.994235</td>\n",
              "      <td>63.690055</td>\n",
              "    </tr>\n",
              "  </tbody>\n",
              "</table>\n",
              "</div>"
            ],
            "text/plain": [
              "   training        age  emergency_braking  braking_distance       power  \\\n",
              "0         0  41.951100                  0         40.933328  122.238329   \n",
              "1         0  24.368286                  1         44.797317  113.765298   \n",
              "2         0  18.314649                  1         41.587241  143.427269   \n",
              "3         0  51.265254                  1         47.266716  111.578133   \n",
              "4         0  23.578861                  0         42.835319  145.994235   \n",
              "\n",
              "       milage  \n",
              "0   98.509765  \n",
              "1   46.324178  \n",
              "2   76.862968  \n",
              "3  102.697069  \n",
              "4   63.690055  "
            ]
          },
          "execution_count": 10,
          "metadata": {},
          "output_type": "execute_result"
        }
      ],
      "source": [
        "# could just as well be pandas code\n",
        "reference_dataset = DataLoader().load(\n",
        "   filename=reference_dataset_url,\n",
        "   data_options = DataOptions(date_column=None, separator=';'),\n",
        ")\n",
        "reference_dataset = reference_dataset.drop(['risk', 'group', 'group_name', 'good_customer'], axis='columns')\n",
        "reference_dataset.head()"
      ]
    },
    {
      "cell_type": "code",
      "execution_count": 11,
      "metadata": {
        "colab": {
          "base_uri": "https://localhost:8080/",
          "height": 206
        },
        "id": "dHvI5ygJfGNt",
        "outputId": "c4ffc09e-3a8f-46ec-c15d-8956487e4a12"
      },
      "outputs": [
        {
          "data": {
            "text/html": [
              "<div>\n",
              "<style scoped>\n",
              "    .dataframe tbody tr th:only-of-type {\n",
              "        vertical-align: middle;\n",
              "    }\n",
              "\n",
              "    .dataframe tbody tr th {\n",
              "        vertical-align: top;\n",
              "    }\n",
              "\n",
              "    .dataframe thead th {\n",
              "        text-align: right;\n",
              "    }\n",
              "</style>\n",
              "<table border=\"1\" class=\"dataframe\">\n",
              "  <thead>\n",
              "    <tr style=\"text-align: right;\">\n",
              "      <th></th>\n",
              "      <th>training</th>\n",
              "      <th>age</th>\n",
              "      <th>emergency_braking</th>\n",
              "      <th>braking_distance</th>\n",
              "      <th>power</th>\n",
              "      <th>milage</th>\n",
              "    </tr>\n",
              "  </thead>\n",
              "  <tbody>\n",
              "    <tr>\n",
              "      <th>0</th>\n",
              "      <td>0</td>\n",
              "      <td>45.700860</td>\n",
              "      <td>1</td>\n",
              "      <td>33.730669</td>\n",
              "      <td>118.306787</td>\n",
              "      <td>92.429050</td>\n",
              "    </tr>\n",
              "    <tr>\n",
              "      <th>1</th>\n",
              "      <td>0</td>\n",
              "      <td>53.091268</td>\n",
              "      <td>1</td>\n",
              "      <td>35.575746</td>\n",
              "      <td>168.151487</td>\n",
              "      <td>53.595707</td>\n",
              "    </tr>\n",
              "    <tr>\n",
              "      <th>2</th>\n",
              "      <td>1</td>\n",
              "      <td>41.989477</td>\n",
              "      <td>1</td>\n",
              "      <td>37.515860</td>\n",
              "      <td>104.683894</td>\n",
              "      <td>40.402020</td>\n",
              "    </tr>\n",
              "    <tr>\n",
              "      <th>3</th>\n",
              "      <td>0</td>\n",
              "      <td>41.792728</td>\n",
              "      <td>1</td>\n",
              "      <td>44.043184</td>\n",
              "      <td>143.531543</td>\n",
              "      <td>46.462029</td>\n",
              "    </tr>\n",
              "    <tr>\n",
              "      <th>4</th>\n",
              "      <td>1</td>\n",
              "      <td>28.679302</td>\n",
              "      <td>1</td>\n",
              "      <td>34.329172</td>\n",
              "      <td>85.439495</td>\n",
              "      <td>39.791829</td>\n",
              "    </tr>\n",
              "  </tbody>\n",
              "</table>\n",
              "</div>"
            ],
            "text/plain": [
              "   training        age  emergency_braking  braking_distance       power  \\\n",
              "0         0  45.700860                  1         33.730669  118.306787   \n",
              "1         0  53.091268                  1         35.575746  168.151487   \n",
              "2         1  41.989477                  1         37.515860  104.683894   \n",
              "3         0  41.792728                  1         44.043184  143.531543   \n",
              "4         1  28.679302                  1         34.329172   85.439495   \n",
              "\n",
              "      milage  \n",
              "0  92.429050  \n",
              "1  53.595707  \n",
              "2  40.402020  \n",
              "3  46.462029  \n",
              "4  39.791829  "
            ]
          },
          "execution_count": 11,
          "metadata": {},
          "output_type": "execute_result"
        }
      ],
      "source": [
        "# could just as well be pandas code\n",
        "current_dataset = DataLoader().load(\n",
        "   filename=current_dataset_url,\n",
        "   data_options = DataOptions(date_column=None, separator=';'),\n",
        ")\n",
        "current_dataset = current_dataset.drop(['risk', 'group', 'group_name', 'good_customer'], axis='columns')\n",
        "current_dataset.head()"
      ]
    },
    {
      "cell_type": "markdown",
      "metadata": {
        "id": "i2bk4q6JpmKC"
      },
      "source": [
        "## Target / Prediction"
      ]
    },
    {
      "cell_type": "code",
      "execution_count": 12,
      "metadata": {},
      "outputs": [],
      "source": [
        "binary_classifications = True"
      ]
    },
    {
      "cell_type": "code",
      "execution_count": 13,
      "metadata": {
        "colab": {
          "base_uri": "https://localhost:8080/",
          "height": 35
        },
        "id": "qA5S98PVirx2",
        "outputId": "c6041ecd-1da1-41ab-c77d-ebd9a6d38d4b"
      },
      "outputs": [
        {
          "name": "stderr",
          "output_type": "stream",
          "text": [
            "2023-11-03 11:30:21.358978: I tensorflow/core/util/port.cc:111] oneDNN custom operations are on. You may see slightly different numerical results due to floating-point round-off errors from different computation orders. To turn them off, set the environment variable `TF_ENABLE_ONEDNN_OPTS=0`.\n",
            "2023-11-03 11:30:21.368526: I tensorflow/tsl/cuda/cudart_stub.cc:28] Could not find cuda drivers on your machine, GPU will not be used.\n",
            "2023-11-03 11:30:21.450317: E tensorflow/compiler/xla/stream_executor/cuda/cuda_dnn.cc:9342] Unable to register cuDNN factory: Attempting to register factory for plugin cuDNN when one has already been registered\n",
            "2023-11-03 11:30:21.450389: E tensorflow/compiler/xla/stream_executor/cuda/cuda_fft.cc:609] Unable to register cuFFT factory: Attempting to register factory for plugin cuFFT when one has already been registered\n",
            "2023-11-03 11:30:21.450421: E tensorflow/compiler/xla/stream_executor/cuda/cuda_blas.cc:1518] Unable to register cuBLAS factory: Attempting to register factory for plugin cuBLAS when one has already been registered\n",
            "2023-11-03 11:30:21.464122: I tensorflow/tsl/cuda/cudart_stub.cc:28] Could not find cuda drivers on your machine, GPU will not be used.\n",
            "2023-11-03 11:30:21.465388: I tensorflow/core/platform/cpu_feature_guard.cc:182] This TensorFlow binary is optimized to use available CPU instructions in performance-critical operations.\n",
            "To enable the following instructions: AVX2 AVX512F AVX512_VNNI FMA, in other operations, rebuild TensorFlow with the appropriate compiler flags.\n",
            "2023-11-03 11:30:23.350738: W tensorflow/compiler/tf2tensorrt/utils/py_utils.cc:38] TF-TRT Warning: Could not find TensorRT\n"
          ]
        },
        {
          "data": {
            "text/plain": [
              "'2.14.0'"
            ]
          },
          "execution_count": 13,
          "metadata": {},
          "output_type": "execute_result"
        }
      ],
      "source": [
        "import tensorflow as tf\n",
        "tf.__version__"
      ]
    },
    {
      "cell_type": "code",
      "execution_count": 14,
      "metadata": {
        "colab": {
          "base_uri": "https://localhost:8080/"
        },
        "id": "EH1T_j2nTmHi",
        "outputId": "1bcb5ff7-4de3-4c53-e3f4-15648bc0ef27"
      },
      "outputs": [],
      "source": [
        "if IN_COLAB:\n",
        "  !wget https://github.com/DJCordhose/buch-machine-learning-notebooks/raw/main/kap11/classifier-binary.keras\n",
        "model_path = 'classifier'\n",
        "model = tf.keras.models.load_model(f'{model_path}-binary.keras')"
      ]
    },
    {
      "cell_type": "code",
      "execution_count": 15,
      "metadata": {
        "id": "lSKMm7DJz2DL"
      },
      "outputs": [],
      "source": [
        "def prediction_name(value: int):\n",
        "  if binary_classifications:\n",
        "    names = ['BAD', 'GOOD']\n",
        "  else:\n",
        "    names = ['HIGH', 'MEDIUM', 'LOW']\n",
        "  return names[value]\n",
        "\n",
        "def predict(X):\n",
        "  if not binary_classifications:\n",
        "      y_pred = model.predict(X).argmax(axis=1)\n",
        "  else:\n",
        "      threshold = .5\n",
        "      y_pred = (model.predict(X) > threshold).ravel().astype(\"int\")\n",
        "  return list(map(prediction_name, y_pred))\n"
      ]
    },
    {
      "cell_type": "code",
      "execution_count": 16,
      "metadata": {
        "colab": {
          "base_uri": "https://localhost:8080/",
          "height": 206
        },
        "id": "E-KNdSACMwWj",
        "outputId": "b0d58bda-6625-444c-8223-0ad4506ff912"
      },
      "outputs": [
        {
          "name": "stdout",
          "output_type": "stream",
          "text": [
            "47/47 [==============================] - 0s 3ms/step\n"
          ]
        },
        {
          "data": {
            "text/html": [
              "<div>\n",
              "<style scoped>\n",
              "    .dataframe tbody tr th:only-of-type {\n",
              "        vertical-align: middle;\n",
              "    }\n",
              "\n",
              "    .dataframe tbody tr th {\n",
              "        vertical-align: top;\n",
              "    }\n",
              "\n",
              "    .dataframe thead th {\n",
              "        text-align: right;\n",
              "    }\n",
              "</style>\n",
              "<table border=\"1\" class=\"dataframe\">\n",
              "  <thead>\n",
              "    <tr style=\"text-align: right;\">\n",
              "      <th></th>\n",
              "      <th>training</th>\n",
              "      <th>age</th>\n",
              "      <th>emergency_braking</th>\n",
              "      <th>braking_distance</th>\n",
              "      <th>power</th>\n",
              "      <th>milage</th>\n",
              "      <th>prediction</th>\n",
              "    </tr>\n",
              "  </thead>\n",
              "  <tbody>\n",
              "    <tr>\n",
              "      <th>0</th>\n",
              "      <td>0</td>\n",
              "      <td>45.700860</td>\n",
              "      <td>1</td>\n",
              "      <td>33.730669</td>\n",
              "      <td>118.306787</td>\n",
              "      <td>92.429050</td>\n",
              "      <td>GOOD</td>\n",
              "    </tr>\n",
              "    <tr>\n",
              "      <th>1</th>\n",
              "      <td>0</td>\n",
              "      <td>53.091268</td>\n",
              "      <td>1</td>\n",
              "      <td>35.575746</td>\n",
              "      <td>168.151487</td>\n",
              "      <td>53.595707</td>\n",
              "      <td>BAD</td>\n",
              "    </tr>\n",
              "    <tr>\n",
              "      <th>2</th>\n",
              "      <td>1</td>\n",
              "      <td>41.989477</td>\n",
              "      <td>1</td>\n",
              "      <td>37.515860</td>\n",
              "      <td>104.683894</td>\n",
              "      <td>40.402020</td>\n",
              "      <td>GOOD</td>\n",
              "    </tr>\n",
              "    <tr>\n",
              "      <th>3</th>\n",
              "      <td>0</td>\n",
              "      <td>41.792728</td>\n",
              "      <td>1</td>\n",
              "      <td>44.043184</td>\n",
              "      <td>143.531543</td>\n",
              "      <td>46.462029</td>\n",
              "      <td>GOOD</td>\n",
              "    </tr>\n",
              "    <tr>\n",
              "      <th>4</th>\n",
              "      <td>1</td>\n",
              "      <td>28.679302</td>\n",
              "      <td>1</td>\n",
              "      <td>34.329172</td>\n",
              "      <td>85.439495</td>\n",
              "      <td>39.791829</td>\n",
              "      <td>GOOD</td>\n",
              "    </tr>\n",
              "  </tbody>\n",
              "</table>\n",
              "</div>"
            ],
            "text/plain": [
              "   training        age  emergency_braking  braking_distance       power  \\\n",
              "0         0  45.700860                  1         33.730669  118.306787   \n",
              "1         0  53.091268                  1         35.575746  168.151487   \n",
              "2         1  41.989477                  1         37.515860  104.683894   \n",
              "3         0  41.792728                  1         44.043184  143.531543   \n",
              "4         1  28.679302                  1         34.329172   85.439495   \n",
              "\n",
              "      milage prediction  \n",
              "0  92.429050       GOOD  \n",
              "1  53.595707        BAD  \n",
              "2  40.402020       GOOD  \n",
              "3  46.462029       GOOD  \n",
              "4  39.791829       GOOD  "
            ]
          },
          "execution_count": 16,
          "metadata": {},
          "output_type": "execute_result"
        }
      ],
      "source": [
        "X = current_dataset\n",
        "current_dataset_prediction = X.copy()\n",
        "current_dataset_prediction['prediction'] = predict(X)\n",
        "current_dataset_prediction.head()"
      ]
    },
    {
      "cell_type": "code",
      "execution_count": 17,
      "metadata": {
        "colab": {
          "base_uri": "https://localhost:8080/",
          "height": 206
        },
        "id": "LM1FUkmgMwWk",
        "outputId": "bf5d121e-0944-448a-ae1a-e999761ba51c"
      },
      "outputs": [
        {
          "name": "stdout",
          "output_type": "stream",
          "text": [
            "47/47 [==============================] - 0s 3ms/step\n"
          ]
        },
        {
          "data": {
            "text/html": [
              "<div>\n",
              "<style scoped>\n",
              "    .dataframe tbody tr th:only-of-type {\n",
              "        vertical-align: middle;\n",
              "    }\n",
              "\n",
              "    .dataframe tbody tr th {\n",
              "        vertical-align: top;\n",
              "    }\n",
              "\n",
              "    .dataframe thead th {\n",
              "        text-align: right;\n",
              "    }\n",
              "</style>\n",
              "<table border=\"1\" class=\"dataframe\">\n",
              "  <thead>\n",
              "    <tr style=\"text-align: right;\">\n",
              "      <th></th>\n",
              "      <th>training</th>\n",
              "      <th>age</th>\n",
              "      <th>emergency_braking</th>\n",
              "      <th>braking_distance</th>\n",
              "      <th>power</th>\n",
              "      <th>milage</th>\n",
              "      <th>prediction</th>\n",
              "    </tr>\n",
              "  </thead>\n",
              "  <tbody>\n",
              "    <tr>\n",
              "      <th>0</th>\n",
              "      <td>0</td>\n",
              "      <td>41.951100</td>\n",
              "      <td>0</td>\n",
              "      <td>40.933328</td>\n",
              "      <td>122.238329</td>\n",
              "      <td>98.509765</td>\n",
              "      <td>BAD</td>\n",
              "    </tr>\n",
              "    <tr>\n",
              "      <th>1</th>\n",
              "      <td>0</td>\n",
              "      <td>24.368286</td>\n",
              "      <td>1</td>\n",
              "      <td>44.797317</td>\n",
              "      <td>113.765298</td>\n",
              "      <td>46.324178</td>\n",
              "      <td>BAD</td>\n",
              "    </tr>\n",
              "    <tr>\n",
              "      <th>2</th>\n",
              "      <td>0</td>\n",
              "      <td>18.314649</td>\n",
              "      <td>1</td>\n",
              "      <td>41.587241</td>\n",
              "      <td>143.427269</td>\n",
              "      <td>76.862968</td>\n",
              "      <td>BAD</td>\n",
              "    </tr>\n",
              "    <tr>\n",
              "      <th>3</th>\n",
              "      <td>0</td>\n",
              "      <td>51.265254</td>\n",
              "      <td>1</td>\n",
              "      <td>47.266716</td>\n",
              "      <td>111.578133</td>\n",
              "      <td>102.697069</td>\n",
              "      <td>BAD</td>\n",
              "    </tr>\n",
              "    <tr>\n",
              "      <th>4</th>\n",
              "      <td>0</td>\n",
              "      <td>23.578861</td>\n",
              "      <td>0</td>\n",
              "      <td>42.835319</td>\n",
              "      <td>145.994235</td>\n",
              "      <td>63.690055</td>\n",
              "      <td>BAD</td>\n",
              "    </tr>\n",
              "  </tbody>\n",
              "</table>\n",
              "</div>"
            ],
            "text/plain": [
              "   training        age  emergency_braking  braking_distance       power  \\\n",
              "0         0  41.951100                  0         40.933328  122.238329   \n",
              "1         0  24.368286                  1         44.797317  113.765298   \n",
              "2         0  18.314649                  1         41.587241  143.427269   \n",
              "3         0  51.265254                  1         47.266716  111.578133   \n",
              "4         0  23.578861                  0         42.835319  145.994235   \n",
              "\n",
              "       milage prediction  \n",
              "0   98.509765        BAD  \n",
              "1   46.324178        BAD  \n",
              "2   76.862968        BAD  \n",
              "3  102.697069        BAD  \n",
              "4   63.690055        BAD  "
            ]
          },
          "execution_count": 17,
          "metadata": {},
          "output_type": "execute_result"
        }
      ],
      "source": [
        "X = reference_dataset\n",
        "y_pred = model.predict(X, verbose=0).argmax(axis=1)\n",
        "reference_dataset_prediction = X.copy()\n",
        "reference_dataset_prediction['prediction'] =  predict(X)\n",
        "reference_dataset_prediction.head()"
      ]
    },
    {
      "cell_type": "markdown",
      "metadata": {
        "id": "HXwnCPD6FmVu"
      },
      "source": [
        "# Calculating Drift"
      ]
    },
    {
      "cell_type": "code",
      "execution_count": 18,
      "metadata": {
        "colab": {
          "base_uri": "https://localhost:8080/"
        },
        "id": "96wgZtWMyILN",
        "outputId": "d409d75d-9fc5-4f2f-873d-a9d62ce2a97d"
      },
      "outputs": [
        {
          "data": {
            "text/plain": [
              "['training',\n",
              " 'emergency_braking',\n",
              " 'age',\n",
              " 'braking_distance',\n",
              " 'power',\n",
              " 'milage',\n",
              " 'prediction']"
            ]
          },
          "execution_count": 18,
          "metadata": {},
          "output_type": "execute_result"
        }
      ],
      "source": [
        "column_mapping = ColumnMapping(\n",
        "    categorical_features=['training', 'emergency_braking'],\n",
        "    numerical_features=['age', 'braking_distance', 'power', 'milage'],\n",
        "    prediction=\"prediction\",\n",
        "    target=None,\n",
        ")\n",
        "drift_share = 0.5\n",
        "columns = column_mapping.categorical_features + column_mapping.numerical_features + [column_mapping.prediction]\n",
        "columns"
      ]
    },
    {
      "cell_type": "code",
      "execution_count": 19,
      "metadata": {
        "id": "w3GdMNBk04WA"
      },
      "outputs": [],
      "source": [
        "input_data = InputData(\n",
        "    reference_data=reference_dataset_prediction,\n",
        "    current_data=current_dataset_prediction,\n",
        "    column_mapping=column_mapping,\n",
        "    current_additional_features=None,\n",
        "    data_definition=None,\n",
        "    reference_additional_features=None,\n",
        "    additional_datasets=None\n",
        ")"
      ]
    },
    {
      "cell_type": "code",
      "execution_count": 20,
      "metadata": {
        "colab": {
          "base_uri": "https://localhost:8080/"
        },
        "id": "SvtKgbLj1AHY",
        "outputId": "26c173e9-3602-47df-dd83-51dd64304136"
      },
      "outputs": [
        {
          "data": {
            "text/plain": [
              "DatasetColumns(type='evidently.metric_results.DatasetColumns', utility_columns=DatasetUtilityColumns(type='evidently.metric_results.DatasetUtilityColumns', date=None, id=None, target=None, prediction='prediction'), target_type='cat', num_feature_names=['age', 'braking_distance', 'milage', 'power'], cat_feature_names=['training', 'emergency_braking'], text_feature_names=[], datetime_feature_names=[], target_names=None, task=None)"
            ]
          },
          "execution_count": 20,
          "metadata": {},
          "output_type": "execute_result"
        }
      ],
      "source": [
        "dataset_columns = process_columns(input_data.reference_data, input_data.column_mapping)\n",
        "dataset_columns"
      ]
    },
    {
      "cell_type": "code",
      "execution_count": 21,
      "metadata": {
        "id": "I_Dn6kFO04WB"
      },
      "outputs": [],
      "source": [
        "result = get_drift_for_columns(\n",
        "    current_data=input_data.current_data,\n",
        "    reference_data=input_data.reference_data,\n",
        "    data_drift_options=DataDriftOptions(),\n",
        "    drift_share_threshold=drift_share,\n",
        "    dataset_columns=dataset_columns,\n",
        "    columns=columns,\n",
        "    agg_data = True\n",
        ")"
      ]
    },
    {
      "cell_type": "code",
      "execution_count": 22,
      "metadata": {
        "colab": {
          "base_uri": "https://localhost:8080/"
        },
        "id": "oH2QqK3LFmVw",
        "outputId": "128fd197-70b7-4878-8bbd-ee1f35abc540"
      },
      "outputs": [
        {
          "data": {
            "text/plain": [
              "7"
            ]
          },
          "execution_count": 22,
          "metadata": {},
          "output_type": "execute_result"
        }
      ],
      "source": [
        "result.number_of_columns"
      ]
    },
    {
      "cell_type": "code",
      "execution_count": 23,
      "metadata": {
        "colab": {
          "base_uri": "https://localhost:8080/"
        },
        "id": "MXqdSTh5FmVx",
        "outputId": "adebae64-d0c2-4e36-a3d5-0d77b0e06b6a"
      },
      "outputs": [
        {
          "data": {
            "text/plain": [
              "4"
            ]
          },
          "execution_count": 23,
          "metadata": {},
          "output_type": "execute_result"
        }
      ],
      "source": [
        "result.number_of_drifted_columns"
      ]
    },
    {
      "cell_type": "code",
      "execution_count": 24,
      "metadata": {
        "colab": {
          "base_uri": "https://localhost:8080/"
        },
        "id": "rTqElj-rFmVx",
        "outputId": "ec5c4526-611a-4cd1-957f-60c3be4bca30"
      },
      "outputs": [
        {
          "data": {
            "text/plain": [
              "0.5714285714285714"
            ]
          },
          "execution_count": 24,
          "metadata": {},
          "output_type": "execute_result"
        }
      ],
      "source": [
        "result.share_of_drifted_columns"
      ]
    },
    {
      "cell_type": "code",
      "execution_count": 25,
      "metadata": {
        "colab": {
          "base_uri": "https://localhost:8080/"
        },
        "id": "-ph0-X08FmVx",
        "outputId": "f5a2c877-7f10-4ccb-abd4-8f00437a4793"
      },
      "outputs": [
        {
          "data": {
            "text/plain": [
              "True"
            ]
          },
          "execution_count": 25,
          "metadata": {},
          "output_type": "execute_result"
        }
      ],
      "source": [
        "result.dataset_drift"
      ]
    },
    {
      "cell_type": "markdown",
      "metadata": {},
      "source": [
        "## You can breakt it down to the level of each test\n",
        "\n",
        "* can be helpful to have your own weights\n",
        "* e.g. weigh to feature importance or heighest correlation to target\n",
        "  * corrlation will probably change over time, make sure to adjust when training new model\n",
        "  * have a look at correlation plot below \n",
        "* or feature known to be most brittle\n",
        "* or feature most important to domain / business"
      ]
    },
    {
      "cell_type": "code",
      "execution_count": 26,
      "metadata": {
        "colab": {
          "base_uri": "https://localhost:8080/"
        },
        "id": "_i8uDEfH1Qn0",
        "outputId": "4d728818-d521-4345-96c9-1e49082ad0e8"
      },
      "outputs": [
        {
          "name": "stdout",
          "output_type": "stream",
          "text": [
            "training: 0.026168996995345487 (Jensen-Shannon distance)\n",
            "emergency_braking: 0.431489050691815 (Jensen-Shannon distance), drifted\n",
            "age: 0.33634057577174653 (Wasserstein distance (normed)), drifted\n",
            "braking_distance: 0.07052872681963733 (Wasserstein distance (normed))\n",
            "power: 0.027969027840461617 (Wasserstein distance (normed))\n",
            "milage: 0.7140663279609664 (Wasserstein distance (normed)), drifted\n",
            "prediction: 0.10925847786821055 (Jensen-Shannon distance), drifted\n"
          ]
        }
      ],
      "source": [
        "for column in columns:\n",
        "    drift = result.drift_by_columns[column]\n",
        "    print(f'{column}: {drift.drift_score} ({drift.stattest_name}){\", drifted\" if drift.drift_detected else \"\"}')"
      ]
    },
    {
      "cell_type": "code",
      "execution_count": 27,
      "metadata": {},
      "outputs": [],
      "source": [
        "features = ['training', 'age', 'emergency_braking', 'braking_distance', 'power', 'miles', 'risk']\n",
        "\n",
        "def plot_correlation(df, ax, title):\n",
        "    df_corr = df.drop(columns=[\"group\", \"group_name\", \"good_customer\"])\n",
        "\n",
        "    cm = df_corr.corr()\n",
        "\n",
        "    hm = sns.heatmap(cm,\n",
        "                     ax=ax,\n",
        "                    cbar=True,\n",
        "                    annot=True,\n",
        "                    square=True,\n",
        "                    cmap='RdBu',\n",
        "                    center=0,\n",
        "                    fmt='.2f',\n",
        "                    yticklabels=features,\n",
        "                    xticklabels=features)\n",
        "\n",
        "    ax.set_title(title, y=1.02, fontsize=18);"
      ]
    },
    {
      "cell_type": "code",
      "execution_count": 28,
      "metadata": {},
      "outputs": [],
      "source": [
        "import pandas as pd\n",
        "\n",
        "df_reference = pd.read_csv(url_for_dataset(f'reference'), delimiter=';')\n",
        "df_iteration = pd.read_csv(url_for_dataset(f'monthly/month-{iteration}'), delimiter=';')"
      ]
    },
    {
      "cell_type": "code",
      "execution_count": 29,
      "metadata": {},
      "outputs": [
        {
          "data": {
            "image/png": "[encoded data removed]",
            "text/plain": [
              "<Figure size 1600x800 with 4 Axes>"
            ]
          },
          "metadata": {},
          "output_type": "display_data"
        }
      ],
      "source": [
        "fig, (ax1, ax2) = plt.subplots(1, 2, figsize=(16, 8))\n",
        "\n",
        "\n",
        "plot_correlation(df_reference, ax1, \"Reference\")\n",
        "plot_correlation(df_iteration, ax2, \"Iteration\")\n",
        "# plt.tight_layout()\n"
      ]
    },
    {
      "cell_type": "markdown",
      "metadata": {},
      "source": [
        "# Comparing different stats tests\n",
        "\n",
        "https://www.evidentlyai.com/blog/data-drift-detection-large-datasets"
      ]
    },
    {
      "cell_type": "code",
      "execution_count": 30,
      "metadata": {
        "id": "v8gSd7lc1RdB"
      },
      "outputs": [],
      "source": [
        "from evidently.calculations.stattests.jensenshannon import jensenshannon_stat_test\n",
        "from evidently.calculations.stattests.kl_div import kl_div_stat_test\n",
        "from evidently.calculations.stattests.ks_stattest import ks_stat_test\n",
        "from evidently.calculations.stattests.psi import psi_stat_test\n",
        "from evidently.calculations.stattests.wasserstein_distance_norm import wasserstein_stat_test"
      ]
    },
    {
      "cell_type": "code",
      "execution_count": 31,
      "metadata": {},
      "outputs": [
        {
          "data": {
            "text/html": [
              "<div>\n",
              "<style scoped>\n",
              "    .dataframe tbody tr th:only-of-type {\n",
              "        vertical-align: middle;\n",
              "    }\n",
              "\n",
              "    .dataframe tbody tr th {\n",
              "        vertical-align: top;\n",
              "    }\n",
              "\n",
              "    .dataframe thead th {\n",
              "        text-align: right;\n",
              "    }\n",
              "</style>\n",
              "<table border=\"1\" class=\"dataframe\">\n",
              "  <thead>\n",
              "    <tr style=\"text-align: right;\">\n",
              "      <th></th>\n",
              "      <th>training</th>\n",
              "      <th>age</th>\n",
              "      <th>emergency_braking</th>\n",
              "      <th>braking_distance</th>\n",
              "      <th>power</th>\n",
              "      <th>milage</th>\n",
              "      <th>prediction</th>\n",
              "    </tr>\n",
              "  </thead>\n",
              "  <tbody>\n",
              "    <tr>\n",
              "      <th>0</th>\n",
              "      <td>0</td>\n",
              "      <td>45.700860</td>\n",
              "      <td>1</td>\n",
              "      <td>33.730669</td>\n",
              "      <td>118.306787</td>\n",
              "      <td>92.429050</td>\n",
              "      <td>GOOD</td>\n",
              "    </tr>\n",
              "    <tr>\n",
              "      <th>1</th>\n",
              "      <td>0</td>\n",
              "      <td>53.091268</td>\n",
              "      <td>1</td>\n",
              "      <td>35.575746</td>\n",
              "      <td>168.151487</td>\n",
              "      <td>53.595707</td>\n",
              "      <td>BAD</td>\n",
              "    </tr>\n",
              "    <tr>\n",
              "      <th>2</th>\n",
              "      <td>1</td>\n",
              "      <td>41.989477</td>\n",
              "      <td>1</td>\n",
              "      <td>37.515860</td>\n",
              "      <td>104.683894</td>\n",
              "      <td>40.402020</td>\n",
              "      <td>GOOD</td>\n",
              "    </tr>\n",
              "    <tr>\n",
              "      <th>3</th>\n",
              "      <td>0</td>\n",
              "      <td>41.792728</td>\n",
              "      <td>1</td>\n",
              "      <td>44.043184</td>\n",
              "      <td>143.531543</td>\n",
              "      <td>46.462029</td>\n",
              "      <td>GOOD</td>\n",
              "    </tr>\n",
              "    <tr>\n",
              "      <th>4</th>\n",
              "      <td>1</td>\n",
              "      <td>28.679302</td>\n",
              "      <td>1</td>\n",
              "      <td>34.329172</td>\n",
              "      <td>85.439495</td>\n",
              "      <td>39.791829</td>\n",
              "      <td>GOOD</td>\n",
              "    </tr>\n",
              "  </tbody>\n",
              "</table>\n",
              "</div>"
            ],
            "text/plain": [
              "   training        age  emergency_braking  braking_distance       power  \\\n",
              "0         0  45.700860                  1         33.730669  118.306787   \n",
              "1         0  53.091268                  1         35.575746  168.151487   \n",
              "2         1  41.989477                  1         37.515860  104.683894   \n",
              "3         0  41.792728                  1         44.043184  143.531543   \n",
              "4         1  28.679302                  1         34.329172   85.439495   \n",
              "\n",
              "      milage prediction  \n",
              "0  92.429050       GOOD  \n",
              "1  53.595707        BAD  \n",
              "2  40.402020       GOOD  \n",
              "3  46.462029       GOOD  \n",
              "4  39.791829       GOOD  "
            ]
          },
          "execution_count": 31,
          "metadata": {},
          "output_type": "execute_result"
        }
      ],
      "source": [
        "current_dataset_prediction.head()"
      ]
    },
    {
      "cell_type": "code",
      "execution_count": 32,
      "metadata": {},
      "outputs": [
        {
          "data": {
            "text/html": [
              "<div>\n",
              "<style scoped>\n",
              "    .dataframe tbody tr th:only-of-type {\n",
              "        vertical-align: middle;\n",
              "    }\n",
              "\n",
              "    .dataframe tbody tr th {\n",
              "        vertical-align: top;\n",
              "    }\n",
              "\n",
              "    .dataframe thead th {\n",
              "        text-align: right;\n",
              "    }\n",
              "</style>\n",
              "<table border=\"1\" class=\"dataframe\">\n",
              "  <thead>\n",
              "    <tr style=\"text-align: right;\">\n",
              "      <th></th>\n",
              "      <th>training</th>\n",
              "      <th>age</th>\n",
              "      <th>emergency_braking</th>\n",
              "      <th>braking_distance</th>\n",
              "      <th>power</th>\n",
              "      <th>milage</th>\n",
              "      <th>prediction</th>\n",
              "    </tr>\n",
              "  </thead>\n",
              "  <tbody>\n",
              "    <tr>\n",
              "      <th>0</th>\n",
              "      <td>0</td>\n",
              "      <td>41.951100</td>\n",
              "      <td>0</td>\n",
              "      <td>40.933328</td>\n",
              "      <td>122.238329</td>\n",
              "      <td>98.509765</td>\n",
              "      <td>BAD</td>\n",
              "    </tr>\n",
              "    <tr>\n",
              "      <th>1</th>\n",
              "      <td>0</td>\n",
              "      <td>24.368286</td>\n",
              "      <td>1</td>\n",
              "      <td>44.797317</td>\n",
              "      <td>113.765298</td>\n",
              "      <td>46.324178</td>\n",
              "      <td>BAD</td>\n",
              "    </tr>\n",
              "    <tr>\n",
              "      <th>2</th>\n",
              "      <td>0</td>\n",
              "      <td>18.314649</td>\n",
              "      <td>1</td>\n",
              "      <td>41.587241</td>\n",
              "      <td>143.427269</td>\n",
              "      <td>76.862968</td>\n",
              "      <td>BAD</td>\n",
              "    </tr>\n",
              "    <tr>\n",
              "      <th>3</th>\n",
              "      <td>0</td>\n",
              "      <td>51.265254</td>\n",
              "      <td>1</td>\n",
              "      <td>47.266716</td>\n",
              "      <td>111.578133</td>\n",
              "      <td>102.697069</td>\n",
              "      <td>BAD</td>\n",
              "    </tr>\n",
              "    <tr>\n",
              "      <th>4</th>\n",
              "      <td>0</td>\n",
              "      <td>23.578861</td>\n",
              "      <td>0</td>\n",
              "      <td>42.835319</td>\n",
              "      <td>145.994235</td>\n",
              "      <td>63.690055</td>\n",
              "      <td>BAD</td>\n",
              "    </tr>\n",
              "  </tbody>\n",
              "</table>\n",
              "</div>"
            ],
            "text/plain": [
              "   training        age  emergency_braking  braking_distance       power  \\\n",
              "0         0  41.951100                  0         40.933328  122.238329   \n",
              "1         0  24.368286                  1         44.797317  113.765298   \n",
              "2         0  18.314649                  1         41.587241  143.427269   \n",
              "3         0  51.265254                  1         47.266716  111.578133   \n",
              "4         0  23.578861                  0         42.835319  145.994235   \n",
              "\n",
              "       milage prediction  \n",
              "0   98.509765        BAD  \n",
              "1   46.324178        BAD  \n",
              "2   76.862968        BAD  \n",
              "3  102.697069        BAD  \n",
              "4   63.690055        BAD  "
            ]
          },
          "execution_count": 32,
          "metadata": {},
          "output_type": "execute_result"
        }
      ],
      "source": [
        "reference_dataset_prediction.head()"
      ]
    },
    {
      "cell_type": "code",
      "execution_count": 33,
      "metadata": {},
      "outputs": [],
      "source": [
        "feature_name = \"age\"\n",
        "reference_feature = reference_dataset_prediction[feature_name]\n",
        "current_feature = current_dataset_prediction[feature_name]"
      ]
    },
    {
      "cell_type": "code",
      "execution_count": 34,
      "metadata": {},
      "outputs": [
        {
          "data": {
            "text/plain": [
              "StatTestResult(drift_score=0.33634057577174653, drifted=True, actual_threshold=0.1)"
            ]
          },
          "execution_count": 34,
          "metadata": {},
          "output_type": "execute_result"
        }
      ],
      "source": [
        "wasserstein_stat_test(reference_feature, current_feature, 'num', threshold=None)"
      ]
    },
    {
      "cell_type": "code",
      "execution_count": 35,
      "metadata": {},
      "outputs": [
        {
          "data": {
            "text/plain": [
              "StatTestResult(drift_score=1.774673024118679e-13, drifted=True, actual_threshold=0.05)"
            ]
          },
          "execution_count": 35,
          "metadata": {},
          "output_type": "execute_result"
        }
      ],
      "source": [
        "ks_stat_test(reference_feature, current_feature, 'num', threshold=None)"
      ]
    },
    {
      "cell_type": "code",
      "execution_count": 36,
      "metadata": {},
      "outputs": [
        {
          "data": {
            "text/plain": [
              "StatTestResult(drift_score=3.2251039743059975, drifted=True, actual_threshold=0.1)"
            ]
          },
          "execution_count": 36,
          "metadata": {},
          "output_type": "execute_result"
        }
      ],
      "source": [
        "psi_stat_test(reference_feature, current_feature, 'num', threshold=None)"
      ]
    },
    {
      "cell_type": "code",
      "execution_count": 37,
      "metadata": {},
      "outputs": [],
      "source": [
        "feature_name = \"emergency_braking\"\n",
        "reference_feature = reference_dataset_prediction[feature_name]\n",
        "current_feature = current_dataset_prediction[feature_name]"
      ]
    },
    {
      "cell_type": "code",
      "execution_count": 38,
      "metadata": {},
      "outputs": [
        {
          "data": {
            "text/plain": [
              "StatTestResult(drift_score=0.431489050691815, drifted=True, actual_threshold=0.1)"
            ]
          },
          "execution_count": 38,
          "metadata": {},
          "output_type": "execute_result"
        }
      ],
      "source": [
        "jensenshannon_stat_test(reference_feature, current_feature, 'cat', threshold=None)"
      ]
    },
    {
      "cell_type": "code",
      "execution_count": 39,
      "metadata": {},
      "outputs": [
        {
          "data": {
            "text/plain": [
              "StatTestResult(drift_score=1.720420101181165, drifted=True, actual_threshold=0.1)"
            ]
          },
          "execution_count": 39,
          "metadata": {},
          "output_type": "execute_result"
        }
      ],
      "source": [
        "psi_stat_test(reference_feature, current_feature, 'cat', threshold=None)"
      ]
    },
    {
      "cell_type": "code",
      "execution_count": 40,
      "metadata": {},
      "outputs": [
        {
          "data": {
            "text/plain": [
              "StatTestResult(drift_score=1.0460420987709491, drifted=True, actual_threshold=0.1)"
            ]
          },
          "execution_count": 40,
          "metadata": {},
          "output_type": "execute_result"
        }
      ],
      "source": [
        "kl_div_stat_test(reference_feature, current_feature, 'cat', threshold=None)"
      ]
    },
    {
      "cell_type": "code",
      "execution_count": null,
      "metadata": {},
      "outputs": [],
      "source": []
    }
  ],
  "metadata": {
    "colab": {
      "include_colab_link": true,
      "name": "drift.ipynb",
      "provenance": [],
      "toc_visible": true
    },
    "kernelspec": {
      "display_name": "Python 3 (ipykernel)",
      "language": "python",
      "name": "python3"
    },
    "language_info": {
      "codemirror_mode": {
        "name": "ipython",
        "version": 3
      },
      "file_extension": ".py",
      "mimetype": "text/x-python",
      "name": "python",
      "nbconvert_exporter": "python",
      "pygments_lexer": "ipython3",
      "version": "3.9.18"
    }
  },
  "nbformat": 4,
  "nbformat_minor": 0
}
