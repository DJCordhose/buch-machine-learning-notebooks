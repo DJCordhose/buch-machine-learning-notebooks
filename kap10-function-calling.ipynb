{
  "cells": [
    {
      "cell_type": "markdown",
      "metadata": {
        "id": "view-in-github",
        "colab_type": "text"
      },
      "source": [
        "<a href=\"https://colab.research.google.com/github/DJCordhose/buch-machine-learning-notebooks/blob/master/kap10-function-calling.ipynb\" target=\"_parent\"><img src=\"https://colab.research.google.com/assets/colab-badge.svg\" alt=\"Open In Colab\"/></a>"
      ]
    },
    {
      "cell_type": "markdown",
      "id": "912d7d82",
      "metadata": {
        "id": "912d7d82"
      },
      "source": [
        "# Function Calling\n",
        "\n",
        "* zum Ausführen ist ein OpenAI-Account notwendig: https://platform.openai.com/signup\n",
        "* hier https://platform.openai.com/api-keys den eigenen Key erzeugen und eintragen\n",
        "* Kosten\n",
        "  * https://openai.com/pricing\n",
        "  * https://platform.openai.com/usage\n",
        "* Installation und Quickstart: https://platform.openai.com/docs/quickstart?context=python  "
      ]
    },
    {
      "cell_type": "code",
      "execution_count": 1,
      "id": "BhKtZIx7BC8S",
      "metadata": {
        "colab": {
          "base_uri": "https://localhost:8080/"
        },
        "id": "BhKtZIx7BC8S",
        "outputId": "e6a3d785-6d0f-47be-94e0-2ef727c1d603"
      },
      "outputs": [
        {
          "output_type": "execute_result",
          "data": {
            "text/plain": [
              "True"
            ]
          },
          "metadata": {},
          "execution_count": 1
        }
      ],
      "source": [
        "import sys\n",
        "IN_COLAB = 'google.colab' in sys.modules # True if running in Google Colab.\n",
        "IN_COLAB"
      ]
    },
    {
      "cell_type": "code",
      "execution_count": 2,
      "metadata": {
        "id": "NnkgKmBYxFhH",
        "outputId": "6766c432-b20a-429a-8929-dca58c108475",
        "colab": {
          "base_uri": "https://localhost:8080/"
        }
      },
      "outputs": [
        {
          "output_type": "stream",
          "name": "stdout",
          "text": [
            "\u001b[2K     \u001b[90m━━━━━━━━━━━━━━━━━━━━━━━━━━━━━━━━━━━━━━━━\u001b[0m \u001b[32m320.6/320.6 kB\u001b[0m \u001b[31m4.3 MB/s\u001b[0m eta \u001b[36m0:00:00\u001b[0m\n",
            "\u001b[2K     \u001b[90m━━━━━━━━━━━━━━━━━━━━━━━━━━━━━━━━━━━━━━━━\u001b[0m \u001b[32m1.1/1.1 MB\u001b[0m \u001b[31m9.2 MB/s\u001b[0m eta \u001b[36m0:00:00\u001b[0m\n",
            "\u001b[2K     \u001b[90m━━━━━━━━━━━━━━━━━━━━━━━━━━━━━━━━━━━━━━━━\u001b[0m \u001b[32m75.6/75.6 kB\u001b[0m \u001b[31m7.2 MB/s\u001b[0m eta \u001b[36m0:00:00\u001b[0m\n",
            "\u001b[2K     \u001b[90m━━━━━━━━━━━━━━━━━━━━━━━━━━━━━━━━━━━━━━━━\u001b[0m \u001b[32m77.9/77.9 kB\u001b[0m \u001b[31m5.5 MB/s\u001b[0m eta \u001b[36m0:00:00\u001b[0m\n",
            "\u001b[2K     \u001b[90m━━━━━━━━━━━━━━━━━━━━━━━━━━━━━━━━━━━━━━━━\u001b[0m \u001b[32m58.3/58.3 kB\u001b[0m \u001b[31m2.2 MB/s\u001b[0m eta \u001b[36m0:00:00\u001b[0m\n",
            "\u001b[2K     \u001b[90m━━━━━━━━━━━━━━━━━━━━━━━━━━━━━━━━━━━━━━━━\u001b[0m \u001b[32m85.7/85.7 kB\u001b[0m \u001b[31m540.0 kB/s\u001b[0m eta \u001b[36m0:00:00\u001b[0m\n",
            "\u001b[2K     \u001b[90m━━━━━━━━━━━━━━━━━━━━━━━━━━━━━━━━━━━━━━━━\u001b[0m \u001b[32m56.8/56.8 kB\u001b[0m \u001b[31m1.8 MB/s\u001b[0m eta \u001b[36m0:00:00\u001b[0m\n",
            "\u001b[?25h"
          ]
        }
      ],
      "source": [
        "if IN_COLAB:\n",
        "    !pip install -q openai tiktoken\n",
        "    !pip install -q umap-learn"
      ],
      "id": "NnkgKmBYxFhH"
    },
    {
      "cell_type": "markdown",
      "metadata": {
        "id": "iNr6IVnwxFhI"
      },
      "source": [
        "# OpenAI Client"
      ],
      "id": "iNr6IVnwxFhI"
    },
    {
      "cell_type": "code",
      "execution_count": 3,
      "metadata": {
        "id": "LIhBdwOXxFhI"
      },
      "outputs": [],
      "source": [
        "# TODO: hier https://platform.openai.com/api-keys den eigenen Key erzeugen und eintragen\n",
        "OPENAI_API_KEY = ''\n",
        "\n",
        "assert OPENAI_API_KEY != '...', \"Bitte tragen Sie Ihren OpenAI API Key ein!\""
      ],
      "id": "LIhBdwOXxFhI"
    },
    {
      "cell_type": "code",
      "execution_count": 4,
      "metadata": {
        "id": "IS-E6uzlxFhI"
      },
      "outputs": [],
      "source": [
        "from openai import OpenAI\n",
        "\n",
        "client = OpenAI(\n",
        "  api_key=OPENAI_API_KEY\n",
        ")\n",
        "models = client.models.list()"
      ],
      "id": "IS-E6uzlxFhI"
    },
    {
      "cell_type": "markdown",
      "metadata": {
        "id": "GL8qPyuPoNjZ"
      },
      "source": [
        "# Function Calling\n",
        "\n",
        "* https://platform.openai.com/docs/guides/function-calling\n",
        "* https://cookbook.openai.com/examples/how_to_call_functions_with_chat_models"
      ],
      "id": "GL8qPyuPoNjZ"
    },
    {
      "cell_type": "code",
      "source": [
        "anfrage = \"Was ist das durschschnittliche Gehalt aller Mitarbeiter?\""
      ],
      "metadata": {
        "id": "7r-Wk5jeprYH"
      },
      "id": "7r-Wk5jeprYH",
      "execution_count": 5,
      "outputs": []
    },
    {
      "cell_type": "code",
      "execution_count": 16,
      "metadata": {
        "id": "ddKiMR1NoNjZ"
      },
      "outputs": [],
      "source": [
        "# model=\"gpt-4o\"\n",
        "model=\"gpt-3.5-turbo\"\n",
        "\n",
        "tools = [\n",
        "    {\n",
        "        \"type\": \"function\",\n",
        "        \"function\": {\n",
        "            \"name\": \"list_employee_ids\",\n",
        "            \"description\": \"Enumerate the integer id of all employees\",\n",
        "            \"parameters\": {\n",
        "                \"type\": \"object\",\n",
        "                \"properties\": {\n",
        "                }\n",
        "            },\n",
        "        },\n",
        "    },\n",
        "    {\n",
        "        \"type\": \"function\",\n",
        "        \"function\": {\n",
        "            \"name\": \"get_employee_detail\",\n",
        "            # \"description\": \"Gets the employee's details including salary and job title based on their id\",\n",
        "            \"description\": \"Gets the employee's details\",\n",
        "            \"parameters\": {\n",
        "                \"type\": \"object\",\n",
        "                \"properties\": {\n",
        "                    \"id\": {\n",
        "                        \"type\": \"integer\",\n",
        "                        \"description\": \"The id of the employee like returned by list_employee_ids\",\n",
        "                    }\n",
        "                },\n",
        "                \"required\": [\"id\"],\n",
        "            },\n",
        "        },\n",
        "    }\n",
        "\n",
        "]\n",
        "\n",
        "def user_input(messages, content = None):\n",
        "  if content:\n",
        "    message = {\"role\": \"user\", \"content\": content}\n",
        "    messages.append(message)\n",
        "  response = client.chat.completions.create(\n",
        "      model=model,\n",
        "      messages=messages,\n",
        "      tools=tools,\n",
        "  )\n",
        "  response_message = response.choices[0].message\n",
        "  messages.append(response_message)\n",
        "  return response_message"
      ],
      "id": "ddKiMR1NoNjZ"
    },
    {
      "cell_type": "code",
      "execution_count": 17,
      "metadata": {
        "id": "v-IZvqcjoNjZ"
      },
      "outputs": [],
      "source": [
        "employees = [\n",
        "    {\n",
        "        \"name\": \"Oliver Zeigermann\",\n",
        "        \"position\": \"CTO\",\n",
        "        \"salary\": 200_000\n",
        "    },\n",
        "    {\n",
        "        \"name\": \"Chi Nhan Nguyen\",\n",
        "        \"position\": \"CEO\",\n",
        "        \"salary\": 250_000\n",
        "    }\n",
        "]\n",
        "\n",
        "def get_employee_detail(id):\n",
        "  print(id)\n",
        "  if int(id) <= len(employees):\n",
        "    return employees[id -1]\n",
        "  return None\n",
        "\n",
        "def list_employee_ids():\n",
        "  return list(iter(range(1, len(employees) + 1)))"
      ],
      "id": "v-IZvqcjoNjZ"
    },
    {
      "cell_type": "code",
      "execution_count": 18,
      "metadata": {
        "id": "VaAz5ADUoNjZ"
      },
      "outputs": [],
      "source": [
        "import json\n",
        "\n",
        "def execute_tool_call(tool_call):\n",
        "    function_name = tool_call.function.name\n",
        "    function_to_call = globals()[function_name]\n",
        "    function_args = json.loads(tool_call.function.arguments)\n",
        "\n",
        "    function_response = function_to_call(**function_args)\n",
        "    print(f\"Calling {function_name} with {function_args}, getting {function_response}\")\n",
        "    return {\n",
        "            \"tool_call_id\": tool_call.id,\n",
        "            \"role\": \"tool\",\n",
        "            \"name\": function_name,\n",
        "            \"content\": json.dumps(function_response),\n",
        "    }\n",
        "\n",
        "def execute_tool_calls(messages, tool_calls):\n",
        "  for tool_call in tool_calls:\n",
        "    message = execute_tool_call(tool_call)\n",
        "    messages.append(message)"
      ],
      "id": "VaAz5ADUoNjZ"
    },
    {
      "cell_type": "code",
      "source": [
        "messages = []\n",
        "response_message = user_input(messages, anfrage)\n",
        "messages"
      ],
      "metadata": {
        "colab": {
          "base_uri": "https://localhost:8080/"
        },
        "id": "fOOM1viKpmT8",
        "outputId": "d131bc51-81c4-4ac2-8f2e-32eac7e25f5f"
      },
      "id": "fOOM1viKpmT8",
      "execution_count": 19,
      "outputs": [
        {
          "output_type": "execute_result",
          "data": {
            "text/plain": [
              "[{'role': 'user',\n",
              "  'content': 'Was ist das durschschnittliche Gehalt aller Mitarbeiter?'},\n",
              " ChatCompletionMessage(content=None, role='assistant', function_call=None, tool_calls=[ChatCompletionMessageToolCall(id='call_ec47Abb8OnNuCO72SLS6RstZ', function=Function(arguments='{}', name='list_employee_ids'), type='function')])]"
            ]
          },
          "metadata": {},
          "execution_count": 19
        }
      ]
    },
    {
      "cell_type": "code",
      "source": [
        "tool_calls = response_message.tool_calls\n",
        "assert tool_calls"
      ],
      "metadata": {
        "id": "jbA65sR3p6d2"
      },
      "id": "jbA65sR3p6d2",
      "execution_count": 20,
      "outputs": []
    },
    {
      "cell_type": "code",
      "execution_count": 21,
      "metadata": {
        "id": "4qa6oU6LoNja",
        "outputId": "e635e5f1-dd65-4c67-d9a9-df3282153ca3",
        "colab": {
          "base_uri": "https://localhost:8080/"
        }
      },
      "outputs": [
        {
          "output_type": "stream",
          "name": "stdout",
          "text": [
            "Calling list_employee_ids with {}, getting [1, 2]\n"
          ]
        },
        {
          "output_type": "execute_result",
          "data": {
            "text/plain": [
              "[{'role': 'user',\n",
              "  'content': 'Was ist das durschschnittliche Gehalt aller Mitarbeiter?'},\n",
              " ChatCompletionMessage(content=None, role='assistant', function_call=None, tool_calls=[ChatCompletionMessageToolCall(id='call_ec47Abb8OnNuCO72SLS6RstZ', function=Function(arguments='{}', name='list_employee_ids'), type='function')]),\n",
              " {'tool_call_id': 'call_ec47Abb8OnNuCO72SLS6RstZ',\n",
              "  'role': 'tool',\n",
              "  'name': 'list_employee_ids',\n",
              "  'content': '[1, 2]'}]"
            ]
          },
          "metadata": {},
          "execution_count": 21
        }
      ],
      "source": [
        "execute_tool_calls(messages, tool_calls)\n",
        "messages"
      ],
      "id": "4qa6oU6LoNja"
    },
    {
      "cell_type": "code",
      "execution_count": 22,
      "metadata": {
        "id": "MAr8wbB2oNja",
        "outputId": "71d3977b-89a9-456e-ef3d-c4c7561987d7",
        "colab": {
          "base_uri": "https://localhost:8080/"
        }
      },
      "outputs": [
        {
          "output_type": "execute_result",
          "data": {
            "text/plain": [
              "ChatCompletionMessage(content=None, role='assistant', function_call=None, tool_calls=[ChatCompletionMessageToolCall(id='call_ec47Abb8OnNuCO72SLS6RstZ', function=Function(arguments='{\"id\": 1}', name='get_employee_detail'), type='function'), ChatCompletionMessageToolCall(id='call_IE3olMb9FC2Sfe5KZX6VoC5p', function=Function(arguments='{\"id\": 2}', name='get_employee_detail'), type='function')])"
            ]
          },
          "metadata": {},
          "execution_count": 22
        }
      ],
      "source": [
        "response_message = user_input(messages)\n",
        "response_message"
      ],
      "id": "MAr8wbB2oNja"
    },
    {
      "cell_type": "code",
      "execution_count": 23,
      "metadata": {
        "id": "FcwFAtIXoNja",
        "outputId": "dcb9bab1-498d-4f8b-dd81-d98dad757342",
        "colab": {
          "base_uri": "https://localhost:8080/"
        }
      },
      "outputs": [
        {
          "output_type": "execute_result",
          "data": {
            "text/plain": [
              "[ChatCompletionMessageToolCall(id='call_ec47Abb8OnNuCO72SLS6RstZ', function=Function(arguments='{\"id\": 1}', name='get_employee_detail'), type='function'),\n",
              " ChatCompletionMessageToolCall(id='call_IE3olMb9FC2Sfe5KZX6VoC5p', function=Function(arguments='{\"id\": 2}', name='get_employee_detail'), type='function')]"
            ]
          },
          "metadata": {},
          "execution_count": 23
        }
      ],
      "source": [
        "tool_calls = response_message.tool_calls\n",
        "assert tool_calls\n",
        "tool_calls"
      ],
      "id": "FcwFAtIXoNja"
    },
    {
      "cell_type": "code",
      "execution_count": 24,
      "metadata": {
        "id": "81vPwMfdoNja",
        "outputId": "f003373a-b433-4b0d-ad96-ad031b42bbb9",
        "colab": {
          "base_uri": "https://localhost:8080/"
        }
      },
      "outputs": [
        {
          "output_type": "stream",
          "name": "stdout",
          "text": [
            "1\n",
            "Calling get_employee_detail with {'id': 1}, getting {'name': 'Oliver Zeigermann', 'position': 'CTO', 'salary': 200000}\n",
            "2\n",
            "Calling get_employee_detail with {'id': 2}, getting {'name': 'Chi Nhan Nguyen', 'position': 'CEO', 'salary': 250000}\n"
          ]
        },
        {
          "output_type": "execute_result",
          "data": {
            "text/plain": [
              "[{'role': 'user',\n",
              "  'content': 'Was ist das durschschnittliche Gehalt aller Mitarbeiter?'},\n",
              " ChatCompletionMessage(content=None, role='assistant', function_call=None, tool_calls=[ChatCompletionMessageToolCall(id='call_ec47Abb8OnNuCO72SLS6RstZ', function=Function(arguments='{}', name='list_employee_ids'), type='function')]),\n",
              " {'tool_call_id': 'call_ec47Abb8OnNuCO72SLS6RstZ',\n",
              "  'role': 'tool',\n",
              "  'name': 'list_employee_ids',\n",
              "  'content': '[1, 2]'},\n",
              " ChatCompletionMessage(content=None, role='assistant', function_call=None, tool_calls=[ChatCompletionMessageToolCall(id='call_ec47Abb8OnNuCO72SLS6RstZ', function=Function(arguments='{\"id\": 1}', name='get_employee_detail'), type='function'), ChatCompletionMessageToolCall(id='call_IE3olMb9FC2Sfe5KZX6VoC5p', function=Function(arguments='{\"id\": 2}', name='get_employee_detail'), type='function')]),\n",
              " {'tool_call_id': 'call_ec47Abb8OnNuCO72SLS6RstZ',\n",
              "  'role': 'tool',\n",
              "  'name': 'get_employee_detail',\n",
              "  'content': '{\"name\": \"Oliver Zeigermann\", \"position\": \"CTO\", \"salary\": 200000}'},\n",
              " {'tool_call_id': 'call_IE3olMb9FC2Sfe5KZX6VoC5p',\n",
              "  'role': 'tool',\n",
              "  'name': 'get_employee_detail',\n",
              "  'content': '{\"name\": \"Chi Nhan Nguyen\", \"position\": \"CEO\", \"salary\": 250000}'}]"
            ]
          },
          "metadata": {},
          "execution_count": 24
        }
      ],
      "source": [
        "execute_tool_calls(messages, tool_calls)\n",
        "messages"
      ],
      "id": "81vPwMfdoNja"
    },
    {
      "cell_type": "code",
      "execution_count": 25,
      "metadata": {
        "id": "xH4rvuBIoNjb",
        "outputId": "ec9ff4a6-c051-4340-a77f-733f51580855",
        "colab": {
          "base_uri": "https://localhost:8080/",
          "height": 71
        }
      },
      "outputs": [
        {
          "output_type": "execute_result",
          "data": {
            "text/plain": [
              "'Die Gehälter der Mitarbeiter sind wie folgt:\\n\\n1. Oliver Zeigermann (CTO): 200.000 EUR\\n2. Chi Nhan Nguyen (CEO): 250.000 EUR\\n\\nDer Durchschnitt der Gehälter beträgt:\\n\\\\[ \\\\frac{200000 + 250000}{2} = \\\\frac{450000}{2} = 225000 \\\\]\\n\\nDas durchschnittliche Gehalt aller Mitarbeiter beträgt daher 225.000 EUR.'"
            ],
            "application/vnd.google.colaboratory.intrinsic+json": {
              "type": "string"
            }
          },
          "metadata": {},
          "execution_count": 25
        }
      ],
      "source": [
        "response_message = user_input(messages)\n",
        "antwort = response_message.content\n",
        "antwort"
      ],
      "id": "xH4rvuBIoNjb"
    },
    {
      "cell_type": "code",
      "source": [],
      "metadata": {
        "id": "OpfuVgTuqUYm"
      },
      "id": "OpfuVgTuqUYm",
      "execution_count": null,
      "outputs": []
    }
  ],
  "metadata": {
    "colab": {
      "provenance": [],
      "toc_visible": true,
      "include_colab_link": true
    },
    "kernelspec": {
      "display_name": "Python 3",
      "language": "python",
      "name": "python3"
    },
    "language_info": {
      "codemirror_mode": {
        "name": "ipython",
        "version": 3
      },
      "file_extension": ".py",
      "mimetype": "text/x-python",
      "name": "python",
      "nbconvert_exporter": "python",
      "pygments_lexer": "ipython3",
      "version": "3.9.18"
    }
  },
  "nbformat": 4,
  "nbformat_minor": 5
}