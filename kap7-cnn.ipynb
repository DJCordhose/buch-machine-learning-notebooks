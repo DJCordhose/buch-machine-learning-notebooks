{
 "cells": [
  {
   "cell_type": "markdown",
   "metadata": {},
   "source": [
    "# Kapitel 7: Neuronale Netzwerke - Bilderkennung"
   ]
  },
  {
   "cell_type": "code",
   "execution_count": 1,
   "metadata": {},
   "outputs": [],
   "source": [
    "import warnings\n",
    "warnings.filterwarnings('ignore')"
   ]
  },
  {
   "cell_type": "code",
   "execution_count": 2,
   "metadata": {},
   "outputs": [
    {
     "name": "stdout",
     "output_type": "stream",
     "text": [
      "Populating the interactive namespace from numpy and matplotlib\n"
     ]
    }
   ],
   "source": [
    "%matplotlib inline\n",
    "%pylab inline"
   ]
  },
  {
   "cell_type": "code",
   "execution_count": 3,
   "metadata": {},
   "outputs": [],
   "source": [
    "import matplotlib.pylab as plt\n",
    "import numpy as np"
   ]
  },
  {
   "cell_type": "code",
   "execution_count": 4,
   "metadata": {},
   "outputs": [],
   "source": [
    "colors = 'bwr'#['b','y','r']\n",
    "CMAP = colors#plt.cm.rainbow"
   ]
  },
  {
   "cell_type": "code",
   "execution_count": 5,
   "metadata": {},
   "outputs": [],
   "source": [
    "from distutils.version import StrictVersion"
   ]
  },
  {
   "cell_type": "code",
   "execution_count": 6,
   "metadata": {},
   "outputs": [
    {
     "name": "stdout",
     "output_type": "stream",
     "text": [
      "0.18.1\n"
     ]
    }
   ],
   "source": [
    "import sklearn\n",
    "print(sklearn.__version__)\n",
    "\n",
    "assert StrictVersion(sklearn.__version__ ) >= StrictVersion('0.18.1')"
   ]
  },
  {
   "cell_type": "code",
   "execution_count": 7,
   "metadata": {},
   "outputs": [
    {
     "name": "stdout",
     "output_type": "stream",
     "text": [
      "1.1.0\n"
     ]
    }
   ],
   "source": [
    "import tensorflow as tf\n",
    "tf.logging.set_verbosity(tf.logging.ERROR)\n",
    "print(tf.__version__)\n",
    "\n",
    "assert StrictVersion(tf.__version__) >= StrictVersion('1.1.0')"
   ]
  },
  {
   "cell_type": "code",
   "execution_count": 8,
   "metadata": {},
   "outputs": [
    {
     "name": "stderr",
     "output_type": "stream",
     "text": [
      "Using TensorFlow backend.\n"
     ]
    },
    {
     "name": "stdout",
     "output_type": "stream",
     "text": [
      "2.0.8\n"
     ]
    }
   ],
   "source": [
    "import keras\n",
    "print(keras.__version__)\n",
    "\n",
    "assert StrictVersion(keras.__version__) >= StrictVersion('2.0.0')"
   ]
  },
  {
   "cell_type": "code",
   "execution_count": 9,
   "metadata": {},
   "outputs": [
    {
     "name": "stdout",
     "output_type": "stream",
     "text": [
      "0.19.2\n"
     ]
    }
   ],
   "source": [
    "import pandas as pd\n",
    "print(pd.__version__)\n",
    "\n",
    "assert StrictVersion(pd.__version__) >= StrictVersion('0.19.0')"
   ]
  },
  {
   "cell_type": "markdown",
   "metadata": {},
   "source": [
    "## Laden und Vorbereiten der Bild-Daten"
   ]
  },
  {
   "cell_type": "code",
   "execution_count": 10,
   "metadata": {},
   "outputs": [],
   "source": [
    "# !curl -O https://raw.githubusercontent.com/DJCordhose/speed-limit-signs/master/data/speed-limit-signs.zip\n",
    "# from zipfile import ZipFile\n",
    "# zip = ZipFile(r'speed-limit-signs.zip')\n",
    "# zip.extractall('.')"
   ]
  },
  {
   "cell_type": "code",
   "execution_count": 11,
   "metadata": {},
   "outputs": [
    {
     "name": "stdout",
     "output_type": "stream",
     "text": [
      "total 0\r\n",
      "drwxr-xr-x 2 nbuser nbuser   0 Feb 25 10:58 0\r\n",
      "drwxr-xr-x 2 nbuser nbuser   0 Feb 25 10:58 1\r\n",
      "drwxr-xr-x 2 nbuser nbuser   0 Feb 25 10:59 2\r\n",
      "drwxr-xr-x 2 nbuser nbuser   0 Feb 25 10:59 3\r\n",
      "drwxr-xr-x 2 nbuser nbuser   0 Feb 25 10:59 4\r\n",
      "drwxr-xr-x 2 nbuser nbuser   0 Feb 25 11:00 5\r\n",
      "-rw-r--r-- 1 nbuser nbuser 380 Feb 25 11:00 README.md\r\n"
     ]
    }
   ],
   "source": [
    "!ls -l speed-limit-signs"
   ]
  },
  {
   "cell_type": "code",
   "execution_count": 12,
   "metadata": {},
   "outputs": [
    {
     "name": "stdout",
     "output_type": "stream",
     "text": [
      "Data extracted from http://benchmark.ini.rub.de/?section=gtsdb&subsection=dataset\r\n",
      "\r\n",
      "From http://benchmark.ini.rub.de/Dataset_GTSDB/FullIJCNN2013.zip just the samples for the speed limit signs \r\n",
      "\r\n",
      "## Format\r\n",
      "\r\n",
      "https://en.wikipedia.org/wiki/Netpbm_format\r\n",
      "\r\n",
      "Can be previewed on a Mac and be processed by http://scikit-image.org/\r\n",
      "\r\n",
      "## Labels\r\n",
      "- 0: 30\r\n",
      "- 1: 50\r\n",
      "- 2: 70\r\n",
      "- 3: 80\r\n",
      "- 4: 100\r\n",
      "- 5: 120"
     ]
    }
   ],
   "source": [
    "!cat speed-limit-signs/README.md"
   ]
  },
  {
   "cell_type": "markdown",
   "metadata": {},
   "source": [
    "# Big Kudos to [Waleed Abdulla](https://medium.com/@waleedka) for providing the initial idea and many of the functions used to prepare and display the images: https://medium.com/@waleedka/traffic-sign-recognition-with-tensorflow-629dffc391a6#.i728o84ib  "
   ]
  },
  {
   "cell_type": "code",
   "execution_count": 13,
   "metadata": {},
   "outputs": [],
   "source": [
    "import os\n",
    "import skimage.data\n",
    "import skimage.transform\n",
    "from keras.utils.np_utils import to_categorical\n",
    "import numpy as np\n",
    "\n",
    "def load_data(data_dir, type=\".ppm\"):\n",
    "    num_categories = 6\n",
    "\n",
    "    # Get all subdirectories of data_dir. Each represents a label.\n",
    "    directories = [d for d in os.listdir(data_dir) \n",
    "                   if os.path.isdir(os.path.join(data_dir, d))]\n",
    "    # Loop through the label directories and collect the data in\n",
    "    # two lists, labels and images.\n",
    "    labels = []\n",
    "    images = []\n",
    "    for d in directories:\n",
    "        label_dir = os.path.join(data_dir, d)\n",
    "        file_names = [os.path.join(label_dir, f) for f in os.listdir(label_dir) if f.endswith(type)]\n",
    "        # For each label, load it's images and add them to the images list.\n",
    "        # And add the label number (i.e. directory name) to the labels list.\n",
    "        for f in file_names:\n",
    "            images.append(skimage.data.imread(f))\n",
    "            labels.append(int(d))\n",
    "    images64 = [skimage.transform.resize(image, (64, 64)) for image in images]\n",
    "    return images64, labels"
   ]
  },
  {
   "cell_type": "code",
   "execution_count": 14,
   "metadata": {},
   "outputs": [],
   "source": [
    "# Load datasets.\n",
    "ROOT_PATH = \"./\"\n",
    "original_dir = os.path.join(ROOT_PATH, \"speed-limit-signs\")\n",
    "images, labels = load_data(original_dir, type=\".ppm\")"
   ]
  },
  {
   "cell_type": "code",
   "execution_count": 15,
   "metadata": {},
   "outputs": [],
   "source": [
    "import matplotlib\n",
    "import matplotlib.pyplot as plt\n",
    "\n",
    "def display_images_and_labels(images, labels):\n",
    "    \"\"\"Display the first image of each label.\"\"\"\n",
    "    unique_labels = set(labels)\n",
    "    plt.figure(figsize=(15, 15))\n",
    "    i = 1\n",
    "    for label in unique_labels:\n",
    "        # Pick the first image for each label.\n",
    "        image = images[labels.index(label)]\n",
    "        plt.subplot(8, 8, i)  # A grid of 8 rows x 8 columns\n",
    "        plt.axis('off')\n",
    "        plt.title(\"Label {0} ({1})\".format(label, labels.count(label)))\n",
    "        i += 1\n",
    "        _ = plt.imshow(image)"
   ]
  },
  {
   "cell_type": "code",
   "execution_count": 16,
   "metadata": {},
   "outputs": [
    {
     "data": {
      "image/png": "[encoded data removed]",
      "text/plain": [
       "<matplotlib.figure.Figure at 0x7fa6e1facdd8>"
      ]
     },
     "metadata": {},
     "output_type": "display_data"
    }
   ],
   "source": [
    "display_images_and_labels(images, labels)\n",
    "# plt.savefig('ML_0708_signs.png', bbox_inches='tight')"
   ]
  },
  {
   "cell_type": "markdown",
   "metadata": {},
   "source": [
    "## Modell-Architektur"
   ]
  },
  {
   "cell_type": "code",
   "execution_count": 17,
   "metadata": {},
   "outputs": [],
   "source": [
    "y = np.array(labels)\n",
    "X = np.array(images)\n",
    "from keras.utils.np_utils import to_categorical\n",
    "\n",
    "num_categories = 6\n",
    "\n",
    "y = to_categorical(y, num_categories)"
   ]
  },
  {
   "cell_type": "code",
   "execution_count": 18,
   "metadata": {},
   "outputs": [],
   "source": [
    "from keras.models import Model\n",
    "from keras.layers import Dense, Dropout, Flatten, Input\n",
    "from keras.layers import Convolution2D, MaxPooling2D\n",
    "\n",
    "# input tensor for a 3-channel 64x64 image\n",
    "inputs = Input(shape=(64, 64, 3))\n",
    "\n",
    "# one block of convolutional layers\n",
    "x = Convolution2D(64, 3, activation='relu', padding='same')(inputs)\n",
    "x = Convolution2D(64, 3, activation='relu', padding='same')(x)\n",
    "x = Convolution2D(64, 3, activation='relu', padding='same')(x)\n",
    "x = MaxPooling2D(pool_size=(2, 2))(x)\n",
    "\n",
    "# one more block\n",
    "x = Convolution2D(128, 3, activation='relu', padding='same')(x)\n",
    "x = Convolution2D(128, 3, activation='relu', padding='same')(x)\n",
    "x = MaxPooling2D(pool_size=(2, 2))(x)\n",
    "\n",
    "# one more block\n",
    "x = Convolution2D(256, 3, activation='relu', padding='same')(x)\n",
    "x = MaxPooling2D(pool_size=(2, 2))(x)\n",
    "\n",
    "x = Flatten()(x)\n",
    "x = Dense(256, activation='relu')(x)\n",
    "\n",
    "# softmax activation, 6 categories\n",
    "predictions = Dense(6, activation='softmax')(x)"
   ]
  },
  {
   "cell_type": "code",
   "execution_count": 19,
   "metadata": {},
   "outputs": [
    {
     "name": "stdout",
     "output_type": "stream",
     "text": [
      "_________________________________________________________________\n",
      "Layer (type)                 Output Shape              Param #   \n",
      "=================================================================\n",
      "input_1 (InputLayer)         (None, 64, 64, 3)         0         \n",
      "_________________________________________________________________\n",
      "conv2d_1 (Conv2D)            (None, 64, 64, 64)        1792      \n",
      "_________________________________________________________________\n",
      "conv2d_2 (Conv2D)            (None, 64, 64, 64)        36928     \n",
      "_________________________________________________________________\n",
      "conv2d_3 (Conv2D)            (None, 64, 64, 64)        36928     \n",
      "_________________________________________________________________\n",
      "max_pooling2d_1 (MaxPooling2 (None, 32, 32, 64)        0         \n",
      "_________________________________________________________________\n",
      "conv2d_4 (Conv2D)            (None, 32, 32, 128)       73856     \n",
      "_________________________________________________________________\n",
      "conv2d_5 (Conv2D)            (None, 32, 32, 128)       147584    \n",
      "_________________________________________________________________\n",
      "max_pooling2d_2 (MaxPooling2 (None, 16, 16, 128)       0         \n",
      "_________________________________________________________________\n",
      "conv2d_6 (Conv2D)            (None, 16, 16, 256)       295168    \n",
      "_________________________________________________________________\n",
      "max_pooling2d_3 (MaxPooling2 (None, 8, 8, 256)         0         \n",
      "_________________________________________________________________\n",
      "flatten_1 (Flatten)          (None, 16384)             0         \n",
      "_________________________________________________________________\n",
      "dense_1 (Dense)              (None, 256)               4194560   \n",
      "_________________________________________________________________\n",
      "dense_2 (Dense)              (None, 6)                 1542      \n",
      "=================================================================\n",
      "Total params: 4,788,358\n",
      "Trainable params: 4,788,358\n",
      "Non-trainable params: 0\n",
      "_________________________________________________________________\n"
     ]
    }
   ],
   "source": [
    "model = Model(input=inputs, output=predictions)\n",
    "model.summary()"
   ]
  },
  {
   "cell_type": "code",
   "execution_count": 20,
   "metadata": {},
   "outputs": [],
   "source": [
    "model.compile(optimizer='adam',\n",
    "              loss='categorical_crossentropy',\n",
    "              metrics=['accuracy'])"
   ]
  },
  {
   "cell_type": "markdown",
   "metadata": {},
   "source": [
    "## Zuerst testen wir unser Modell, ob wir es überhaupt trainiert bekommen, indem wir auf einer kleinen Menge von Daten overfitten"
   ]
  },
  {
   "cell_type": "code",
   "execution_count": 21,
   "metadata": {},
   "outputs": [],
   "source": [
    "from sklearn.model_selection import train_test_split\n",
    "X_train, X_test, y_train, y_test = train_test_split(X, y, test_size=0.9, random_state=42, stratify=y)"
   ]
  },
  {
   "cell_type": "code",
   "execution_count": 22,
   "metadata": {},
   "outputs": [
    {
     "data": {
      "text/plain": [
       "((37, 64, 64, 3), (37, 6))"
      ]
     },
     "execution_count": 22,
     "metadata": {},
     "output_type": "execute_result"
    }
   ],
   "source": [
    "X_train.shape, y_train.shape"
   ]
  },
  {
   "cell_type": "code",
   "execution_count": 25,
   "metadata": {},
   "outputs": [
    {
     "name": "stdout",
     "output_type": "stream",
     "text": [
      "Train on 25 samples, validate on 12 samples\n",
      "Epoch 1/100\n",
      "25/25 [==============================] - 10s - loss: 1.7914 - acc: 0.1600 - val_loss: 1.6810 - val_acc: 0.3333\n",
      "Epoch 2/100\n",
      "25/25 [==============================] - 6s - loss: 1.7292 - acc: 0.2000 - val_loss: 2.0791 - val_acc: 0.3333\n",
      "Epoch 3/100\n",
      "25/25 [==============================] - 6s - loss: 2.1041 - acc: 0.2400 - val_loss: 2.3033 - val_acc: 0.1667\n",
      "Epoch 4/100\n",
      "25/25 [==============================] - 6s - loss: 1.8668 - acc: 0.2400 - val_loss: 1.9815 - val_acc: 0.1667\n",
      "Epoch 5/100\n",
      "25/25 [==============================] - 6s - loss: 1.7936 - acc: 0.2800 - val_loss: 1.8417 - val_acc: 0.0833\n",
      "Epoch 6/100\n",
      "25/25 [==============================] - 6s - loss: 1.7724 - acc: 0.2400 - val_loss: 1.8171 - val_acc: 0.0833\n",
      "Epoch 7/100\n",
      "25/25 [==============================] - 7s - loss: 1.7648 - acc: 0.2000 - val_loss: 1.8140 - val_acc: 0.0833\n",
      "Epoch 8/100\n",
      "25/25 [==============================] - 8s - loss: 1.7442 - acc: 0.2000 - val_loss: 1.7969 - val_acc: 0.0833\n",
      "Epoch 9/100\n",
      "25/25 [==============================] - 9s - loss: 1.7046 - acc: 0.2400 - val_loss: 1.7153 - val_acc: 0.0833\n",
      "Epoch 10/100\n",
      "25/25 [==============================] - 8s - loss: 1.6358 - acc: 0.2400 - val_loss: 1.6332 - val_acc: 0.2500\n",
      "Epoch 11/100\n",
      "25/25 [==============================] - 7s - loss: 1.5379 - acc: 0.4000 - val_loss: 1.5574 - val_acc: 0.2500\n",
      "Epoch 12/100\n",
      "25/25 [==============================] - 7s - loss: 1.4179 - acc: 0.5200 - val_loss: 2.3602 - val_acc: 0.1667\n",
      "Epoch 13/100\n",
      "25/25 [==============================] - 7s - loss: 1.5248 - acc: 0.4000 - val_loss: 1.6023 - val_acc: 0.3333\n",
      "Epoch 14/100\n",
      "25/25 [==============================] - 7s - loss: 1.5630 - acc: 0.2400 - val_loss: 1.5853 - val_acc: 0.3333\n",
      "Epoch 15/100\n",
      "25/25 [==============================] - 7s - loss: 1.6190 - acc: 0.2400 - val_loss: 1.5849 - val_acc: 0.3333\n",
      "Epoch 16/100\n",
      "25/25 [==============================] - 7s - loss: 1.5541 - acc: 0.4000 - val_loss: 1.5960 - val_acc: 0.3333\n",
      "Epoch 17/100\n",
      "25/25 [==============================] - 7s - loss: 1.4071 - acc: 0.5200 - val_loss: 1.5625 - val_acc: 0.4167\n",
      "Epoch 18/100\n",
      "25/25 [==============================] - 7s - loss: 1.3576 - acc: 0.5600 - val_loss: 1.5174 - val_acc: 0.3333\n",
      "Epoch 19/100\n",
      "25/25 [==============================] - 7s - loss: 1.1787 - acc: 0.6800 - val_loss: 1.4508 - val_acc: 0.4167\n",
      "Epoch 20/100\n",
      "25/25 [==============================] - 6s - loss: 1.0010 - acc: 0.7600 - val_loss: 1.4456 - val_acc: 0.3333\n",
      "Epoch 21/100\n",
      "25/25 [==============================] - 7s - loss: 0.8853 - acc: 0.7600 - val_loss: 2.0647 - val_acc: 0.3333\n",
      "Epoch 22/100\n",
      "25/25 [==============================] - 7s - loss: 0.8585 - acc: 0.6800 - val_loss: 1.9391 - val_acc: 0.3333\n",
      "Epoch 23/100\n",
      "25/25 [==============================] - 6s - loss: 0.6881 - acc: 0.7600 - val_loss: 1.4998 - val_acc: 0.5000\n",
      "Epoch 24/100\n",
      "25/25 [==============================] - 7s - loss: 0.5755 - acc: 0.8400 - val_loss: 1.3493 - val_acc: 0.5000\n",
      "Epoch 25/100\n",
      "25/25 [==============================] - 7s - loss: 0.5475 - acc: 0.8400 - val_loss: 1.2765 - val_acc: 0.5000\n",
      "Epoch 26/100\n",
      "25/25 [==============================] - 7s - loss: 0.4026 - acc: 0.8400 - val_loss: 1.6282 - val_acc: 0.4167\n",
      "Epoch 27/100\n",
      "25/25 [==============================] - 7s - loss: 0.3514 - acc: 0.9200 - val_loss: 2.6533 - val_acc: 0.3333\n",
      "Epoch 28/100\n",
      "25/25 [==============================] - 8s - loss: 0.3229 - acc: 0.9200 - val_loss: 3.4129 - val_acc: 0.4167\n",
      "Epoch 29/100\n",
      "25/25 [==============================] - 6s - loss: 0.2589 - acc: 0.8800 - val_loss: 3.2974 - val_acc: 0.5000\n",
      "Epoch 30/100\n",
      "25/25 [==============================] - 7s - loss: 0.2088 - acc: 0.9200 - val_loss: 2.3351 - val_acc: 0.5000\n",
      "Epoch 31/100\n",
      "25/25 [==============================] - 6s - loss: 0.2256 - acc: 0.9200 - val_loss: 3.5961 - val_acc: 0.4167\n",
      "Epoch 32/100\n",
      "25/25 [==============================] - 7s - loss: 0.1398 - acc: 0.9200 - val_loss: 4.1915 - val_acc: 0.5000\n",
      "Epoch 33/100\n",
      "25/25 [==============================] - 7s - loss: 0.1643 - acc: 0.9200 - val_loss: 5.8450 - val_acc: 0.3333\n",
      "Epoch 34/100\n",
      "25/25 [==============================] - 8s - loss: 0.2860 - acc: 0.9200 - val_loss: 2.9114 - val_acc: 0.3333\n",
      "Epoch 35/100\n",
      "25/25 [==============================] - 7s - loss: 0.5007 - acc: 0.7200 - val_loss: 2.4944 - val_acc: 0.4167\n",
      "Epoch 36/100\n",
      "25/25 [==============================] - 9s - loss: 0.6449 - acc: 0.7600 - val_loss: 2.3822 - val_acc: 0.4167\n",
      "Epoch 37/100\n",
      "25/25 [==============================] - 6s - loss: 0.2204 - acc: 0.9200 - val_loss: 2.6221 - val_acc: 0.5000\n",
      "Epoch 38/100\n",
      "25/25 [==============================] - 6s - loss: 0.0945 - acc: 0.9600 - val_loss: 3.5241 - val_acc: 0.2500\n",
      "Epoch 39/100\n",
      "25/25 [==============================] - 6s - loss: 0.7228 - acc: 0.8400 - val_loss: 5.9248 - val_acc: 0.3333\n",
      "Epoch 40/100\n",
      "25/25 [==============================] - 6s - loss: 0.1131 - acc: 0.9600 - val_loss: 6.6539 - val_acc: 0.5000\n",
      "Epoch 41/100\n",
      "25/25 [==============================] - 6s - loss: 0.3786 - acc: 0.8000 - val_loss: 4.0015 - val_acc: 0.3333\n",
      "Epoch 42/100\n",
      "25/25 [==============================] - 5s - loss: 0.0935 - acc: 0.9600 - val_loss: 2.0840 - val_acc: 0.3333\n",
      "Epoch 43/100\n",
      "25/25 [==============================] - 6s - loss: 0.1717 - acc: 0.9600 - val_loss: 1.6826 - val_acc: 0.3333\n",
      "Epoch 44/100\n",
      "25/25 [==============================] - 6s - loss: 0.3265 - acc: 0.9200 - val_loss: 1.6410 - val_acc: 0.4167\n",
      "Epoch 45/100\n",
      "25/25 [==============================] - 6s - loss: 0.3359 - acc: 0.9200 - val_loss: 1.8561 - val_acc: 0.4167\n",
      "Epoch 46/100\n",
      "25/25 [==============================] - 6s - loss: 0.2549 - acc: 0.9200 - val_loss: 2.5490 - val_acc: 0.3333\n",
      "Epoch 47/100\n",
      "25/25 [==============================] - 6s - loss: 0.1799 - acc: 0.9200 - val_loss: 3.3485 - val_acc: 0.3333\n",
      "Epoch 48/100\n",
      "25/25 [==============================] - 6s - loss: 0.1976 - acc: 0.9200 - val_loss: 4.2357 - val_acc: 0.4167\n",
      "Epoch 49/100\n",
      "25/25 [==============================] - 6s - loss: 0.2069 - acc: 0.9200 - val_loss: 5.3527 - val_acc: 0.4167\n",
      "Epoch 50/100\n",
      "25/25 [==============================] - 6s - loss: 0.1671 - acc: 0.9200 - val_loss: 6.0744 - val_acc: 0.4167\n",
      "Epoch 51/100\n",
      "25/25 [==============================] - 6s - loss: 0.1133 - acc: 0.9600 - val_loss: 5.9692 - val_acc: 0.4167\n",
      "Epoch 52/100\n",
      "25/25 [==============================] - 6s - loss: 0.1001 - acc: 0.9600 - val_loss: 5.7473 - val_acc: 0.4167\n",
      "Epoch 53/100\n",
      "25/25 [==============================] - 5s - loss: 0.0888 - acc: 0.9600 - val_loss: 5.5482 - val_acc: 0.4167\n",
      "Epoch 54/100\n",
      "25/25 [==============================] - 5s - loss: 0.0729 - acc: 0.9600 - val_loss: 5.4684 - val_acc: 0.5000\n",
      "Epoch 55/100\n",
      "25/25 [==============================] - 6s - loss: 0.0542 - acc: 1.0000 - val_loss: 5.5183 - val_acc: 0.5000\n",
      "Epoch 56/100\n",
      "25/25 [==============================] - 6s - loss: 0.0348 - acc: 1.0000 - val_loss: 5.6991 - val_acc: 0.4167\n",
      "Epoch 57/100\n",
      "25/25 [==============================] - 6s - loss: 0.0142 - acc: 1.0000 - val_loss: 5.9082 - val_acc: 0.3333\n",
      "Epoch 58/100\n",
      "25/25 [==============================] - 6s - loss: 0.0049 - acc: 1.0000 - val_loss: 6.2260 - val_acc: 0.3333\n",
      "Epoch 59/100\n",
      "25/25 [==============================] - 7s - loss: 0.0032 - acc: 1.0000 - val_loss: 6.8792 - val_acc: 0.3333\n",
      "Epoch 60/100\n",
      "25/25 [==============================] - 7s - loss: 0.0034 - acc: 1.0000 - val_loss: 8.6916 - val_acc: 0.2500\n",
      "Epoch 61/100\n",
      "25/25 [==============================] - 6s - loss: 0.0037 - acc: 1.0000 - val_loss: 9.9856 - val_acc: 0.2500\n",
      "Epoch 62/100\n",
      "25/25 [==============================] - 7s - loss: 0.0388 - acc: 0.9600 - val_loss: 8.2275 - val_acc: 0.2500\n",
      "Epoch 63/100\n",
      "25/25 [==============================] - 6s - loss: 0.0235 - acc: 1.0000 - val_loss: 8.2493 - val_acc: 0.3333\n",
      "Epoch 64/100\n",
      "25/25 [==============================] - 6s - loss: 0.0667 - acc: 0.9600 - val_loss: 8.1740 - val_acc: 0.2500\n",
      "Epoch 65/100\n",
      "25/25 [==============================] - 6s - loss: 0.0893 - acc: 0.9600 - val_loss: 6.9637 - val_acc: 0.0833\n",
      "Epoch 66/100\n",
      "25/25 [==============================] - 7s - loss: 0.0688 - acc: 1.0000 - val_loss: 4.6422 - val_acc: 0.0833\n",
      "Epoch 67/100\n"
     ]
    },
    {
     "name": "stdout",
     "output_type": "stream",
     "text": [
      "25/25 [==============================] - 8s - loss: 0.0565 - acc: 1.0000 - val_loss: 3.1824 - val_acc: 0.2500\n",
      "Epoch 68/100\n",
      "25/25 [==============================] - 7s - loss: 0.0544 - acc: 1.0000 - val_loss: 2.7026 - val_acc: 0.2500\n",
      "Epoch 69/100\n",
      "25/25 [==============================] - 7s - loss: 0.0454 - acc: 1.0000 - val_loss: 2.9703 - val_acc: 0.2500\n",
      "Epoch 70/100\n",
      "25/25 [==============================] - 6s - loss: 0.0340 - acc: 1.0000 - val_loss: 3.6364 - val_acc: 0.2500\n",
      "Epoch 71/100\n",
      "25/25 [==============================] - 7s - loss: 0.0253 - acc: 1.0000 - val_loss: 4.3475 - val_acc: 0.2500\n",
      "Epoch 72/100\n",
      "25/25 [==============================] - 8s - loss: 0.0203 - acc: 1.0000 - val_loss: 4.6875 - val_acc: 0.2500\n",
      "Epoch 73/100\n",
      "25/25 [==============================] - 8s - loss: 0.0169 - acc: 1.0000 - val_loss: 5.0146 - val_acc: 0.3333\n",
      "Epoch 74/100\n",
      "25/25 [==============================] - 7s - loss: 0.0151 - acc: 1.0000 - val_loss: 5.1751 - val_acc: 0.3333\n",
      "Epoch 75/100\n",
      "25/25 [==============================] - 9s - loss: 0.0193 - acc: 1.0000 - val_loss: 4.4736 - val_acc: 0.3333\n",
      "Epoch 76/100\n",
      "25/25 [==============================] - 13s - loss: 0.0086 - acc: 1.0000 - val_loss: 4.3026 - val_acc: 0.5000\n",
      "Epoch 77/100\n",
      "25/25 [==============================] - 11s - loss: 0.0056 - acc: 1.0000 - val_loss: 4.4390 - val_acc: 0.4167\n",
      "Epoch 78/100\n",
      "25/25 [==============================] - 9s - loss: 0.0050 - acc: 1.0000 - val_loss: 4.6935 - val_acc: 0.4167\n",
      "Epoch 79/100\n",
      "25/25 [==============================] - 7s - loss: 0.0050 - acc: 1.0000 - val_loss: 5.0646 - val_acc: 0.4167\n",
      "Epoch 80/100\n",
      "25/25 [==============================] - 7s - loss: 0.0027 - acc: 1.0000 - val_loss: 5.1060 - val_acc: 0.4167\n",
      "Epoch 81/100\n",
      "25/25 [==============================] - 7s - loss: 0.0148 - acc: 1.0000 - val_loss: 5.0074 - val_acc: 0.3333\n",
      "Epoch 82/100\n",
      "25/25 [==============================] - 7s - loss: 0.0013 - acc: 1.0000 - val_loss: 7.8148 - val_acc: 0.3333\n",
      "Epoch 83/100\n",
      "25/25 [==============================] - 7s - loss: 0.0115 - acc: 1.0000 - val_loss: 7.9202 - val_acc: 0.3333\n",
      "Epoch 84/100\n",
      "25/25 [==============================] - 7s - loss: 0.0066 - acc: 1.0000 - val_loss: 8.9339 - val_acc: 0.3333\n",
      "Epoch 85/100\n",
      "25/25 [==============================] - 7s - loss: 0.0012 - acc: 1.0000 - val_loss: 9.2944 - val_acc: 0.3333\n",
      "Epoch 86/100\n",
      "25/25 [==============================] - 7s - loss: 0.0022 - acc: 1.0000 - val_loss: 9.6281 - val_acc: 0.3333\n",
      "Epoch 87/100\n",
      "25/25 [==============================] - 7s - loss: 0.0802 - acc: 0.9600 - val_loss: 6.0661 - val_acc: 0.3333\n",
      "Epoch 88/100\n",
      "25/25 [==============================] - 7s - loss: 7.1551e-04 - acc: 1.0000 - val_loss: 7.1984 - val_acc: 0.3333\n",
      "Epoch 89/100\n",
      "25/25 [==============================] - 7s - loss: 1.3718 - acc: 0.7600 - val_loss: 5.5456 - val_acc: 0.3333\n",
      "Epoch 90/100\n",
      "25/25 [==============================] - 6s - loss: 0.0220 - acc: 1.0000 - val_loss: 6.7237 - val_acc: 0.4167\n",
      "Epoch 91/100\n",
      "25/25 [==============================] - 7s - loss: 0.0387 - acc: 1.0000 - val_loss: 8.1511 - val_acc: 0.3333\n",
      "Epoch 92/100\n",
      "25/25 [==============================] - 7s - loss: 2.0260 - acc: 0.8400 - val_loss: 5.8942 - val_acc: 0.5000\n",
      "Epoch 93/100\n",
      "25/25 [==============================] - 7s - loss: 0.1090 - acc: 0.9200 - val_loss: 5.0949 - val_acc: 0.5000\n",
      "Epoch 94/100\n",
      "25/25 [==============================] - 6s - loss: 0.0576 - acc: 1.0000 - val_loss: 6.8457 - val_acc: 0.2500\n",
      "Epoch 95/100\n",
      "25/25 [==============================] - 7s - loss: 0.0892 - acc: 1.0000 - val_loss: 6.1024 - val_acc: 0.2500\n",
      "Epoch 96/100\n",
      "25/25 [==============================] - 7s - loss: 0.1107 - acc: 0.9600 - val_loss: 5.2644 - val_acc: 0.2500\n",
      "Epoch 97/100\n",
      "25/25 [==============================] - 7s - loss: 0.3393 - acc: 0.8800 - val_loss: 4.4913 - val_acc: 0.3333\n",
      "Epoch 98/100\n",
      "25/25 [==============================] - 6s - loss: 0.1716 - acc: 0.9600 - val_loss: 4.2008 - val_acc: 0.3333\n",
      "Epoch 99/100\n",
      "25/25 [==============================] - 6s - loss: 0.0904 - acc: 1.0000 - val_loss: 4.1499 - val_acc: 0.3333\n",
      "Epoch 100/100\n",
      "25/25 [==============================] - 6s - loss: 0.0503 - acc: 1.0000 - val_loss: 4.2043 - val_acc: 0.3333\n",
      "CPU times: user 23min 4s, sys: 47.2 s, total: 23min 52s\n",
      "Wall time: 12min 11s\n"
     ]
    },
    {
     "data": {
      "text/plain": [
       "<keras.callbacks.History at 0x7f128ac85f60>"
      ]
     },
     "execution_count": 25,
     "metadata": {},
     "output_type": "execute_result"
    }
   ],
   "source": [
    "%time model.fit(X_train, y_train, epochs=100, validation_split=0.3)"
   ]
  },
  {
   "cell_type": "markdown",
   "metadata": {},
   "source": [
    "## Das sieht gut aus, nun versuchen wir es mit dem kompletten Datensatz ohne Overfitting und mit Dropout"
   ]
  },
  {
   "cell_type": "code",
   "execution_count": 23,
   "metadata": {},
   "outputs": [],
   "source": [
    "from keras.models import Model\n",
    "from keras.layers import Dense, Dropout, Activation, Flatten, Input\n",
    "from keras.layers import Convolution2D, MaxPooling2D\n",
    "\n",
    "drop_out = 0.6\n",
    "\n",
    "# input tensor for a 3-channel 64x64 image\n",
    "inputs = Input(shape=(64, 64, 3))\n",
    "\n",
    "# one block of convolutional layers\n",
    "x = Convolution2D(64, 3, activation='relu', padding='same')(inputs)\n",
    "x = Convolution2D(64, 3, activation='relu', padding='same')(x)\n",
    "x = Convolution2D(64, 3, activation='relu', padding='same')(x)\n",
    "x = MaxPooling2D(pool_size=(2, 2))(x)\n",
    "x = Dropout(drop_out)(x)\n",
    "\n",
    "# one more block\n",
    "x = Convolution2D(128, 3, activation='relu', padding='same')(x)\n",
    "x = Convolution2D(128, 3, activation='relu', padding='same')(x)\n",
    "x = MaxPooling2D(pool_size=(2, 2))(x)\n",
    "x = Dropout(drop_out)(x)\n",
    "\n",
    "# one more block\n",
    "x = Convolution2D(256, 3, activation='relu', padding='same')(x)\n",
    "x = MaxPooling2D(pool_size=(2, 2))(x)\n",
    "x = Dropout(drop_out)(x)\n",
    "\n",
    "x = Flatten()(x)\n",
    "x = Dense(256, activation='relu')(x)\n",
    "x = Dropout(drop_out)(x)\n",
    "\n",
    "# softmax activation, 6 categories\n",
    "predictions = Dense(6, activation='softmax')(x)"
   ]
  },
  {
   "cell_type": "code",
   "execution_count": 24,
   "metadata": {},
   "outputs": [
    {
     "name": "stdout",
     "output_type": "stream",
     "text": [
      "_________________________________________________________________\n",
      "Layer (type)                 Output Shape              Param #   \n",
      "=================================================================\n",
      "input_2 (InputLayer)         (None, 64, 64, 3)         0         \n",
      "_________________________________________________________________\n",
      "conv2d_7 (Conv2D)            (None, 64, 64, 64)        1792      \n",
      "_________________________________________________________________\n",
      "conv2d_8 (Conv2D)            (None, 64, 64, 64)        36928     \n",
      "_________________________________________________________________\n",
      "conv2d_9 (Conv2D)            (None, 64, 64, 64)        36928     \n",
      "_________________________________________________________________\n",
      "max_pooling2d_4 (MaxPooling2 (None, 32, 32, 64)        0         \n",
      "_________________________________________________________________\n",
      "dropout_1 (Dropout)          (None, 32, 32, 64)        0         \n",
      "_________________________________________________________________\n",
      "conv2d_10 (Conv2D)           (None, 32, 32, 128)       73856     \n",
      "_________________________________________________________________\n",
      "conv2d_11 (Conv2D)           (None, 32, 32, 128)       147584    \n",
      "_________________________________________________________________\n",
      "max_pooling2d_5 (MaxPooling2 (None, 16, 16, 128)       0         \n",
      "_________________________________________________________________\n",
      "dropout_2 (Dropout)          (None, 16, 16, 128)       0         \n",
      "_________________________________________________________________\n",
      "conv2d_12 (Conv2D)           (None, 16, 16, 256)       295168    \n",
      "_________________________________________________________________\n",
      "max_pooling2d_6 (MaxPooling2 (None, 8, 8, 256)         0         \n",
      "_________________________________________________________________\n",
      "dropout_3 (Dropout)          (None, 8, 8, 256)         0         \n",
      "_________________________________________________________________\n",
      "flatten_2 (Flatten)          (None, 16384)             0         \n",
      "_________________________________________________________________\n",
      "dense_3 (Dense)              (None, 256)               4194560   \n",
      "_________________________________________________________________\n",
      "dropout_4 (Dropout)          (None, 256)               0         \n",
      "_________________________________________________________________\n",
      "dense_4 (Dense)              (None, 6)                 1542      \n",
      "=================================================================\n",
      "Total params: 4,788,358\n",
      "Trainable params: 4,788,358\n",
      "Non-trainable params: 0\n",
      "_________________________________________________________________\n"
     ]
    }
   ],
   "source": [
    "model = Model(input=inputs, output=predictions)\n",
    "model.summary()"
   ]
  },
  {
   "cell_type": "code",
   "execution_count": 25,
   "metadata": {},
   "outputs": [],
   "source": [
    "model.compile(optimizer='adam',\n",
    "              loss='categorical_crossentropy',\n",
    "              metrics=['accuracy'])"
   ]
  },
  {
   "cell_type": "code",
   "execution_count": 26,
   "metadata": {},
   "outputs": [],
   "source": [
    "X_train, X_test, y_train, y_test = train_test_split(X, y, test_size=0.2, random_state=42, stratify=y)"
   ]
  },
  {
   "cell_type": "code",
   "execution_count": 27,
   "metadata": {},
   "outputs": [],
   "source": [
    "# wenn die Ergebnisse lange Zeit schlecht bleiben, brechen wir lieber ab\n",
    "early_stopping_callback = keras.callbacks.EarlyStopping(monitor='val_loss', patience=25, verbose=1)"
   ]
  },
  {
   "cell_type": "code",
   "execution_count": null,
   "metadata": {},
   "outputs": [],
   "source": [
    "# only for local gpu on windows\n",
    "\n",
    "# import tensorflow as tf\n",
    "# from keras.backend.tensorflow_backend import set_session\n",
    "# config = tf.ConfigProto()\n",
    "# config.gpu_options.allow_growth = True  # dynamically grow the memory used on the GPU\n",
    "# sess = tf.Session(config=config)\n",
    "# set_session(sess)  # set this TensorFlow session as the default session for Keras"
   ]
  },
  {
   "cell_type": "code",
   "execution_count": 28,
   "metadata": {},
   "outputs": [
    {
     "name": "stdout",
     "output_type": "stream",
     "text": [
      "Train on 242 samples, validate on 61 samples\n",
      "Epoch 1/100\n",
      "242/242 [==============================] - 60s - loss: 1.9361 - acc: 0.1860 - val_loss: 1.7942 - val_acc: 0.1639\n",
      "Epoch 2/100\n",
      "242/242 [==============================] - 60s - loss: 1.7885 - acc: 0.1983 - val_loss: 1.7943 - val_acc: 0.1639\n",
      "Epoch 3/100\n",
      "242/242 [==============================] - 61s - loss: 1.7782 - acc: 0.2273 - val_loss: 1.7840 - val_acc: 0.1639\n",
      "Epoch 4/100\n",
      "242/242 [==============================] - 58s - loss: 1.7604 - acc: 0.1901 - val_loss: 1.7793 - val_acc: 0.2295\n",
      "Epoch 5/100\n",
      "242/242 [==============================] - 57s - loss: 1.7509 - acc: 0.2479 - val_loss: 1.7774 - val_acc: 0.2295\n",
      "Epoch 6/100\n",
      "242/242 [==============================] - 57s - loss: 1.7637 - acc: 0.2727 - val_loss: 1.7863 - val_acc: 0.1639\n",
      "Epoch 7/100\n",
      "242/242 [==============================] - 59s - loss: 1.7225 - acc: 0.2397 - val_loss: 1.7258 - val_acc: 0.2295\n",
      "Epoch 8/100\n",
      "242/242 [==============================] - 58s - loss: 1.7174 - acc: 0.2769 - val_loss: 1.7581 - val_acc: 0.2131\n",
      "Epoch 9/100\n",
      "242/242 [==============================] - 59s - loss: 1.7113 - acc: 0.2562 - val_loss: 1.6906 - val_acc: 0.2459\n",
      "Epoch 10/100\n",
      "242/242 [==============================] - 60s - loss: 1.6962 - acc: 0.2893 - val_loss: 1.7145 - val_acc: 0.2951\n",
      "Epoch 11/100\n",
      "242/242 [==============================] - 58s - loss: 1.7141 - acc: 0.2727 - val_loss: 1.7438 - val_acc: 0.1803\n",
      "Epoch 12/100\n",
      "242/242 [==============================] - 58s - loss: 1.6556 - acc: 0.2603 - val_loss: 1.6893 - val_acc: 0.2787\n",
      "Epoch 13/100\n",
      "242/242 [==============================] - 58s - loss: 1.6692 - acc: 0.3017 - val_loss: 1.6834 - val_acc: 0.2787\n",
      "Epoch 14/100\n",
      "242/242 [==============================] - 58s - loss: 1.6163 - acc: 0.2810 - val_loss: 1.6690 - val_acc: 0.2623\n",
      "Epoch 15/100\n",
      "242/242 [==============================] - 59s - loss: 1.5825 - acc: 0.3306 - val_loss: 1.6472 - val_acc: 0.3279\n",
      "Epoch 16/100\n",
      "242/242 [==============================] - 60s - loss: 1.6026 - acc: 0.3140 - val_loss: 1.6341 - val_acc: 0.3607\n",
      "Epoch 17/100\n",
      "242/242 [==============================] - 60s - loss: 1.5685 - acc: 0.3554 - val_loss: 1.6670 - val_acc: 0.3770\n",
      "Epoch 18/100\n",
      "242/242 [==============================] - 58s - loss: 1.5755 - acc: 0.3471 - val_loss: 1.6678 - val_acc: 0.3607\n",
      "Epoch 19/100\n",
      "242/242 [==============================] - 58s - loss: 1.5447 - acc: 0.3347 - val_loss: 1.6441 - val_acc: 0.3770\n",
      "Epoch 20/100\n",
      "242/242 [==============================] - 57s - loss: 1.5598 - acc: 0.3719 - val_loss: 1.6497 - val_acc: 0.3934\n",
      "Epoch 21/100\n",
      "242/242 [==============================] - 59s - loss: 1.5561 - acc: 0.3347 - val_loss: 1.6719 - val_acc: 0.3443\n",
      "Epoch 22/100\n",
      "242/242 [==============================] - 59s - loss: 1.5306 - acc: 0.3678 - val_loss: 1.6222 - val_acc: 0.3279\n",
      "Epoch 23/100\n",
      "242/242 [==============================] - 59s - loss: 1.5195 - acc: 0.3388 - val_loss: 1.6277 - val_acc: 0.3607\n",
      "Epoch 24/100\n",
      "242/242 [==============================] - 62s - loss: 1.4665 - acc: 0.3884 - val_loss: 1.6969 - val_acc: 0.3607\n",
      "Epoch 25/100\n",
      "242/242 [==============================] - 72s - loss: 1.4910 - acc: 0.3719 - val_loss: 1.5898 - val_acc: 0.3770\n",
      "Epoch 26/100\n",
      "242/242 [==============================] - 58s - loss: 1.5140 - acc: 0.4008 - val_loss: 1.6417 - val_acc: 0.3934\n",
      "Epoch 27/100\n",
      "242/242 [==============================] - 60s - loss: 1.5135 - acc: 0.3760 - val_loss: 1.6709 - val_acc: 0.3934\n",
      "Epoch 28/100\n",
      "242/242 [==============================] - 59s - loss: 1.4882 - acc: 0.3719 - val_loss: 1.6294 - val_acc: 0.3934\n",
      "Epoch 29/100\n",
      "242/242 [==============================] - 60s - loss: 1.4357 - acc: 0.3967 - val_loss: 1.6584 - val_acc: 0.4262\n",
      "Epoch 30/100\n",
      "242/242 [==============================] - 63s - loss: 1.4547 - acc: 0.3926 - val_loss: 1.5665 - val_acc: 0.3607\n",
      "Epoch 31/100\n",
      "242/242 [==============================] - 61s - loss: 1.3875 - acc: 0.4132 - val_loss: 1.6188 - val_acc: 0.3115\n",
      "Epoch 32/100\n",
      "242/242 [==============================] - 58s - loss: 1.3894 - acc: 0.4174 - val_loss: 1.5686 - val_acc: 0.3607\n",
      "Epoch 33/100\n",
      "242/242 [==============================] - 58s - loss: 1.3963 - acc: 0.4463 - val_loss: 1.5999 - val_acc: 0.3934\n",
      "Epoch 34/100\n",
      "242/242 [==============================] - 60s - loss: 1.3813 - acc: 0.4298 - val_loss: 1.6081 - val_acc: 0.4754\n",
      "Epoch 35/100\n",
      "242/242 [==============================] - 60s - loss: 1.3652 - acc: 0.4545 - val_loss: 1.5535 - val_acc: 0.4262\n",
      "Epoch 36/100\n",
      "242/242 [==============================] - 59s - loss: 1.3188 - acc: 0.5207 - val_loss: 1.4746 - val_acc: 0.5246\n",
      "Epoch 37/100\n",
      "242/242 [==============================] - 63s - loss: 1.3135 - acc: 0.4752 - val_loss: 1.5011 - val_acc: 0.3607\n",
      "Epoch 38/100\n",
      "242/242 [==============================] - 62s - loss: 1.2589 - acc: 0.5248 - val_loss: 1.4688 - val_acc: 0.4262\n",
      "Epoch 39/100\n",
      "242/242 [==============================] - 59s - loss: 1.2444 - acc: 0.5248 - val_loss: 1.4097 - val_acc: 0.5246\n",
      "Epoch 40/100\n",
      "242/242 [==============================] - 59s - loss: 1.3151 - acc: 0.4876 - val_loss: 1.5491 - val_acc: 0.5082\n",
      "Epoch 41/100\n",
      "242/242 [==============================] - 61s - loss: 1.2676 - acc: 0.4835 - val_loss: 1.4661 - val_acc: 0.5082\n",
      "Epoch 42/100\n",
      "242/242 [==============================] - 62s - loss: 1.1468 - acc: 0.5950 - val_loss: 1.3044 - val_acc: 0.5738\n",
      "Epoch 43/100\n",
      "242/242 [==============================] - 61s - loss: 1.1021 - acc: 0.5992 - val_loss: 1.3546 - val_acc: 0.6393\n",
      "Epoch 44/100\n",
      "242/242 [==============================] - 65s - loss: 1.2462 - acc: 0.5496 - val_loss: 1.3540 - val_acc: 0.5410\n",
      "Epoch 45/100\n",
      "242/242 [==============================] - 60s - loss: 1.1641 - acc: 0.5744 - val_loss: 1.2772 - val_acc: 0.5410\n",
      "Epoch 46/100\n",
      "242/242 [==============================] - 61s - loss: 1.0856 - acc: 0.5992 - val_loss: 1.2630 - val_acc: 0.6066\n",
      "Epoch 47/100\n",
      "242/242 [==============================] - 62s - loss: 1.0808 - acc: 0.5702 - val_loss: 1.3803 - val_acc: 0.4754\n",
      "Epoch 48/100\n",
      "242/242 [==============================] - 62s - loss: 1.0994 - acc: 0.6033 - val_loss: 1.0374 - val_acc: 0.6721\n",
      "Epoch 49/100\n",
      "242/242 [==============================] - 59s - loss: 0.9974 - acc: 0.6529 - val_loss: 0.9732 - val_acc: 0.6721\n",
      "Epoch 50/100\n",
      "242/242 [==============================] - 64s - loss: 1.0067 - acc: 0.6364 - val_loss: 1.0409 - val_acc: 0.6721\n",
      "Epoch 51/100\n",
      "242/242 [==============================] - 59s - loss: 0.8838 - acc: 0.6901 - val_loss: 0.8828 - val_acc: 0.7049\n",
      "Epoch 52/100\n",
      "242/242 [==============================] - 58s - loss: 0.9013 - acc: 0.6818 - val_loss: 0.7326 - val_acc: 0.7869\n",
      "Epoch 53/100\n",
      "242/242 [==============================] - 58s - loss: 0.8479 - acc: 0.6818 - val_loss: 0.6894 - val_acc: 0.7213\n",
      "Epoch 54/100\n",
      "242/242 [==============================] - 60s - loss: 0.7754 - acc: 0.7231 - val_loss: 0.7527 - val_acc: 0.7869\n",
      "Epoch 55/100\n",
      "242/242 [==============================] - 57s - loss: 0.6581 - acc: 0.7603 - val_loss: 0.4739 - val_acc: 0.8689\n",
      "Epoch 56/100\n",
      "242/242 [==============================] - 59s - loss: 0.6967 - acc: 0.7562 - val_loss: 0.5560 - val_acc: 0.8197\n",
      "Epoch 57/100\n",
      "242/242 [==============================] - 61s - loss: 0.7358 - acc: 0.7397 - val_loss: 0.6185 - val_acc: 0.8525\n",
      "Epoch 58/100\n",
      "242/242 [==============================] - 64s - loss: 0.5457 - acc: 0.8182 - val_loss: 0.4501 - val_acc: 0.8852\n",
      "Epoch 59/100\n",
      "242/242 [==============================] - 59s - loss: 0.4582 - acc: 0.8388 - val_loss: 0.4743 - val_acc: 0.8361\n",
      "Epoch 60/100\n",
      "242/242 [==============================] - 57s - loss: 0.4242 - acc: 0.8306 - val_loss: 0.4755 - val_acc: 0.8197\n",
      "Epoch 61/100\n",
      "242/242 [==============================] - 60s - loss: 0.4733 - acc: 0.8140 - val_loss: 0.5309 - val_acc: 0.8689\n",
      "Epoch 62/100\n",
      "242/242 [==============================] - 59s - loss: 0.3943 - acc: 0.8636 - val_loss: 0.3689 - val_acc: 0.8525\n",
      "Epoch 63/100\n",
      "242/242 [==============================] - 58s - loss: 0.3500 - acc: 0.8843 - val_loss: 0.3365 - val_acc: 0.9180\n",
      "Epoch 64/100\n",
      "242/242 [==============================] - 59s - loss: 0.3603 - acc: 0.8554 - val_loss: 0.4196 - val_acc: 0.8361\n",
      "Epoch 65/100\n"
     ]
    },
    {
     "name": "stdout",
     "output_type": "stream",
     "text": [
      "242/242 [==============================] - 59s - loss: 0.3479 - acc: 0.8719 - val_loss: 0.5067 - val_acc: 0.9180\n",
      "Epoch 66/100\n",
      "242/242 [==============================] - 60s - loss: 0.3430 - acc: 0.8926 - val_loss: 0.2695 - val_acc: 0.9016\n",
      "Epoch 67/100\n",
      "242/242 [==============================] - 59s - loss: 0.5210 - acc: 0.8306 - val_loss: 0.5821 - val_acc: 0.7541\n",
      "Epoch 68/100\n",
      "242/242 [==============================] - 58s - loss: 0.4494 - acc: 0.8471 - val_loss: 0.3380 - val_acc: 0.8689\n",
      "Epoch 69/100\n",
      "242/242 [==============================] - 58s - loss: 0.2034 - acc: 0.9421 - val_loss: 0.2376 - val_acc: 0.9508\n",
      "Epoch 70/100\n",
      "242/242 [==============================] - 59s - loss: 0.3037 - acc: 0.9132 - val_loss: 0.2179 - val_acc: 0.9344\n",
      "Epoch 71/100\n",
      "242/242 [==============================] - 60s - loss: 0.1889 - acc: 0.9421 - val_loss: 0.3214 - val_acc: 0.9180\n",
      "Epoch 72/100\n",
      "242/242 [==============================] - 60s - loss: 0.2512 - acc: 0.9298 - val_loss: 0.3751 - val_acc: 0.9344\n",
      "Epoch 73/100\n",
      "242/242 [==============================] - 59s - loss: 0.2669 - acc: 0.9215 - val_loss: 0.4673 - val_acc: 0.9180\n",
      "Epoch 74/100\n",
      "242/242 [==============================] - 58s - loss: 0.2855 - acc: 0.9008 - val_loss: 0.3202 - val_acc: 0.8689\n",
      "Epoch 75/100\n",
      "242/242 [==============================] - 58s - loss: 0.3108 - acc: 0.8926 - val_loss: 0.2585 - val_acc: 0.9016\n",
      "Epoch 76/100\n",
      "242/242 [==============================] - 57s - loss: 0.2799 - acc: 0.9174 - val_loss: 0.2566 - val_acc: 0.9180\n",
      "Epoch 77/100\n",
      "242/242 [==============================] - 59s - loss: 0.1742 - acc: 0.9545 - val_loss: 0.2249 - val_acc: 0.9508\n",
      "Epoch 78/100\n",
      "242/242 [==============================] - 59s - loss: 0.1742 - acc: 0.9545 - val_loss: 0.2138 - val_acc: 0.9508\n",
      "Epoch 79/100\n",
      "242/242 [==============================] - 59s - loss: 0.0963 - acc: 0.9669 - val_loss: 0.3681 - val_acc: 0.9016\n",
      "Epoch 80/100\n",
      "242/242 [==============================] - 59s - loss: 0.1667 - acc: 0.9504 - val_loss: 0.3168 - val_acc: 0.9016\n",
      "Epoch 81/100\n",
      "242/242 [==============================] - 58s - loss: 0.1002 - acc: 0.9711 - val_loss: 0.2085 - val_acc: 0.9508\n",
      "Epoch 82/100\n",
      "242/242 [==============================] - 60s - loss: 0.0915 - acc: 0.9587 - val_loss: 0.2229 - val_acc: 0.9672\n",
      "Epoch 83/100\n",
      "242/242 [==============================] - 62s - loss: 0.0997 - acc: 0.9711 - val_loss: 0.1937 - val_acc: 0.9672\n",
      "Epoch 84/100\n",
      "242/242 [==============================] - 60s - loss: 0.0826 - acc: 0.9793 - val_loss: 0.2999 - val_acc: 0.9508\n",
      "Epoch 85/100\n",
      "242/242 [==============================] - 60s - loss: 0.1554 - acc: 0.9587 - val_loss: 0.3193 - val_acc: 0.9508\n",
      "Epoch 86/100\n",
      "242/242 [==============================] - 58s - loss: 0.0876 - acc: 0.9835 - val_loss: 0.4319 - val_acc: 0.9016\n",
      "Epoch 87/100\n",
      "242/242 [==============================] - 62s - loss: 0.1287 - acc: 0.9463 - val_loss: 0.3275 - val_acc: 0.9180\n",
      "Epoch 88/100\n",
      "242/242 [==============================] - 59s - loss: 0.1121 - acc: 0.9711 - val_loss: 0.1619 - val_acc: 0.9508\n",
      "Epoch 89/100\n",
      "242/242 [==============================] - 61s - loss: 0.1646 - acc: 0.9711 - val_loss: 0.2864 - val_acc: 0.9508\n",
      "Epoch 90/100\n",
      "242/242 [==============================] - 57s - loss: 0.0960 - acc: 0.9752 - val_loss: 0.2797 - val_acc: 0.9344\n",
      "Epoch 91/100\n",
      "242/242 [==============================] - 60s - loss: 0.0762 - acc: 0.9793 - val_loss: 0.3110 - val_acc: 0.9180\n",
      "Epoch 92/100\n",
      "242/242 [==============================] - 59s - loss: 0.0896 - acc: 0.9628 - val_loss: 0.1284 - val_acc: 0.9508\n",
      "Epoch 93/100\n",
      "242/242 [==============================] - 59s - loss: 0.0672 - acc: 0.9793 - val_loss: 0.2159 - val_acc: 0.9508\n",
      "Epoch 94/100\n",
      "242/242 [==============================] - 60s - loss: 0.1140 - acc: 0.9752 - val_loss: 0.1803 - val_acc: 0.9672\n",
      "Epoch 95/100\n",
      "242/242 [==============================] - 60s - loss: 0.1520 - acc: 0.9587 - val_loss: 0.4248 - val_acc: 0.8852\n",
      "Epoch 96/100\n",
      "242/242 [==============================] - 66s - loss: 0.0444 - acc: 0.9876 - val_loss: 0.3384 - val_acc: 0.9180\n",
      "Epoch 97/100\n",
      "242/242 [==============================] - 59s - loss: 0.0923 - acc: 0.9669 - val_loss: 0.2981 - val_acc: 0.9344\n",
      "Epoch 98/100\n",
      "242/242 [==============================] - 61s - loss: 0.0408 - acc: 0.9835 - val_loss: 0.2491 - val_acc: 0.9508\n",
      "Epoch 99/100\n",
      "242/242 [==============================] - 60s - loss: 0.0221 - acc: 0.9959 - val_loss: 0.3297 - val_acc: 0.9508\n",
      "Epoch 100/100\n",
      "242/242 [==============================] - 62s - loss: 0.0300 - acc: 0.9876 - val_loss: 0.3707 - val_acc: 0.9508\n",
      "CPU times: user 3h 12min 27s, sys: 5min 59s, total: 3h 18min 26s\n",
      "Wall time: 1h 40min 27s\n"
     ]
    },
    {
     "data": {
      "text/plain": [
       "<keras.callbacks.History at 0x7fa6e1aef278>"
      ]
     },
     "execution_count": 28,
     "metadata": {},
     "output_type": "execute_result"
    }
   ],
   "source": [
    "# Das kann auf Azure wirklich lange dauern, 100 Epochen ist eigentlich zu wenig, für ein gute Ergebnis\n",
    "# jede Epoche kann bis zu einer Minute dauern, das hier also immer noch 100 Minuten\n",
    "# auf einer guten GPU dauern 500 Epochen eher 4-5 Minuten\n",
    "# BATCH_SIZE = 500\n",
    "BATCH_SIZE = 32\n",
    "%time model.fit(X_train, y_train, epochs=100, batch_size=BATCH_SIZE, validation_split=0.2, callbacks=[early_stopping_callback])"
   ]
  },
  {
   "cell_type": "markdown",
   "metadata": {},
   "source": [
    "# Bewertung"
   ]
  },
  {
   "cell_type": "code",
   "execution_count": 29,
   "metadata": {},
   "outputs": [
    {
     "name": "stdout",
     "output_type": "stream",
     "text": [
      "303/303 [==============================] - 23s    \n"
     ]
    },
    {
     "data": {
      "text/plain": [
       "(0.074855730381698987, 0.99009901009770507)"
      ]
     },
     "execution_count": 29,
     "metadata": {},
     "output_type": "execute_result"
    }
   ],
   "source": [
    "train_loss, train_accuracy = model.evaluate(X_train, y_train, batch_size=BATCH_SIZE)\n",
    "train_loss, train_accuracy"
   ]
  },
  {
   "cell_type": "code",
   "execution_count": 30,
   "metadata": {},
   "outputs": [
    {
     "name": "stdout",
     "output_type": "stream",
     "text": [
      "76/76 [==============================] - 5s     \n"
     ]
    },
    {
     "data": {
      "text/plain": [
       "(0.10514919708580955, 0.94736842105263153)"
      ]
     },
     "execution_count": 30,
     "metadata": {},
     "output_type": "execute_result"
    }
   ],
   "source": [
    "test_loss, test_accuracy = model.evaluate(X_test, y_test, batch_size=BATCH_SIZE)\n",
    "test_loss, test_accuracy"
   ]
  },
  {
   "cell_type": "markdown",
   "metadata": {},
   "source": [
    "# Sichern des Modells"
   ]
  },
  {
   "cell_type": "code",
   "execution_count": 31,
   "metadata": {},
   "outputs": [
    {
     "name": "stdout",
     "output_type": "stream",
     "text": [
      "rm: cannot remove 'models': No such file or directory\r\n"
     ]
    }
   ],
   "source": [
    "!rm -r models\n",
    "!mkdir models"
   ]
  },
  {
   "cell_type": "code",
   "execution_count": 32,
   "metadata": {},
   "outputs": [],
   "source": [
    "model.save('models/conv-vgg.hdf5')"
   ]
  },
  {
   "cell_type": "code",
   "execution_count": 33,
   "metadata": {},
   "outputs": [
    {
     "name": "stdout",
     "output_type": "stream",
     "text": [
      "total 0\r\n",
      "-rw-r--r-- 1 nbuser nbuser 55M Feb 25 13:21 conv-vgg.hdf5\r\n"
     ]
    }
   ],
   "source": [
    "!ls -lh models"
   ]
  },
  {
   "cell_type": "code",
   "execution_count": 34,
   "metadata": {},
   "outputs": [],
   "source": [
    "# !curl --upload-file ./models/conv-vgg.hdf5 https://transfer.sh/conv-vgg.hdf5"
   ]
  },
  {
   "cell_type": "markdown",
   "metadata": {},
   "source": [
    "# Ausprobieren auf ein paar Test-Daten"
   ]
  },
  {
   "cell_type": "code",
   "execution_count": 35,
   "metadata": {},
   "outputs": [
    {
     "data": {
      "text/plain": [
       "array([2, 2, 0, 1, 1, 5, 2, 2, 5, 2])"
      ]
     },
     "execution_count": 35,
     "metadata": {},
     "output_type": "execute_result"
    }
   ],
   "source": [
    "import random\n",
    "\n",
    "# Pick 10 random images for test data set\n",
    "random.seed(3) # to make this deterministic\n",
    "sample_indexes = random.sample(range(len(X_test)), 10)\n",
    "sample_images = [X_test[i] for i in sample_indexes]\n",
    "sample_labels = [y_test[i] for i in sample_indexes]\n",
    "\n",
    "ground_truth = np.argmax(sample_labels, axis=1)\n",
    "\n",
    "X_sample = np.array(sample_images)\n",
    "prediction = model.predict(X_sample)\n",
    "predicted_categories = np.argmax(prediction, axis=1)\n",
    "predicted_categories"
   ]
  },
  {
   "cell_type": "code",
   "execution_count": 36,
   "metadata": {},
   "outputs": [],
   "source": [
    "# Display the predictions and the ground truth visually.\n",
    "def display_prediction (images, true_labels, predicted_labels):\n",
    "    fig = plt.figure(figsize=(10, 10))\n",
    "    for i in range(len(true_labels)):\n",
    "        truth = true_labels[i]\n",
    "        prediction = predicted_labels[i]\n",
    "        plt.subplot(5, 2,1+i)\n",
    "        plt.axis('off')\n",
    "        color='green' if truth == prediction else 'red'\n",
    "        plt.text(80, 10, \"Truth:        {0}\\nPrediction: {1}\".format(truth, prediction), \n",
    "                 fontsize=12, color=color)\n",
    "        plt.imshow(images[i])"
   ]
  },
  {
   "cell_type": "code",
   "execution_count": 37,
   "metadata": {},
   "outputs": [
    {
     "data": {
      "image/png": "[encoded data removed]",
      "text/plain": [
       "<matplotlib.figure.Figure at 0x7fa6e0aee9b0>"
      ]
     },
     "metadata": {},
     "output_type": "display_data"
    }
   ],
   "source": [
    "display_prediction(sample_images, ground_truth, predicted_categories)"
   ]
  },
  {
   "cell_type": "code",
   "execution_count": null,
   "metadata": {
    "collapsed": true
   },
   "outputs": [],
   "source": []
  }
 ],
 "metadata": {
  "kernelspec": {
   "display_name": "Python 3",
   "language": "python",
   "name": "python3"
  },
  "language_info": {
   "codemirror_mode": {
    "name": "ipython",
    "version": 3
   },
   "file_extension": ".py",
   "mimetype": "text/x-python",
   "name": "python",
   "nbconvert_exporter": "python",
   "pygments_lexer": "ipython3",
   "version": "3.5.4"
  }
 },
 "nbformat": 4,
 "nbformat_minor": 2
}
