{
 "cells": [
  {
   "cell_type": "markdown",
   "metadata": {},
   "source": [
    "# Kapitel 6: Modellauswahl"
   ]
  },
  {
   "cell_type": "code",
   "execution_count": 1,
   "metadata": {
    "collapsed": true
   },
   "outputs": [],
   "source": [
    "import warnings\n",
    "warnings.filterwarnings('ignore')"
   ]
  },
  {
   "cell_type": "code",
   "execution_count": 2,
   "metadata": {},
   "outputs": [
    {
     "name": "stdout",
     "output_type": "stream",
     "text": [
      "Populating the interactive namespace from numpy and matplotlib\n"
     ]
    }
   ],
   "source": [
    "%matplotlib inline\n",
    "%pylab inline"
   ]
  },
  {
   "cell_type": "code",
   "execution_count": 3,
   "metadata": {
    "collapsed": true
   },
   "outputs": [],
   "source": [
    "from distutils.version import StrictVersion"
   ]
  },
  {
   "cell_type": "code",
   "execution_count": 4,
   "metadata": {},
   "outputs": [
    {
     "name": "stdout",
     "output_type": "stream",
     "text": [
      "0.18.1\n"
     ]
    }
   ],
   "source": [
    "import sklearn\n",
    "print(sklearn.__version__)\n",
    "\n",
    "assert StrictVersion(sklearn.__version__ ) >= StrictVersion('0.18.1')"
   ]
  },
  {
   "cell_type": "code",
   "execution_count": 5,
   "metadata": {
    "collapsed": true
   },
   "outputs": [],
   "source": [
    "import numpy as np"
   ]
  },
  {
   "cell_type": "code",
   "execution_count": 6,
   "metadata": {
    "collapsed": true
   },
   "outputs": [],
   "source": [
    "import matplotlib.pyplot as plt"
   ]
  },
  {
   "cell_type": "markdown",
   "metadata": {},
   "source": [
    "## Accuracy"
   ]
  },
  {
   "cell_type": "code",
   "execution_count": 7,
   "metadata": {
    "collapsed": true
   },
   "outputs": [],
   "source": [
    "from sklearn.datasets import load_iris\n",
    "iris = load_iris()\n",
    "X = iris.data\n",
    "y = iris.target"
   ]
  },
  {
   "cell_type": "code",
   "execution_count": 8,
   "metadata": {
    "collapsed": true
   },
   "outputs": [],
   "source": [
    "from sklearn.model_selection import train_test_split\n",
    "X_train, X_test, y_train, y_test = train_test_split(X, y, test_size=0.3, random_state=8, stratify=y)"
   ]
  },
  {
   "cell_type": "code",
   "execution_count": 9,
   "metadata": {},
   "outputs": [
    {
     "data": {
      "text/plain": [
       "(105, 4)"
      ]
     },
     "execution_count": 9,
     "metadata": {},
     "output_type": "execute_result"
    }
   ],
   "source": [
    "X_train.shape"
   ]
  },
  {
   "cell_type": "code",
   "execution_count": 10,
   "metadata": {},
   "outputs": [
    {
     "data": {
      "text/plain": [
       "(45, 4)"
      ]
     },
     "execution_count": 10,
     "metadata": {},
     "output_type": "execute_result"
    }
   ],
   "source": [
    "X_test.shape"
   ]
  },
  {
   "cell_type": "code",
   "execution_count": 11,
   "metadata": {
    "collapsed": true
   },
   "outputs": [],
   "source": [
    "from sklearn.svm import SVC\n",
    "svc = SVC(kernel='rbf')\n",
    "clf = svc.fit(X_train, y_train)"
   ]
  },
  {
   "cell_type": "code",
   "execution_count": 12,
   "metadata": {
    "collapsed": true
   },
   "outputs": [],
   "source": [
    "y_pred = clf.predict(X_test)"
   ]
  },
  {
   "cell_type": "code",
   "execution_count": 13,
   "metadata": {},
   "outputs": [
    {
     "data": {
      "text/plain": [
       "array([1, 2, 2, 2, 1, 1, 2, 0, 1, 2, 1, 1, 2, 0, 0, 0, 0, 1, 0, 1, 1, 0, 1,\n",
       "       0, 2, 1, 2, 2, 1, 0, 0, 2, 0, 0, 0, 0, 2, 0, 2, 2, 2, 1, 2, 2, 1])"
      ]
     },
     "execution_count": 13,
     "metadata": {},
     "output_type": "execute_result"
    }
   ],
   "source": [
    "y_pred"
   ]
  },
  {
   "cell_type": "code",
   "execution_count": 14,
   "metadata": {},
   "outputs": [
    {
     "name": "stdout",
     "output_type": "stream",
     "text": [
      "0.933333333333\n"
     ]
    }
   ],
   "source": [
    "from sklearn.metrics import accuracy_score\n",
    "print(accuracy_score(y_test, y_pred))"
   ]
  },
  {
   "cell_type": "markdown",
   "metadata": {},
   "source": [
    "## Confusion Matrix"
   ]
  },
  {
   "cell_type": "code",
   "execution_count": 15,
   "metadata": {},
   "outputs": [
    {
     "name": "stdout",
     "output_type": "stream",
     "text": [
      "[[15  0  0]\n",
      " [ 0 13  2]\n",
      " [ 0  1 14]]\n"
     ]
    }
   ],
   "source": [
    "from sklearn.metrics import confusion_matrix\n",
    "print(confusion_matrix(y_test, y_pred))"
   ]
  },
  {
   "cell_type": "code",
   "execution_count": 16,
   "metadata": {},
   "outputs": [
    {
     "name": "stdout",
     "output_type": "stream",
     "text": [
      "[[ 1.          0.          0.        ]\n",
      " [ 0.          0.86666667  0.13333333]\n",
      " [ 0.          0.06666667  0.93333333]]\n"
     ]
    }
   ],
   "source": [
    "import numpy as np\n",
    "cm = confusion_matrix(y_test, y_pred)\n",
    "cm_norm = cm.astype('float') / cm.sum(axis=1)[:, np.newaxis]\n",
    "print(cm_norm)"
   ]
  },
  {
   "cell_type": "code",
   "execution_count": 20,
   "metadata": {},
   "outputs": [
    {
     "data": {
      "text/plain": [
       "<matplotlib.text.Text at 0x7f3a9a0f9278>"
      ]
     },
     "execution_count": 20,
     "metadata": {},
     "output_type": "execute_result"
    },
    {
     "data": {
      "image/png": "[encoded data removed]",
      "text/plain": [
       "<matplotlib.figure.Figure at 0x7f3a9a1a8f98>"
      ]
     },
     "metadata": {},
     "output_type": "display_data"
    }
   ],
   "source": [
    "import seaborn as sns\n",
    "sns.heatmap(cm_norm, annot=True, cmap=\"YlGnBu\")\n",
    "figure = plt.gcf()\n",
    "ax = figure.add_subplot(111)\n",
    "ax.set_xlabel('Prediction')\n",
    "ax.set_ylabel('Ground Truth')"
   ]
  },
  {
   "cell_type": "markdown",
   "metadata": {},
   "source": [
    "## Precision-Recall"
   ]
  },
  {
   "cell_type": "code",
   "execution_count": 24,
   "metadata": {},
   "outputs": [
    {
     "data": {
      "image/png": "[encoded data removed]",
      "text/plain": [
       "<matplotlib.figure.Figure at 0x7f94b1285e48>"
      ]
     },
     "metadata": {},
     "output_type": "display_data"
    }
   ],
   "source": [
    "import numpy as np\n",
    "import matplotlib.pyplot as plt\n",
    "\n",
    "from sklearn.datasets import load_iris\n",
    "from sklearn.svm import SVC\n",
    "from sklearn.model_selection import train_test_split\n",
    "from sklearn.multiclass import OneVsRestClassifier\n",
    "from sklearn.preprocessing import label_binarize\n",
    "from sklearn.metrics import precision_recall_curve\n",
    "from sklearn.metrics import average_precision_score\n",
    "\n",
    "colors = ['blue', 'orange', 'red']\n",
    "\n",
    "iris = load_iris()\n",
    "\n",
    "X = iris.data\n",
    "y = iris.target\n",
    "\n",
    "y = label_binarize(y, classes=[0, 1, 2])\n",
    "n_classes = y.shape[1]\n",
    "\n",
    "#random_state = np.random.RandomState(0)\n",
    "#n_samples, n_features = X.shape\n",
    "#X = np.c_[X, random_state.randn(n_samples, 500 * n_features)]\n",
    "\n",
    "#____________________________________________________________________\n",
    "# training test splitting\n",
    "X_train, X_test, y_train, y_test = train_test_split(X, y, test_size=0.5, random_state=19)\n",
    "\n",
    "\n",
    "one_vs_rest = OneVsRestClassifier(SVC(kernel='rbf', C=10, gamma=100, probability=True, random_state=12))\n",
    "y_score = one_vs_rest.fit(X_train, y_train).decision_function(X_test)\n",
    "y_true, y_pred = y_test, one_vs_rest.predict(X_test)\n",
    "\n",
    "precision = dict()\n",
    "recall = dict()\n",
    "average_precision = dict()\n",
    "for i in range(n_classes):\n",
    "    precision[i], recall[i], _ = precision_recall_curve(y_true[:, i],\n",
    "                                                        y_score[:, i])\n",
    "    average_precision[i] = average_precision_score(y_test[:, i], y_score[:, i])\n",
    "\n",
    "#____________________________________________________________________\n",
    "# Plot Precision-Recall curve for each class\n",
    "fig = plt.figure(1, figsize=(9, 7))\n",
    "plt.clf()\n",
    "for i, color in zip(range(n_classes), colors):\n",
    "    plt.plot(recall[i], precision[i], color=color, lw=2,\n",
    "             label='Precision-recall curve of {0} (area = {1:0.3f})'\n",
    "                   ''.format(iris.target_names[i], average_precision[i]))\n",
    "\n",
    "plt.xlim([0.0, 1.0])\n",
    "plt.ylim([0.0, 1.05])\n",
    "plt.xlabel('recall')\n",
    "plt.ylabel('precision')\n",
    "plt.legend(loc=\"lower right\")\n",
    "plt.show()\n",
    "# fig.savefig('ML_0604.png', bbox_inches='tight')\n",
    "# plt.clf()"
   ]
  },
  {
   "cell_type": "code",
   "execution_count": 25,
   "metadata": {},
   "outputs": [
    {
     "name": "stdout",
     "output_type": "stream",
     "text": [
      "             precision    recall  f1-score   support\n",
      "\n",
      "     setosa      1.000     1.000     1.000        15\n",
      " versicolor      0.933     0.933     0.933        15\n",
      "  virginica      0.933     0.933     0.933        15\n",
      "\n",
      "avg / total      0.956     0.956     0.956        45\n",
      "\n"
     ]
    }
   ],
   "source": [
    "from sklearn.metrics import classification_report\n",
    "\n",
    "iris = load_iris()\n",
    "X = iris.data\n",
    "y = iris.target\n",
    "\n",
    "X_train, X_test, y_train, y_test = train_test_split(X, y, test_size=0.3, random_state=42, stratify=y)\n",
    "\n",
    "svc = SVC(kernel='rbf', C=1, gamma=1)\n",
    "clf = svc.fit(X_train, y_train)\n",
    "y_true, y_pred = y_test, clf.predict(X_test)\n",
    "\n",
    "print(classification_report(y_true, y_pred, digits=3, target_names=iris.target_names))"
   ]
  },
  {
   "cell_type": "markdown",
   "metadata": {},
   "source": [
    "## Receiver Operating Characteristic (ROC) Kurve"
   ]
  },
  {
   "cell_type": "code",
   "execution_count": 26,
   "metadata": {},
   "outputs": [
    {
     "data": {
      "image/png": "[encoded data removed]",
      "text/plain": [
       "<matplotlib.figure.Figure at 0x7f94b331e3c8>"
      ]
     },
     "metadata": {},
     "output_type": "display_data"
    }
   ],
   "source": [
    "from sklearn.datasets import load_iris\n",
    "from sklearn.svm import SVC\n",
    "from sklearn.model_selection import train_test_split\n",
    "from sklearn.multiclass import OneVsRestClassifier\n",
    "from sklearn.preprocessing import label_binarize\n",
    "from sklearn.metrics import roc_curve, auc\n",
    "\n",
    "from scipy import interp\n",
    "\n",
    "colors = ['blue', 'orange', 'red']\n",
    "\n",
    "iris = load_iris()\n",
    "\n",
    "X = iris.data\n",
    "y = iris.target\n",
    "\n",
    "y = label_binarize(y, classes=[0, 1, 2])\n",
    "n_classes = y.shape[1]\n",
    "\n",
    "#random_state = np.random.RandomState(0)\n",
    "#n_samples, n_features = X.shape\n",
    "#X = np.c_[X, random_state.randn(n_samples, 500 * n_features)]\n",
    "\n",
    "#____________________________________________________________________\n",
    "# training test splitting\n",
    "X_train, X_test, y_train, y_test = train_test_split(X, y, test_size=0.5, random_state=19)\n",
    "\n",
    "one_vs_rest = OneVsRestClassifier(SVC(kernel='rbf', C=10, gamma=100, probability=True, random_state=12))\n",
    "y_score = one_vs_rest.fit(X_train, y_train).decision_function(X_test)\n",
    "y_true, y_pred = y_test, one_vs_rest.predict(X_test)\n",
    "\n",
    "fpr = dict()\n",
    "tpr = dict()\n",
    "roc_auc = dict()\n",
    "for i in range(n_classes):\n",
    "    fpr[i], tpr[i], _ = roc_curve(y_true[:, i], y_score[:, i])\n",
    "    roc_auc[i] = auc(fpr[i], tpr[i])\n",
    "\n",
    "#____________________________________________________________________\n",
    "# Plot Precision-Recall curve for each class\n",
    "fig = plt.figure(1, figsize=(9, 7))\n",
    "plt.clf()\n",
    "for i, color in zip(range(n_classes), colors):\n",
    "    plt.plot(fpr[i], tpr[i], color=color, lw=2,\n",
    "             label='ROC curve of {0} (area = {1:0.3f})'\n",
    "                   ''.format(iris.target_names[i], roc_auc[i]))\n",
    "\n",
    "plt.xlim([0.0, 1.0])\n",
    "plt.ylim([0.0, 1.05])\n",
    "plt.xlabel('false positive rate')\n",
    "plt.ylabel('true positive rate')\n",
    "plt.legend(loc=\"lower right\")\n",
    "plt.show()\n",
    "# fig.savefig('ML_0603.png', bbox_inches='tight')\n",
    "# plt.clf()"
   ]
  },
  {
   "cell_type": "markdown",
   "metadata": {},
   "source": [
    "## Metrik für Regression"
   ]
  },
  {
   "cell_type": "code",
   "execution_count": 31,
   "metadata": {},
   "outputs": [
    {
     "data": {
      "text/plain": [
       "LinearRegression(copy_X=True, fit_intercept=True, n_jobs=1, normalize=False)"
      ]
     },
     "execution_count": 31,
     "metadata": {},
     "output_type": "execute_result"
    }
   ],
   "source": [
    "import sklearn.datasets as data\n",
    "import sklearn.linear_model as lm\n",
    "from sklearn.model_selection import train_test_split\n",
    "\n",
    "boston = data.load_boston()\n",
    "X = boston.data[:,5:6]\n",
    "y = boston.target\n",
    "\n",
    "X_train, X_test, y_train, y_test = train_test_split(X, y, test_size=0.3, random_state=112)\n",
    "\n",
    "lr = lm.LinearRegression()\n",
    "lr.fit(X_train, y_train)"
   ]
  },
  {
   "cell_type": "code",
   "execution_count": 32,
   "metadata": {
    "collapsed": true
   },
   "outputs": [],
   "source": [
    "y_pred = lr.predict(X_test)"
   ]
  },
  {
   "cell_type": "code",
   "execution_count": 33,
   "metadata": {
    "collapsed": true
   },
   "outputs": [],
   "source": [
    "from sklearn.metrics import mean_squared_error, mean_absolute_error, median_absolute_error, r2_score"
   ]
  },
  {
   "cell_type": "code",
   "execution_count": 34,
   "metadata": {},
   "outputs": [
    {
     "name": "stdout",
     "output_type": "stream",
     "text": [
      "48.2039684111\n",
      "4.70696134123\n",
      "2.88512150933\n",
      "0.422035691714\n"
     ]
    }
   ],
   "source": [
    "print(mean_squared_error(y_test, y_pred))\n",
    "print(mean_absolute_error(y_test, y_pred))\n",
    "print(median_absolute_error(y_test, y_pred))\n",
    "print(r2_score(y_test, y_pred))"
   ]
  },
  {
   "cell_type": "code",
   "execution_count": 35,
   "metadata": {
    "collapsed": true
   },
   "outputs": [],
   "source": [
    "y_train_pred = lr.predict(X_train)"
   ]
  },
  {
   "cell_type": "code",
   "execution_count": 36,
   "metadata": {},
   "outputs": [
    {
     "name": "stdout",
     "output_type": "stream",
     "text": [
      "41.6510201078\n",
      "4.32931028766\n",
      "2.86065870053\n",
      "0.508968494769\n"
     ]
    }
   ],
   "source": [
    "print(mean_squared_error(y_train, y_train_pred))\n",
    "print(mean_absolute_error(y_train, y_train_pred))\n",
    "print(median_absolute_error(y_train, y_train_pred))\n",
    "print(r2_score(y_train, y_train_pred))"
   ]
  },
  {
   "cell_type": "markdown",
   "metadata": {},
   "source": [
    "## Validation"
   ]
  },
  {
   "cell_type": "code",
   "execution_count": 37,
   "metadata": {
    "collapsed": true
   },
   "outputs": [],
   "source": [
    "iris = load_iris()\n",
    "\n",
    "X = iris.data\n",
    "y = iris.target\n",
    "svc = SVC(kernel='rbf', C=1, gamma=1)\n",
    "\n",
    "X_train, X_test, y_train, y_test = train_test_split(X, y, test_size=0.3, random_state=12)\n",
    "X_train, X_val, y_train, y_val = train_test_split(X_train, y_train, test_size=0.3, random_state=12)"
   ]
  },
  {
   "cell_type": "code",
   "execution_count": 38,
   "metadata": {},
   "outputs": [
    {
     "data": {
      "image/png": "[encoded data removed]",
      "text/plain": [
       "<matplotlib.figure.Figure at 0x7f94af0cc630>"
      ]
     },
     "metadata": {},
     "output_type": "display_data"
    }
   ],
   "source": [
    "fig = plt.figure(1, figsize=(9, 7))\n",
    "ax = fig.add_subplot(111)\n",
    "\n",
    "param_range = np.logspace(-3, 2, 200)\n",
    "train_scores, val_scores = [], []\n",
    "for g in param_range:\n",
    "    svc = SVC(kernel='rbf', C=1, gamma=g)\n",
    "    clf = svc.fit(X_train, y_train)\n",
    "    train_scores.append(clf.score(X_train, y_train))\n",
    "    val_scores.append(clf.score(X_val, y_val))\n",
    "best_param = param_range[np.argmax(val_scores)]\n",
    "\n",
    "plt.plot(param_range, train_scores, label=\"training sample\", color=\"b\", lw=2)\n",
    "plt.plot(param_range, val_scores, label=\"validation sample\", color=\"r\", lw=2)\n",
    "\n",
    "ax.set_xscale( \"log\" )\n",
    "plt.xlabel(\"gamma\")\n",
    "plt.ylabel(\"accuracy\")\n",
    "plt.axis(\"tight\")\n",
    "plt.legend(loc='center')\n",
    "\n",
    "plt.show()\n",
    "# fig.savefig('ML_0601.png', bbox_inches='tight')\n",
    "# plt.clf()"
   ]
  },
  {
   "cell_type": "code",
   "execution_count": 39,
   "metadata": {},
   "outputs": [
    {
     "name": "stdout",
     "output_type": "stream",
     "text": [
      "Best gamma value: 0.0382749447852\n"
     ]
    }
   ],
   "source": [
    "best_param = param_range[np.argmax(val_scores)]\n",
    "print(\"Best gamma value:\", best_param)"
   ]
  },
  {
   "cell_type": "code",
   "execution_count": 40,
   "metadata": {},
   "outputs": [
    {
     "name": "stdout",
     "output_type": "stream",
     "text": [
      "Best train accuracy: 0.972602739726\n",
      "Best val accuracy: 0.96875\n",
      "Best test accuracy: 0.955555555556\n"
     ]
    }
   ],
   "source": [
    "svc = SVC(kernel='rbf', C=1, gamma=best_param)\n",
    "clf = svc.fit(X_train, y_train)\n",
    "print(\"Best train accuracy:\", clf.score(X_train, y_train))\n",
    "print(\"Best val accuracy:\", clf.score(X_val, y_val))\n",
    "print(\"Best test accuracy:\", clf.score(X_test, y_test))"
   ]
  },
  {
   "cell_type": "markdown",
   "metadata": {},
   "source": [
    "## Cross Validation"
   ]
  },
  {
   "cell_type": "code",
   "execution_count": 41,
   "metadata": {},
   "outputs": [
    {
     "name": "stdout",
     "output_type": "stream",
     "text": [
      "Train accuracy: 0.981 +/- 0.046\n",
      "Cross validation accuracy: 0.988 +/- 0.031\n"
     ]
    },
    {
     "data": {
      "image/png": "[encoded data removed]",
      "text/plain": [
       "<matplotlib.figure.Figure at 0x7f94aeef9f98>"
      ]
     },
     "metadata": {},
     "output_type": "display_data"
    },
    {
     "name": "stdout",
     "output_type": "stream",
     "text": [
      "Best gamma value: 0.0811984499318\n",
      "Best train accuracy: 0.971428571429\n",
      "Best xval accuracy: 0.99375 +/- 0.0125\n",
      "Best test accuracy: 0.977777777778\n"
     ]
    }
   ],
   "source": [
    "import numpy as np\n",
    "import matplotlib.pyplot as plt\n",
    "\n",
    "from sklearn.datasets import load_iris\n",
    "from sklearn.svm import SVC\n",
    "from sklearn.model_selection import train_test_split\n",
    "from sklearn.model_selection import cross_val_score\n",
    "\n",
    "iris = load_iris()\n",
    "\n",
    "X = iris.data\n",
    "y = iris.target\n",
    "clf = SVC(kernel='rbf', C=1, gamma=1)\n",
    "\n",
    "#print(X.shape, y.shape)\n",
    "#print(len(X), len(y))\n",
    "\n",
    "#____________________________________________________________________\n",
    "# training test splitting\n",
    "X_train, X_test, y_train, y_test = train_test_split(X, y, test_size=0.3, random_state=12)\n",
    "\n",
    "\n",
    "#____________________________________________________________________\n",
    "scores = cross_val_score(clf, X_train, y_train, cv=5)\n",
    "print(\"Train accuracy: %0.3f +/- %0.3f\" % (scores.mean(), scores.std() * 2))\n",
    "\n",
    "\n",
    "from sklearn.model_selection import ShuffleSplit\n",
    "cv = ShuffleSplit(n_splits=5, test_size=0.3, random_state=21)\n",
    "scores = cross_val_score(clf, X_train, y_train, cv=cv)\n",
    "print(\"Cross validation accuracy: %0.3f +/- %0.3f\" % (scores.mean(), scores.std() * 2))\n",
    "\n",
    "#____________________________________________________________________\n",
    "# validation plot\n",
    "fig = plt.figure(1, figsize=(9, 7))\n",
    "ax = fig.add_subplot(111)\n",
    "\n",
    "param_range = np.logspace(-3, 2, 200)\n",
    "train_scores, xval_scores_mean, xval_scores_std = [], [], []\n",
    "for g in param_range:\n",
    "    svc = SVC(kernel='rbf', C=1, gamma=g)\n",
    "    clf = svc.fit(X_train, y_train)\n",
    "    train_scores.append(clf.score(X_train, y_train))\n",
    "    xval_scores_mean.append(cross_val_score(clf, X_train, y_train, cv=cv).mean())\n",
    "    xval_scores_std.append(cross_val_score(clf, X_train, y_train, cv=cv).std())\n",
    "xval_scores_mean = np.array(xval_scores_mean)\n",
    "xval_scores_std = np.array(xval_scores_std)\n",
    "\n",
    "best_param = param_range[np.argmax(xval_scores_mean)]\n",
    "best_param_id = np.argmax(xval_scores_mean)\n",
    "\n",
    "ax.plot(param_range, train_scores, label=\"training sample\", color=\"b\", lw=2)\n",
    "ax.plot(param_range, xval_scores_mean, label=\"cross validation\", color=\"r\", lw=2)\n",
    "\n",
    "plt.fill_between(param_range, xval_scores_mean - xval_scores_std,\n",
    "                 xval_scores_mean + xval_scores_std, alpha=0.2, color=\"r\")\n",
    "\n",
    "ax.set_xscale( \"log\" )\n",
    "\n",
    "plt.xlabel(\"gamma\")\n",
    "plt.ylabel(\"accuracy\")\n",
    "plt.axis(\"tight\")\n",
    "plt.legend(loc='center')\n",
    "\n",
    "plt.show()\n",
    "# fig.savefig('ML_0602.png', bbox_inches='tight')\n",
    "# plt.clf()\n",
    "\n",
    "#____________________________________________________________________\n",
    "# best param\n",
    "print(\"Best gamma value:\", best_param)\n",
    "svc = SVC(kernel='rbf', C=1, gamma=best_param)\n",
    "clf = svc.fit(X_train, y_train)\n",
    "print(\"Best train accuracy:\", clf.score(X_train, y_train))\n",
    "print(\"Best xval accuracy:\", xval_scores_mean[best_param_id],\"+/-\", xval_scores_std[best_param_id])\n",
    "\n",
    "#____________________________________________________________________\n",
    "# test score\n",
    "print(\"Best test accuracy:\", clf.score(X_test, y_test))"
   ]
  },
  {
   "cell_type": "markdown",
   "metadata": {},
   "source": [
    "## Grid-Suche"
   ]
  },
  {
   "cell_type": "code",
   "execution_count": 42,
   "metadata": {
    "collapsed": true
   },
   "outputs": [],
   "source": [
    "# GridSearchCV?"
   ]
  },
  {
   "cell_type": "code",
   "execution_count": 43,
   "metadata": {},
   "outputs": [
    {
     "name": "stdout",
     "output_type": "stream",
     "text": [
      "Best parameters: {'C': 1, 'gamma': 0.1, 'kernel': 'rbf'}\n",
      "Best score: 0.980952380952\n"
     ]
    }
   ],
   "source": [
    "from sklearn.model_selection import GridSearchCV\n",
    "\n",
    "X_train, X_test, y_train, y_test = train_test_split(X, y, test_size=0.3, random_state=12)\n",
    "\n",
    "grid_params = [ {'kernel': ['linear'], \n",
    "\t\t\t\t\t\t\t\t  'C': [0.1, 1, 10, 100, 1000]},\n",
    "                {'kernel': ['rbf'],\n",
    "                 'gamma': [1E-3, 1E-2, 1E-1, 1E0, 1E1],\n",
    "                 'C': [0.1, 1, 10, 100]}\n",
    "              ]\n",
    "clf = GridSearchCV(SVC(), grid_params, cv=5)\n",
    "clf.fit(X_train, y_train)\n",
    "\n",
    "print(\"Best parameters:\",clf.best_params_)\n",
    "print(\"Best score:\",clf.best_score_)"
   ]
  },
  {
   "cell_type": "markdown",
   "metadata": {},
   "source": [
    "## Zufallssuche"
   ]
  },
  {
   "cell_type": "code",
   "execution_count": 44,
   "metadata": {},
   "outputs": [
    {
     "name": "stdout",
     "output_type": "stream",
     "text": [
      "Best parameters: {'C': 0.64805740282408253, 'gamma': 0.82767738217526821, 'kernel': 'rbf'}\n",
      "Best score: 0.980952380952\n"
     ]
    }
   ],
   "source": [
    "from sklearn.model_selection import RandomizedSearchCV\n",
    "from scipy.stats import uniform\n",
    "\n",
    "rand_params = {'kernel': ['rbf'],\n",
    "               'gamma': uniform(1E-2, 1E0),\n",
    "               'C': uniform(0.1, 10)\n",
    "               }\n",
    "clf = RandomizedSearchCV(SVC(), rand_params, cv=5, n_iter=1000, random_state=112)\n",
    "clf.fit(X_train, y_train)\n",
    "\n",
    "print(\"Best parameters:\",clf.best_params_)\n",
    "print(\"Best score:\",clf.best_score_)"
   ]
  },
  {
   "cell_type": "code",
   "execution_count": null,
   "metadata": {
    "collapsed": true
   },
   "outputs": [],
   "source": []
  }
 ],
 "metadata": {
  "kernelspec": {
   "display_name": "Python 3",
   "language": "python",
   "name": "python3"
  },
  "language_info": {
   "codemirror_mode": {
    "name": "ipython",
    "version": 3
   },
   "file_extension": ".py",
   "mimetype": "text/x-python",
   "name": "python",
   "nbconvert_exporter": "python",
   "pygments_lexer": "ipython3",
   "version": "3.5.4"
  }
 },
 "nbformat": 4,
 "nbformat_minor": 2
}
