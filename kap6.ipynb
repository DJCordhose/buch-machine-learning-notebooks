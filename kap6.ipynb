{
  "nbformat": 4,
  "nbformat_minor": 0,
  "metadata": {
    "kernelspec": {
      "display_name": "Python 3",
      "language": "python",
      "name": "python3"
    },
    "language_info": {
      "codemirror_mode": {
        "name": "ipython",
        "version": 3
      },
      "file_extension": ".py",
      "mimetype": "text/x-python",
      "name": "python",
      "nbconvert_exporter": "python",
      "pygments_lexer": "ipython3",
      "version": "3.5.4"
    },
    "colab": {
      "name": "kap6.ipynb",
      "provenance": [],
      "include_colab_link": true
    }
  },
  "cells": [
    {
      "cell_type": "markdown",
      "metadata": {
        "id": "view-in-github",
        "colab_type": "text"
      },
      "source": [
        "<a href=\"https://colab.research.google.com/github/DJCordhose/buch-machine-learning-notebooks/blob/master/kap6.ipynb\" target=\"_parent\"><img src=\"https://colab.research.google.com/assets/colab-badge.svg\" alt=\"Open In Colab\"/></a>"
      ]
    },
    {
      "cell_type": "markdown",
      "metadata": {
        "id": "ByWWJfHio__x",
        "colab_type": "text"
      },
      "source": [
        "# Kapitel 6: Modellauswahl"
      ]
    },
    {
      "cell_type": "code",
      "metadata": {
        "id": "a3NB_S4Wo__z",
        "colab_type": "code",
        "colab": {}
      },
      "source": [
        "import warnings\n",
        "warnings.filterwarnings('ignore')"
      ],
      "execution_count": 1,
      "outputs": []
    },
    {
      "cell_type": "code",
      "metadata": {
        "id": "9G3usm7Mo__3",
        "colab_type": "code",
        "colab": {
          "base_uri": "https://localhost:8080/",
          "height": 34
        },
        "outputId": "6a6107df-1686-4bad-bcdb-f16ea4bd530e"
      },
      "source": [
        "%matplotlib inline\n",
        "%pylab inline"
      ],
      "execution_count": 2,
      "outputs": [
        {
          "output_type": "stream",
          "text": [
            "Populating the interactive namespace from numpy and matplotlib\n"
          ],
          "name": "stdout"
        }
      ]
    },
    {
      "cell_type": "code",
      "metadata": {
        "id": "c2vIQgDWo___",
        "colab_type": "code",
        "colab": {
          "base_uri": "https://localhost:8080/",
          "height": 34
        },
        "outputId": "7369d83b-dc54-43ce-c079-2f14c9a20c5d"
      },
      "source": [
        "import sklearn\n",
        "print(sklearn.__version__)"
      ],
      "execution_count": 3,
      "outputs": [
        {
          "output_type": "stream",
          "text": [
            "0.22.2.post1\n"
          ],
          "name": "stdout"
        }
      ]
    },
    {
      "cell_type": "code",
      "metadata": {
        "id": "5t4-2cVYpAAC",
        "colab_type": "code",
        "colab": {}
      },
      "source": [
        "import numpy as np"
      ],
      "execution_count": 4,
      "outputs": []
    },
    {
      "cell_type": "code",
      "metadata": {
        "id": "imGZeS-SpAAE",
        "colab_type": "code",
        "colab": {}
      },
      "source": [
        "import matplotlib.pyplot as plt"
      ],
      "execution_count": 5,
      "outputs": []
    },
    {
      "cell_type": "markdown",
      "metadata": {
        "id": "MwlKh9VIpAAH",
        "colab_type": "text"
      },
      "source": [
        "## Accuracy"
      ]
    },
    {
      "cell_type": "code",
      "metadata": {
        "id": "U1wx-UyqpAAH",
        "colab_type": "code",
        "colab": {}
      },
      "source": [
        "from sklearn.datasets import load_iris\n",
        "iris = load_iris()\n",
        "X = iris.data\n",
        "y = iris.target"
      ],
      "execution_count": 6,
      "outputs": []
    },
    {
      "cell_type": "code",
      "metadata": {
        "id": "JQYwJJhXpAAL",
        "colab_type": "code",
        "colab": {}
      },
      "source": [
        "from sklearn.model_selection import train_test_split\n",
        "X_train, X_test, y_train, y_test = train_test_split(X, y, test_size=0.3, random_state=8, stratify=y)"
      ],
      "execution_count": 7,
      "outputs": []
    },
    {
      "cell_type": "code",
      "metadata": {
        "id": "QhpmVtR2pAAO",
        "colab_type": "code",
        "colab": {
          "base_uri": "https://localhost:8080/",
          "height": 34
        },
        "outputId": "3e3144ea-c29a-4cc0-8608-2a1c0265506d"
      },
      "source": [
        "X_train.shape"
      ],
      "execution_count": 8,
      "outputs": [
        {
          "output_type": "execute_result",
          "data": {
            "text/plain": [
              "(105, 4)"
            ]
          },
          "metadata": {
            "tags": []
          },
          "execution_count": 8
        }
      ]
    },
    {
      "cell_type": "code",
      "metadata": {
        "id": "duzi0BkBpAAR",
        "colab_type": "code",
        "colab": {
          "base_uri": "https://localhost:8080/",
          "height": 34
        },
        "outputId": "828695c4-6c44-4a3d-d972-2d421d29a650"
      },
      "source": [
        "X_test.shape"
      ],
      "execution_count": 9,
      "outputs": [
        {
          "output_type": "execute_result",
          "data": {
            "text/plain": [
              "(45, 4)"
            ]
          },
          "metadata": {
            "tags": []
          },
          "execution_count": 9
        }
      ]
    },
    {
      "cell_type": "code",
      "metadata": {
        "id": "Mvyla-M1pAAU",
        "colab_type": "code",
        "colab": {}
      },
      "source": [
        "from sklearn.svm import SVC\n",
        "svc = SVC(kernel='rbf')\n",
        "clf = svc.fit(X_train, y_train)"
      ],
      "execution_count": 10,
      "outputs": []
    },
    {
      "cell_type": "code",
      "metadata": {
        "id": "HBVslSbcpAAX",
        "colab_type": "code",
        "colab": {}
      },
      "source": [
        "y_pred = clf.predict(X_test)"
      ],
      "execution_count": 11,
      "outputs": []
    },
    {
      "cell_type": "code",
      "metadata": {
        "id": "2JFmClFwpAAZ",
        "colab_type": "code",
        "colab": {
          "base_uri": "https://localhost:8080/",
          "height": 68
        },
        "outputId": "bd6489f4-6f4f-49cf-8642-be6e4d6f2c4d"
      },
      "source": [
        "y_pred"
      ],
      "execution_count": 12,
      "outputs": [
        {
          "output_type": "execute_result",
          "data": {
            "text/plain": [
              "array([1, 2, 2, 2, 1, 1, 2, 0, 1, 2, 1, 1, 2, 0, 0, 0, 0, 1, 0, 1, 1, 0,\n",
              "       1, 0, 2, 1, 2, 2, 1, 0, 0, 2, 0, 0, 0, 0, 2, 0, 1, 2, 2, 1, 2, 2,\n",
              "       1])"
            ]
          },
          "metadata": {
            "tags": []
          },
          "execution_count": 12
        }
      ]
    },
    {
      "cell_type": "code",
      "metadata": {
        "id": "nxdpwdjnpAAc",
        "colab_type": "code",
        "colab": {
          "base_uri": "https://localhost:8080/",
          "height": 34
        },
        "outputId": "b0080325-2eee-45c1-a9ca-b1df28d159d6"
      },
      "source": [
        "from sklearn.metrics import accuracy_score\n",
        "print(accuracy_score(y_test, y_pred))"
      ],
      "execution_count": 13,
      "outputs": [
        {
          "output_type": "stream",
          "text": [
            "0.9555555555555556\n"
          ],
          "name": "stdout"
        }
      ]
    },
    {
      "cell_type": "markdown",
      "metadata": {
        "id": "LigHb9oapAAe",
        "colab_type": "text"
      },
      "source": [
        "## Confusion Matrix"
      ]
    },
    {
      "cell_type": "code",
      "metadata": {
        "id": "TkZa1UtlpAAf",
        "colab_type": "code",
        "colab": {
          "base_uri": "https://localhost:8080/",
          "height": 68
        },
        "outputId": "2a65bd5d-7ba8-4a5c-b8ca-d25357f5852c"
      },
      "source": [
        "from sklearn.metrics import confusion_matrix\n",
        "print(confusion_matrix(y_test, y_pred))"
      ],
      "execution_count": 14,
      "outputs": [
        {
          "output_type": "stream",
          "text": [
            "[[15  0  0]\n",
            " [ 0 14  1]\n",
            " [ 0  1 14]]\n"
          ],
          "name": "stdout"
        }
      ]
    },
    {
      "cell_type": "code",
      "metadata": {
        "id": "bolBQB2XpAAh",
        "colab_type": "code",
        "colab": {
          "base_uri": "https://localhost:8080/",
          "height": 68
        },
        "outputId": "72e3c0d1-d8d1-4469-ae95-f862846b5f3a"
      },
      "source": [
        "import numpy as np\n",
        "cm = confusion_matrix(y_test, y_pred)\n",
        "cm_norm = cm.astype('float') / cm.sum(axis=1)[:, np.newaxis]\n",
        "print(cm_norm)"
      ],
      "execution_count": 15,
      "outputs": [
        {
          "output_type": "stream",
          "text": [
            "[[1.         0.         0.        ]\n",
            " [0.         0.93333333 0.06666667]\n",
            " [0.         0.06666667 0.93333333]]\n"
          ],
          "name": "stdout"
        }
      ]
    },
    {
      "cell_type": "code",
      "metadata": {
        "id": "q_tKAnWDpAAk",
        "colab_type": "code",
        "colab": {
          "base_uri": "https://localhost:8080/",
          "height": 300
        },
        "outputId": "55e3be04-73f4-474c-f001-0d86353d7c6f"
      },
      "source": [
        "import seaborn as sns\n",
        "sns.heatmap(cm_norm, annot=True, cmap=\"YlGnBu\")\n",
        "figure = plt.gcf()\n",
        "ax = figure.add_subplot(111)\n",
        "ax.set_xlabel('Prediction')\n",
        "ax.set_ylabel('Ground Truth')"
      ],
      "execution_count": 16,
      "outputs": [
        {
          "output_type": "execute_result",
          "data": {
            "text/plain": [
              "Text(33.0, 0.5, 'Ground Truth')"
            ]
          },
          "metadata": {
            "tags": []
          },
          "execution_count": 16
        },
        {
          "output_type": "display_data",
          "data": {
            "image/png": "[encoded data removed]",
            "text/plain": [
              "<Figure size 432x288 with 2 Axes>"
            ]
          },
          "metadata": {
            "tags": [],
            "needs_background": "light"
          }
        }
      ]
    },
    {
      "cell_type": "markdown",
      "metadata": {
        "id": "JK1q-bmRpAAo",
        "colab_type": "text"
      },
      "source": [
        "## Precision-Recall"
      ]
    },
    {
      "cell_type": "code",
      "metadata": {
        "id": "V_Ws0Tj1pAAp",
        "colab_type": "code",
        "colab": {
          "base_uri": "https://localhost:8080/",
          "height": 442
        },
        "outputId": "b5028ffa-b985-4f45-c5c6-b96758dc314b"
      },
      "source": [
        "import numpy as np\n",
        "import matplotlib.pyplot as plt\n",
        "\n",
        "from sklearn.datasets import load_iris\n",
        "from sklearn.svm import SVC\n",
        "from sklearn.model_selection import train_test_split\n",
        "from sklearn.multiclass import OneVsRestClassifier\n",
        "from sklearn.preprocessing import label_binarize\n",
        "from sklearn.metrics import precision_recall_curve\n",
        "from sklearn.metrics import average_precision_score\n",
        "\n",
        "colors = ['blue', 'orange', 'red']\n",
        "\n",
        "iris = load_iris()\n",
        "\n",
        "X = iris.data\n",
        "y = iris.target\n",
        "\n",
        "y = label_binarize(y, classes=[0, 1, 2])\n",
        "n_classes = y.shape[1]\n",
        "\n",
        "#random_state = np.random.RandomState(0)\n",
        "#n_samples, n_features = X.shape\n",
        "#X = np.c_[X, random_state.randn(n_samples, 500 * n_features)]\n",
        "\n",
        "#____________________________________________________________________\n",
        "# training test splitting\n",
        "X_train, X_test, y_train, y_test = train_test_split(X, y, test_size=0.5, random_state=19)\n",
        "\n",
        "\n",
        "one_vs_rest = OneVsRestClassifier(SVC(kernel='rbf', C=10, gamma=100, probability=True, random_state=12))\n",
        "y_score = one_vs_rest.fit(X_train, y_train).decision_function(X_test)\n",
        "y_true, y_pred = y_test, one_vs_rest.predict(X_test)\n",
        "\n",
        "precision = dict()\n",
        "recall = dict()\n",
        "average_precision = dict()\n",
        "for i in range(n_classes):\n",
        "    precision[i], recall[i], _ = precision_recall_curve(y_true[:, i],\n",
        "                                                        y_score[:, i])\n",
        "    average_precision[i] = average_precision_score(y_test[:, i], y_score[:, i])\n",
        "\n",
        "#____________________________________________________________________\n",
        "# Plot Precision-Recall curve for each class\n",
        "fig = plt.figure(1, figsize=(9, 7))\n",
        "plt.clf()\n",
        "for i, color in zip(range(n_classes), colors):\n",
        "    plt.plot(recall[i], precision[i], color=color, lw=2,\n",
        "             label='Precision-recall curve of {0} (area = {1:0.3f})'\n",
        "                   ''.format(iris.target_names[i], average_precision[i]))\n",
        "\n",
        "plt.xlim([0.0, 1.0])\n",
        "plt.ylim([0.0, 1.05])\n",
        "plt.xlabel('recall')\n",
        "plt.ylabel('precision')\n",
        "plt.legend(loc=\"lower right\")\n",
        "plt.show()\n",
        "# fig.savefig('ML_0604.png', bbox_inches='tight')\n",
        "# plt.clf()"
      ],
      "execution_count": 17,
      "outputs": [
        {
          "output_type": "display_data",
          "data": {
            "image/png": "[encoded data removed]",
            "text/plain": [
              "<Figure size 648x504 with 1 Axes>"
            ]
          },
          "metadata": {
            "tags": [],
            "needs_background": "light"
          }
        }
      ]
    },
    {
      "cell_type": "code",
      "metadata": {
        "id": "refxJvEDpAAr",
        "colab_type": "code",
        "colab": {
          "base_uri": "https://localhost:8080/",
          "height": 187
        },
        "outputId": "0bbfaa87-47e3-489c-a31f-10bc6af02ee3"
      },
      "source": [
        "from sklearn.metrics import classification_report\n",
        "\n",
        "iris = load_iris()\n",
        "X = iris.data\n",
        "y = iris.target\n",
        "\n",
        "X_train, X_test, y_train, y_test = train_test_split(X, y, test_size=0.3, random_state=42, stratify=y)\n",
        "\n",
        "svc = SVC(kernel='rbf', C=1, gamma=1)\n",
        "clf = svc.fit(X_train, y_train)\n",
        "y_true, y_pred = y_test, clf.predict(X_test)\n",
        "\n",
        "print(classification_report(y_true, y_pred, digits=3, target_names=iris.target_names))"
      ],
      "execution_count": 18,
      "outputs": [
        {
          "output_type": "stream",
          "text": [
            "              precision    recall  f1-score   support\n",
            "\n",
            "      setosa      1.000     1.000     1.000        15\n",
            "  versicolor      0.933     0.933     0.933        15\n",
            "   virginica      0.933     0.933     0.933        15\n",
            "\n",
            "    accuracy                          0.956        45\n",
            "   macro avg      0.956     0.956     0.956        45\n",
            "weighted avg      0.956     0.956     0.956        45\n",
            "\n"
          ],
          "name": "stdout"
        }
      ]
    },
    {
      "cell_type": "markdown",
      "metadata": {
        "id": "SOrSOWJXpAAt",
        "colab_type": "text"
      },
      "source": [
        "## Receiver Operating Characteristic (ROC) Kurve"
      ]
    },
    {
      "cell_type": "code",
      "metadata": {
        "id": "UX8tJjJppAAu",
        "colab_type": "code",
        "colab": {
          "base_uri": "https://localhost:8080/",
          "height": 442
        },
        "outputId": "dfbff735-a924-4e57-edb1-8717045716ad"
      },
      "source": [
        "from sklearn.datasets import load_iris\n",
        "from sklearn.svm import SVC\n",
        "from sklearn.model_selection import train_test_split\n",
        "from sklearn.multiclass import OneVsRestClassifier\n",
        "from sklearn.preprocessing import label_binarize\n",
        "from sklearn.metrics import roc_curve, auc\n",
        "\n",
        "from scipy import interp\n",
        "\n",
        "colors = ['blue', 'orange', 'red']\n",
        "\n",
        "iris = load_iris()\n",
        "\n",
        "X = iris.data\n",
        "y = iris.target\n",
        "\n",
        "y = label_binarize(y, classes=[0, 1, 2])\n",
        "n_classes = y.shape[1]\n",
        "\n",
        "#random_state = np.random.RandomState(0)\n",
        "#n_samples, n_features = X.shape\n",
        "#X = np.c_[X, random_state.randn(n_samples, 500 * n_features)]\n",
        "\n",
        "#____________________________________________________________________\n",
        "# training test splitting\n",
        "X_train, X_test, y_train, y_test = train_test_split(X, y, test_size=0.5, random_state=19)\n",
        "\n",
        "one_vs_rest = OneVsRestClassifier(SVC(kernel='rbf', C=10, gamma=100, probability=True, random_state=12))\n",
        "y_score = one_vs_rest.fit(X_train, y_train).decision_function(X_test)\n",
        "y_true, y_pred = y_test, one_vs_rest.predict(X_test)\n",
        "\n",
        "fpr = dict()\n",
        "tpr = dict()\n",
        "roc_auc = dict()\n",
        "for i in range(n_classes):\n",
        "    fpr[i], tpr[i], _ = roc_curve(y_true[:, i], y_score[:, i])\n",
        "    roc_auc[i] = auc(fpr[i], tpr[i])\n",
        "\n",
        "#____________________________________________________________________\n",
        "# Plot Precision-Recall curve for each class\n",
        "fig = plt.figure(1, figsize=(9, 7))\n",
        "plt.clf()\n",
        "for i, color in zip(range(n_classes), colors):\n",
        "    plt.plot(fpr[i], tpr[i], color=color, lw=2,\n",
        "             label='ROC curve of {0} (area = {1:0.3f})'\n",
        "                   ''.format(iris.target_names[i], roc_auc[i]))\n",
        "\n",
        "plt.xlim([0.0, 1.0])\n",
        "plt.ylim([0.0, 1.05])\n",
        "plt.xlabel('false positive rate')\n",
        "plt.ylabel('true positive rate')\n",
        "plt.legend(loc=\"lower right\")\n",
        "plt.show()\n",
        "# fig.savefig('ML_0603.png', bbox_inches='tight')\n",
        "# plt.clf()"
      ],
      "execution_count": 19,
      "outputs": [
        {
          "output_type": "display_data",
          "data": {
            "image/png": "[encoded data removed]",
            "text/plain": [
              "<Figure size 648x504 with 1 Axes>"
            ]
          },
          "metadata": {
            "tags": [],
            "needs_background": "light"
          }
        }
      ]
    },
    {
      "cell_type": "markdown",
      "metadata": {
        "id": "uIbRv1W7pAAx",
        "colab_type": "text"
      },
      "source": [
        "## Metrik für Regression"
      ]
    },
    {
      "cell_type": "code",
      "metadata": {
        "id": "n0kZzTLapAAy",
        "colab_type": "code",
        "colab": {
          "base_uri": "https://localhost:8080/",
          "height": 34
        },
        "outputId": "0e09b390-a0c4-4a29-a908-03962011112c"
      },
      "source": [
        "import sklearn.datasets as data\n",
        "import sklearn.linear_model as lm\n",
        "from sklearn.model_selection import train_test_split\n",
        "\n",
        "boston = data.load_boston()\n",
        "X = boston.data[:,5:6]\n",
        "y = boston.target\n",
        "\n",
        "X_train, X_test, y_train, y_test = train_test_split(X, y, test_size=0.3, random_state=112)\n",
        "\n",
        "lr = lm.LinearRegression()\n",
        "lr.fit(X_train, y_train)"
      ],
      "execution_count": 20,
      "outputs": [
        {
          "output_type": "execute_result",
          "data": {
            "text/plain": [
              "LinearRegression(copy_X=True, fit_intercept=True, n_jobs=None, normalize=False)"
            ]
          },
          "metadata": {
            "tags": []
          },
          "execution_count": 20
        }
      ]
    },
    {
      "cell_type": "code",
      "metadata": {
        "id": "cP0xks2upAA0",
        "colab_type": "code",
        "colab": {}
      },
      "source": [
        "y_pred = lr.predict(X_test)"
      ],
      "execution_count": 21,
      "outputs": []
    },
    {
      "cell_type": "code",
      "metadata": {
        "id": "2Y6EbCUEpAA3",
        "colab_type": "code",
        "colab": {}
      },
      "source": [
        "from sklearn.metrics import mean_squared_error, mean_absolute_error, median_absolute_error, r2_score"
      ],
      "execution_count": 22,
      "outputs": []
    },
    {
      "cell_type": "code",
      "metadata": {
        "id": "Pjm4pLjvpAA5",
        "colab_type": "code",
        "colab": {
          "base_uri": "https://localhost:8080/",
          "height": 85
        },
        "outputId": "c3374693-a657-48a7-e740-c4f3633d276a"
      },
      "source": [
        "print(mean_squared_error(y_test, y_pred))\n",
        "print(mean_absolute_error(y_test, y_pred))\n",
        "print(median_absolute_error(y_test, y_pred))\n",
        "print(r2_score(y_test, y_pred))"
      ],
      "execution_count": 23,
      "outputs": [
        {
          "output_type": "stream",
          "text": [
            "48.20396841106558\n",
            "4.7069613412271085\n",
            "2.8851215093348284\n",
            "0.42203569171371\n"
          ],
          "name": "stdout"
        }
      ]
    },
    {
      "cell_type": "code",
      "metadata": {
        "id": "9A4bgzjVpAA7",
        "colab_type": "code",
        "colab": {}
      },
      "source": [
        "y_train_pred = lr.predict(X_train)"
      ],
      "execution_count": 24,
      "outputs": []
    },
    {
      "cell_type": "code",
      "metadata": {
        "id": "aEN_iNDbpAA-",
        "colab_type": "code",
        "colab": {
          "base_uri": "https://localhost:8080/",
          "height": 85
        },
        "outputId": "b385ea16-25ea-4767-9f23-484a90823993"
      },
      "source": [
        "print(mean_squared_error(y_train, y_train_pred))\n",
        "print(mean_absolute_error(y_train, y_train_pred))\n",
        "print(median_absolute_error(y_train, y_train_pred))\n",
        "print(r2_score(y_train, y_train_pred))"
      ],
      "execution_count": 25,
      "outputs": [
        {
          "output_type": "stream",
          "text": [
            "41.651020107769185\n",
            "4.329310287661524\n",
            "2.8606587005308413\n",
            "0.5089684947687656\n"
          ],
          "name": "stdout"
        }
      ]
    },
    {
      "cell_type": "markdown",
      "metadata": {
        "id": "PNvS7c6ypABB",
        "colab_type": "text"
      },
      "source": [
        "## Validation"
      ]
    },
    {
      "cell_type": "code",
      "metadata": {
        "id": "iBtsjRfSpABB",
        "colab_type": "code",
        "colab": {}
      },
      "source": [
        "iris = load_iris()\n",
        "\n",
        "X = iris.data\n",
        "y = iris.target\n",
        "svc = SVC(kernel='rbf', C=1, gamma=1)\n",
        "\n",
        "X_train, X_test, y_train, y_test = train_test_split(X, y, test_size=0.3, random_state=12)\n",
        "X_train, X_val, y_train, y_val = train_test_split(X_train, y_train, test_size=0.3, random_state=12)"
      ],
      "execution_count": 26,
      "outputs": []
    },
    {
      "cell_type": "code",
      "metadata": {
        "id": "wxplEnGVpABE",
        "colab_type": "code",
        "colab": {
          "base_uri": "https://localhost:8080/",
          "height": 446
        },
        "outputId": "58868d44-40a6-4b7d-fe4f-39e8622e1813"
      },
      "source": [
        "fig = plt.figure(1, figsize=(9, 7))\n",
        "ax = fig.add_subplot(111)\n",
        "\n",
        "param_range = np.logspace(-3, 2, 200)\n",
        "train_scores, val_scores = [], []\n",
        "for g in param_range:\n",
        "    svc = SVC(kernel='rbf', C=1, gamma=g)\n",
        "    clf = svc.fit(X_train, y_train)\n",
        "    train_scores.append(clf.score(X_train, y_train))\n",
        "    val_scores.append(clf.score(X_val, y_val))\n",
        "best_param = param_range[np.argmax(val_scores)]\n",
        "\n",
        "plt.plot(param_range, train_scores, label=\"training sample\", color=\"b\", lw=2)\n",
        "plt.plot(param_range, val_scores, label=\"validation sample\", color=\"r\", lw=2)\n",
        "\n",
        "ax.set_xscale( \"log\" )\n",
        "plt.xlabel(\"gamma\")\n",
        "plt.ylabel(\"accuracy\")\n",
        "plt.axis(\"tight\")\n",
        "plt.legend(loc='center')\n",
        "\n",
        "plt.show()\n",
        "# fig.savefig('ML_0601.png', bbox_inches='tight')\n",
        "# plt.clf()"
      ],
      "execution_count": 27,
      "outputs": [
        {
          "output_type": "display_data",
          "data": {
            "image/png": "[encoded data removed]",
            "text/plain": [
              "<Figure size 648x504 with 1 Axes>"
            ]
          },
          "metadata": {
            "tags": [],
            "needs_background": "light"
          }
        }
      ]
    },
    {
      "cell_type": "code",
      "metadata": {
        "id": "ZSW_LbtJpABH",
        "colab_type": "code",
        "colab": {
          "base_uri": "https://localhost:8080/",
          "height": 34
        },
        "outputId": "6a9f1039-c1db-43ae-a845-6f80fe952194"
      },
      "source": [
        "best_param = param_range[np.argmax(val_scores)]\n",
        "print(\"Best gamma value:\", best_param)"
      ],
      "execution_count": 28,
      "outputs": [
        {
          "output_type": "stream",
          "text": [
            "Best gamma value: 0.038274944785163134\n"
          ],
          "name": "stdout"
        }
      ]
    },
    {
      "cell_type": "code",
      "metadata": {
        "id": "8LDcduB-pABK",
        "colab_type": "code",
        "colab": {
          "base_uri": "https://localhost:8080/",
          "height": 68
        },
        "outputId": "85cc251b-355c-4ac8-c58e-992769ac4fdc"
      },
      "source": [
        "svc = SVC(kernel='rbf', C=1, gamma=best_param)\n",
        "clf = svc.fit(X_train, y_train)\n",
        "print(\"Best train accuracy:\", clf.score(X_train, y_train))\n",
        "print(\"Best val accuracy:\", clf.score(X_val, y_val))\n",
        "print(\"Best test accuracy:\", clf.score(X_test, y_test))"
      ],
      "execution_count": 29,
      "outputs": [
        {
          "output_type": "stream",
          "text": [
            "Best train accuracy: 0.9726027397260274\n",
            "Best val accuracy: 0.96875\n",
            "Best test accuracy: 0.9555555555555556\n"
          ],
          "name": "stdout"
        }
      ]
    },
    {
      "cell_type": "markdown",
      "metadata": {
        "id": "N_oHbm8hpABL",
        "colab_type": "text"
      },
      "source": [
        "## Cross Validation"
      ]
    },
    {
      "cell_type": "code",
      "metadata": {
        "id": "Xhkvx9n6pABM",
        "colab_type": "code",
        "colab": {
          "base_uri": "https://localhost:8080/",
          "height": 548
        },
        "outputId": "faf6e283-3190-4550-e06b-e652e8487396"
      },
      "source": [
        "import numpy as np\n",
        "import matplotlib.pyplot as plt\n",
        "\n",
        "from sklearn.datasets import load_iris\n",
        "from sklearn.svm import SVC\n",
        "from sklearn.model_selection import train_test_split\n",
        "from sklearn.model_selection import cross_val_score\n",
        "\n",
        "iris = load_iris()\n",
        "\n",
        "X = iris.data\n",
        "y = iris.target\n",
        "clf = SVC(kernel='rbf', C=1, gamma=1)\n",
        "\n",
        "#print(X.shape, y.shape)\n",
        "#print(len(X), len(y))\n",
        "\n",
        "#____________________________________________________________________\n",
        "# training test splitting\n",
        "X_train, X_test, y_train, y_test = train_test_split(X, y, test_size=0.3, random_state=12)\n",
        "\n",
        "\n",
        "#____________________________________________________________________\n",
        "scores = cross_val_score(clf, X_train, y_train, cv=5)\n",
        "print(\"Train accuracy: %0.3f +/- %0.3f\" % (scores.mean(), scores.std() * 2))\n",
        "\n",
        "\n",
        "from sklearn.model_selection import ShuffleSplit\n",
        "cv = ShuffleSplit(n_splits=5, test_size=0.3, random_state=21)\n",
        "scores = cross_val_score(clf, X_train, y_train, cv=cv)\n",
        "print(\"Cross validation accuracy: %0.3f +/- %0.3f\" % (scores.mean(), scores.std() * 2))\n",
        "\n",
        "#____________________________________________________________________\n",
        "# validation plot\n",
        "fig = plt.figure(1, figsize=(9, 7))\n",
        "ax = fig.add_subplot(111)\n",
        "\n",
        "param_range = np.logspace(-3, 2, 200)\n",
        "train_scores, xval_scores_mean, xval_scores_std = [], [], []\n",
        "for g in param_range:\n",
        "    svc = SVC(kernel='rbf', C=1, gamma=g)\n",
        "    clf = svc.fit(X_train, y_train)\n",
        "    train_scores.append(clf.score(X_train, y_train))\n",
        "    xval_scores_mean.append(cross_val_score(clf, X_train, y_train, cv=cv).mean())\n",
        "    xval_scores_std.append(cross_val_score(clf, X_train, y_train, cv=cv).std())\n",
        "xval_scores_mean = np.array(xval_scores_mean)\n",
        "xval_scores_std = np.array(xval_scores_std)\n",
        "\n",
        "best_param = param_range[np.argmax(xval_scores_mean)]\n",
        "best_param_id = np.argmax(xval_scores_mean)\n",
        "\n",
        "ax.plot(param_range, train_scores, label=\"training sample\", color=\"b\", lw=2)\n",
        "ax.plot(param_range, xval_scores_mean, label=\"cross validation\", color=\"r\", lw=2)\n",
        "\n",
        "plt.fill_between(param_range, xval_scores_mean - xval_scores_std,\n",
        "                 xval_scores_mean + xval_scores_std, alpha=0.2, color=\"r\")\n",
        "\n",
        "ax.set_xscale( \"log\" )\n",
        "\n",
        "plt.xlabel(\"gamma\")\n",
        "plt.ylabel(\"accuracy\")\n",
        "plt.axis(\"tight\")\n",
        "plt.legend(loc='center')\n",
        "\n",
        "plt.show()\n",
        "# fig.savefig('ML_0602.png', bbox_inches='tight')\n",
        "# plt.clf()\n",
        "\n",
        "#____________________________________________________________________\n",
        "# best param\n",
        "print(\"Best gamma value:\", best_param)\n",
        "svc = SVC(kernel='rbf', C=1, gamma=best_param)\n",
        "clf = svc.fit(X_train, y_train)\n",
        "print(\"Best train accuracy:\", clf.score(X_train, y_train))\n",
        "print(\"Best xval accuracy:\", xval_scores_mean[best_param_id],\"+/-\", xval_scores_std[best_param_id])\n",
        "\n",
        "#____________________________________________________________________\n",
        "# test score\n",
        "print(\"Best test accuracy:\", clf.score(X_test, y_test))"
      ],
      "execution_count": 30,
      "outputs": [
        {
          "output_type": "stream",
          "text": [
            "Train accuracy: 0.981 +/- 0.047\n",
            "Cross validation accuracy: 0.988 +/- 0.031\n"
          ],
          "name": "stdout"
        },
        {
          "output_type": "display_data",
          "data": {
            "image/png": "[encoded data removed]",
            "text/plain": [
              "<Figure size 648x504 with 1 Axes>"
            ]
          },
          "metadata": {
            "tags": [],
            "needs_background": "light"
          }
        },
        {
          "output_type": "stream",
          "text": [
            "Best gamma value: 0.08119844993184012\n",
            "Best train accuracy: 0.9714285714285714\n",
            "Best xval accuracy: 0.99375 +/- 0.012499999999999999\n",
            "Best test accuracy: 0.9777777777777777\n"
          ],
          "name": "stdout"
        }
      ]
    },
    {
      "cell_type": "markdown",
      "metadata": {
        "id": "tW8CtAHypABO",
        "colab_type": "text"
      },
      "source": [
        "## Grid-Suche"
      ]
    },
    {
      "cell_type": "code",
      "metadata": {
        "id": "qw92frhypABP",
        "colab_type": "code",
        "colab": {}
      },
      "source": [
        "# GridSearchCV?"
      ],
      "execution_count": 31,
      "outputs": []
    },
    {
      "cell_type": "code",
      "metadata": {
        "id": "42ElT9hbpABS",
        "colab_type": "code",
        "colab": {
          "base_uri": "https://localhost:8080/",
          "height": 51
        },
        "outputId": "d20658f5-7bc6-4052-db08-83ac0d5c61d1"
      },
      "source": [
        "from sklearn.model_selection import GridSearchCV\n",
        "\n",
        "X_train, X_test, y_train, y_test = train_test_split(X, y, test_size=0.3, random_state=12)\n",
        "\n",
        "grid_params = [ {'kernel': ['linear'], \n",
        "\t\t\t\t\t\t\t\t  'C': [0.1, 1, 10, 100, 1000]},\n",
        "                {'kernel': ['rbf'],\n",
        "                 'gamma': [1E-3, 1E-2, 1E-1, 1E0, 1E1],\n",
        "                 'C': [0.1, 1, 10, 100]}\n",
        "              ]\n",
        "clf = GridSearchCV(SVC(), grid_params, cv=5)\n",
        "clf.fit(X_train, y_train)\n",
        "\n",
        "print(\"Best parameters:\",clf.best_params_)\n",
        "print(\"Best score:\",clf.best_score_)"
      ],
      "execution_count": 32,
      "outputs": [
        {
          "output_type": "stream",
          "text": [
            "Best parameters: {'C': 1, 'gamma': 0.1, 'kernel': 'rbf'}\n",
            "Best score: 0.980952380952381\n"
          ],
          "name": "stdout"
        }
      ]
    },
    {
      "cell_type": "markdown",
      "metadata": {
        "id": "tr-TDXCrpABU",
        "colab_type": "text"
      },
      "source": [
        "## Zufallssuche"
      ]
    },
    {
      "cell_type": "code",
      "metadata": {
        "id": "0vSLASAmpABV",
        "colab_type": "code",
        "colab": {
          "base_uri": "https://localhost:8080/",
          "height": 51
        },
        "outputId": "ff70c9b4-9d68-47eb-b5c8-4c71a104e32c"
      },
      "source": [
        "from sklearn.model_selection import RandomizedSearchCV\n",
        "from scipy.stats import uniform\n",
        "\n",
        "rand_params = {'kernel': ['rbf'],\n",
        "               'gamma': uniform(1E-2, 1E0),\n",
        "               'C': uniform(0.1, 10)\n",
        "               }\n",
        "clf = RandomizedSearchCV(SVC(), rand_params, cv=5, n_iter=1000, random_state=112)\n",
        "clf.fit(X_train, y_train)\n",
        "\n",
        "print(\"Best parameters:\",clf.best_params_)\n",
        "print(\"Best score:\",clf.best_score_)"
      ],
      "execution_count": 33,
      "outputs": [
        {
          "output_type": "stream",
          "text": [
            "Best parameters: {'C': 0.6480574028240825, 'gamma': 0.8276773821752682, 'kernel': 'rbf'}\n",
            "Best score: 0.980952380952381\n"
          ],
          "name": "stdout"
        }
      ]
    },
    {
      "cell_type": "code",
      "metadata": {
        "id": "LbYupHy8pABY",
        "colab_type": "code",
        "colab": {}
      },
      "source": [
        ""
      ],
      "execution_count": 33,
      "outputs": []
    }
  ]
}