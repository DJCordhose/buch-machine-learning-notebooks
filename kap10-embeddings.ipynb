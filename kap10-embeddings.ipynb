{
  "cells": [
    {
      "cell_type": "markdown",
      "metadata": {
        "id": "view-in-github",
        "colab_type": "text"
      },
      "source": [
        "<a href=\"https://colab.research.google.com/github/DJCordhose/buch-machine-learning-notebooks/blob/master/kap10-embeddings.ipynb\" target=\"_parent\"><img src=\"https://colab.research.google.com/assets/colab-badge.svg\" alt=\"Open In Colab\"/></a>"
      ]
    },
    {
      "cell_type": "markdown",
      "id": "912d7d82",
      "metadata": {
        "id": "912d7d82"
      },
      "source": [
        "# Embeddings\n"
      ]
    },
    {
      "cell_type": "code",
      "execution_count": 3,
      "id": "BhKtZIx7BC8S",
      "metadata": {
        "colab": {
          "base_uri": "https://localhost:8080/"
        },
        "id": "BhKtZIx7BC8S",
        "outputId": "57782a45-dde0-4c45-fa92-8ea305eddc4a"
      },
      "outputs": [
        {
          "output_type": "execute_result",
          "data": {
            "text/plain": [
              "True"
            ]
          },
          "metadata": {},
          "execution_count": 3
        }
      ],
      "source": [
        "import sys\n",
        "IN_COLAB = 'google.colab' in sys.modules # True if running in Google Colab.\n",
        "IN_COLAB"
      ]
    },
    {
      "cell_type": "code",
      "execution_count": 4,
      "metadata": {
        "id": "NnkgKmBYxFhH"
      },
      "outputs": [],
      "source": [
        "if IN_COLAB:\n",
        "    !pip install -q openai\n",
        "    !pip install -q umap-learn"
      ],
      "id": "NnkgKmBYxFhH"
    },
    {
      "cell_type": "markdown",
      "metadata": {
        "id": "iNr6IVnwxFhI"
      },
      "source": [
        "# OpenAI Client"
      ],
      "id": "iNr6IVnwxFhI"
    },
    {
      "cell_type": "code",
      "execution_count": 5,
      "metadata": {
        "id": "LIhBdwOXxFhI"
      },
      "outputs": [],
      "source": [
        "# TODO: hier https://platform.openai.com/api-keys den eigenen Key erzeugen und eintragen\n",
        "OPENAI_API_KEY = '...'\n",
        "\n",
        "assert OPENAI_API_KEY != '...', \"Bitte tragen Sie Ihren OpenAI API Key ein!\""
      ],
      "id": "LIhBdwOXxFhI"
    },
    {
      "cell_type": "code",
      "execution_count": 6,
      "metadata": {
        "id": "IS-E6uzlxFhI"
      },
      "outputs": [],
      "source": [
        "from openai import OpenAI\n",
        "\n",
        "client = OpenAI(\n",
        "  api_key=OPENAI_API_KEY\n",
        ")\n",
        "models = client.models.list()"
      ],
      "id": "IS-E6uzlxFhI"
    },
    {
      "cell_type": "markdown",
      "metadata": {
        "id": "bvxM3JP6xFhJ"
      },
      "source": [
        "# Embeddings\n",
        "\n",
        "Einführung\n",
        "* https://qdrant.tech/documentation/concepts/search/\n",
        "* https://openai.com/blog/new-embedding-models-and-api-updates\n",
        "\n",
        "Links\n",
        "* https://openai.com/blog/introducing-text-and-code-embeddings\n",
        "* https://platform.openai.com/docs/guides/embeddings\n",
        "* https://platform.openai.com/docs/quickstart?context=python&lang=Embeddings\n",
        "* https://platform.openai.com/docs/guides/embeddings/what-are-embeddings\n",
        "\n"
      ],
      "id": "bvxM3JP6xFhJ"
    },
    {
      "cell_type": "code",
      "execution_count": 66,
      "metadata": {
        "id": "_4GmcIEjxFhK",
        "outputId": "0706d14e-6fee-468e-e9e3-79638fe6ad6b",
        "colab": {
          "base_uri": "https://localhost:8080/"
        }
      },
      "outputs": [
        {
          "output_type": "execute_result",
          "data": {
            "text/plain": [
              "(8, 1536)"
            ]
          },
          "metadata": {},
          "execution_count": 66
        }
      ],
      "source": [
        "import numpy as np\n",
        "\n",
        "texts=[\n",
        "    \"Das Essen war toll und die Bedienung war super!\",\n",
        "    # \"Uns hat das Restaurant sehr gefallen, sowohl die Speisen als auch der Service!\",\n",
        "    # \"Was für ein übles Erlebnis, meine Nudeln waren viel zu weich und es hat ewig gedauert, bis wir unser bedient wurden.\",\n",
        "    \"Top Restaurant\",\n",
        "    # \"Elendiger Fraß\",\n",
        "    \"Ich hatte nach dem Essen Salmonellen\",\n",
        "    # \"Es war alles super nachdem ich mir den Magen hab auspumpen lassen\",\n",
        "    \"Ach, was für ein schöner Abend (not)\",\n",
        "    \"Hunde mögen gern Knochen.\",\n",
        "    \"Katzen lieben Wollknäuel\",\n",
        "    \"Wie hat es euch gefallen?\",\n",
        "    \"Was mögen Tiere?\"\n",
        "]\n",
        "\n",
        "response = client.embeddings.create(\n",
        "    # https://openai.com/blog/new-embedding-models-and-api-updates\n",
        "  # model=\"text-embedding-ada-002\",  # Klassiker\n",
        "  model=\"text-embedding-3-small\",  # Das Neue in klein\n",
        "  # model=\"text-embedding-3-large\",  # Das Neue in groß\n",
        "  input=texts\n",
        ")\n",
        "\n",
        "embeddings = np.array([embedding.embedding for embedding in response.data])\n",
        "embeddings.shape"
      ],
      "id": "_4GmcIEjxFhK"
    },
    {
      "cell_type": "markdown",
      "source": [
        "### Ähnlichkeit und Nähe von Embeddings\n",
        "\n",
        "https://qdrant.tech/documentation/concepts/search/"
      ],
      "metadata": {
        "id": "d0IvBtq47Zpz"
      },
      "id": "d0IvBtq47Zpz"
    },
    {
      "cell_type": "code",
      "execution_count": 67,
      "metadata": {
        "id": "jRHIkChNxFhK",
        "outputId": "c44951a8-bbfb-481c-a30c-e5b35fe23732",
        "colab": {
          "base_uri": "https://localhost:8080/"
        }
      },
      "outputs": [
        {
          "output_type": "execute_result",
          "data": {
            "text/plain": [
              "array([[1.  , 0.41, 0.45, 0.41, 0.3 , 0.23, 0.42, 0.29],\n",
              "       [0.41, 1.  , 0.26, 0.24, 0.14, 0.08, 0.15, 0.14],\n",
              "       [0.45, 0.26, 1.  , 0.33, 0.27, 0.2 , 0.31, 0.22],\n",
              "       [0.41, 0.24, 0.33, 1.  , 0.24, 0.27, 0.44, 0.3 ],\n",
              "       [0.3 , 0.14, 0.27, 0.24, 1.  , 0.57, 0.28, 0.5 ],\n",
              "       [0.23, 0.08, 0.2 , 0.27, 0.57, 1.  , 0.3 , 0.48],\n",
              "       [0.42, 0.15, 0.31, 0.44, 0.28, 0.3 , 1.  , 0.44],\n",
              "       [0.29, 0.14, 0.22, 0.3 , 0.5 , 0.48, 0.44, 1.  ]])"
            ]
          },
          "metadata": {},
          "execution_count": 67
        }
      ],
      "source": [
        "from sklearn.metrics.pairwise import cosine_similarity\n",
        "\n",
        "cos_sim_matrix = cosine_similarity(embeddings)\n",
        "cos_sim_matrix = np.round(cos_sim_matrix, 2)\n",
        "cos_sim_matrix"
      ],
      "id": "jRHIkChNxFhK"
    },
    {
      "cell_type": "code",
      "execution_count": 68,
      "metadata": {
        "id": "fATk5G8yxFhK",
        "outputId": "d90e2555-99a9-4f56-8a45-3b0d642c8d84",
        "colab": {
          "base_uri": "https://localhost:8080/",
          "height": 366
        }
      },
      "outputs": [
        {
          "output_type": "stream",
          "name": "stderr",
          "text": [
            "/usr/local/lib/python3.10/dist-packages/umap/umap_.py:1945: UserWarning: n_jobs value 1 overridden to 1 by setting random_state. Use no seed for parallelism.\n",
            "  warn(f\"n_jobs value {self.n_jobs} overridden to 1 by setting random_state. Use no seed for parallelism.\")\n"
          ]
        },
        {
          "output_type": "display_data",
          "data": {
            "text/plain": [
              "<Figure size 1000x600 with 1 Axes>"
            ],
            "image/png": "[encoded data removed]"
          },
          "metadata": {}
        }
      ],
      "source": [
        "import matplotlib.pyplot as plt\n",
        "\n",
        "# from sklearn.manifold import TSNE\n",
        "# tsne = TSNE(n_components=2, random_state=42, perplexity=3)\n",
        "# reduced_embeddings = tsne.fit_transform(embeddings)\n",
        "\n",
        "# bestes Ergebnis bei etwas mehr Beispielen\n",
        "from umap import UMAP\n",
        "umap = UMAP(n_components=2, random_state=21, n_neighbors=3)\n",
        "reduced_embeddings = umap.fit_transform(embeddings)\n",
        "\n",
        "# macht als einziges Sinn bei ganz wenigen Beispielen\n",
        "# from sklearn.decomposition import PCA\n",
        "# pca = PCA(n_components=2, random_state=42)\n",
        "# reduced_embeddings = pca.fit_transform(embeddings)\n",
        "\n",
        "plt.figure(figsize=(10, 6))\n",
        "for i, label in enumerate(texts):\n",
        "    x, y = reduced_embeddings[i, :]\n",
        "    plt.scatter(x, y)\n",
        "    plt.annotate(label, (x, y), textcoords=\"offset points\", xytext=(0,10), ha='center')\n",
        "\n",
        "plt.xticks([])\n",
        "plt.yticks([])\n",
        "plt.gca().spines['right'].set_visible(False)\n",
        "plt.gca().spines['top'].set_visible(False)\n",
        "plt.gca().spines['left'].set_visible(False)\n",
        "plt.gca().spines['bottom'].set_visible(False)\n",
        "\n",
        "# plt.xlabel('1. Hauptkomponente')\n",
        "# plt.ylabel('2. Hauptkomponente')\n",
        "\n",
        "# add space between title and plot\n",
        "plt.subplots_adjust(top=1.5)\n",
        "\n",
        "# plt.title('2D Darstellung der Text-Embeddings', fontsize=16)\n",
        "\n",
        "# compress distance between points\n",
        "plt.gca().set_aspect('equal', 'box')\n",
        "\n",
        "\n",
        "plt.show();"
      ],
      "id": "fATk5G8yxFhK"
    },
    {
      "cell_type": "code",
      "source": [],
      "metadata": {
        "id": "dPh0zjzqSNyN"
      },
      "id": "dPh0zjzqSNyN",
      "execution_count": 65,
      "outputs": []
    }
  ],
  "metadata": {
    "colab": {
      "provenance": [],
      "include_colab_link": true
    },
    "kernelspec": {
      "display_name": "Python 3",
      "language": "python",
      "name": "python3"
    },
    "language_info": {
      "codemirror_mode": {
        "name": "ipython",
        "version": 3
      },
      "file_extension": ".py",
      "mimetype": "text/x-python",
      "name": "python",
      "nbconvert_exporter": "python",
      "pygments_lexer": "ipython3",
      "version": "3.9.18"
    }
  },
  "nbformat": 4,
  "nbformat_minor": 5
}