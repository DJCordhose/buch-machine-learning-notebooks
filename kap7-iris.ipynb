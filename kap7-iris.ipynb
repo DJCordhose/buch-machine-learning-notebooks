{
  "nbformat": 4,
  "nbformat_minor": 0,
  "metadata": {
    "kernelspec": {
      "name": "python3",
      "display_name": "Python 3"
    },
    "colab": {
      "name": "kap7-iris.ipynb",
      "provenance": [],
      "include_colab_link": true
    }
  },
  "cells": [
    {
      "cell_type": "markdown",
      "metadata": {
        "id": "view-in-github",
        "colab_type": "text"
      },
      "source": [
        "<a href=\"https://colab.research.google.com/github/DJCordhose/buch-machine-learning-notebooks/blob/master/kap7-iris.ipynb\" target=\"_parent\"><img src=\"https://colab.research.google.com/assets/colab-badge.svg\" alt=\"Open In Colab\"/></a>"
      ]
    },
    {
      "cell_type": "markdown",
      "metadata": {
        "id": "v4eRosoGpl8_",
        "colab_type": "text"
      },
      "source": [
        "# Kapitel 7: Neuronale Netzwerke - Grundlagen"
      ]
    },
    {
      "cell_type": "code",
      "metadata": {
        "id": "KYbHMTMjpl8_",
        "colab_type": "code",
        "colab": {}
      },
      "source": [
        "import warnings\n",
        "warnings.filterwarnings('ignore')"
      ],
      "execution_count": 1,
      "outputs": []
    },
    {
      "cell_type": "code",
      "metadata": {
        "id": "83Ttu0Pnpl9D",
        "colab_type": "code",
        "colab": {
          "base_uri": "https://localhost:8080/",
          "height": 34
        },
        "outputId": "85822c65-8551-41f3-9bf1-ea0dfc9291f6"
      },
      "source": [
        "%matplotlib inline\n",
        "%pylab inline"
      ],
      "execution_count": 2,
      "outputs": [
        {
          "output_type": "stream",
          "text": [
            "Populating the interactive namespace from numpy and matplotlib\n"
          ],
          "name": "stdout"
        }
      ]
    },
    {
      "cell_type": "code",
      "metadata": {
        "id": "rJ1DvBlApl9G",
        "colab_type": "code",
        "colab": {}
      },
      "source": [
        "import matplotlib.pylab as plt\n",
        "import numpy as np"
      ],
      "execution_count": 3,
      "outputs": []
    },
    {
      "cell_type": "code",
      "metadata": {
        "id": "g0rvxIp4pl9J",
        "colab_type": "code",
        "colab": {}
      },
      "source": [
        "colors = 'bwr'#['b','y','r']\n",
        "CMAP = colors#plt.cm.rainbow"
      ],
      "execution_count": 4,
      "outputs": []
    },
    {
      "cell_type": "code",
      "metadata": {
        "id": "n5AGdJTFpl9N",
        "colab_type": "code",
        "colab": {
          "base_uri": "https://localhost:8080/",
          "height": 34
        },
        "outputId": "0b1b66a4-ee5b-4b89-c789-5ca2e27f31f4"
      },
      "source": [
        "import sklearn\n",
        "print(sklearn.__version__)"
      ],
      "execution_count": 5,
      "outputs": [
        {
          "output_type": "stream",
          "text": [
            "0.22.2.post1\n"
          ],
          "name": "stdout"
        }
      ]
    },
    {
      "cell_type": "code",
      "metadata": {
        "id": "f5bwPx-ipl9P",
        "colab_type": "code",
        "colab": {
          "base_uri": "https://localhost:8080/",
          "height": 34
        },
        "outputId": "49d8eea1-8c56-439a-f5bc-a82f32e6b6aa"
      },
      "source": [
        "import tensorflow as tf\n",
        "print(tf.__version__)"
      ],
      "execution_count": 6,
      "outputs": [
        {
          "output_type": "stream",
          "text": [
            "2.3.0\n"
          ],
          "name": "stdout"
        }
      ]
    },
    {
      "cell_type": "code",
      "metadata": {
        "id": "ssBE6lbypl9S",
        "colab_type": "code",
        "colab": {
          "base_uri": "https://localhost:8080/",
          "height": 34
        },
        "outputId": "92738183-eed5-40d3-ccf6-f0d3e4e810af"
      },
      "source": [
        "import keras\n",
        "print(keras.__version__)"
      ],
      "execution_count": 7,
      "outputs": [
        {
          "output_type": "stream",
          "text": [
            "2.4.3\n"
          ],
          "name": "stdout"
        }
      ]
    },
    {
      "cell_type": "code",
      "metadata": {
        "id": "_9-yW3Skpl9V",
        "colab_type": "code",
        "colab": {
          "base_uri": "https://localhost:8080/",
          "height": 34
        },
        "outputId": "19437069-f13b-4c88-f89b-e4635850f0e2"
      },
      "source": [
        "import pandas as pd\n",
        "print(pd.__version__)"
      ],
      "execution_count": 8,
      "outputs": [
        {
          "output_type": "stream",
          "text": [
            "1.0.5\n"
          ],
          "name": "stdout"
        }
      ]
    },
    {
      "cell_type": "markdown",
      "metadata": {
        "id": "lKGPNR5Vpl9Y",
        "colab_type": "text"
      },
      "source": [
        "## Iris mit Neuronalen Netzwerken"
      ]
    },
    {
      "cell_type": "code",
      "metadata": {
        "id": "5h7LeQWFpl9Y",
        "colab_type": "code",
        "colab": {}
      },
      "source": [
        "from sklearn.datasets import load_iris\n",
        "iris = load_iris()"
      ],
      "execution_count": 9,
      "outputs": []
    },
    {
      "cell_type": "code",
      "metadata": {
        "id": "FtNqwr6Gpl9a",
        "colab_type": "code",
        "colab": {
          "base_uri": "https://localhost:8080/",
          "height": 1000
        },
        "outputId": "0caf111b-fe2f-4113-987b-ef3bdaf81934"
      },
      "source": [
        "print(iris.DESCR)"
      ],
      "execution_count": 10,
      "outputs": [
        {
          "output_type": "stream",
          "text": [
            ".. _iris_dataset:\n",
            "\n",
            "Iris plants dataset\n",
            "--------------------\n",
            "\n",
            "**Data Set Characteristics:**\n",
            "\n",
            "    :Number of Instances: 150 (50 in each of three classes)\n",
            "    :Number of Attributes: 4 numeric, predictive attributes and the class\n",
            "    :Attribute Information:\n",
            "        - sepal length in cm\n",
            "        - sepal width in cm\n",
            "        - petal length in cm\n",
            "        - petal width in cm\n",
            "        - class:\n",
            "                - Iris-Setosa\n",
            "                - Iris-Versicolour\n",
            "                - Iris-Virginica\n",
            "                \n",
            "    :Summary Statistics:\n",
            "\n",
            "    ============== ==== ==== ======= ===== ====================\n",
            "                    Min  Max   Mean    SD   Class Correlation\n",
            "    ============== ==== ==== ======= ===== ====================\n",
            "    sepal length:   4.3  7.9   5.84   0.83    0.7826\n",
            "    sepal width:    2.0  4.4   3.05   0.43   -0.4194\n",
            "    petal length:   1.0  6.9   3.76   1.76    0.9490  (high!)\n",
            "    petal width:    0.1  2.5   1.20   0.76    0.9565  (high!)\n",
            "    ============== ==== ==== ======= ===== ====================\n",
            "\n",
            "    :Missing Attribute Values: None\n",
            "    :Class Distribution: 33.3% for each of 3 classes.\n",
            "    :Creator: R.A. Fisher\n",
            "    :Donor: Michael Marshall (MARSHALL%PLU@io.arc.nasa.gov)\n",
            "    :Date: July, 1988\n",
            "\n",
            "The famous Iris database, first used by Sir R.A. Fisher. The dataset is taken\n",
            "from Fisher's paper. Note that it's the same as in R, but not as in the UCI\n",
            "Machine Learning Repository, which has two wrong data points.\n",
            "\n",
            "This is perhaps the best known database to be found in the\n",
            "pattern recognition literature.  Fisher's paper is a classic in the field and\n",
            "is referenced frequently to this day.  (See Duda & Hart, for example.)  The\n",
            "data set contains 3 classes of 50 instances each, where each class refers to a\n",
            "type of iris plant.  One class is linearly separable from the other 2; the\n",
            "latter are NOT linearly separable from each other.\n",
            "\n",
            ".. topic:: References\n",
            "\n",
            "   - Fisher, R.A. \"The use of multiple measurements in taxonomic problems\"\n",
            "     Annual Eugenics, 7, Part II, 179-188 (1936); also in \"Contributions to\n",
            "     Mathematical Statistics\" (John Wiley, NY, 1950).\n",
            "   - Duda, R.O., & Hart, P.E. (1973) Pattern Classification and Scene Analysis.\n",
            "     (Q327.D83) John Wiley & Sons.  ISBN 0-471-22361-1.  See page 218.\n",
            "   - Dasarathy, B.V. (1980) \"Nosing Around the Neighborhood: A New System\n",
            "     Structure and Classification Rule for Recognition in Partially Exposed\n",
            "     Environments\".  IEEE Transactions on Pattern Analysis and Machine\n",
            "     Intelligence, Vol. PAMI-2, No. 1, 67-71.\n",
            "   - Gates, G.W. (1972) \"The Reduced Nearest Neighbor Rule\".  IEEE Transactions\n",
            "     on Information Theory, May 1972, 431-433.\n",
            "   - See also: 1988 MLC Proceedings, 54-64.  Cheeseman et al\"s AUTOCLASS II\n",
            "     conceptual clustering system finds 3 classes in the data.\n",
            "   - Many, many more ...\n"
          ],
          "name": "stdout"
        }
      ]
    },
    {
      "cell_type": "code",
      "metadata": {
        "id": "LEmm7Weipl9d",
        "colab_type": "code",
        "colab": {
          "base_uri": "https://localhost:8080/",
          "height": 1000
        },
        "outputId": "9fe728e2-2ea0-486c-e520-a3e958b7b3d4"
      },
      "source": [
        "iris_df = pd.DataFrame(iris.data, columns=iris.feature_names)\n",
        "pd.plotting.scatter_matrix(iris_df, c=iris.target, cmap=CMAP, edgecolor='black', figsize=(20, 20))"
      ],
      "execution_count": 11,
      "outputs": [
        {
          "output_type": "execute_result",
          "data": {
            "text/plain": [
              "array([[<matplotlib.axes._subplots.AxesSubplot object at 0x7f4580aec588>,\n",
              "        <matplotlib.axes._subplots.AxesSubplot object at 0x7f4580aca828>,\n",
              "        <matplotlib.axes._subplots.AxesSubplot object at 0x7f4580a85a90>,\n",
              "        <matplotlib.axes._subplots.AxesSubplot object at 0x7f4580a38cf8>],\n",
              "       [<matplotlib.axes._subplots.AxesSubplot object at 0x7f45809edf60>,\n",
              "        <matplotlib.axes._subplots.AxesSubplot object at 0x7f45809aa208>,\n",
              "        <matplotlib.axes._subplots.AxesSubplot object at 0x7f458095f470>,\n",
              "        <matplotlib.axes._subplots.AxesSubplot object at 0x7f45809916a0>],\n",
              "       [<matplotlib.axes._subplots.AxesSubplot object at 0x7f4580991710>,\n",
              "        <matplotlib.axes._subplots.AxesSubplot object at 0x7f45808f9ba8>,\n",
              "        <matplotlib.axes._subplots.AxesSubplot object at 0x7f45808ade10>,\n",
              "        <matplotlib.axes._subplots.AxesSubplot object at 0x7f458086c0b8>],\n",
              "       [<matplotlib.axes._subplots.AxesSubplot object at 0x7f458081e320>,\n",
              "        <matplotlib.axes._subplots.AxesSubplot object at 0x7f45807d2588>,\n",
              "        <matplotlib.axes._subplots.AxesSubplot object at 0x7f45808057f0>,\n",
              "        <matplotlib.axes._subplots.AxesSubplot object at 0x7f45807b8a58>]],\n",
              "      dtype=object)"
            ]
          },
          "metadata": {
            "tags": []
          },
          "execution_count": 11
        },
        {
          "output_type": "display_data",
          "data": {
            "image/png": "[encoded data removed]",
            "text/plain": [
              "<Figure size 1440x1440 with 16 Axes>"
            ]
          },
          "metadata": {
            "tags": [],
            "needs_background": "light"
          }
        }
      ]
    },
    {
      "cell_type": "code",
      "metadata": {
        "id": "oa3iYStkpl9f",
        "colab_type": "code",
        "colab": {}
      },
      "source": [
        "# plt.savefig('ML_0701.png', bbox_inches='tight')"
      ],
      "execution_count": 12,
      "outputs": []
    },
    {
      "cell_type": "markdown",
      "metadata": {
        "id": "c-exG806pl9g",
        "colab_type": "text"
      },
      "source": [
        "## Das künstliche Neuron"
      ]
    },
    {
      "cell_type": "code",
      "metadata": {
        "id": "PrYfSutGpl9h",
        "colab_type": "code",
        "colab": {}
      },
      "source": [
        "w0 = 3\n",
        "w1 = -4\n",
        "w2 = 2\n",
        "\n",
        "def neuron_no_activation(x1, x2):\n",
        "    sum = w0 + x1 * w1 + x2 * w2\n",
        "    return sum"
      ],
      "execution_count": 13,
      "outputs": []
    },
    {
      "cell_type": "code",
      "metadata": {
        "id": "Yhw0DMUWpl9j",
        "colab_type": "code",
        "colab": {
          "base_uri": "https://localhost:8080/",
          "height": 34
        },
        "outputId": "dcc8b20c-be1b-43b6-c60c-2c130cfd3c5b"
      },
      "source": [
        "iris.data[0]"
      ],
      "execution_count": 14,
      "outputs": [
        {
          "output_type": "execute_result",
          "data": {
            "text/plain": [
              "array([5.1, 3.5, 1.4, 0.2])"
            ]
          },
          "metadata": {
            "tags": []
          },
          "execution_count": 14
        }
      ]
    },
    {
      "cell_type": "code",
      "metadata": {
        "id": "rVqDyYWKpl9l",
        "colab_type": "code",
        "colab": {
          "base_uri": "https://localhost:8080/",
          "height": 34
        },
        "outputId": "4208fc66-5604-4799-e353-65e52fea9e98"
      },
      "source": [
        "neuron_no_activation(5.1, 3.5)"
      ],
      "execution_count": 15,
      "outputs": [
        {
          "output_type": "execute_result",
          "data": {
            "text/plain": [
              "-10.399999999999999"
            ]
          },
          "metadata": {
            "tags": []
          },
          "execution_count": 15
        }
      ]
    },
    {
      "cell_type": "markdown",
      "metadata": {
        "id": "TpcxmzDspl9o",
        "colab_type": "text"
      },
      "source": [
        "### Activation Functions"
      ]
    },
    {
      "cell_type": "code",
      "metadata": {
        "id": "wP80A7hkpl9o",
        "colab_type": "code",
        "colab": {}
      },
      "source": [
        "def centerAxis(uses_negative=False):\n",
        "    # http://matplotlib.org/api/pyplot_api.html#matplotlib.pyplot.plot\n",
        "    ax = plt.gca()\n",
        "    ax.spines['left'].set_position('center')\n",
        "    if uses_negative:\n",
        "        ax.spines['bottom'].set_position('center')\n",
        "    ax.spines['right'].set_color('none')\n",
        "    ax.spines['top'].set_color('none')\n",
        "    ax.xaxis.set_ticks_position('bottom')\n",
        "    ax.yaxis.set_ticks_position('left')"
      ],
      "execution_count": 16,
      "outputs": []
    },
    {
      "cell_type": "markdown",
      "metadata": {
        "id": "yNq7ZiU0pl9r",
        "colab_type": "text"
      },
      "source": [
        "#### Step Function: abrupter, nicht stetig differenzierbarer Übergang zwischen 0 und 1"
      ]
    },
    {
      "cell_type": "code",
      "metadata": {
        "id": "ZqUtjXQ1pl9r",
        "colab_type": "code",
        "colab": {}
      },
      "source": [
        "def np_step(X):\n",
        "    return 0.5 * (np.sign(X) + 1)"
      ],
      "execution_count": 17,
      "outputs": []
    },
    {
      "cell_type": "code",
      "metadata": {
        "id": "BIBsOI4epl9t",
        "colab_type": "code",
        "colab": {
          "base_uri": "https://localhost:8080/",
          "height": 282
        },
        "outputId": "f6676a2a-0eda-4b1f-b4ee-a9aab2298c2d"
      },
      "source": [
        "x = np.arange(-10,10,0.01)\n",
        "y = np_step(x)\n",
        "\n",
        "centerAxis()\n",
        "plt.plot(x, y, lw=3)"
      ],
      "execution_count": 18,
      "outputs": [
        {
          "output_type": "execute_result",
          "data": {
            "text/plain": [
              "[<matplotlib.lines.Line2D at 0x7f4581ffe1d0>]"
            ]
          },
          "metadata": {
            "tags": []
          },
          "execution_count": 18
        },
        {
          "output_type": "display_data",
          "data": {
            "image/png": "[encoded data removed]",
            "text/plain": [
              "<Figure size 432x288 with 1 Axes>"
            ]
          },
          "metadata": {
            "tags": [],
            "needs_background": "light"
          }
        }
      ]
    },
    {
      "cell_type": "markdown",
      "metadata": {
        "id": "trtAvxTmpl9w",
        "colab_type": "text"
      },
      "source": [
        "#### Sigmoid Function: Fließender Übergang zwischen 0 und 1"
      ]
    },
    {
      "cell_type": "code",
      "metadata": {
        "id": "BN8Y7fXPpl9x",
        "colab_type": "code",
        "colab": {}
      },
      "source": [
        "def np_sigmoid(X):\n",
        "    return 1 / (1 + np.exp(X * -1))"
      ],
      "execution_count": 19,
      "outputs": []
    },
    {
      "cell_type": "code",
      "metadata": {
        "id": "HyC7OoVnpl9z",
        "colab_type": "code",
        "colab": {
          "base_uri": "https://localhost:8080/",
          "height": 282
        },
        "outputId": "bc6f637c-c76a-4afd-89bc-2f27b6622948"
      },
      "source": [
        "x = np.arange(-10,10,0.01)\n",
        "y = np_sigmoid(x)\n",
        "\n",
        "centerAxis()\n",
        "plt.plot(x,y,lw=3)"
      ],
      "execution_count": 20,
      "outputs": [
        {
          "output_type": "execute_result",
          "data": {
            "text/plain": [
              "[<matplotlib.lines.Line2D at 0x7f45806bf160>]"
            ]
          },
          "metadata": {
            "tags": []
          },
          "execution_count": 20
        },
        {
          "output_type": "display_data",
          "data": {
            "image/png": "[encoded data removed]",
            "text/plain": [
              "<Figure size 432x288 with 1 Axes>"
            ]
          },
          "metadata": {
            "tags": [],
            "needs_background": "light"
          }
        }
      ]
    },
    {
      "cell_type": "markdown",
      "metadata": {
        "id": "WAsTI6Chpl91",
        "colab_type": "text"
      },
      "source": [
        "#### Tangens Hyperbolicus Function: Fließender Übergang zwischen -1 und 1"
      ]
    },
    {
      "cell_type": "code",
      "metadata": {
        "id": "_WDP-00Lpl92",
        "colab_type": "code",
        "colab": {
          "base_uri": "https://localhost:8080/",
          "height": 282
        },
        "outputId": "b9014b7e-a164-4e50-bec4-76d1a0071941"
      },
      "source": [
        "x = np.arange(-10,10,0.01)\n",
        "y = np.tanh(x)\n",
        "\n",
        "centerAxis()\n",
        "plt.plot(x,y,lw=3)"
      ],
      "execution_count": 21,
      "outputs": [
        {
          "output_type": "execute_result",
          "data": {
            "text/plain": [
              "[<matplotlib.lines.Line2D at 0x7f457e7eef98>]"
            ]
          },
          "metadata": {
            "tags": []
          },
          "execution_count": 21
        },
        {
          "output_type": "display_data",
          "data": {
            "image/png": "[encoded data removed]",
            "text/plain": [
              "<Figure size 432x288 with 1 Axes>"
            ]
          },
          "metadata": {
            "tags": [],
            "needs_background": "light"
          }
        }
      ]
    },
    {
      "cell_type": "markdown",
      "metadata": {
        "id": "JWZW6pkrpl95",
        "colab_type": "text"
      },
      "source": [
        "#### Relu: Einfach zu berechnen, setzt kompletten negativen Wertebereich auf 0"
      ]
    },
    {
      "cell_type": "code",
      "metadata": {
        "id": "6LTGgI99pl96",
        "colab_type": "code",
        "colab": {}
      },
      "source": [
        "def np_relu(x):\n",
        "    return np.maximum(0, x)"
      ],
      "execution_count": 22,
      "outputs": []
    },
    {
      "cell_type": "code",
      "metadata": {
        "id": "mqtXbFQvpl98",
        "colab_type": "code",
        "colab": {
          "base_uri": "https://localhost:8080/",
          "height": 282
        },
        "outputId": "b560795b-7df1-412f-a8b3-726a99006aff"
      },
      "source": [
        "x = np.arange(-10,10,0.01)\n",
        "y = np_relu(x)\n",
        "\n",
        "centerAxis()\n",
        "plt.plot(x,y,lw=3)"
      ],
      "execution_count": 23,
      "outputs": [
        {
          "output_type": "execute_result",
          "data": {
            "text/plain": [
              "[<matplotlib.lines.Line2D at 0x7f457e79f630>]"
            ]
          },
          "metadata": {
            "tags": []
          },
          "execution_count": 23
        },
        {
          "output_type": "display_data",
          "data": {
            "image/png": "[encoded data removed]",
            "text/plain": [
              "<Figure size 432x288 with 1 Axes>"
            ]
          },
          "metadata": {
            "tags": [],
            "needs_background": "light"
          }
        }
      ]
    },
    {
      "cell_type": "code",
      "metadata": {
        "id": "pDcTe_YHpl9-",
        "colab_type": "code",
        "colab": {}
      },
      "source": [
        "# https://docs.python.org/3/library/math.html\n",
        "import math as math\n",
        "def sigmoid(x):\n",
        "    return 1 / (1 + math.exp(x * -1))\n",
        "\n",
        "w0 = 3\n",
        "w1 = -4\n",
        "w2 = 2\n",
        "\n",
        "def neuron(x1, x2):\n",
        "    sum = w0 + x1 * w1 + x2 * w2\n",
        "    return sigmoid(sum)"
      ],
      "execution_count": 24,
      "outputs": []
    },
    {
      "cell_type": "code",
      "metadata": {
        "id": "8jQTVmi6pl-A",
        "colab_type": "code",
        "colab": {
          "base_uri": "https://localhost:8080/",
          "height": 34
        },
        "outputId": "e7ce10f8-c0a0-43c5-971c-6dd870ee5649"
      },
      "source": [
        "neuron(5.1, 3.5)"
      ],
      "execution_count": 25,
      "outputs": [
        {
          "output_type": "execute_result",
          "data": {
            "text/plain": [
              "3.043155690056538e-05"
            ]
          },
          "metadata": {
            "tags": []
          },
          "execution_count": 25
        }
      ]
    },
    {
      "cell_type": "code",
      "metadata": {
        "id": "-Ci-Qwh3pl-C",
        "colab_type": "code",
        "colab": {}
      },
      "source": [
        "# Version that takes as many values as you like\n",
        "weights_with_bias = np.array([3, -4, 2])\n",
        "def np_neuron(X):\n",
        "    inputs_with_1_for_bias = np.concatenate((np.array([1]), X))\n",
        "    return np_sigmoid(np.sum(inputs_with_1_for_bias*weights_with_bias));"
      ],
      "execution_count": 26,
      "outputs": []
    },
    {
      "cell_type": "code",
      "metadata": {
        "id": "_kIgFmAhpl-F",
        "colab_type": "code",
        "colab": {
          "base_uri": "https://localhost:8080/",
          "height": 34
        },
        "outputId": "11c1ab58-7f3b-4ce0-818c-b4a5b069ffc8"
      },
      "source": [
        "np_neuron(np.array([5.1, 3.5]))"
      ],
      "execution_count": 27,
      "outputs": [
        {
          "output_type": "execute_result",
          "data": {
            "text/plain": [
              "3.043155690056538e-05"
            ]
          },
          "metadata": {
            "tags": []
          },
          "execution_count": 27
        }
      ]
    },
    {
      "cell_type": "markdown",
      "metadata": {
        "id": "fcynLtuepl-H",
        "colab_type": "text"
      },
      "source": [
        "## Unser erste Neuronales Netz mit Keras"
      ]
    },
    {
      "cell_type": "code",
      "metadata": {
        "id": "Uv0NsPfhpl-H",
        "colab_type": "code",
        "colab": {}
      },
      "source": [
        "from keras.layers import Input\n",
        "inputs = Input(shape=(4, ))"
      ],
      "execution_count": 28,
      "outputs": []
    },
    {
      "cell_type": "code",
      "metadata": {
        "id": "8id5zq2Bpl-K",
        "colab_type": "code",
        "colab": {}
      },
      "source": [
        "from keras.layers import Dense\n",
        "fc = Dense(3)(inputs)"
      ],
      "execution_count": 29,
      "outputs": []
    },
    {
      "cell_type": "code",
      "metadata": {
        "id": "RiFhyYi3pl-L",
        "colab_type": "code",
        "colab": {}
      },
      "source": [
        "from keras.models import Model\n",
        "model = Model(inputs=inputs, outputs=fc)"
      ],
      "execution_count": 30,
      "outputs": []
    },
    {
      "cell_type": "code",
      "metadata": {
        "id": "wKyUqPAupl-N",
        "colab_type": "code",
        "colab": {
          "base_uri": "https://localhost:8080/",
          "height": 221
        },
        "outputId": "29c0ce17-5d53-4174-cd6b-863383e59ae7"
      },
      "source": [
        "model.summary()"
      ],
      "execution_count": 31,
      "outputs": [
        {
          "output_type": "stream",
          "text": [
            "Model: \"functional_1\"\n",
            "_________________________________________________________________\n",
            "Layer (type)                 Output Shape              Param #   \n",
            "=================================================================\n",
            "input_1 (InputLayer)         [(None, 4)]               0         \n",
            "_________________________________________________________________\n",
            "dense (Dense)                (None, 3)                 15        \n",
            "=================================================================\n",
            "Total params: 15\n",
            "Trainable params: 15\n",
            "Non-trainable params: 0\n",
            "_________________________________________________________________\n"
          ],
          "name": "stdout"
        }
      ]
    },
    {
      "cell_type": "code",
      "metadata": {
        "id": "lhrAh8GApl-P",
        "colab_type": "code",
        "colab": {}
      },
      "source": [
        "model.compile(optimizer='adam',\n",
        "              loss='categorical_crossentropy',\n",
        "              metrics=['accuracy'])"
      ],
      "execution_count": 32,
      "outputs": []
    },
    {
      "cell_type": "code",
      "metadata": {
        "id": "-WcVU5Rgpl-R",
        "colab_type": "code",
        "colab": {
          "base_uri": "https://localhost:8080/",
          "height": 34
        },
        "outputId": "42dd925d-cc8c-4594-cffb-ed5843f9f511"
      },
      "source": [
        "model.predict(np.array([[ 5.1,  3.5,  1.4,  0.2]]))"
      ],
      "execution_count": 33,
      "outputs": [
        {
          "output_type": "execute_result",
          "data": {
            "text/plain": [
              "array([[-7.2692757,  6.4111967,  5.368948 ]], dtype=float32)"
            ]
          },
          "metadata": {
            "tags": []
          },
          "execution_count": 33
        }
      ]
    },
    {
      "cell_type": "code",
      "metadata": {
        "id": "i1OwT7TWpl-T",
        "colab_type": "code",
        "colab": {}
      },
      "source": [
        "inputs = Input(shape=(4, ))\n",
        "fc = Dense(3)(inputs)\n",
        "predictions = Dense(3, activation='softmax')(fc)\n",
        "model = Model(inputs=inputs, outputs=predictions)"
      ],
      "execution_count": 34,
      "outputs": []
    },
    {
      "cell_type": "code",
      "metadata": {
        "id": "KTxUA8jOpl-X",
        "colab_type": "code",
        "colab": {
          "base_uri": "https://localhost:8080/",
          "height": 255
        },
        "outputId": "f404a16b-f8f0-417b-f768-87548a4328d1"
      },
      "source": [
        "model.summary()"
      ],
      "execution_count": 35,
      "outputs": [
        {
          "output_type": "stream",
          "text": [
            "Model: \"functional_3\"\n",
            "_________________________________________________________________\n",
            "Layer (type)                 Output Shape              Param #   \n",
            "=================================================================\n",
            "input_2 (InputLayer)         [(None, 4)]               0         \n",
            "_________________________________________________________________\n",
            "dense_1 (Dense)              (None, 3)                 15        \n",
            "_________________________________________________________________\n",
            "dense_2 (Dense)              (None, 3)                 12        \n",
            "=================================================================\n",
            "Total params: 27\n",
            "Trainable params: 27\n",
            "Non-trainable params: 0\n",
            "_________________________________________________________________\n"
          ],
          "name": "stdout"
        }
      ]
    },
    {
      "cell_type": "code",
      "metadata": {
        "id": "mGszqEMDpl-a",
        "colab_type": "code",
        "colab": {}
      },
      "source": [
        "model.compile(optimizer='adam',\n",
        "              loss='categorical_crossentropy',\n",
        "              metrics=['accuracy'])"
      ],
      "execution_count": 36,
      "outputs": []
    },
    {
      "cell_type": "code",
      "metadata": {
        "id": "MI_BdRKbpl-c",
        "colab_type": "code",
        "colab": {
          "base_uri": "https://localhost:8080/",
          "height": 34
        },
        "outputId": "a1b7dcd4-05ac-46bc-b813-bc3ea1f2f1d4"
      },
      "source": [
        "model.predict(np.array([[ 5.1,  3.5,  1.4,  0.2]]))"
      ],
      "execution_count": 37,
      "outputs": [
        {
          "output_type": "execute_result",
          "data": {
            "text/plain": [
              "array([[0.00201356, 0.21839522, 0.7795912 ]], dtype=float32)"
            ]
          },
          "metadata": {
            "tags": []
          },
          "execution_count": 37
        }
      ]
    },
    {
      "cell_type": "markdown",
      "metadata": {
        "collapsed": true,
        "id": "sdoL_Z7bpl-e",
        "colab_type": "text"
      },
      "source": [
        "# Training"
      ]
    },
    {
      "cell_type": "code",
      "metadata": {
        "id": "fQ1oRcd-pl-e",
        "colab_type": "code",
        "colab": {
          "base_uri": "https://localhost:8080/",
          "height": 34
        },
        "outputId": "e2597cc0-5451-48da-f469-42d0fe6884e3"
      },
      "source": [
        "X = np.array(iris.data)\n",
        "y = np.array(iris.target)\n",
        "X.shape, y.shape"
      ],
      "execution_count": 38,
      "outputs": [
        {
          "output_type": "execute_result",
          "data": {
            "text/plain": [
              "((150, 4), (150,))"
            ]
          },
          "metadata": {
            "tags": []
          },
          "execution_count": 38
        }
      ]
    },
    {
      "cell_type": "code",
      "metadata": {
        "id": "c4LEAqRlpl-h",
        "colab_type": "code",
        "colab": {
          "base_uri": "https://localhost:8080/",
          "height": 34
        },
        "outputId": "db3f7986-2b35-45d7-b081-30475080d3a8"
      },
      "source": [
        "y[100]"
      ],
      "execution_count": 39,
      "outputs": [
        {
          "output_type": "execute_result",
          "data": {
            "text/plain": [
              "2"
            ]
          },
          "metadata": {
            "tags": []
          },
          "execution_count": 39
        }
      ]
    },
    {
      "cell_type": "code",
      "metadata": {
        "id": "-2gMaXFGpl-m",
        "colab_type": "code",
        "colab": {}
      },
      "source": [
        "from keras.utils.np_utils import to_categorical\n",
        "\n",
        "num_categories = 3\n",
        "\n",
        "y = to_categorical(y, num_categories)"
      ],
      "execution_count": 40,
      "outputs": []
    },
    {
      "cell_type": "code",
      "metadata": {
        "id": "_GdCZmogpl-o",
        "colab_type": "code",
        "colab": {
          "base_uri": "https://localhost:8080/",
          "height": 34
        },
        "outputId": "9b966b62-bff3-4274-bb14-12b4dab702e7"
      },
      "source": [
        "y[100]"
      ],
      "execution_count": 41,
      "outputs": [
        {
          "output_type": "execute_result",
          "data": {
            "text/plain": [
              "array([0., 0., 1.], dtype=float32)"
            ]
          },
          "metadata": {
            "tags": []
          },
          "execution_count": 41
        }
      ]
    },
    {
      "cell_type": "code",
      "metadata": {
        "id": "TJL9v7tQpl-r",
        "colab_type": "code",
        "colab": {}
      },
      "source": [
        "from sklearn.model_selection import train_test_split\n",
        "X_train, X_test, y_train, y_test = train_test_split(X, y, test_size=0.20, random_state=42, stratify=y)"
      ],
      "execution_count": 42,
      "outputs": []
    },
    {
      "cell_type": "code",
      "metadata": {
        "id": "2W10jFK_pl-t",
        "colab_type": "code",
        "colab": {
          "base_uri": "https://localhost:8080/",
          "height": 34
        },
        "outputId": "cf0f8104-5b4c-410d-fe9b-bfafde834311"
      },
      "source": [
        "X_train.shape, X_test.shape, y_train.shape, y_test.shape"
      ],
      "execution_count": 43,
      "outputs": [
        {
          "output_type": "execute_result",
          "data": {
            "text/plain": [
              "((120, 4), (30, 4), (120, 3), (30, 3))"
            ]
          },
          "metadata": {
            "tags": []
          },
          "execution_count": 43
        }
      ]
    },
    {
      "cell_type": "code",
      "metadata": {
        "id": "JNNf0b4kpl-w",
        "colab_type": "code",
        "colab": {}
      },
      "source": [
        "# !rm -r tf_log\n",
        "\n",
        "# https://keras.io/callbacks/#tensorboard\n",
        "# tb_callback = keras.callbacks.TensorBoard(log_dir='./tf_log')\n",
        "# To start tensorboard\n",
        "# tensorboard --logdir=/mnt/c/Users/olive/Development/ml/tf_log\n",
        "# open http://localhost:6006"
      ],
      "execution_count": 44,
      "outputs": []
    },
    {
      "cell_type": "code",
      "metadata": {
        "id": "Px5unIxQpl-0",
        "colab_type": "code",
        "colab": {
          "base_uri": "https://localhost:8080/",
          "height": 1000
        },
        "outputId": "aeaeb4c7-e800-4fa2-b98b-3bcaa0881dd8"
      },
      "source": [
        "# %time model.fit(X_train, y_train, epochs=500, validation_split=0.3, callbacks=[tb_callback])\n",
        "%time model.fit(X_train, y_train, epochs=500, validation_split=0.3)"
      ],
      "execution_count": 45,
      "outputs": [
        {
          "output_type": "stream",
          "text": [
            "Epoch 1/500\n",
            "3/3 [==============================] - 0s 59ms/step - loss: 3.2124 - accuracy: 0.3214 - val_loss: 2.9324 - val_accuracy: 0.3611\n",
            "Epoch 2/500\n",
            "3/3 [==============================] - 0s 7ms/step - loss: 3.1541 - accuracy: 0.3214 - val_loss: 2.8819 - val_accuracy: 0.3611\n",
            "Epoch 3/500\n",
            "3/3 [==============================] - 0s 7ms/step - loss: 3.1031 - accuracy: 0.3214 - val_loss: 2.8316 - val_accuracy: 0.3611\n",
            "Epoch 4/500\n",
            "3/3 [==============================] - 0s 7ms/step - loss: 3.0458 - accuracy: 0.3214 - val_loss: 2.7831 - val_accuracy: 0.3611\n",
            "Epoch 5/500\n",
            "3/3 [==============================] - 0s 7ms/step - loss: 2.9976 - accuracy: 0.3214 - val_loss: 2.7348 - val_accuracy: 0.3611\n",
            "Epoch 6/500\n",
            "3/3 [==============================] - 0s 7ms/step - loss: 2.9466 - accuracy: 0.3214 - val_loss: 2.6886 - val_accuracy: 0.3611\n",
            "Epoch 7/500\n",
            "3/3 [==============================] - 0s 7ms/step - loss: 2.8950 - accuracy: 0.3214 - val_loss: 2.6438 - val_accuracy: 0.3611\n",
            "Epoch 8/500\n",
            "3/3 [==============================] - 0s 7ms/step - loss: 2.8478 - accuracy: 0.3214 - val_loss: 2.5997 - val_accuracy: 0.3611\n",
            "Epoch 9/500\n",
            "3/3 [==============================] - 0s 8ms/step - loss: 2.7974 - accuracy: 0.3214 - val_loss: 2.5573 - val_accuracy: 0.3611\n",
            "Epoch 10/500\n",
            "3/3 [==============================] - 0s 7ms/step - loss: 2.7565 - accuracy: 0.3214 - val_loss: 2.5152 - val_accuracy: 0.3611\n",
            "Epoch 11/500\n",
            "3/3 [==============================] - 0s 7ms/step - loss: 2.7085 - accuracy: 0.3214 - val_loss: 2.4752 - val_accuracy: 0.3611\n",
            "Epoch 12/500\n",
            "3/3 [==============================] - 0s 7ms/step - loss: 2.6647 - accuracy: 0.3214 - val_loss: 2.4362 - val_accuracy: 0.3611\n",
            "Epoch 13/500\n",
            "3/3 [==============================] - 0s 7ms/step - loss: 2.6232 - accuracy: 0.3214 - val_loss: 2.3980 - val_accuracy: 0.3611\n",
            "Epoch 14/500\n",
            "3/3 [==============================] - 0s 15ms/step - loss: 2.5801 - accuracy: 0.3214 - val_loss: 2.3611 - val_accuracy: 0.3611\n",
            "Epoch 15/500\n",
            "3/3 [==============================] - 0s 7ms/step - loss: 2.5408 - accuracy: 0.3214 - val_loss: 2.3247 - val_accuracy: 0.3611\n",
            "Epoch 16/500\n",
            "3/3 [==============================] - 0s 6ms/step - loss: 2.5005 - accuracy: 0.3214 - val_loss: 2.2893 - val_accuracy: 0.3611\n",
            "Epoch 17/500\n",
            "3/3 [==============================] - 0s 6ms/step - loss: 2.4608 - accuracy: 0.3214 - val_loss: 2.2545 - val_accuracy: 0.3611\n",
            "Epoch 18/500\n",
            "3/3 [==============================] - 0s 7ms/step - loss: 2.4225 - accuracy: 0.3214 - val_loss: 2.2201 - val_accuracy: 0.3611\n",
            "Epoch 19/500\n",
            "3/3 [==============================] - 0s 7ms/step - loss: 2.3822 - accuracy: 0.3214 - val_loss: 2.1865 - val_accuracy: 0.3333\n",
            "Epoch 20/500\n",
            "3/3 [==============================] - 0s 7ms/step - loss: 2.3459 - accuracy: 0.3214 - val_loss: 2.1528 - val_accuracy: 0.3333\n",
            "Epoch 21/500\n",
            "3/3 [==============================] - 0s 7ms/step - loss: 2.3068 - accuracy: 0.3214 - val_loss: 2.1196 - val_accuracy: 0.3333\n",
            "Epoch 22/500\n",
            "3/3 [==============================] - 0s 8ms/step - loss: 2.2709 - accuracy: 0.3214 - val_loss: 2.0862 - val_accuracy: 0.3333\n",
            "Epoch 23/500\n",
            "3/3 [==============================] - 0s 7ms/step - loss: 2.2320 - accuracy: 0.3214 - val_loss: 2.0534 - val_accuracy: 0.3333\n",
            "Epoch 24/500\n",
            "3/3 [==============================] - 0s 7ms/step - loss: 2.1956 - accuracy: 0.3214 - val_loss: 2.0208 - val_accuracy: 0.3333\n",
            "Epoch 25/500\n",
            "3/3 [==============================] - 0s 7ms/step - loss: 2.1580 - accuracy: 0.3214 - val_loss: 1.9885 - val_accuracy: 0.3333\n",
            "Epoch 26/500\n",
            "3/3 [==============================] - 0s 7ms/step - loss: 2.1225 - accuracy: 0.3095 - val_loss: 1.9562 - val_accuracy: 0.3333\n",
            "Epoch 27/500\n",
            "3/3 [==============================] - 0s 7ms/step - loss: 2.0861 - accuracy: 0.3095 - val_loss: 1.9243 - val_accuracy: 0.3333\n",
            "Epoch 28/500\n",
            "3/3 [==============================] - 0s 7ms/step - loss: 2.0523 - accuracy: 0.3095 - val_loss: 1.8924 - val_accuracy: 0.3333\n",
            "Epoch 29/500\n",
            "3/3 [==============================] - 0s 7ms/step - loss: 2.0137 - accuracy: 0.3095 - val_loss: 1.8616 - val_accuracy: 0.3333\n",
            "Epoch 30/500\n",
            "3/3 [==============================] - 0s 7ms/step - loss: 1.9787 - accuracy: 0.3095 - val_loss: 1.8307 - val_accuracy: 0.3333\n",
            "Epoch 31/500\n",
            "3/3 [==============================] - 0s 7ms/step - loss: 1.9422 - accuracy: 0.3095 - val_loss: 1.8002 - val_accuracy: 0.3333\n",
            "Epoch 32/500\n",
            "3/3 [==============================] - 0s 7ms/step - loss: 1.9073 - accuracy: 0.3095 - val_loss: 1.7696 - val_accuracy: 0.3333\n",
            "Epoch 33/500\n",
            "3/3 [==============================] - 0s 7ms/step - loss: 1.8721 - accuracy: 0.3095 - val_loss: 1.7391 - val_accuracy: 0.3333\n",
            "Epoch 34/500\n",
            "3/3 [==============================] - 0s 9ms/step - loss: 1.8421 - accuracy: 0.3095 - val_loss: 1.7079 - val_accuracy: 0.3333\n",
            "Epoch 35/500\n",
            "3/3 [==============================] - 0s 7ms/step - loss: 1.8037 - accuracy: 0.3095 - val_loss: 1.6780 - val_accuracy: 0.3333\n",
            "Epoch 36/500\n",
            "3/3 [==============================] - 0s 7ms/step - loss: 1.7703 - accuracy: 0.3095 - val_loss: 1.6484 - val_accuracy: 0.3333\n",
            "Epoch 37/500\n",
            "3/3 [==============================] - 0s 8ms/step - loss: 1.7355 - accuracy: 0.3095 - val_loss: 1.6195 - val_accuracy: 0.3333\n",
            "Epoch 38/500\n",
            "3/3 [==============================] - 0s 7ms/step - loss: 1.7042 - accuracy: 0.3095 - val_loss: 1.5904 - val_accuracy: 0.3333\n",
            "Epoch 39/500\n",
            "3/3 [==============================] - 0s 7ms/step - loss: 1.6696 - accuracy: 0.3095 - val_loss: 1.5623 - val_accuracy: 0.3333\n",
            "Epoch 40/500\n",
            "3/3 [==============================] - 0s 9ms/step - loss: 1.6364 - accuracy: 0.3095 - val_loss: 1.5346 - val_accuracy: 0.3333\n",
            "Epoch 41/500\n",
            "3/3 [==============================] - 0s 7ms/step - loss: 1.6066 - accuracy: 0.3095 - val_loss: 1.5068 - val_accuracy: 0.3333\n",
            "Epoch 42/500\n",
            "3/3 [==============================] - 0s 7ms/step - loss: 1.5738 - accuracy: 0.3095 - val_loss: 1.4802 - val_accuracy: 0.3333\n",
            "Epoch 43/500\n",
            "3/3 [==============================] - 0s 7ms/step - loss: 1.5420 - accuracy: 0.3095 - val_loss: 1.4542 - val_accuracy: 0.3333\n",
            "Epoch 44/500\n",
            "3/3 [==============================] - 0s 7ms/step - loss: 1.5137 - accuracy: 0.2976 - val_loss: 1.4283 - val_accuracy: 0.3333\n",
            "Epoch 45/500\n",
            "3/3 [==============================] - 0s 7ms/step - loss: 1.4825 - accuracy: 0.2976 - val_loss: 1.4035 - val_accuracy: 0.3333\n",
            "Epoch 46/500\n",
            "3/3 [==============================] - 0s 7ms/step - loss: 1.4573 - accuracy: 0.2976 - val_loss: 1.3786 - val_accuracy: 0.3333\n",
            "Epoch 47/500\n",
            "3/3 [==============================] - 0s 7ms/step - loss: 1.4266 - accuracy: 0.2976 - val_loss: 1.3554 - val_accuracy: 0.3333\n",
            "Epoch 48/500\n",
            "3/3 [==============================] - 0s 7ms/step - loss: 1.3984 - accuracy: 0.2976 - val_loss: 1.3334 - val_accuracy: 0.3333\n",
            "Epoch 49/500\n",
            "3/3 [==============================] - 0s 6ms/step - loss: 1.3732 - accuracy: 0.2976 - val_loss: 1.3118 - val_accuracy: 0.3333\n",
            "Epoch 50/500\n",
            "3/3 [==============================] - 0s 6ms/step - loss: 1.3482 - accuracy: 0.2976 - val_loss: 1.2911 - val_accuracy: 0.3333\n",
            "Epoch 51/500\n",
            "3/3 [==============================] - 0s 8ms/step - loss: 1.3253 - accuracy: 0.2976 - val_loss: 1.2714 - val_accuracy: 0.3333\n",
            "Epoch 52/500\n",
            "3/3 [==============================] - 0s 7ms/step - loss: 1.3017 - accuracy: 0.2976 - val_loss: 1.2530 - val_accuracy: 0.3333\n",
            "Epoch 53/500\n",
            "3/3 [==============================] - 0s 6ms/step - loss: 1.2792 - accuracy: 0.2976 - val_loss: 1.2358 - val_accuracy: 0.3333\n",
            "Epoch 54/500\n",
            "3/3 [==============================] - 0s 7ms/step - loss: 1.2591 - accuracy: 0.2976 - val_loss: 1.2196 - val_accuracy: 0.3333\n",
            "Epoch 55/500\n",
            "3/3 [==============================] - 0s 8ms/step - loss: 1.2384 - accuracy: 0.2857 - val_loss: 1.2044 - val_accuracy: 0.3333\n",
            "Epoch 56/500\n",
            "3/3 [==============================] - 0s 8ms/step - loss: 1.2193 - accuracy: 0.2857 - val_loss: 1.1900 - val_accuracy: 0.3333\n",
            "Epoch 57/500\n",
            "3/3 [==============================] - 0s 7ms/step - loss: 1.2026 - accuracy: 0.2857 - val_loss: 1.1762 - val_accuracy: 0.3333\n",
            "Epoch 58/500\n",
            "3/3 [==============================] - 0s 7ms/step - loss: 1.1849 - accuracy: 0.2857 - val_loss: 1.1634 - val_accuracy: 0.2778\n",
            "Epoch 59/500\n",
            "3/3 [==============================] - 0s 7ms/step - loss: 1.1696 - accuracy: 0.2857 - val_loss: 1.1513 - val_accuracy: 0.2778\n",
            "Epoch 60/500\n",
            "3/3 [==============================] - 0s 7ms/step - loss: 1.1539 - accuracy: 0.2738 - val_loss: 1.1401 - val_accuracy: 0.2778\n",
            "Epoch 61/500\n",
            "3/3 [==============================] - 0s 8ms/step - loss: 1.1395 - accuracy: 0.2738 - val_loss: 1.1295 - val_accuracy: 0.2778\n",
            "Epoch 62/500\n",
            "3/3 [==============================] - 0s 8ms/step - loss: 1.1264 - accuracy: 0.2738 - val_loss: 1.1194 - val_accuracy: 0.2500\n",
            "Epoch 63/500\n",
            "3/3 [==============================] - 0s 8ms/step - loss: 1.1134 - accuracy: 0.2738 - val_loss: 1.1099 - val_accuracy: 0.2500\n",
            "Epoch 64/500\n",
            "3/3 [==============================] - 0s 8ms/step - loss: 1.1013 - accuracy: 0.2738 - val_loss: 1.1007 - val_accuracy: 0.2222\n",
            "Epoch 65/500\n",
            "3/3 [==============================] - 0s 9ms/step - loss: 1.0911 - accuracy: 0.2619 - val_loss: 1.0920 - val_accuracy: 0.2222\n",
            "Epoch 66/500\n",
            "3/3 [==============================] - 0s 6ms/step - loss: 1.0796 - accuracy: 0.2619 - val_loss: 1.0839 - val_accuracy: 0.2222\n",
            "Epoch 67/500\n",
            "3/3 [==============================] - 0s 7ms/step - loss: 1.0689 - accuracy: 0.2500 - val_loss: 1.0761 - val_accuracy: 0.2222\n",
            "Epoch 68/500\n",
            "3/3 [==============================] - 0s 6ms/step - loss: 1.0582 - accuracy: 0.2500 - val_loss: 1.0686 - val_accuracy: 0.1944\n",
            "Epoch 69/500\n",
            "3/3 [==============================] - 0s 7ms/step - loss: 1.0484 - accuracy: 0.2500 - val_loss: 1.0613 - val_accuracy: 0.1389\n",
            "Epoch 70/500\n",
            "3/3 [==============================] - 0s 7ms/step - loss: 1.0405 - accuracy: 0.2381 - val_loss: 1.0541 - val_accuracy: 0.1389\n",
            "Epoch 71/500\n",
            "3/3 [==============================] - 0s 8ms/step - loss: 1.0311 - accuracy: 0.2262 - val_loss: 1.0471 - val_accuracy: 0.1389\n",
            "Epoch 72/500\n",
            "3/3 [==============================] - 0s 7ms/step - loss: 1.0223 - accuracy: 0.2262 - val_loss: 1.0404 - val_accuracy: 0.1111\n",
            "Epoch 73/500\n",
            "3/3 [==============================] - 0s 7ms/step - loss: 1.0144 - accuracy: 0.2262 - val_loss: 1.0337 - val_accuracy: 0.1111\n",
            "Epoch 74/500\n",
            "3/3 [==============================] - 0s 7ms/step - loss: 1.0056 - accuracy: 0.2143 - val_loss: 1.0272 - val_accuracy: 0.1111\n",
            "Epoch 75/500\n",
            "3/3 [==============================] - 0s 6ms/step - loss: 0.9983 - accuracy: 0.1905 - val_loss: 1.0209 - val_accuracy: 0.1111\n",
            "Epoch 76/500\n",
            "3/3 [==============================] - 0s 7ms/step - loss: 0.9902 - accuracy: 0.1905 - val_loss: 1.0146 - val_accuracy: 0.1111\n",
            "Epoch 77/500\n",
            "3/3 [==============================] - 0s 6ms/step - loss: 0.9830 - accuracy: 0.1786 - val_loss: 1.0084 - val_accuracy: 0.1111\n",
            "Epoch 78/500\n",
            "3/3 [==============================] - 0s 6ms/step - loss: 0.9756 - accuracy: 0.1548 - val_loss: 1.0023 - val_accuracy: 0.0833\n",
            "Epoch 79/500\n",
            "3/3 [==============================] - 0s 6ms/step - loss: 0.9681 - accuracy: 0.1310 - val_loss: 0.9963 - val_accuracy: 0.1111\n",
            "Epoch 80/500\n",
            "3/3 [==============================] - 0s 8ms/step - loss: 0.9619 - accuracy: 0.1310 - val_loss: 0.9904 - val_accuracy: 0.1389\n",
            "Epoch 81/500\n",
            "3/3 [==============================] - 0s 7ms/step - loss: 0.9545 - accuracy: 0.1429 - val_loss: 0.9845 - val_accuracy: 0.1667\n",
            "Epoch 82/500\n",
            "3/3 [==============================] - 0s 7ms/step - loss: 0.9479 - accuracy: 0.1548 - val_loss: 0.9787 - val_accuracy: 0.1667\n",
            "Epoch 83/500\n",
            "3/3 [==============================] - 0s 7ms/step - loss: 0.9413 - accuracy: 0.1905 - val_loss: 0.9729 - val_accuracy: 0.1944\n",
            "Epoch 84/500\n",
            "3/3 [==============================] - 0s 7ms/step - loss: 0.9350 - accuracy: 0.2262 - val_loss: 0.9674 - val_accuracy: 0.1944\n",
            "Epoch 85/500\n",
            "3/3 [==============================] - 0s 7ms/step - loss: 0.9285 - accuracy: 0.2500 - val_loss: 0.9619 - val_accuracy: 0.2500\n",
            "Epoch 86/500\n",
            "3/3 [==============================] - 0s 7ms/step - loss: 0.9220 - accuracy: 0.2619 - val_loss: 0.9564 - val_accuracy: 0.2500\n",
            "Epoch 87/500\n",
            "3/3 [==============================] - 0s 7ms/step - loss: 0.9160 - accuracy: 0.2857 - val_loss: 0.9509 - val_accuracy: 0.3333\n",
            "Epoch 88/500\n",
            "3/3 [==============================] - 0s 8ms/step - loss: 0.9104 - accuracy: 0.3095 - val_loss: 0.9456 - val_accuracy: 0.3333\n",
            "Epoch 89/500\n",
            "3/3 [==============================] - 0s 7ms/step - loss: 0.9040 - accuracy: 0.3333 - val_loss: 0.9403 - val_accuracy: 0.3333\n",
            "Epoch 90/500\n",
            "3/3 [==============================] - 0s 7ms/step - loss: 0.8981 - accuracy: 0.3690 - val_loss: 0.9351 - val_accuracy: 0.3333\n",
            "Epoch 91/500\n",
            "3/3 [==============================] - 0s 7ms/step - loss: 0.8924 - accuracy: 0.3810 - val_loss: 0.9298 - val_accuracy: 0.3889\n",
            "Epoch 92/500\n",
            "3/3 [==============================] - 0s 7ms/step - loss: 0.8868 - accuracy: 0.3929 - val_loss: 0.9247 - val_accuracy: 0.3889\n",
            "Epoch 93/500\n",
            "3/3 [==============================] - 0s 7ms/step - loss: 0.8811 - accuracy: 0.4048 - val_loss: 0.9197 - val_accuracy: 0.3889\n",
            "Epoch 94/500\n",
            "3/3 [==============================] - 0s 7ms/step - loss: 0.8755 - accuracy: 0.4167 - val_loss: 0.9148 - val_accuracy: 0.3889\n",
            "Epoch 95/500\n",
            "3/3 [==============================] - 0s 6ms/step - loss: 0.8701 - accuracy: 0.4286 - val_loss: 0.9099 - val_accuracy: 0.4167\n",
            "Epoch 96/500\n",
            "3/3 [==============================] - 0s 7ms/step - loss: 0.8646 - accuracy: 0.4524 - val_loss: 0.9051 - val_accuracy: 0.4167\n",
            "Epoch 97/500\n",
            "3/3 [==============================] - 0s 7ms/step - loss: 0.8595 - accuracy: 0.4643 - val_loss: 0.9004 - val_accuracy: 0.4167\n",
            "Epoch 98/500\n",
            "3/3 [==============================] - 0s 7ms/step - loss: 0.8541 - accuracy: 0.4643 - val_loss: 0.8957 - val_accuracy: 0.4444\n",
            "Epoch 99/500\n",
            "3/3 [==============================] - 0s 7ms/step - loss: 0.8491 - accuracy: 0.4643 - val_loss: 0.8911 - val_accuracy: 0.4444\n",
            "Epoch 100/500\n",
            "3/3 [==============================] - 0s 7ms/step - loss: 0.8440 - accuracy: 0.4643 - val_loss: 0.8866 - val_accuracy: 0.4444\n",
            "Epoch 101/500\n",
            "3/3 [==============================] - 0s 7ms/step - loss: 0.8390 - accuracy: 0.4762 - val_loss: 0.8822 - val_accuracy: 0.4444\n",
            "Epoch 102/500\n",
            "3/3 [==============================] - 0s 7ms/step - loss: 0.8341 - accuracy: 0.4762 - val_loss: 0.8778 - val_accuracy: 0.4444\n",
            "Epoch 103/500\n",
            "3/3 [==============================] - 0s 7ms/step - loss: 0.8291 - accuracy: 0.4762 - val_loss: 0.8734 - val_accuracy: 0.4444\n",
            "Epoch 104/500\n",
            "3/3 [==============================] - 0s 7ms/step - loss: 0.8243 - accuracy: 0.4881 - val_loss: 0.8692 - val_accuracy: 0.4444\n",
            "Epoch 105/500\n",
            "3/3 [==============================] - 0s 7ms/step - loss: 0.8199 - accuracy: 0.4762 - val_loss: 0.8651 - val_accuracy: 0.4722\n",
            "Epoch 106/500\n",
            "3/3 [==============================] - 0s 8ms/step - loss: 0.8150 - accuracy: 0.5000 - val_loss: 0.8609 - val_accuracy: 0.4722\n",
            "Epoch 107/500\n",
            "3/3 [==============================] - 0s 7ms/step - loss: 0.8104 - accuracy: 0.5119 - val_loss: 0.8568 - val_accuracy: 0.4722\n",
            "Epoch 108/500\n",
            "3/3 [==============================] - 0s 8ms/step - loss: 0.8059 - accuracy: 0.5119 - val_loss: 0.8526 - val_accuracy: 0.4722\n",
            "Epoch 109/500\n",
            "3/3 [==============================] - 0s 8ms/step - loss: 0.8014 - accuracy: 0.5119 - val_loss: 0.8485 - val_accuracy: 0.4722\n",
            "Epoch 110/500\n",
            "3/3 [==============================] - 0s 6ms/step - loss: 0.7973 - accuracy: 0.5238 - val_loss: 0.8444 - val_accuracy: 0.4722\n",
            "Epoch 111/500\n",
            "3/3 [==============================] - 0s 7ms/step - loss: 0.7931 - accuracy: 0.5238 - val_loss: 0.8405 - val_accuracy: 0.4722\n",
            "Epoch 112/500\n",
            "3/3 [==============================] - 0s 8ms/step - loss: 0.7886 - accuracy: 0.5238 - val_loss: 0.8365 - val_accuracy: 0.4722\n",
            "Epoch 113/500\n",
            "3/3 [==============================] - 0s 7ms/step - loss: 0.7850 - accuracy: 0.5238 - val_loss: 0.8326 - val_accuracy: 0.4722\n",
            "Epoch 114/500\n",
            "3/3 [==============================] - 0s 6ms/step - loss: 0.7806 - accuracy: 0.5238 - val_loss: 0.8289 - val_accuracy: 0.4722\n",
            "Epoch 115/500\n",
            "3/3 [==============================] - 0s 7ms/step - loss: 0.7764 - accuracy: 0.5357 - val_loss: 0.8249 - val_accuracy: 0.4722\n",
            "Epoch 116/500\n",
            "3/3 [==============================] - 0s 7ms/step - loss: 0.7725 - accuracy: 0.5357 - val_loss: 0.8212 - val_accuracy: 0.4722\n",
            "Epoch 117/500\n",
            "3/3 [==============================] - 0s 7ms/step - loss: 0.7685 - accuracy: 0.5476 - val_loss: 0.8175 - val_accuracy: 0.4722\n",
            "Epoch 118/500\n",
            "3/3 [==============================] - 0s 7ms/step - loss: 0.7651 - accuracy: 0.5595 - val_loss: 0.8140 - val_accuracy: 0.4444\n",
            "Epoch 119/500\n",
            "3/3 [==============================] - 0s 7ms/step - loss: 0.7611 - accuracy: 0.5595 - val_loss: 0.8103 - val_accuracy: 0.4722\n",
            "Epoch 120/500\n",
            "3/3 [==============================] - 0s 7ms/step - loss: 0.7576 - accuracy: 0.5595 - val_loss: 0.8065 - val_accuracy: 0.4722\n",
            "Epoch 121/500\n",
            "3/3 [==============================] - 0s 7ms/step - loss: 0.7536 - accuracy: 0.5595 - val_loss: 0.8030 - val_accuracy: 0.4722\n",
            "Epoch 122/500\n",
            "3/3 [==============================] - 0s 7ms/step - loss: 0.7499 - accuracy: 0.5595 - val_loss: 0.7996 - val_accuracy: 0.4444\n",
            "Epoch 123/500\n",
            "3/3 [==============================] - 0s 7ms/step - loss: 0.7463 - accuracy: 0.5714 - val_loss: 0.7962 - val_accuracy: 0.4444\n",
            "Epoch 124/500\n",
            "3/3 [==============================] - 0s 7ms/step - loss: 0.7428 - accuracy: 0.5714 - val_loss: 0.7928 - val_accuracy: 0.4444\n",
            "Epoch 125/500\n",
            "3/3 [==============================] - 0s 7ms/step - loss: 0.7393 - accuracy: 0.5714 - val_loss: 0.7894 - val_accuracy: 0.4444\n",
            "Epoch 126/500\n",
            "3/3 [==============================] - 0s 7ms/step - loss: 0.7358 - accuracy: 0.5833 - val_loss: 0.7861 - val_accuracy: 0.4444\n",
            "Epoch 127/500\n",
            "3/3 [==============================] - 0s 7ms/step - loss: 0.7325 - accuracy: 0.5833 - val_loss: 0.7826 - val_accuracy: 0.4722\n",
            "Epoch 128/500\n",
            "3/3 [==============================] - 0s 7ms/step - loss: 0.7292 - accuracy: 0.5833 - val_loss: 0.7794 - val_accuracy: 0.4722\n",
            "Epoch 129/500\n",
            "3/3 [==============================] - 0s 7ms/step - loss: 0.7257 - accuracy: 0.5952 - val_loss: 0.7762 - val_accuracy: 0.4722\n",
            "Epoch 130/500\n",
            "3/3 [==============================] - 0s 7ms/step - loss: 0.7227 - accuracy: 0.6071 - val_loss: 0.7732 - val_accuracy: 0.4444\n",
            "Epoch 131/500\n",
            "3/3 [==============================] - 0s 7ms/step - loss: 0.7192 - accuracy: 0.6071 - val_loss: 0.7702 - val_accuracy: 0.4722\n",
            "Epoch 132/500\n",
            "3/3 [==============================] - 0s 7ms/step - loss: 0.7161 - accuracy: 0.6071 - val_loss: 0.7672 - val_accuracy: 0.4722\n",
            "Epoch 133/500\n",
            "3/3 [==============================] - 0s 9ms/step - loss: 0.7130 - accuracy: 0.5952 - val_loss: 0.7642 - val_accuracy: 0.4722\n",
            "Epoch 134/500\n",
            "3/3 [==============================] - 0s 7ms/step - loss: 0.7098 - accuracy: 0.6071 - val_loss: 0.7611 - val_accuracy: 0.4722\n",
            "Epoch 135/500\n",
            "3/3 [==============================] - 0s 7ms/step - loss: 0.7067 - accuracy: 0.6071 - val_loss: 0.7581 - val_accuracy: 0.4722\n",
            "Epoch 136/500\n",
            "3/3 [==============================] - 0s 8ms/step - loss: 0.7037 - accuracy: 0.6071 - val_loss: 0.7550 - val_accuracy: 0.4722\n",
            "Epoch 137/500\n",
            "3/3 [==============================] - 0s 7ms/step - loss: 0.7007 - accuracy: 0.6071 - val_loss: 0.7521 - val_accuracy: 0.4722\n",
            "Epoch 138/500\n",
            "3/3 [==============================] - 0s 8ms/step - loss: 0.6977 - accuracy: 0.6071 - val_loss: 0.7491 - val_accuracy: 0.4722\n",
            "Epoch 139/500\n",
            "3/3 [==============================] - 0s 7ms/step - loss: 0.6948 - accuracy: 0.6071 - val_loss: 0.7462 - val_accuracy: 0.4722\n",
            "Epoch 140/500\n",
            "3/3 [==============================] - 0s 7ms/step - loss: 0.6920 - accuracy: 0.6071 - val_loss: 0.7434 - val_accuracy: 0.4722\n",
            "Epoch 141/500\n",
            "3/3 [==============================] - 0s 8ms/step - loss: 0.6893 - accuracy: 0.6071 - val_loss: 0.7409 - val_accuracy: 0.4722\n",
            "Epoch 142/500\n",
            "3/3 [==============================] - 0s 9ms/step - loss: 0.6866 - accuracy: 0.6190 - val_loss: 0.7383 - val_accuracy: 0.4722\n",
            "Epoch 143/500\n",
            "3/3 [==============================] - 0s 8ms/step - loss: 0.6835 - accuracy: 0.6190 - val_loss: 0.7355 - val_accuracy: 0.4722\n",
            "Epoch 144/500\n",
            "3/3 [==============================] - 0s 8ms/step - loss: 0.6807 - accuracy: 0.6190 - val_loss: 0.7328 - val_accuracy: 0.4722\n",
            "Epoch 145/500\n",
            "3/3 [==============================] - 0s 8ms/step - loss: 0.6779 - accuracy: 0.6310 - val_loss: 0.7301 - val_accuracy: 0.4722\n",
            "Epoch 146/500\n",
            "3/3 [==============================] - 0s 7ms/step - loss: 0.6752 - accuracy: 0.6548 - val_loss: 0.7276 - val_accuracy: 0.5000\n",
            "Epoch 147/500\n",
            "3/3 [==============================] - 0s 7ms/step - loss: 0.6726 - accuracy: 0.6667 - val_loss: 0.7250 - val_accuracy: 0.5278\n",
            "Epoch 148/500\n",
            "3/3 [==============================] - 0s 7ms/step - loss: 0.6701 - accuracy: 0.6667 - val_loss: 0.7224 - val_accuracy: 0.5278\n",
            "Epoch 149/500\n",
            "3/3 [==============================] - 0s 7ms/step - loss: 0.6675 - accuracy: 0.6667 - val_loss: 0.7200 - val_accuracy: 0.5556\n",
            "Epoch 150/500\n",
            "3/3 [==============================] - 0s 7ms/step - loss: 0.6650 - accuracy: 0.6786 - val_loss: 0.7175 - val_accuracy: 0.5833\n",
            "Epoch 151/500\n",
            "3/3 [==============================] - 0s 6ms/step - loss: 0.6622 - accuracy: 0.6786 - val_loss: 0.7148 - val_accuracy: 0.5833\n",
            "Epoch 152/500\n",
            "3/3 [==============================] - 0s 7ms/step - loss: 0.6597 - accuracy: 0.6786 - val_loss: 0.7122 - val_accuracy: 0.5833\n",
            "Epoch 153/500\n",
            "3/3 [==============================] - 0s 7ms/step - loss: 0.6572 - accuracy: 0.6786 - val_loss: 0.7096 - val_accuracy: 0.5556\n",
            "Epoch 154/500\n",
            "3/3 [==============================] - 0s 7ms/step - loss: 0.6549 - accuracy: 0.6667 - val_loss: 0.7070 - val_accuracy: 0.5278\n",
            "Epoch 155/500\n",
            "3/3 [==============================] - 0s 7ms/step - loss: 0.6524 - accuracy: 0.6667 - val_loss: 0.7046 - val_accuracy: 0.5278\n",
            "Epoch 156/500\n",
            "3/3 [==============================] - 0s 7ms/step - loss: 0.6502 - accuracy: 0.6786 - val_loss: 0.7023 - val_accuracy: 0.6111\n",
            "Epoch 157/500\n",
            "3/3 [==============================] - 0s 8ms/step - loss: 0.6476 - accuracy: 0.6786 - val_loss: 0.6998 - val_accuracy: 0.6111\n",
            "Epoch 158/500\n",
            "3/3 [==============================] - 0s 7ms/step - loss: 0.6453 - accuracy: 0.6786 - val_loss: 0.6974 - val_accuracy: 0.6111\n",
            "Epoch 159/500\n",
            "3/3 [==============================] - 0s 7ms/step - loss: 0.6429 - accuracy: 0.6786 - val_loss: 0.6950 - val_accuracy: 0.6111\n",
            "Epoch 160/500\n",
            "3/3 [==============================] - 0s 7ms/step - loss: 0.6408 - accuracy: 0.6786 - val_loss: 0.6927 - val_accuracy: 0.6111\n",
            "Epoch 161/500\n",
            "3/3 [==============================] - 0s 7ms/step - loss: 0.6384 - accuracy: 0.6786 - val_loss: 0.6906 - val_accuracy: 0.6111\n",
            "Epoch 162/500\n",
            "3/3 [==============================] - 0s 7ms/step - loss: 0.6360 - accuracy: 0.6786 - val_loss: 0.6884 - val_accuracy: 0.6111\n",
            "Epoch 163/500\n",
            "3/3 [==============================] - 0s 7ms/step - loss: 0.6340 - accuracy: 0.6786 - val_loss: 0.6864 - val_accuracy: 0.6389\n",
            "Epoch 164/500\n",
            "3/3 [==============================] - 0s 7ms/step - loss: 0.6318 - accuracy: 0.6786 - val_loss: 0.6841 - val_accuracy: 0.6389\n",
            "Epoch 165/500\n",
            "3/3 [==============================] - 0s 7ms/step - loss: 0.6298 - accuracy: 0.6667 - val_loss: 0.6821 - val_accuracy: 0.6389\n",
            "Epoch 166/500\n",
            "3/3 [==============================] - 0s 7ms/step - loss: 0.6274 - accuracy: 0.6667 - val_loss: 0.6798 - val_accuracy: 0.6389\n",
            "Epoch 167/500\n",
            "3/3 [==============================] - 0s 6ms/step - loss: 0.6253 - accuracy: 0.6667 - val_loss: 0.6776 - val_accuracy: 0.6389\n",
            "Epoch 168/500\n",
            "3/3 [==============================] - 0s 8ms/step - loss: 0.6233 - accuracy: 0.6667 - val_loss: 0.6753 - val_accuracy: 0.6389\n",
            "Epoch 169/500\n",
            "3/3 [==============================] - 0s 7ms/step - loss: 0.6211 - accuracy: 0.6667 - val_loss: 0.6733 - val_accuracy: 0.6389\n",
            "Epoch 170/500\n",
            "3/3 [==============================] - 0s 7ms/step - loss: 0.6191 - accuracy: 0.6667 - val_loss: 0.6711 - val_accuracy: 0.6389\n",
            "Epoch 171/500\n",
            "3/3 [==============================] - 0s 7ms/step - loss: 0.6172 - accuracy: 0.6667 - val_loss: 0.6691 - val_accuracy: 0.6389\n",
            "Epoch 172/500\n",
            "3/3 [==============================] - 0s 7ms/step - loss: 0.6151 - accuracy: 0.6786 - val_loss: 0.6670 - val_accuracy: 0.6389\n",
            "Epoch 173/500\n",
            "3/3 [==============================] - 0s 7ms/step - loss: 0.6131 - accuracy: 0.6786 - val_loss: 0.6649 - val_accuracy: 0.6389\n",
            "Epoch 174/500\n",
            "3/3 [==============================] - 0s 7ms/step - loss: 0.6110 - accuracy: 0.6786 - val_loss: 0.6625 - val_accuracy: 0.6389\n",
            "Epoch 175/500\n",
            "3/3 [==============================] - 0s 7ms/step - loss: 0.6090 - accuracy: 0.6667 - val_loss: 0.6603 - val_accuracy: 0.6389\n",
            "Epoch 176/500\n",
            "3/3 [==============================] - 0s 7ms/step - loss: 0.6071 - accuracy: 0.6667 - val_loss: 0.6581 - val_accuracy: 0.6389\n",
            "Epoch 177/500\n",
            "3/3 [==============================] - 0s 7ms/step - loss: 0.6056 - accuracy: 0.6667 - val_loss: 0.6558 - val_accuracy: 0.6389\n",
            "Epoch 178/500\n",
            "3/3 [==============================] - 0s 7ms/step - loss: 0.6035 - accuracy: 0.6667 - val_loss: 0.6538 - val_accuracy: 0.6389\n",
            "Epoch 179/500\n",
            "3/3 [==============================] - 0s 8ms/step - loss: 0.6016 - accuracy: 0.6667 - val_loss: 0.6518 - val_accuracy: 0.6389\n",
            "Epoch 180/500\n",
            "3/3 [==============================] - 0s 7ms/step - loss: 0.5997 - accuracy: 0.6667 - val_loss: 0.6498 - val_accuracy: 0.6389\n",
            "Epoch 181/500\n",
            "3/3 [==============================] - 0s 7ms/step - loss: 0.5979 - accuracy: 0.6667 - val_loss: 0.6478 - val_accuracy: 0.6389\n",
            "Epoch 182/500\n",
            "3/3 [==============================] - 0s 8ms/step - loss: 0.5962 - accuracy: 0.6667 - val_loss: 0.6458 - val_accuracy: 0.6389\n",
            "Epoch 183/500\n",
            "3/3 [==============================] - 0s 8ms/step - loss: 0.5942 - accuracy: 0.6786 - val_loss: 0.6439 - val_accuracy: 0.6389\n",
            "Epoch 184/500\n",
            "3/3 [==============================] - 0s 7ms/step - loss: 0.5925 - accuracy: 0.6786 - val_loss: 0.6421 - val_accuracy: 0.6389\n",
            "Epoch 185/500\n",
            "3/3 [==============================] - 0s 7ms/step - loss: 0.5907 - accuracy: 0.6786 - val_loss: 0.6403 - val_accuracy: 0.6389\n",
            "Epoch 186/500\n",
            "3/3 [==============================] - 0s 7ms/step - loss: 0.5889 - accuracy: 0.6786 - val_loss: 0.6385 - val_accuracy: 0.6389\n",
            "Epoch 187/500\n",
            "3/3 [==============================] - 0s 7ms/step - loss: 0.5872 - accuracy: 0.6667 - val_loss: 0.6367 - val_accuracy: 0.6389\n",
            "Epoch 188/500\n",
            "3/3 [==============================] - 0s 7ms/step - loss: 0.5855 - accuracy: 0.6667 - val_loss: 0.6350 - val_accuracy: 0.6389\n",
            "Epoch 189/500\n",
            "3/3 [==============================] - 0s 7ms/step - loss: 0.5838 - accuracy: 0.6667 - val_loss: 0.6334 - val_accuracy: 0.6667\n",
            "Epoch 190/500\n",
            "3/3 [==============================] - 0s 7ms/step - loss: 0.5820 - accuracy: 0.6786 - val_loss: 0.6317 - val_accuracy: 0.6667\n",
            "Epoch 191/500\n",
            "3/3 [==============================] - 0s 7ms/step - loss: 0.5808 - accuracy: 0.6786 - val_loss: 0.6303 - val_accuracy: 0.6667\n",
            "Epoch 192/500\n",
            "3/3 [==============================] - 0s 7ms/step - loss: 0.5788 - accuracy: 0.6786 - val_loss: 0.6285 - val_accuracy: 0.6667\n",
            "Epoch 193/500\n",
            "3/3 [==============================] - 0s 8ms/step - loss: 0.5771 - accuracy: 0.6786 - val_loss: 0.6267 - val_accuracy: 0.6944\n",
            "Epoch 194/500\n",
            "3/3 [==============================] - 0s 6ms/step - loss: 0.5757 - accuracy: 0.6786 - val_loss: 0.6248 - val_accuracy: 0.6944\n",
            "Epoch 195/500\n",
            "3/3 [==============================] - 0s 7ms/step - loss: 0.5739 - accuracy: 0.6786 - val_loss: 0.6232 - val_accuracy: 0.6944\n",
            "Epoch 196/500\n",
            "3/3 [==============================] - 0s 6ms/step - loss: 0.5722 - accuracy: 0.6667 - val_loss: 0.6216 - val_accuracy: 0.6944\n",
            "Epoch 197/500\n",
            "3/3 [==============================] - 0s 7ms/step - loss: 0.5709 - accuracy: 0.6667 - val_loss: 0.6201 - val_accuracy: 0.6944\n",
            "Epoch 198/500\n",
            "3/3 [==============================] - 0s 7ms/step - loss: 0.5693 - accuracy: 0.6667 - val_loss: 0.6183 - val_accuracy: 0.6944\n",
            "Epoch 199/500\n",
            "3/3 [==============================] - 0s 7ms/step - loss: 0.5677 - accuracy: 0.6667 - val_loss: 0.6167 - val_accuracy: 0.6944\n",
            "Epoch 200/500\n",
            "3/3 [==============================] - 0s 7ms/step - loss: 0.5663 - accuracy: 0.6667 - val_loss: 0.6150 - val_accuracy: 0.6944\n",
            "Epoch 201/500\n",
            "3/3 [==============================] - 0s 8ms/step - loss: 0.5646 - accuracy: 0.6667 - val_loss: 0.6133 - val_accuracy: 0.6944\n",
            "Epoch 202/500\n",
            "3/3 [==============================] - 0s 7ms/step - loss: 0.5631 - accuracy: 0.6667 - val_loss: 0.6115 - val_accuracy: 0.6944\n",
            "Epoch 203/500\n",
            "3/3 [==============================] - 0s 7ms/step - loss: 0.5616 - accuracy: 0.6667 - val_loss: 0.6098 - val_accuracy: 0.6944\n",
            "Epoch 204/500\n",
            "3/3 [==============================] - 0s 7ms/step - loss: 0.5601 - accuracy: 0.6667 - val_loss: 0.6080 - val_accuracy: 0.6944\n",
            "Epoch 205/500\n",
            "3/3 [==============================] - 0s 7ms/step - loss: 0.5585 - accuracy: 0.6667 - val_loss: 0.6062 - val_accuracy: 0.6944\n",
            "Epoch 206/500\n",
            "3/3 [==============================] - 0s 7ms/step - loss: 0.5572 - accuracy: 0.6786 - val_loss: 0.6043 - val_accuracy: 0.6944\n",
            "Epoch 207/500\n",
            "3/3 [==============================] - 0s 7ms/step - loss: 0.5557 - accuracy: 0.6905 - val_loss: 0.6025 - val_accuracy: 0.6944\n",
            "Epoch 208/500\n",
            "3/3 [==============================] - 0s 6ms/step - loss: 0.5544 - accuracy: 0.7381 - val_loss: 0.6008 - val_accuracy: 0.7222\n",
            "Epoch 209/500\n",
            "3/3 [==============================] - 0s 8ms/step - loss: 0.5530 - accuracy: 0.7381 - val_loss: 0.5991 - val_accuracy: 0.6944\n",
            "Epoch 210/500\n",
            "3/3 [==============================] - 0s 7ms/step - loss: 0.5517 - accuracy: 0.7262 - val_loss: 0.5975 - val_accuracy: 0.6944\n",
            "Epoch 211/500\n",
            "3/3 [==============================] - 0s 7ms/step - loss: 0.5504 - accuracy: 0.7262 - val_loss: 0.5961 - val_accuracy: 0.7222\n",
            "Epoch 212/500\n",
            "3/3 [==============================] - 0s 8ms/step - loss: 0.5487 - accuracy: 0.7381 - val_loss: 0.5946 - val_accuracy: 0.7222\n",
            "Epoch 213/500\n",
            "3/3 [==============================] - 0s 7ms/step - loss: 0.5475 - accuracy: 0.7381 - val_loss: 0.5932 - val_accuracy: 0.7222\n",
            "Epoch 214/500\n",
            "3/3 [==============================] - 0s 7ms/step - loss: 0.5460 - accuracy: 0.7381 - val_loss: 0.5917 - val_accuracy: 0.7222\n",
            "Epoch 215/500\n",
            "3/3 [==============================] - 0s 7ms/step - loss: 0.5446 - accuracy: 0.7381 - val_loss: 0.5902 - val_accuracy: 0.7222\n",
            "Epoch 216/500\n",
            "3/3 [==============================] - 0s 7ms/step - loss: 0.5433 - accuracy: 0.7262 - val_loss: 0.5889 - val_accuracy: 0.6944\n",
            "Epoch 217/500\n",
            "3/3 [==============================] - 0s 7ms/step - loss: 0.5419 - accuracy: 0.7024 - val_loss: 0.5875 - val_accuracy: 0.6944\n",
            "Epoch 218/500\n",
            "3/3 [==============================] - 0s 8ms/step - loss: 0.5406 - accuracy: 0.7024 - val_loss: 0.5861 - val_accuracy: 0.6944\n",
            "Epoch 219/500\n",
            "3/3 [==============================] - 0s 6ms/step - loss: 0.5392 - accuracy: 0.7024 - val_loss: 0.5848 - val_accuracy: 0.6944\n",
            "Epoch 220/500\n",
            "3/3 [==============================] - 0s 9ms/step - loss: 0.5379 - accuracy: 0.7143 - val_loss: 0.5834 - val_accuracy: 0.6944\n",
            "Epoch 221/500\n",
            "3/3 [==============================] - 0s 7ms/step - loss: 0.5368 - accuracy: 0.7143 - val_loss: 0.5820 - val_accuracy: 0.6944\n",
            "Epoch 222/500\n",
            "3/3 [==============================] - 0s 7ms/step - loss: 0.5353 - accuracy: 0.7143 - val_loss: 0.5806 - val_accuracy: 0.6944\n",
            "Epoch 223/500\n",
            "3/3 [==============================] - 0s 6ms/step - loss: 0.5342 - accuracy: 0.7143 - val_loss: 0.5790 - val_accuracy: 0.6944\n",
            "Epoch 224/500\n",
            "3/3 [==============================] - 0s 6ms/step - loss: 0.5328 - accuracy: 0.7143 - val_loss: 0.5776 - val_accuracy: 0.6944\n",
            "Epoch 225/500\n",
            "3/3 [==============================] - 0s 7ms/step - loss: 0.5316 - accuracy: 0.7143 - val_loss: 0.5761 - val_accuracy: 0.6944\n",
            "Epoch 226/500\n",
            "3/3 [==============================] - 0s 7ms/step - loss: 0.5303 - accuracy: 0.7143 - val_loss: 0.5748 - val_accuracy: 0.6944\n",
            "Epoch 227/500\n",
            "3/3 [==============================] - 0s 8ms/step - loss: 0.5291 - accuracy: 0.7143 - val_loss: 0.5734 - val_accuracy: 0.6944\n",
            "Epoch 228/500\n",
            "3/3 [==============================] - 0s 7ms/step - loss: 0.5279 - accuracy: 0.7143 - val_loss: 0.5721 - val_accuracy: 0.6944\n",
            "Epoch 229/500\n",
            "3/3 [==============================] - 0s 7ms/step - loss: 0.5267 - accuracy: 0.7143 - val_loss: 0.5707 - val_accuracy: 0.6944\n",
            "Epoch 230/500\n",
            "3/3 [==============================] - 0s 7ms/step - loss: 0.5254 - accuracy: 0.7143 - val_loss: 0.5693 - val_accuracy: 0.6944\n",
            "Epoch 231/500\n",
            "3/3 [==============================] - 0s 7ms/step - loss: 0.5242 - accuracy: 0.7143 - val_loss: 0.5679 - val_accuracy: 0.6944\n",
            "Epoch 232/500\n",
            "3/3 [==============================] - 0s 12ms/step - loss: 0.5230 - accuracy: 0.7262 - val_loss: 0.5666 - val_accuracy: 0.6944\n",
            "Epoch 233/500\n",
            "3/3 [==============================] - 0s 7ms/step - loss: 0.5218 - accuracy: 0.7143 - val_loss: 0.5653 - val_accuracy: 0.6944\n",
            "Epoch 234/500\n",
            "3/3 [==============================] - 0s 8ms/step - loss: 0.5207 - accuracy: 0.7143 - val_loss: 0.5640 - val_accuracy: 0.6944\n",
            "Epoch 235/500\n",
            "3/3 [==============================] - 0s 7ms/step - loss: 0.5196 - accuracy: 0.7262 - val_loss: 0.5628 - val_accuracy: 0.6944\n",
            "Epoch 236/500\n",
            "3/3 [==============================] - 0s 7ms/step - loss: 0.5183 - accuracy: 0.7262 - val_loss: 0.5614 - val_accuracy: 0.6944\n",
            "Epoch 237/500\n",
            "3/3 [==============================] - 0s 9ms/step - loss: 0.5173 - accuracy: 0.7262 - val_loss: 0.5603 - val_accuracy: 0.6944\n",
            "Epoch 238/500\n",
            "3/3 [==============================] - 0s 7ms/step - loss: 0.5160 - accuracy: 0.7262 - val_loss: 0.5589 - val_accuracy: 0.6944\n",
            "Epoch 239/500\n",
            "3/3 [==============================] - 0s 7ms/step - loss: 0.5149 - accuracy: 0.7262 - val_loss: 0.5575 - val_accuracy: 0.7222\n",
            "Epoch 240/500\n",
            "3/3 [==============================] - 0s 7ms/step - loss: 0.5139 - accuracy: 0.7262 - val_loss: 0.5562 - val_accuracy: 0.7222\n",
            "Epoch 241/500\n",
            "3/3 [==============================] - 0s 7ms/step - loss: 0.5126 - accuracy: 0.7262 - val_loss: 0.5548 - val_accuracy: 0.7222\n",
            "Epoch 242/500\n",
            "3/3 [==============================] - 0s 6ms/step - loss: 0.5115 - accuracy: 0.7500 - val_loss: 0.5534 - val_accuracy: 0.7222\n",
            "Epoch 243/500\n",
            "3/3 [==============================] - 0s 7ms/step - loss: 0.5107 - accuracy: 0.7500 - val_loss: 0.5520 - val_accuracy: 0.7222\n",
            "Epoch 244/500\n",
            "3/3 [==============================] - 0s 6ms/step - loss: 0.5093 - accuracy: 0.7619 - val_loss: 0.5507 - val_accuracy: 0.7222\n",
            "Epoch 245/500\n",
            "3/3 [==============================] - 0s 7ms/step - loss: 0.5082 - accuracy: 0.7619 - val_loss: 0.5495 - val_accuracy: 0.7222\n",
            "Epoch 246/500\n",
            "3/3 [==============================] - 0s 6ms/step - loss: 0.5071 - accuracy: 0.7619 - val_loss: 0.5483 - val_accuracy: 0.7222\n",
            "Epoch 247/500\n",
            "3/3 [==============================] - 0s 7ms/step - loss: 0.5061 - accuracy: 0.7619 - val_loss: 0.5470 - val_accuracy: 0.7222\n",
            "Epoch 248/500\n",
            "3/3 [==============================] - 0s 7ms/step - loss: 0.5050 - accuracy: 0.7619 - val_loss: 0.5457 - val_accuracy: 0.7222\n",
            "Epoch 249/500\n",
            "3/3 [==============================] - 0s 7ms/step - loss: 0.5038 - accuracy: 0.7619 - val_loss: 0.5445 - val_accuracy: 0.7222\n",
            "Epoch 250/500\n",
            "3/3 [==============================] - 0s 7ms/step - loss: 0.5028 - accuracy: 0.7619 - val_loss: 0.5434 - val_accuracy: 0.7222\n",
            "Epoch 251/500\n",
            "3/3 [==============================] - 0s 8ms/step - loss: 0.5018 - accuracy: 0.7619 - val_loss: 0.5421 - val_accuracy: 0.7222\n",
            "Epoch 252/500\n",
            "3/3 [==============================] - 0s 7ms/step - loss: 0.5008 - accuracy: 0.7619 - val_loss: 0.5410 - val_accuracy: 0.7222\n",
            "Epoch 253/500\n",
            "3/3 [==============================] - 0s 7ms/step - loss: 0.4998 - accuracy: 0.7619 - val_loss: 0.5399 - val_accuracy: 0.7222\n",
            "Epoch 254/500\n",
            "3/3 [==============================] - 0s 7ms/step - loss: 0.4986 - accuracy: 0.7619 - val_loss: 0.5385 - val_accuracy: 0.7222\n",
            "Epoch 255/500\n",
            "3/3 [==============================] - 0s 8ms/step - loss: 0.4976 - accuracy: 0.7619 - val_loss: 0.5372 - val_accuracy: 0.7500\n",
            "Epoch 256/500\n",
            "3/3 [==============================] - 0s 7ms/step - loss: 0.4967 - accuracy: 0.7619 - val_loss: 0.5359 - val_accuracy: 0.7500\n",
            "Epoch 257/500\n",
            "3/3 [==============================] - 0s 8ms/step - loss: 0.4956 - accuracy: 0.7738 - val_loss: 0.5348 - val_accuracy: 0.7500\n",
            "Epoch 258/500\n",
            "3/3 [==============================] - 0s 6ms/step - loss: 0.4946 - accuracy: 0.7738 - val_loss: 0.5335 - val_accuracy: 0.7500\n",
            "Epoch 259/500\n",
            "3/3 [==============================] - 0s 7ms/step - loss: 0.4936 - accuracy: 0.7857 - val_loss: 0.5323 - val_accuracy: 0.7500\n",
            "Epoch 260/500\n",
            "3/3 [==============================] - 0s 7ms/step - loss: 0.4927 - accuracy: 0.7976 - val_loss: 0.5311 - val_accuracy: 0.7500\n",
            "Epoch 261/500\n",
            "3/3 [==============================] - 0s 7ms/step - loss: 0.4916 - accuracy: 0.7976 - val_loss: 0.5300 - val_accuracy: 0.7500\n",
            "Epoch 262/500\n",
            "3/3 [==============================] - 0s 6ms/step - loss: 0.4907 - accuracy: 0.7857 - val_loss: 0.5289 - val_accuracy: 0.7500\n",
            "Epoch 263/500\n",
            "3/3 [==============================] - 0s 7ms/step - loss: 0.4897 - accuracy: 0.7857 - val_loss: 0.5278 - val_accuracy: 0.7500\n",
            "Epoch 264/500\n",
            "3/3 [==============================] - 0s 7ms/step - loss: 0.4887 - accuracy: 0.7857 - val_loss: 0.5267 - val_accuracy: 0.7500\n",
            "Epoch 265/500\n",
            "3/3 [==============================] - 0s 7ms/step - loss: 0.4877 - accuracy: 0.7738 - val_loss: 0.5257 - val_accuracy: 0.7500\n",
            "Epoch 266/500\n",
            "3/3 [==============================] - 0s 7ms/step - loss: 0.4866 - accuracy: 0.7738 - val_loss: 0.5247 - val_accuracy: 0.7500\n",
            "Epoch 267/500\n",
            "3/3 [==============================] - 0s 7ms/step - loss: 0.4857 - accuracy: 0.7857 - val_loss: 0.5237 - val_accuracy: 0.7500\n",
            "Epoch 268/500\n",
            "3/3 [==============================] - 0s 7ms/step - loss: 0.4848 - accuracy: 0.7857 - val_loss: 0.5226 - val_accuracy: 0.7500\n",
            "Epoch 269/500\n",
            "3/3 [==============================] - 0s 6ms/step - loss: 0.4839 - accuracy: 0.7857 - val_loss: 0.5216 - val_accuracy: 0.7500\n",
            "Epoch 270/500\n",
            "3/3 [==============================] - 0s 7ms/step - loss: 0.4831 - accuracy: 0.7976 - val_loss: 0.5203 - val_accuracy: 0.7500\n",
            "Epoch 271/500\n",
            "3/3 [==============================] - 0s 7ms/step - loss: 0.4819 - accuracy: 0.7976 - val_loss: 0.5193 - val_accuracy: 0.7500\n",
            "Epoch 272/500\n",
            "3/3 [==============================] - 0s 8ms/step - loss: 0.4810 - accuracy: 0.7976 - val_loss: 0.5182 - val_accuracy: 0.7500\n",
            "Epoch 273/500\n",
            "3/3 [==============================] - 0s 7ms/step - loss: 0.4800 - accuracy: 0.7857 - val_loss: 0.5173 - val_accuracy: 0.7500\n",
            "Epoch 274/500\n",
            "3/3 [==============================] - 0s 8ms/step - loss: 0.4792 - accuracy: 0.7857 - val_loss: 0.5164 - val_accuracy: 0.7500\n",
            "Epoch 275/500\n",
            "3/3 [==============================] - 0s 7ms/step - loss: 0.4783 - accuracy: 0.7857 - val_loss: 0.5153 - val_accuracy: 0.7500\n",
            "Epoch 276/500\n",
            "3/3 [==============================] - 0s 7ms/step - loss: 0.4774 - accuracy: 0.7857 - val_loss: 0.5144 - val_accuracy: 0.7500\n",
            "Epoch 277/500\n",
            "3/3 [==============================] - 0s 7ms/step - loss: 0.4765 - accuracy: 0.7857 - val_loss: 0.5134 - val_accuracy: 0.7500\n",
            "Epoch 278/500\n",
            "3/3 [==============================] - 0s 7ms/step - loss: 0.4757 - accuracy: 0.7857 - val_loss: 0.5121 - val_accuracy: 0.7500\n",
            "Epoch 279/500\n",
            "3/3 [==============================] - 0s 7ms/step - loss: 0.4746 - accuracy: 0.7857 - val_loss: 0.5110 - val_accuracy: 0.7500\n",
            "Epoch 280/500\n",
            "3/3 [==============================] - 0s 7ms/step - loss: 0.4737 - accuracy: 0.7857 - val_loss: 0.5099 - val_accuracy: 0.7500\n",
            "Epoch 281/500\n",
            "3/3 [==============================] - 0s 7ms/step - loss: 0.4729 - accuracy: 0.7857 - val_loss: 0.5087 - val_accuracy: 0.7778\n",
            "Epoch 282/500\n",
            "3/3 [==============================] - 0s 7ms/step - loss: 0.4719 - accuracy: 0.8214 - val_loss: 0.5075 - val_accuracy: 0.7778\n",
            "Epoch 283/500\n",
            "3/3 [==============================] - 0s 7ms/step - loss: 0.4711 - accuracy: 0.8333 - val_loss: 0.5064 - val_accuracy: 0.8056\n",
            "Epoch 284/500\n",
            "3/3 [==============================] - 0s 7ms/step - loss: 0.4702 - accuracy: 0.8333 - val_loss: 0.5053 - val_accuracy: 0.8056\n",
            "Epoch 285/500\n",
            "3/3 [==============================] - 0s 7ms/step - loss: 0.4694 - accuracy: 0.8333 - val_loss: 0.5042 - val_accuracy: 0.8333\n",
            "Epoch 286/500\n",
            "3/3 [==============================] - 0s 7ms/step - loss: 0.4685 - accuracy: 0.8333 - val_loss: 0.5031 - val_accuracy: 0.8333\n",
            "Epoch 287/500\n",
            "3/3 [==============================] - 0s 7ms/step - loss: 0.4676 - accuracy: 0.8333 - val_loss: 0.5019 - val_accuracy: 0.8333\n",
            "Epoch 288/500\n",
            "3/3 [==============================] - 0s 7ms/step - loss: 0.4669 - accuracy: 0.8571 - val_loss: 0.5008 - val_accuracy: 0.8333\n",
            "Epoch 289/500\n",
            "3/3 [==============================] - 0s 8ms/step - loss: 0.4660 - accuracy: 0.8571 - val_loss: 0.4998 - val_accuracy: 0.8333\n",
            "Epoch 290/500\n",
            "3/3 [==============================] - 0s 9ms/step - loss: 0.4650 - accuracy: 0.8571 - val_loss: 0.4988 - val_accuracy: 0.8333\n",
            "Epoch 291/500\n",
            "3/3 [==============================] - 0s 7ms/step - loss: 0.4644 - accuracy: 0.8690 - val_loss: 0.4977 - val_accuracy: 0.8611\n",
            "Epoch 292/500\n",
            "3/3 [==============================] - 0s 8ms/step - loss: 0.4634 - accuracy: 0.8690 - val_loss: 0.4968 - val_accuracy: 0.8333\n",
            "Epoch 293/500\n",
            "3/3 [==============================] - 0s 7ms/step - loss: 0.4627 - accuracy: 0.8333 - val_loss: 0.4960 - val_accuracy: 0.8333\n",
            "Epoch 294/500\n",
            "3/3 [==============================] - 0s 10ms/step - loss: 0.4617 - accuracy: 0.8214 - val_loss: 0.4950 - val_accuracy: 0.8333\n",
            "Epoch 295/500\n",
            "3/3 [==============================] - 0s 7ms/step - loss: 0.4608 - accuracy: 0.8333 - val_loss: 0.4939 - val_accuracy: 0.8333\n",
            "Epoch 296/500\n",
            "3/3 [==============================] - 0s 8ms/step - loss: 0.4599 - accuracy: 0.8333 - val_loss: 0.4929 - val_accuracy: 0.8333\n",
            "Epoch 297/500\n",
            "3/3 [==============================] - 0s 7ms/step - loss: 0.4591 - accuracy: 0.8690 - val_loss: 0.4919 - val_accuracy: 0.8333\n",
            "Epoch 298/500\n",
            "3/3 [==============================] - 0s 7ms/step - loss: 0.4583 - accuracy: 0.8810 - val_loss: 0.4909 - val_accuracy: 0.8611\n",
            "Epoch 299/500\n",
            "3/3 [==============================] - 0s 7ms/step - loss: 0.4575 - accuracy: 0.8810 - val_loss: 0.4899 - val_accuracy: 0.8611\n",
            "Epoch 300/500\n",
            "3/3 [==============================] - 0s 8ms/step - loss: 0.4567 - accuracy: 0.8810 - val_loss: 0.4890 - val_accuracy: 0.8333\n",
            "Epoch 301/500\n",
            "3/3 [==============================] - 0s 7ms/step - loss: 0.4558 - accuracy: 0.8690 - val_loss: 0.4881 - val_accuracy: 0.8333\n",
            "Epoch 302/500\n",
            "3/3 [==============================] - 0s 7ms/step - loss: 0.4551 - accuracy: 0.8571 - val_loss: 0.4873 - val_accuracy: 0.8333\n",
            "Epoch 303/500\n",
            "3/3 [==============================] - 0s 7ms/step - loss: 0.4543 - accuracy: 0.8333 - val_loss: 0.4864 - val_accuracy: 0.8333\n",
            "Epoch 304/500\n",
            "3/3 [==============================] - 0s 7ms/step - loss: 0.4535 - accuracy: 0.8333 - val_loss: 0.4855 - val_accuracy: 0.8333\n",
            "Epoch 305/500\n",
            "3/3 [==============================] - 0s 7ms/step - loss: 0.4528 - accuracy: 0.8333 - val_loss: 0.4846 - val_accuracy: 0.8333\n",
            "Epoch 306/500\n",
            "3/3 [==============================] - 0s 6ms/step - loss: 0.4521 - accuracy: 0.8333 - val_loss: 0.4840 - val_accuracy: 0.8333\n",
            "Epoch 307/500\n",
            "3/3 [==============================] - 0s 7ms/step - loss: 0.4512 - accuracy: 0.8333 - val_loss: 0.4830 - val_accuracy: 0.8333\n",
            "Epoch 308/500\n",
            "3/3 [==============================] - 0s 7ms/step - loss: 0.4503 - accuracy: 0.8333 - val_loss: 0.4821 - val_accuracy: 0.8333\n",
            "Epoch 309/500\n",
            "3/3 [==============================] - 0s 7ms/step - loss: 0.4496 - accuracy: 0.8333 - val_loss: 0.4812 - val_accuracy: 0.8333\n",
            "Epoch 310/500\n",
            "3/3 [==============================] - 0s 7ms/step - loss: 0.4488 - accuracy: 0.8333 - val_loss: 0.4803 - val_accuracy: 0.8333\n",
            "Epoch 311/500\n",
            "3/3 [==============================] - 0s 8ms/step - loss: 0.4480 - accuracy: 0.8333 - val_loss: 0.4792 - val_accuracy: 0.8611\n",
            "Epoch 312/500\n",
            "3/3 [==============================] - 0s 7ms/step - loss: 0.4473 - accuracy: 0.8571 - val_loss: 0.4781 - val_accuracy: 0.8611\n",
            "Epoch 313/500\n",
            "3/3 [==============================] - 0s 7ms/step - loss: 0.4465 - accuracy: 0.8690 - val_loss: 0.4772 - val_accuracy: 0.8611\n",
            "Epoch 314/500\n",
            "3/3 [==============================] - 0s 7ms/step - loss: 0.4458 - accuracy: 0.8690 - val_loss: 0.4762 - val_accuracy: 0.8611\n",
            "Epoch 315/500\n",
            "3/3 [==============================] - 0s 7ms/step - loss: 0.4449 - accuracy: 0.8690 - val_loss: 0.4752 - val_accuracy: 0.8889\n",
            "Epoch 316/500\n",
            "3/3 [==============================] - 0s 7ms/step - loss: 0.4442 - accuracy: 0.8690 - val_loss: 0.4741 - val_accuracy: 0.9167\n",
            "Epoch 317/500\n",
            "3/3 [==============================] - 0s 7ms/step - loss: 0.4434 - accuracy: 0.8810 - val_loss: 0.4731 - val_accuracy: 0.9167\n",
            "Epoch 318/500\n",
            "3/3 [==============================] - 0s 7ms/step - loss: 0.4426 - accuracy: 0.8810 - val_loss: 0.4722 - val_accuracy: 0.9167\n",
            "Epoch 319/500\n",
            "3/3 [==============================] - 0s 7ms/step - loss: 0.4419 - accuracy: 0.8929 - val_loss: 0.4713 - val_accuracy: 0.9167\n",
            "Epoch 320/500\n",
            "3/3 [==============================] - 0s 6ms/step - loss: 0.4411 - accuracy: 0.8929 - val_loss: 0.4703 - val_accuracy: 0.9167\n",
            "Epoch 321/500\n",
            "3/3 [==============================] - 0s 7ms/step - loss: 0.4403 - accuracy: 0.8929 - val_loss: 0.4693 - val_accuracy: 0.9167\n",
            "Epoch 322/500\n",
            "3/3 [==============================] - 0s 7ms/step - loss: 0.4396 - accuracy: 0.8929 - val_loss: 0.4684 - val_accuracy: 0.9167\n",
            "Epoch 323/500\n",
            "3/3 [==============================] - 0s 7ms/step - loss: 0.4389 - accuracy: 0.8929 - val_loss: 0.4674 - val_accuracy: 0.9167\n",
            "Epoch 324/500\n",
            "3/3 [==============================] - 0s 7ms/step - loss: 0.4381 - accuracy: 0.8929 - val_loss: 0.4664 - val_accuracy: 0.9167\n",
            "Epoch 325/500\n",
            "3/3 [==============================] - 0s 7ms/step - loss: 0.4374 - accuracy: 0.8929 - val_loss: 0.4655 - val_accuracy: 0.9167\n",
            "Epoch 326/500\n",
            "3/3 [==============================] - 0s 7ms/step - loss: 0.4366 - accuracy: 0.8929 - val_loss: 0.4645 - val_accuracy: 0.9167\n",
            "Epoch 327/500\n",
            "3/3 [==============================] - 0s 6ms/step - loss: 0.4359 - accuracy: 0.9048 - val_loss: 0.4636 - val_accuracy: 0.9444\n",
            "Epoch 328/500\n",
            "3/3 [==============================] - 0s 7ms/step - loss: 0.4352 - accuracy: 0.9048 - val_loss: 0.4627 - val_accuracy: 0.9167\n",
            "Epoch 329/500\n",
            "3/3 [==============================] - 0s 7ms/step - loss: 0.4344 - accuracy: 0.9048 - val_loss: 0.4618 - val_accuracy: 0.9167\n",
            "Epoch 330/500\n",
            "3/3 [==============================] - 0s 7ms/step - loss: 0.4337 - accuracy: 0.8929 - val_loss: 0.4610 - val_accuracy: 0.9167\n",
            "Epoch 331/500\n",
            "3/3 [==============================] - 0s 8ms/step - loss: 0.4330 - accuracy: 0.8929 - val_loss: 0.4602 - val_accuracy: 0.9167\n",
            "Epoch 332/500\n",
            "3/3 [==============================] - 0s 8ms/step - loss: 0.4323 - accuracy: 0.8929 - val_loss: 0.4594 - val_accuracy: 0.9167\n",
            "Epoch 333/500\n",
            "3/3 [==============================] - 0s 8ms/step - loss: 0.4315 - accuracy: 0.8810 - val_loss: 0.4586 - val_accuracy: 0.9167\n",
            "Epoch 334/500\n",
            "3/3 [==============================] - 0s 7ms/step - loss: 0.4307 - accuracy: 0.8810 - val_loss: 0.4579 - val_accuracy: 0.9167\n",
            "Epoch 335/500\n",
            "3/3 [==============================] - 0s 7ms/step - loss: 0.4300 - accuracy: 0.8810 - val_loss: 0.4571 - val_accuracy: 0.9167\n",
            "Epoch 336/500\n",
            "3/3 [==============================] - 0s 6ms/step - loss: 0.4294 - accuracy: 0.8810 - val_loss: 0.4563 - val_accuracy: 0.9167\n",
            "Epoch 337/500\n",
            "3/3 [==============================] - 0s 7ms/step - loss: 0.4287 - accuracy: 0.8690 - val_loss: 0.4555 - val_accuracy: 0.9167\n",
            "Epoch 338/500\n",
            "3/3 [==============================] - 0s 6ms/step - loss: 0.4286 - accuracy: 0.8690 - val_loss: 0.4551 - val_accuracy: 0.9167\n",
            "Epoch 339/500\n",
            "3/3 [==============================] - 0s 6ms/step - loss: 0.4274 - accuracy: 0.8690 - val_loss: 0.4542 - val_accuracy: 0.9167\n",
            "Epoch 340/500\n",
            "3/3 [==============================] - 0s 7ms/step - loss: 0.4267 - accuracy: 0.8690 - val_loss: 0.4532 - val_accuracy: 0.9167\n",
            "Epoch 341/500\n",
            "3/3 [==============================] - 0s 6ms/step - loss: 0.4260 - accuracy: 0.8690 - val_loss: 0.4522 - val_accuracy: 0.9167\n",
            "Epoch 342/500\n",
            "3/3 [==============================] - 0s 7ms/step - loss: 0.4253 - accuracy: 0.8690 - val_loss: 0.4512 - val_accuracy: 0.9167\n",
            "Epoch 343/500\n",
            "3/3 [==============================] - 0s 7ms/step - loss: 0.4245 - accuracy: 0.8690 - val_loss: 0.4503 - val_accuracy: 0.9167\n",
            "Epoch 344/500\n",
            "3/3 [==============================] - 0s 7ms/step - loss: 0.4241 - accuracy: 0.8810 - val_loss: 0.4493 - val_accuracy: 0.9167\n",
            "Epoch 345/500\n",
            "3/3 [==============================] - 0s 7ms/step - loss: 0.4231 - accuracy: 0.8810 - val_loss: 0.4486 - val_accuracy: 0.9167\n",
            "Epoch 346/500\n",
            "3/3 [==============================] - 0s 6ms/step - loss: 0.4224 - accuracy: 0.8810 - val_loss: 0.4477 - val_accuracy: 0.9167\n",
            "Epoch 347/500\n",
            "3/3 [==============================] - 0s 6ms/step - loss: 0.4217 - accuracy: 0.8810 - val_loss: 0.4469 - val_accuracy: 0.9167\n",
            "Epoch 348/500\n",
            "3/3 [==============================] - 0s 7ms/step - loss: 0.4212 - accuracy: 0.8810 - val_loss: 0.4459 - val_accuracy: 0.9167\n",
            "Epoch 349/500\n",
            "3/3 [==============================] - 0s 8ms/step - loss: 0.4206 - accuracy: 0.8810 - val_loss: 0.4452 - val_accuracy: 0.9167\n",
            "Epoch 350/500\n",
            "3/3 [==============================] - 0s 8ms/step - loss: 0.4198 - accuracy: 0.8810 - val_loss: 0.4443 - val_accuracy: 0.9167\n",
            "Epoch 351/500\n",
            "3/3 [==============================] - 0s 8ms/step - loss: 0.4190 - accuracy: 0.8810 - val_loss: 0.4436 - val_accuracy: 0.9167\n",
            "Epoch 352/500\n",
            "3/3 [==============================] - 0s 8ms/step - loss: 0.4184 - accuracy: 0.8810 - val_loss: 0.4427 - val_accuracy: 0.9167\n",
            "Epoch 353/500\n",
            "3/3 [==============================] - 0s 7ms/step - loss: 0.4177 - accuracy: 0.8810 - val_loss: 0.4419 - val_accuracy: 0.9167\n",
            "Epoch 354/500\n",
            "3/3 [==============================] - 0s 7ms/step - loss: 0.4170 - accuracy: 0.8810 - val_loss: 0.4411 - val_accuracy: 0.9167\n",
            "Epoch 355/500\n",
            "3/3 [==============================] - 0s 7ms/step - loss: 0.4164 - accuracy: 0.8810 - val_loss: 0.4402 - val_accuracy: 0.9167\n",
            "Epoch 356/500\n",
            "3/3 [==============================] - 0s 8ms/step - loss: 0.4158 - accuracy: 0.8810 - val_loss: 0.4395 - val_accuracy: 0.9167\n",
            "Epoch 357/500\n",
            "3/3 [==============================] - 0s 7ms/step - loss: 0.4150 - accuracy: 0.8810 - val_loss: 0.4386 - val_accuracy: 0.9167\n",
            "Epoch 358/500\n",
            "3/3 [==============================] - 0s 7ms/step - loss: 0.4144 - accuracy: 0.8810 - val_loss: 0.4378 - val_accuracy: 0.9167\n",
            "Epoch 359/500\n",
            "3/3 [==============================] - 0s 7ms/step - loss: 0.4137 - accuracy: 0.8810 - val_loss: 0.4368 - val_accuracy: 0.9722\n",
            "Epoch 360/500\n",
            "3/3 [==============================] - 0s 7ms/step - loss: 0.4130 - accuracy: 0.8810 - val_loss: 0.4359 - val_accuracy: 0.9722\n",
            "Epoch 361/500\n",
            "3/3 [==============================] - 0s 7ms/step - loss: 0.4123 - accuracy: 0.9048 - val_loss: 0.4350 - val_accuracy: 0.9722\n",
            "Epoch 362/500\n",
            "3/3 [==============================] - 0s 7ms/step - loss: 0.4118 - accuracy: 0.9048 - val_loss: 0.4340 - val_accuracy: 0.9722\n",
            "Epoch 363/500\n",
            "3/3 [==============================] - 0s 7ms/step - loss: 0.4110 - accuracy: 0.9167 - val_loss: 0.4331 - val_accuracy: 0.9722\n",
            "Epoch 364/500\n",
            "3/3 [==============================] - 0s 7ms/step - loss: 0.4103 - accuracy: 0.9167 - val_loss: 0.4322 - val_accuracy: 1.0000\n",
            "Epoch 365/500\n",
            "3/3 [==============================] - 0s 7ms/step - loss: 0.4098 - accuracy: 0.9286 - val_loss: 0.4313 - val_accuracy: 1.0000\n",
            "Epoch 366/500\n",
            "3/3 [==============================] - 0s 7ms/step - loss: 0.4091 - accuracy: 0.9286 - val_loss: 0.4305 - val_accuracy: 1.0000\n",
            "Epoch 367/500\n",
            "3/3 [==============================] - 0s 7ms/step - loss: 0.4084 - accuracy: 0.9286 - val_loss: 0.4296 - val_accuracy: 1.0000\n",
            "Epoch 368/500\n",
            "3/3 [==============================] - 0s 8ms/step - loss: 0.4079 - accuracy: 0.9286 - val_loss: 0.4288 - val_accuracy: 1.0000\n",
            "Epoch 369/500\n",
            "3/3 [==============================] - 0s 7ms/step - loss: 0.4071 - accuracy: 0.9286 - val_loss: 0.4281 - val_accuracy: 1.0000\n",
            "Epoch 370/500\n",
            "3/3 [==============================] - 0s 8ms/step - loss: 0.4064 - accuracy: 0.9286 - val_loss: 0.4273 - val_accuracy: 1.0000\n",
            "Epoch 371/500\n",
            "3/3 [==============================] - 0s 7ms/step - loss: 0.4057 - accuracy: 0.9286 - val_loss: 0.4266 - val_accuracy: 1.0000\n",
            "Epoch 372/500\n",
            "3/3 [==============================] - 0s 7ms/step - loss: 0.4053 - accuracy: 0.9167 - val_loss: 0.4260 - val_accuracy: 1.0000\n",
            "Epoch 373/500\n",
            "3/3 [==============================] - 0s 7ms/step - loss: 0.4048 - accuracy: 0.9167 - val_loss: 0.4254 - val_accuracy: 0.9722\n",
            "Epoch 374/500\n",
            "3/3 [==============================] - 0s 7ms/step - loss: 0.4039 - accuracy: 0.9167 - val_loss: 0.4246 - val_accuracy: 0.9722\n",
            "Epoch 375/500\n",
            "3/3 [==============================] - 0s 7ms/step - loss: 0.4034 - accuracy: 0.9167 - val_loss: 0.4238 - val_accuracy: 0.9722\n",
            "Epoch 376/500\n",
            "3/3 [==============================] - 0s 7ms/step - loss: 0.4027 - accuracy: 0.9167 - val_loss: 0.4230 - val_accuracy: 1.0000\n",
            "Epoch 377/500\n",
            "3/3 [==============================] - 0s 7ms/step - loss: 0.4021 - accuracy: 0.9167 - val_loss: 0.4220 - val_accuracy: 1.0000\n",
            "Epoch 378/500\n",
            "3/3 [==============================] - 0s 7ms/step - loss: 0.4013 - accuracy: 0.9167 - val_loss: 0.4211 - val_accuracy: 1.0000\n",
            "Epoch 379/500\n",
            "3/3 [==============================] - 0s 7ms/step - loss: 0.4008 - accuracy: 0.9286 - val_loss: 0.4202 - val_accuracy: 1.0000\n",
            "Epoch 380/500\n",
            "3/3 [==============================] - 0s 7ms/step - loss: 0.4001 - accuracy: 0.9286 - val_loss: 0.4194 - val_accuracy: 1.0000\n",
            "Epoch 381/500\n",
            "3/3 [==============================] - 0s 7ms/step - loss: 0.3995 - accuracy: 0.9286 - val_loss: 0.4186 - val_accuracy: 1.0000\n",
            "Epoch 382/500\n",
            "3/3 [==============================] - 0s 7ms/step - loss: 0.3988 - accuracy: 0.9286 - val_loss: 0.4178 - val_accuracy: 1.0000\n",
            "Epoch 383/500\n",
            "3/3 [==============================] - 0s 6ms/step - loss: 0.3982 - accuracy: 0.9286 - val_loss: 0.4170 - val_accuracy: 1.0000\n",
            "Epoch 384/500\n",
            "3/3 [==============================] - 0s 6ms/step - loss: 0.3976 - accuracy: 0.9286 - val_loss: 0.4162 - val_accuracy: 1.0000\n",
            "Epoch 385/500\n",
            "3/3 [==============================] - 0s 8ms/step - loss: 0.3971 - accuracy: 0.9286 - val_loss: 0.4155 - val_accuracy: 1.0000\n",
            "Epoch 386/500\n",
            "3/3 [==============================] - 0s 9ms/step - loss: 0.3963 - accuracy: 0.9286 - val_loss: 0.4147 - val_accuracy: 1.0000\n",
            "Epoch 387/500\n",
            "3/3 [==============================] - 0s 7ms/step - loss: 0.3957 - accuracy: 0.9286 - val_loss: 0.4139 - val_accuracy: 1.0000\n",
            "Epoch 388/500\n",
            "3/3 [==============================] - 0s 7ms/step - loss: 0.3951 - accuracy: 0.9286 - val_loss: 0.4131 - val_accuracy: 1.0000\n",
            "Epoch 389/500\n",
            "3/3 [==============================] - 0s 7ms/step - loss: 0.3947 - accuracy: 0.9286 - val_loss: 0.4122 - val_accuracy: 1.0000\n",
            "Epoch 390/500\n",
            "3/3 [==============================] - 0s 8ms/step - loss: 0.3939 - accuracy: 0.9405 - val_loss: 0.4114 - val_accuracy: 1.0000\n",
            "Epoch 391/500\n",
            "3/3 [==============================] - 0s 7ms/step - loss: 0.3932 - accuracy: 0.9286 - val_loss: 0.4108 - val_accuracy: 1.0000\n",
            "Epoch 392/500\n",
            "3/3 [==============================] - 0s 7ms/step - loss: 0.3926 - accuracy: 0.9286 - val_loss: 0.4101 - val_accuracy: 1.0000\n",
            "Epoch 393/500\n",
            "3/3 [==============================] - 0s 7ms/step - loss: 0.3920 - accuracy: 0.9286 - val_loss: 0.4094 - val_accuracy: 1.0000\n",
            "Epoch 394/500\n",
            "3/3 [==============================] - 0s 7ms/step - loss: 0.3914 - accuracy: 0.9167 - val_loss: 0.4087 - val_accuracy: 1.0000\n",
            "Epoch 395/500\n",
            "3/3 [==============================] - 0s 7ms/step - loss: 0.3909 - accuracy: 0.9167 - val_loss: 0.4079 - val_accuracy: 1.0000\n",
            "Epoch 396/500\n",
            "3/3 [==============================] - 0s 7ms/step - loss: 0.3903 - accuracy: 0.9167 - val_loss: 0.4072 - val_accuracy: 1.0000\n",
            "Epoch 397/500\n",
            "3/3 [==============================] - 0s 8ms/step - loss: 0.3896 - accuracy: 0.9167 - val_loss: 0.4064 - val_accuracy: 1.0000\n",
            "Epoch 398/500\n",
            "3/3 [==============================] - 0s 7ms/step - loss: 0.3890 - accuracy: 0.9167 - val_loss: 0.4057 - val_accuracy: 1.0000\n",
            "Epoch 399/500\n",
            "3/3 [==============================] - 0s 7ms/step - loss: 0.3884 - accuracy: 0.9167 - val_loss: 0.4050 - val_accuracy: 1.0000\n",
            "Epoch 400/500\n",
            "3/3 [==============================] - 0s 8ms/step - loss: 0.3878 - accuracy: 0.9167 - val_loss: 0.4042 - val_accuracy: 1.0000\n",
            "Epoch 401/500\n",
            "3/3 [==============================] - 0s 7ms/step - loss: 0.3873 - accuracy: 0.9167 - val_loss: 0.4033 - val_accuracy: 1.0000\n",
            "Epoch 402/500\n",
            "3/3 [==============================] - 0s 7ms/step - loss: 0.3865 - accuracy: 0.9167 - val_loss: 0.4025 - val_accuracy: 1.0000\n",
            "Epoch 403/500\n",
            "3/3 [==============================] - 0s 8ms/step - loss: 0.3860 - accuracy: 0.9167 - val_loss: 0.4018 - val_accuracy: 1.0000\n",
            "Epoch 404/500\n",
            "3/3 [==============================] - 0s 7ms/step - loss: 0.3855 - accuracy: 0.9167 - val_loss: 0.4011 - val_accuracy: 1.0000\n",
            "Epoch 405/500\n",
            "3/3 [==============================] - 0s 7ms/step - loss: 0.3847 - accuracy: 0.9167 - val_loss: 0.4001 - val_accuracy: 1.0000\n",
            "Epoch 406/500\n",
            "3/3 [==============================] - 0s 9ms/step - loss: 0.3841 - accuracy: 0.9405 - val_loss: 0.3992 - val_accuracy: 1.0000\n",
            "Epoch 407/500\n",
            "3/3 [==============================] - 0s 8ms/step - loss: 0.3834 - accuracy: 0.9405 - val_loss: 0.3983 - val_accuracy: 1.0000\n",
            "Epoch 408/500\n",
            "3/3 [==============================] - 0s 7ms/step - loss: 0.3829 - accuracy: 0.9405 - val_loss: 0.3975 - val_accuracy: 1.0000\n",
            "Epoch 409/500\n",
            "3/3 [==============================] - 0s 7ms/step - loss: 0.3823 - accuracy: 0.9405 - val_loss: 0.3967 - val_accuracy: 1.0000\n",
            "Epoch 410/500\n",
            "3/3 [==============================] - 0s 7ms/step - loss: 0.3818 - accuracy: 0.9405 - val_loss: 0.3959 - val_accuracy: 1.0000\n",
            "Epoch 411/500\n",
            "3/3 [==============================] - 0s 7ms/step - loss: 0.3812 - accuracy: 0.9524 - val_loss: 0.3952 - val_accuracy: 1.0000\n",
            "Epoch 412/500\n",
            "3/3 [==============================] - 0s 6ms/step - loss: 0.3805 - accuracy: 0.9524 - val_loss: 0.3944 - val_accuracy: 1.0000\n",
            "Epoch 413/500\n",
            "3/3 [==============================] - 0s 7ms/step - loss: 0.3800 - accuracy: 0.9405 - val_loss: 0.3936 - val_accuracy: 1.0000\n",
            "Epoch 414/500\n",
            "3/3 [==============================] - 0s 7ms/step - loss: 0.3793 - accuracy: 0.9405 - val_loss: 0.3929 - val_accuracy: 1.0000\n",
            "Epoch 415/500\n",
            "3/3 [==============================] - 0s 7ms/step - loss: 0.3788 - accuracy: 0.9524 - val_loss: 0.3921 - val_accuracy: 1.0000\n",
            "Epoch 416/500\n",
            "3/3 [==============================] - 0s 7ms/step - loss: 0.3780 - accuracy: 0.9405 - val_loss: 0.3915 - val_accuracy: 1.0000\n",
            "Epoch 417/500\n",
            "3/3 [==============================] - 0s 7ms/step - loss: 0.3774 - accuracy: 0.9405 - val_loss: 0.3908 - val_accuracy: 1.0000\n",
            "Epoch 418/500\n",
            "3/3 [==============================] - 0s 7ms/step - loss: 0.3768 - accuracy: 0.9286 - val_loss: 0.3903 - val_accuracy: 1.0000\n",
            "Epoch 419/500\n",
            "3/3 [==============================] - 0s 7ms/step - loss: 0.3765 - accuracy: 0.9286 - val_loss: 0.3898 - val_accuracy: 1.0000\n",
            "Epoch 420/500\n",
            "3/3 [==============================] - 0s 7ms/step - loss: 0.3758 - accuracy: 0.9167 - val_loss: 0.3890 - val_accuracy: 1.0000\n",
            "Epoch 421/500\n",
            "3/3 [==============================] - 0s 8ms/step - loss: 0.3752 - accuracy: 0.9167 - val_loss: 0.3884 - val_accuracy: 1.0000\n",
            "Epoch 422/500\n",
            "3/3 [==============================] - 0s 7ms/step - loss: 0.3747 - accuracy: 0.9167 - val_loss: 0.3877 - val_accuracy: 1.0000\n",
            "Epoch 423/500\n",
            "3/3 [==============================] - 0s 7ms/step - loss: 0.3742 - accuracy: 0.9167 - val_loss: 0.3870 - val_accuracy: 1.0000\n",
            "Epoch 424/500\n",
            "3/3 [==============================] - 0s 7ms/step - loss: 0.3735 - accuracy: 0.9167 - val_loss: 0.3860 - val_accuracy: 1.0000\n",
            "Epoch 425/500\n",
            "3/3 [==============================] - 0s 7ms/step - loss: 0.3728 - accuracy: 0.9286 - val_loss: 0.3851 - val_accuracy: 1.0000\n",
            "Epoch 426/500\n",
            "3/3 [==============================] - 0s 7ms/step - loss: 0.3721 - accuracy: 0.9286 - val_loss: 0.3841 - val_accuracy: 1.0000\n",
            "Epoch 427/500\n",
            "3/3 [==============================] - 0s 8ms/step - loss: 0.3715 - accuracy: 0.9524 - val_loss: 0.3833 - val_accuracy: 1.0000\n",
            "Epoch 428/500\n",
            "3/3 [==============================] - 0s 7ms/step - loss: 0.3712 - accuracy: 0.9524 - val_loss: 0.3824 - val_accuracy: 1.0000\n",
            "Epoch 429/500\n",
            "3/3 [==============================] - 0s 7ms/step - loss: 0.3706 - accuracy: 0.9524 - val_loss: 0.3816 - val_accuracy: 1.0000\n",
            "Epoch 430/500\n",
            "3/3 [==============================] - 0s 7ms/step - loss: 0.3703 - accuracy: 0.9524 - val_loss: 0.3809 - val_accuracy: 1.0000\n",
            "Epoch 431/500\n",
            "3/3 [==============================] - 0s 7ms/step - loss: 0.3694 - accuracy: 0.9524 - val_loss: 0.3802 - val_accuracy: 1.0000\n",
            "Epoch 432/500\n",
            "3/3 [==============================] - 0s 7ms/step - loss: 0.3688 - accuracy: 0.9524 - val_loss: 0.3795 - val_accuracy: 1.0000\n",
            "Epoch 433/500\n",
            "3/3 [==============================] - 0s 7ms/step - loss: 0.3682 - accuracy: 0.9524 - val_loss: 0.3789 - val_accuracy: 1.0000\n",
            "Epoch 434/500\n",
            "3/3 [==============================] - 0s 6ms/step - loss: 0.3680 - accuracy: 0.9524 - val_loss: 0.3784 - val_accuracy: 1.0000\n",
            "Epoch 435/500\n",
            "3/3 [==============================] - 0s 7ms/step - loss: 0.3672 - accuracy: 0.9524 - val_loss: 0.3776 - val_accuracy: 1.0000\n",
            "Epoch 436/500\n",
            "3/3 [==============================] - 0s 7ms/step - loss: 0.3666 - accuracy: 0.9524 - val_loss: 0.3769 - val_accuracy: 1.0000\n",
            "Epoch 437/500\n",
            "3/3 [==============================] - 0s 7ms/step - loss: 0.3659 - accuracy: 0.9524 - val_loss: 0.3763 - val_accuracy: 1.0000\n",
            "Epoch 438/500\n",
            "3/3 [==============================] - 0s 7ms/step - loss: 0.3653 - accuracy: 0.9524 - val_loss: 0.3756 - val_accuracy: 1.0000\n",
            "Epoch 439/500\n",
            "3/3 [==============================] - 0s 7ms/step - loss: 0.3648 - accuracy: 0.9524 - val_loss: 0.3749 - val_accuracy: 1.0000\n",
            "Epoch 440/500\n",
            "3/3 [==============================] - 0s 6ms/step - loss: 0.3642 - accuracy: 0.9524 - val_loss: 0.3743 - val_accuracy: 1.0000\n",
            "Epoch 441/500\n",
            "3/3 [==============================] - 0s 7ms/step - loss: 0.3637 - accuracy: 0.9405 - val_loss: 0.3736 - val_accuracy: 1.0000\n",
            "Epoch 442/500\n",
            "3/3 [==============================] - 0s 7ms/step - loss: 0.3632 - accuracy: 0.9405 - val_loss: 0.3729 - val_accuracy: 1.0000\n",
            "Epoch 443/500\n",
            "3/3 [==============================] - 0s 7ms/step - loss: 0.3626 - accuracy: 0.9405 - val_loss: 0.3722 - val_accuracy: 1.0000\n",
            "Epoch 444/500\n",
            "3/3 [==============================] - 0s 9ms/step - loss: 0.3620 - accuracy: 0.9405 - val_loss: 0.3714 - val_accuracy: 1.0000\n",
            "Epoch 445/500\n",
            "3/3 [==============================] - 0s 8ms/step - loss: 0.3614 - accuracy: 0.9405 - val_loss: 0.3707 - val_accuracy: 1.0000\n",
            "Epoch 446/500\n",
            "3/3 [==============================] - 0s 6ms/step - loss: 0.3609 - accuracy: 0.9524 - val_loss: 0.3699 - val_accuracy: 1.0000\n",
            "Epoch 447/500\n",
            "3/3 [==============================] - 0s 7ms/step - loss: 0.3602 - accuracy: 0.9524 - val_loss: 0.3690 - val_accuracy: 1.0000\n",
            "Epoch 448/500\n",
            "3/3 [==============================] - 0s 7ms/step - loss: 0.3597 - accuracy: 0.9524 - val_loss: 0.3682 - val_accuracy: 1.0000\n",
            "Epoch 449/500\n",
            "3/3 [==============================] - 0s 7ms/step - loss: 0.3591 - accuracy: 0.9524 - val_loss: 0.3674 - val_accuracy: 1.0000\n",
            "Epoch 450/500\n",
            "3/3 [==============================] - 0s 8ms/step - loss: 0.3588 - accuracy: 0.9643 - val_loss: 0.3666 - val_accuracy: 1.0000\n",
            "Epoch 451/500\n",
            "3/3 [==============================] - 0s 7ms/step - loss: 0.3582 - accuracy: 0.9643 - val_loss: 0.3659 - val_accuracy: 1.0000\n",
            "Epoch 452/500\n",
            "3/3 [==============================] - 0s 7ms/step - loss: 0.3577 - accuracy: 0.9643 - val_loss: 0.3652 - val_accuracy: 1.0000\n",
            "Epoch 453/500\n",
            "3/3 [==============================] - 0s 7ms/step - loss: 0.3570 - accuracy: 0.9643 - val_loss: 0.3644 - val_accuracy: 1.0000\n",
            "Epoch 454/500\n",
            "3/3 [==============================] - 0s 7ms/step - loss: 0.3565 - accuracy: 0.9643 - val_loss: 0.3637 - val_accuracy: 1.0000\n",
            "Epoch 455/500\n",
            "3/3 [==============================] - 0s 7ms/step - loss: 0.3560 - accuracy: 0.9643 - val_loss: 0.3630 - val_accuracy: 1.0000\n",
            "Epoch 456/500\n",
            "3/3 [==============================] - 0s 7ms/step - loss: 0.3553 - accuracy: 0.9643 - val_loss: 0.3623 - val_accuracy: 1.0000\n",
            "Epoch 457/500\n",
            "3/3 [==============================] - 0s 8ms/step - loss: 0.3547 - accuracy: 0.9643 - val_loss: 0.3616 - val_accuracy: 1.0000\n",
            "Epoch 458/500\n",
            "3/3 [==============================] - 0s 7ms/step - loss: 0.3545 - accuracy: 0.9524 - val_loss: 0.3609 - val_accuracy: 1.0000\n",
            "Epoch 459/500\n",
            "3/3 [==============================] - 0s 7ms/step - loss: 0.3536 - accuracy: 0.9524 - val_loss: 0.3602 - val_accuracy: 1.0000\n",
            "Epoch 460/500\n",
            "3/3 [==============================] - 0s 7ms/step - loss: 0.3529 - accuracy: 0.9643 - val_loss: 0.3595 - val_accuracy: 1.0000\n",
            "Epoch 461/500\n",
            "3/3 [==============================] - 0s 7ms/step - loss: 0.3524 - accuracy: 0.9643 - val_loss: 0.3588 - val_accuracy: 1.0000\n",
            "Epoch 462/500\n",
            "3/3 [==============================] - 0s 7ms/step - loss: 0.3519 - accuracy: 0.9643 - val_loss: 0.3581 - val_accuracy: 1.0000\n",
            "Epoch 463/500\n",
            "3/3 [==============================] - 0s 8ms/step - loss: 0.3514 - accuracy: 0.9643 - val_loss: 0.3573 - val_accuracy: 1.0000\n",
            "Epoch 464/500\n",
            "3/3 [==============================] - 0s 8ms/step - loss: 0.3509 - accuracy: 0.9643 - val_loss: 0.3566 - val_accuracy: 1.0000\n",
            "Epoch 465/500\n",
            "3/3 [==============================] - 0s 7ms/step - loss: 0.3502 - accuracy: 0.9643 - val_loss: 0.3559 - val_accuracy: 1.0000\n",
            "Epoch 466/500\n",
            "3/3 [==============================] - 0s 8ms/step - loss: 0.3496 - accuracy: 0.9643 - val_loss: 0.3553 - val_accuracy: 1.0000\n",
            "Epoch 467/500\n",
            "3/3 [==============================] - 0s 7ms/step - loss: 0.3491 - accuracy: 0.9643 - val_loss: 0.3546 - val_accuracy: 1.0000\n",
            "Epoch 468/500\n",
            "3/3 [==============================] - 0s 7ms/step - loss: 0.3489 - accuracy: 0.9524 - val_loss: 0.3541 - val_accuracy: 1.0000\n",
            "Epoch 469/500\n",
            "3/3 [==============================] - 0s 7ms/step - loss: 0.3481 - accuracy: 0.9524 - val_loss: 0.3533 - val_accuracy: 1.0000\n",
            "Epoch 470/500\n",
            "3/3 [==============================] - 0s 6ms/step - loss: 0.3474 - accuracy: 0.9524 - val_loss: 0.3526 - val_accuracy: 1.0000\n",
            "Epoch 471/500\n",
            "3/3 [==============================] - 0s 6ms/step - loss: 0.3469 - accuracy: 0.9524 - val_loss: 0.3519 - val_accuracy: 1.0000\n",
            "Epoch 472/500\n",
            "3/3 [==============================] - 0s 7ms/step - loss: 0.3465 - accuracy: 0.9524 - val_loss: 0.3512 - val_accuracy: 1.0000\n",
            "Epoch 473/500\n",
            "3/3 [==============================] - 0s 7ms/step - loss: 0.3458 - accuracy: 0.9524 - val_loss: 0.3506 - val_accuracy: 1.0000\n",
            "Epoch 474/500\n",
            "3/3 [==============================] - 0s 7ms/step - loss: 0.3452 - accuracy: 0.9524 - val_loss: 0.3500 - val_accuracy: 1.0000\n",
            "Epoch 475/500\n",
            "3/3 [==============================] - 0s 8ms/step - loss: 0.3450 - accuracy: 0.9405 - val_loss: 0.3495 - val_accuracy: 1.0000\n",
            "Epoch 476/500\n",
            "3/3 [==============================] - 0s 7ms/step - loss: 0.3443 - accuracy: 0.9405 - val_loss: 0.3488 - val_accuracy: 1.0000\n",
            "Epoch 477/500\n",
            "3/3 [==============================] - 0s 7ms/step - loss: 0.3437 - accuracy: 0.9405 - val_loss: 0.3481 - val_accuracy: 1.0000\n",
            "Epoch 478/500\n",
            "3/3 [==============================] - 0s 7ms/step - loss: 0.3432 - accuracy: 0.9405 - val_loss: 0.3474 - val_accuracy: 1.0000\n",
            "Epoch 479/500\n",
            "3/3 [==============================] - 0s 7ms/step - loss: 0.3427 - accuracy: 0.9524 - val_loss: 0.3466 - val_accuracy: 1.0000\n",
            "Epoch 480/500\n",
            "3/3 [==============================] - 0s 7ms/step - loss: 0.3421 - accuracy: 0.9524 - val_loss: 0.3459 - val_accuracy: 1.0000\n",
            "Epoch 481/500\n",
            "3/3 [==============================] - 0s 7ms/step - loss: 0.3415 - accuracy: 0.9643 - val_loss: 0.3451 - val_accuracy: 1.0000\n",
            "Epoch 482/500\n",
            "3/3 [==============================] - 0s 8ms/step - loss: 0.3410 - accuracy: 0.9643 - val_loss: 0.3443 - val_accuracy: 1.0000\n",
            "Epoch 483/500\n",
            "3/3 [==============================] - 0s 8ms/step - loss: 0.3404 - accuracy: 0.9643 - val_loss: 0.3436 - val_accuracy: 1.0000\n",
            "Epoch 484/500\n",
            "3/3 [==============================] - 0s 8ms/step - loss: 0.3401 - accuracy: 0.9643 - val_loss: 0.3429 - val_accuracy: 1.0000\n",
            "Epoch 485/500\n",
            "3/3 [==============================] - 0s 8ms/step - loss: 0.3394 - accuracy: 0.9643 - val_loss: 0.3422 - val_accuracy: 1.0000\n",
            "Epoch 486/500\n",
            "3/3 [==============================] - 0s 7ms/step - loss: 0.3388 - accuracy: 0.9643 - val_loss: 0.3415 - val_accuracy: 1.0000\n",
            "Epoch 487/500\n",
            "3/3 [==============================] - 0s 7ms/step - loss: 0.3385 - accuracy: 0.9643 - val_loss: 0.3409 - val_accuracy: 1.0000\n",
            "Epoch 488/500\n",
            "3/3 [==============================] - 0s 8ms/step - loss: 0.3378 - accuracy: 0.9643 - val_loss: 0.3403 - val_accuracy: 1.0000\n",
            "Epoch 489/500\n",
            "3/3 [==============================] - 0s 7ms/step - loss: 0.3373 - accuracy: 0.9643 - val_loss: 0.3395 - val_accuracy: 1.0000\n",
            "Epoch 490/500\n",
            "3/3 [==============================] - 0s 7ms/step - loss: 0.3368 - accuracy: 0.9643 - val_loss: 0.3389 - val_accuracy: 1.0000\n",
            "Epoch 491/500\n",
            "3/3 [==============================] - 0s 7ms/step - loss: 0.3361 - accuracy: 0.9643 - val_loss: 0.3382 - val_accuracy: 1.0000\n",
            "Epoch 492/500\n",
            "3/3 [==============================] - 0s 9ms/step - loss: 0.3357 - accuracy: 0.9643 - val_loss: 0.3375 - val_accuracy: 1.0000\n",
            "Epoch 493/500\n",
            "3/3 [==============================] - 0s 8ms/step - loss: 0.3351 - accuracy: 0.9643 - val_loss: 0.3368 - val_accuracy: 1.0000\n",
            "Epoch 494/500\n",
            "3/3 [==============================] - 0s 8ms/step - loss: 0.3346 - accuracy: 0.9643 - val_loss: 0.3361 - val_accuracy: 1.0000\n",
            "Epoch 495/500\n",
            "3/3 [==============================] - 0s 7ms/step - loss: 0.3340 - accuracy: 0.9643 - val_loss: 0.3355 - val_accuracy: 1.0000\n",
            "Epoch 496/500\n",
            "3/3 [==============================] - 0s 7ms/step - loss: 0.3336 - accuracy: 0.9643 - val_loss: 0.3348 - val_accuracy: 1.0000\n",
            "Epoch 497/500\n",
            "3/3 [==============================] - 0s 7ms/step - loss: 0.3329 - accuracy: 0.9643 - val_loss: 0.3341 - val_accuracy: 1.0000\n",
            "Epoch 498/500\n",
            "3/3 [==============================] - 0s 7ms/step - loss: 0.3327 - accuracy: 0.9643 - val_loss: 0.3334 - val_accuracy: 1.0000\n",
            "Epoch 499/500\n",
            "3/3 [==============================] - 0s 7ms/step - loss: 0.3319 - accuracy: 0.9643 - val_loss: 0.3327 - val_accuracy: 1.0000\n",
            "Epoch 500/500\n",
            "3/3 [==============================] - 0s 7ms/step - loss: 0.3315 - accuracy: 0.9643 - val_loss: 0.3321 - val_accuracy: 1.0000\n",
            "CPU times: user 13 s, sys: 866 ms, total: 13.8 s\n",
            "Wall time: 14.2 s\n"
          ],
          "name": "stdout"
        },
        {
          "output_type": "execute_result",
          "data": {
            "text/plain": [
              "<tensorflow.python.keras.callbacks.History at 0x7f45752fbe10>"
            ]
          },
          "metadata": {
            "tags": []
          },
          "execution_count": 45
        }
      ]
    },
    {
      "cell_type": "markdown",
      "metadata": {
        "id": "pmsuPaqYpl-2",
        "colab_type": "text"
      },
      "source": [
        "# Bewertung"
      ]
    },
    {
      "cell_type": "code",
      "metadata": {
        "id": "iCCbIyrjpl-3",
        "colab_type": "code",
        "colab": {
          "base_uri": "https://localhost:8080/",
          "height": 34
        },
        "outputId": "8279ee31-3dfc-4575-eb27-b0a83a909bb4"
      },
      "source": [
        "model.predict(np.array([[ 5.1,  3.5,  1.4,  0.2]]))"
      ],
      "execution_count": 46,
      "outputs": [
        {
          "output_type": "execute_result",
          "data": {
            "text/plain": [
              "array([[0.9625648 , 0.0360607 , 0.00137442]], dtype=float32)"
            ]
          },
          "metadata": {
            "tags": []
          },
          "execution_count": 46
        }
      ]
    },
    {
      "cell_type": "code",
      "metadata": {
        "id": "jQaEAtyVpl-4",
        "colab_type": "code",
        "colab": {
          "base_uri": "https://localhost:8080/",
          "height": 34
        },
        "outputId": "4bdab368-1515-4a61-e77b-399c5741bc2e"
      },
      "source": [
        "X[0], y[0]"
      ],
      "execution_count": 47,
      "outputs": [
        {
          "output_type": "execute_result",
          "data": {
            "text/plain": [
              "(array([5.1, 3.5, 1.4, 0.2]), array([1., 0., 0.], dtype=float32))"
            ]
          },
          "metadata": {
            "tags": []
          },
          "execution_count": 47
        }
      ]
    },
    {
      "cell_type": "code",
      "metadata": {
        "id": "wrzGbtchpl-7",
        "colab_type": "code",
        "colab": {
          "base_uri": "https://localhost:8080/",
          "height": 51
        },
        "outputId": "5c1af142-3b53-4bd4-8bd0-7467ef8bf6d8"
      },
      "source": [
        "train_loss, train_accuracy = model.evaluate(X_train, y_train)\n",
        "train_loss, train_accuracy"
      ],
      "execution_count": 48,
      "outputs": [
        {
          "output_type": "stream",
          "text": [
            "4/4 [==============================] - 0s 2ms/step - loss: 0.3313 - accuracy: 0.9750\n"
          ],
          "name": "stdout"
        },
        {
          "output_type": "execute_result",
          "data": {
            "text/plain": [
              "(0.331294983625412, 0.9750000238418579)"
            ]
          },
          "metadata": {
            "tags": []
          },
          "execution_count": 48
        }
      ]
    },
    {
      "cell_type": "code",
      "metadata": {
        "id": "hnXEggalpl-8",
        "colab_type": "code",
        "colab": {
          "base_uri": "https://localhost:8080/",
          "height": 51
        },
        "outputId": "50a0eed0-1d06-4a5b-9894-23c55f073178"
      },
      "source": [
        "test_loss, test_accuracy = model.evaluate(X_test, y_test)\n",
        "test_loss, test_accuracy"
      ],
      "execution_count": 49,
      "outputs": [
        {
          "output_type": "stream",
          "text": [
            "1/1 [==============================] - 0s 1ms/step - loss: 0.3250 - accuracy: 0.9333\n"
          ],
          "name": "stdout"
        },
        {
          "output_type": "execute_result",
          "data": {
            "text/plain": [
              "(0.3249962031841278, 0.9333333373069763)"
            ]
          },
          "metadata": {
            "tags": []
          },
          "execution_count": 49
        }
      ]
    }
  ]
}