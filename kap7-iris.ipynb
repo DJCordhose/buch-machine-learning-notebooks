{
 "cells": [
  {
   "cell_type": "markdown",
   "metadata": {},
   "source": [
    "# Kapitel 7: Neuronale Netzwerke - Grundlagen"
   ]
  },
  {
   "cell_type": "code",
   "execution_count": 3,
   "metadata": {},
   "outputs": [],
   "source": [
    "import warnings\n",
    "warnings.filterwarnings('ignore')"
   ]
  },
  {
   "cell_type": "code",
   "execution_count": 4,
   "metadata": {},
   "outputs": [
    {
     "name": "stdout",
     "output_type": "stream",
     "text": [
      "Populating the interactive namespace from numpy and matplotlib\n"
     ]
    }
   ],
   "source": [
    "%matplotlib inline\n",
    "%pylab inline"
   ]
  },
  {
   "cell_type": "code",
   "execution_count": 5,
   "metadata": {},
   "outputs": [],
   "source": [
    "import matplotlib.pylab as plt\n",
    "import numpy as np"
   ]
  },
  {
   "cell_type": "code",
   "execution_count": 4,
   "metadata": {},
   "outputs": [],
   "source": [
    "colors = 'bwr'#['b','y','r']\n",
    "CMAP = colors#plt.cm.rainbow"
   ]
  },
  {
   "cell_type": "code",
   "execution_count": 5,
   "metadata": {},
   "outputs": [],
   "source": [
    "from distutils.version import StrictVersion"
   ]
  },
  {
   "cell_type": "code",
   "execution_count": 6,
   "metadata": {},
   "outputs": [
    {
     "name": "stdout",
     "output_type": "stream",
     "text": [
      "0.19.1\n"
     ]
    }
   ],
   "source": [
    "import sklearn\n",
    "print(sklearn.__version__)\n",
    "\n",
    "assert StrictVersion(sklearn.__version__ ) >= StrictVersion('0.18.1')"
   ]
  },
  {
   "cell_type": "code",
   "execution_count": 7,
   "metadata": {},
   "outputs": [
    {
     "name": "stdout",
     "output_type": "stream",
     "text": [
      "1.1.0\n"
     ]
    }
   ],
   "source": [
    "import tensorflow as tf\n",
    "tf.logging.set_verbosity(tf.logging.ERROR)\n",
    "print(tf.__version__)\n",
    "\n",
    "assert StrictVersion(tf.__version__) >= StrictVersion('1.1.0')"
   ]
  },
  {
   "cell_type": "code",
   "execution_count": 8,
   "metadata": {},
   "outputs": [
    {
     "name": "stderr",
     "output_type": "stream",
     "text": [
      "Using TensorFlow backend.\n"
     ]
    },
    {
     "name": "stdout",
     "output_type": "stream",
     "text": [
      "2.1.3\n"
     ]
    }
   ],
   "source": [
    "import keras\n",
    "print(keras.__version__)\n",
    "\n",
    "assert StrictVersion(keras.__version__) >= StrictVersion('2.0.0')"
   ]
  },
  {
   "cell_type": "code",
   "execution_count": 9,
   "metadata": {},
   "outputs": [
    {
     "name": "stdout",
     "output_type": "stream",
     "text": [
      "0.20.3\n"
     ]
    }
   ],
   "source": [
    "import pandas as pd\n",
    "print(pd.__version__)\n",
    "\n",
    "assert StrictVersion(pd.__version__) >= StrictVersion('0.20.0')"
   ]
  },
  {
   "cell_type": "markdown",
   "metadata": {},
   "source": [
    "## Iris mit Neuronalen Netzwerken"
   ]
  },
  {
   "cell_type": "code",
   "execution_count": 10,
   "metadata": {},
   "outputs": [],
   "source": [
    "from sklearn.datasets import load_iris\n",
    "iris = load_iris()"
   ]
  },
  {
   "cell_type": "code",
   "execution_count": 11,
   "metadata": {},
   "outputs": [
    {
     "name": "stdout",
     "output_type": "stream",
     "text": [
      "Iris Plants Database\n",
      "====================\n",
      "\n",
      "Notes\n",
      "-----\n",
      "Data Set Characteristics:\n",
      "    :Number of Instances: 150 (50 in each of three classes)\n",
      "    :Number of Attributes: 4 numeric, predictive attributes and the class\n",
      "    :Attribute Information:\n",
      "        - sepal length in cm\n",
      "        - sepal width in cm\n",
      "        - petal length in cm\n",
      "        - petal width in cm\n",
      "        - class:\n",
      "                - Iris-Setosa\n",
      "                - Iris-Versicolour\n",
      "                - Iris-Virginica\n",
      "    :Summary Statistics:\n",
      "\n",
      "    ============== ==== ==== ======= ===== ====================\n",
      "                    Min  Max   Mean    SD   Class Correlation\n",
      "    ============== ==== ==== ======= ===== ====================\n",
      "    sepal length:   4.3  7.9   5.84   0.83    0.7826\n",
      "    sepal width:    2.0  4.4   3.05   0.43   -0.4194\n",
      "    petal length:   1.0  6.9   3.76   1.76    0.9490  (high!)\n",
      "    petal width:    0.1  2.5   1.20  0.76     0.9565  (high!)\n",
      "    ============== ==== ==== ======= ===== ====================\n",
      "\n",
      "    :Missing Attribute Values: None\n",
      "    :Class Distribution: 33.3% for each of 3 classes.\n",
      "    :Creator: R.A. Fisher\n",
      "    :Donor: Michael Marshall (MARSHALL%PLU@io.arc.nasa.gov)\n",
      "    :Date: July, 1988\n",
      "\n",
      "This is a copy of UCI ML iris datasets.\n",
      "http://archive.ics.uci.edu/ml/datasets/Iris\n",
      "\n",
      "The famous Iris database, first used by Sir R.A Fisher\n",
      "\n",
      "This is perhaps the best known database to be found in the\n",
      "pattern recognition literature.  Fisher's paper is a classic in the field and\n",
      "is referenced frequently to this day.  (See Duda & Hart, for example.)  The\n",
      "data set contains 3 classes of 50 instances each, where each class refers to a\n",
      "type of iris plant.  One class is linearly separable from the other 2; the\n",
      "latter are NOT linearly separable from each other.\n",
      "\n",
      "References\n",
      "----------\n",
      "   - Fisher,R.A. \"The use of multiple measurements in taxonomic problems\"\n",
      "     Annual Eugenics, 7, Part II, 179-188 (1936); also in \"Contributions to\n",
      "     Mathematical Statistics\" (John Wiley, NY, 1950).\n",
      "   - Duda,R.O., & Hart,P.E. (1973) Pattern Classification and Scene Analysis.\n",
      "     (Q327.D83) John Wiley & Sons.  ISBN 0-471-22361-1.  See page 218.\n",
      "   - Dasarathy, B.V. (1980) \"Nosing Around the Neighborhood: A New System\n",
      "     Structure and Classification Rule for Recognition in Partially Exposed\n",
      "     Environments\".  IEEE Transactions on Pattern Analysis and Machine\n",
      "     Intelligence, Vol. PAMI-2, No. 1, 67-71.\n",
      "   - Gates, G.W. (1972) \"The Reduced Nearest Neighbor Rule\".  IEEE Transactions\n",
      "     on Information Theory, May 1972, 431-433.\n",
      "   - See also: 1988 MLC Proceedings, 54-64.  Cheeseman et al\"s AUTOCLASS II\n",
      "     conceptual clustering system finds 3 classes in the data.\n",
      "   - Many, many more ...\n",
      "\n"
     ]
    }
   ],
   "source": [
    "print(iris.DESCR)"
   ]
  },
  {
   "cell_type": "code",
   "execution_count": 12,
   "metadata": {},
   "outputs": [
    {
     "data": {
      "text/plain": [
       "array([[<matplotlib.axes._subplots.AxesSubplot object at 0x7fcbef2ca860>,\n",
       "        <matplotlib.axes._subplots.AxesSubplot object at 0x7fcbef258630>,\n",
       "        <matplotlib.axes._subplots.AxesSubplot object at 0x7fcbeefe81d0>,\n",
       "        <matplotlib.axes._subplots.AxesSubplot object at 0x7fcbeef99208>],\n",
       "       [<matplotlib.axes._subplots.AxesSubplot object at 0x7fcbeef51748>,\n",
       "        <matplotlib.axes._subplots.AxesSubplot object at 0x7fcbeef51780>,\n",
       "        <matplotlib.axes._subplots.AxesSubplot object at 0x7fcbeeec4ba8>,\n",
       "        <matplotlib.axes._subplots.AxesSubplot object at 0x7fcbeeef1240>],\n",
       "       [<matplotlib.axes._subplots.AxesSubplot object at 0x7fcbeeeb0208>,\n",
       "        <matplotlib.axes._subplots.AxesSubplot object at 0x7fcbeebea278>,\n",
       "        <matplotlib.axes._subplots.AxesSubplot object at 0x7fcbeeb88550>,\n",
       "        <matplotlib.axes._subplots.AxesSubplot object at 0x7fcbeeb5c278>],\n",
       "       [<matplotlib.axes._subplots.AxesSubplot object at 0x7fcbeeb03cf8>,\n",
       "        <matplotlib.axes._subplots.AxesSubplot object at 0x7fcbeeb3ed68>,\n",
       "        <matplotlib.axes._subplots.AxesSubplot object at 0x7fcbeeaf7d68>,\n",
       "        <matplotlib.axes._subplots.AxesSubplot object at 0x7fcbeeab0d68>]], dtype=object)"
      ]
     },
     "execution_count": 12,
     "metadata": {},
     "output_type": "execute_result"
    },
    {
     "data": {
      "image/png": "[encoded data removed]",
      "text/plain": [
       "<matplotlib.figure.Figure at 0x7fcbef2ca240>"
      ]
     },
     "metadata": {},
     "output_type": "display_data"
    }
   ],
   "source": [
    "iris_df = pd.DataFrame(iris.data, columns=iris.feature_names)\n",
    "pd.plotting.scatter_matrix(iris_df, c=iris.target, cmap=CMAP, edgecolor='black', figsize=(20, 20))"
   ]
  },
  {
   "cell_type": "code",
   "execution_count": 13,
   "metadata": {},
   "outputs": [],
   "source": [
    "# plt.savefig('ML_0701.png', bbox_inches='tight')"
   ]
  },
  {
   "cell_type": "markdown",
   "metadata": {},
   "source": [
    "## Das künstliche Neuron"
   ]
  },
  {
   "cell_type": "code",
   "execution_count": 14,
   "metadata": {},
   "outputs": [],
   "source": [
    "w0 = 3\n",
    "w1 = -4\n",
    "w2 = 2\n",
    "\n",
    "def neuron_no_activation(x1, x2):\n",
    "    sum = w0 + x1 * w1 + x2 * w2\n",
    "    return sum"
   ]
  },
  {
   "cell_type": "code",
   "execution_count": 15,
   "metadata": {},
   "outputs": [
    {
     "data": {
      "text/plain": [
       "array([ 5.1,  3.5,  1.4,  0.2])"
      ]
     },
     "execution_count": 15,
     "metadata": {},
     "output_type": "execute_result"
    }
   ],
   "source": [
    "iris.data[0]"
   ]
  },
  {
   "cell_type": "code",
   "execution_count": 16,
   "metadata": {},
   "outputs": [
    {
     "data": {
      "text/plain": [
       "-10.399999999999999"
      ]
     },
     "execution_count": 16,
     "metadata": {},
     "output_type": "execute_result"
    }
   ],
   "source": [
    "neuron_no_activation(5.1, 3.5)"
   ]
  },
  {
   "cell_type": "markdown",
   "metadata": {},
   "source": [
    "### Activation Functions"
   ]
  },
  {
   "cell_type": "code",
   "execution_count": 7,
   "metadata": {},
   "outputs": [],
   "source": [
    "def centerAxis(uses_negative=False):\n",
    "    # http://matplotlib.org/api/pyplot_api.html#matplotlib.pyplot.plot\n",
    "    ax = plt.gca()\n",
    "    ax.spines['left'].set_position('center')\n",
    "    if uses_negative:\n",
    "        ax.spines['bottom'].set_position('center')\n",
    "    ax.spines['right'].set_color('none')\n",
    "    ax.spines['top'].set_color('none')\n",
    "    ax.xaxis.set_ticks_position('bottom')\n",
    "    ax.yaxis.set_ticks_position('left')"
   ]
  },
  {
   "cell_type": "markdown",
   "metadata": {},
   "source": [
    "#### Step Function: abrupter, nicht stetig differenzierbarer Übergang zwischen 0 und 1"
   ]
  },
  {
   "cell_type": "code",
   "execution_count": 18,
   "metadata": {},
   "outputs": [],
   "source": [
    "def np_step(X):\n",
    "    return 0.5 * (np.sign(X) + 1)"
   ]
  },
  {
   "cell_type": "code",
   "execution_count": 19,
   "metadata": {},
   "outputs": [
    {
     "data": {
      "text/plain": [
       "[<matplotlib.lines.Line2D at 0x7fcbeea72048>]"
      ]
     },
     "execution_count": 19,
     "metadata": {},
     "output_type": "execute_result"
    },
    {
     "data": {
      "image/png": "[encoded data removed]",
      "text/plain": [
       "<matplotlib.figure.Figure at 0x7fcbeea72080>"
      ]
     },
     "metadata": {},
     "output_type": "display_data"
    }
   ],
   "source": [
    "x = np.arange(-10,10,0.01)\n",
    "y = np_step(x)\n",
    "\n",
    "centerAxis()\n",
    "plt.plot(x, y, lw=3)"
   ]
  },
  {
   "cell_type": "markdown",
   "metadata": {},
   "source": [
    "#### Sigmoid Function: Fließender Übergang zwischen 0 und 1"
   ]
  },
  {
   "cell_type": "code",
   "execution_count": 20,
   "metadata": {},
   "outputs": [],
   "source": [
    "def np_sigmoid(X):\n",
    "    return 1 / (1 + np.exp(X * -1))"
   ]
  },
  {
   "cell_type": "code",
   "execution_count": 21,
   "metadata": {},
   "outputs": [
    {
     "data": {
      "text/plain": [
       "[<matplotlib.lines.Line2D at 0x7fcbeea4eeb8>]"
      ]
     },
     "execution_count": 21,
     "metadata": {},
     "output_type": "execute_result"
    },
    {
     "data": {
      "image/png": "[encoded data removed]",
      "text/plain": [
       "<matplotlib.figure.Figure at 0x7fcbee3b4128>"
      ]
     },
     "metadata": {},
     "output_type": "display_data"
    }
   ],
   "source": [
    "x = np.arange(-10,10,0.01)\n",
    "y = np_sigmoid(x)\n",
    "\n",
    "centerAxis()\n",
    "plt.plot(x,y,lw=3)"
   ]
  },
  {
   "cell_type": "markdown",
   "metadata": {},
   "source": [
    "#### Tangens Hyperbolicus Function: Fließender Übergang zwischen -1 und 1"
   ]
  },
  {
   "cell_type": "code",
   "execution_count": 8,
   "metadata": {},
   "outputs": [
    {
     "data": {
      "text/plain": [
       "[<matplotlib.lines.Line2D at 0x7fc052ad7240>]"
      ]
     },
     "execution_count": 8,
     "metadata": {},
     "output_type": "execute_result"
    },
    {
     "data": {
      "image/png": "[encoded data removed]",
      "text/plain": [
       "<matplotlib.figure.Figure at 0x7fc05012b780>"
      ]
     },
     "metadata": {},
     "output_type": "display_data"
    }
   ],
   "source": [
    "x = np.arange(-10,10,0.01)\n",
    "y = np.tanh(x)\n",
    "\n",
    "centerAxis()\n",
    "plt.plot(x,y,lw=3)"
   ]
  },
  {
   "cell_type": "markdown",
   "metadata": {},
   "source": [
    "#### Relu: Einfach zu berechnen, setzt kompletten negativen Wertebereich auf 0"
   ]
  },
  {
   "cell_type": "code",
   "execution_count": 22,
   "metadata": {},
   "outputs": [],
   "source": [
    "def np_relu(x):\n",
    "    return np.maximum(0, x)"
   ]
  },
  {
   "cell_type": "code",
   "execution_count": 23,
   "metadata": {},
   "outputs": [
    {
     "data": {
      "text/plain": [
       "[<matplotlib.lines.Line2D at 0x7fcbee731e80>]"
      ]
     },
     "execution_count": 23,
     "metadata": {},
     "output_type": "execute_result"
    },
    {
     "data": {
      "image/png": "[encoded data removed]",
      "text/plain": [
       "<matplotlib.figure.Figure at 0x7fcbee3267f0>"
      ]
     },
     "metadata": {},
     "output_type": "display_data"
    }
   ],
   "source": [
    "x = np.arange(-10,10,0.01)\n",
    "y = np_relu(x)\n",
    "\n",
    "centerAxis()\n",
    "plt.plot(x,y,lw=3)"
   ]
  },
  {
   "cell_type": "code",
   "execution_count": 24,
   "metadata": {},
   "outputs": [],
   "source": [
    "# https://docs.python.org/3/library/math.html\n",
    "import math as math\n",
    "def sigmoid(x):\n",
    "    return 1 / (1 + math.exp(x * -1))\n",
    "\n",
    "w0 = 3\n",
    "w1 = -4\n",
    "w2 = 2\n",
    "\n",
    "def neuron(x1, x2):\n",
    "    sum = w0 + x1 * w1 + x2 * w2\n",
    "    return sigmoid(sum)"
   ]
  },
  {
   "cell_type": "code",
   "execution_count": 25,
   "metadata": {},
   "outputs": [
    {
     "data": {
      "text/plain": [
       "3.043155690056538e-05"
      ]
     },
     "execution_count": 25,
     "metadata": {},
     "output_type": "execute_result"
    }
   ],
   "source": [
    "neuron(5.1, 3.5)"
   ]
  },
  {
   "cell_type": "code",
   "execution_count": 26,
   "metadata": {},
   "outputs": [],
   "source": [
    "# Version that takes as many values as you like\n",
    "weights_with_bias = np.array([3, -4, 2])\n",
    "def np_neuron(X):\n",
    "    inputs_with_1_for_bias = np.concatenate((np.array([1]), X))\n",
    "    return np_sigmoid(np.sum(inputs_with_1_for_bias*weights_with_bias));"
   ]
  },
  {
   "cell_type": "code",
   "execution_count": 27,
   "metadata": {},
   "outputs": [
    {
     "data": {
      "text/plain": [
       "3.043155690056538e-05"
      ]
     },
     "execution_count": 27,
     "metadata": {},
     "output_type": "execute_result"
    }
   ],
   "source": [
    "np_neuron(np.array([5.1, 3.5]))"
   ]
  },
  {
   "cell_type": "markdown",
   "metadata": {},
   "source": [
    "## Unser erste Neuronales Netz mit Keras"
   ]
  },
  {
   "cell_type": "code",
   "execution_count": 28,
   "metadata": {},
   "outputs": [],
   "source": [
    "from keras.layers import Input\n",
    "inputs = Input(shape=(4, ))"
   ]
  },
  {
   "cell_type": "code",
   "execution_count": 29,
   "metadata": {},
   "outputs": [],
   "source": [
    "from keras.layers import Dense\n",
    "fc = Dense(3)(inputs)"
   ]
  },
  {
   "cell_type": "code",
   "execution_count": 30,
   "metadata": {},
   "outputs": [],
   "source": [
    "from keras.models import Model\n",
    "model = Model(input=inputs, output=fc)"
   ]
  },
  {
   "cell_type": "code",
   "execution_count": 31,
   "metadata": {},
   "outputs": [
    {
     "name": "stdout",
     "output_type": "stream",
     "text": [
      "_________________________________________________________________\n",
      "Layer (type)                 Output Shape              Param #   \n",
      "=================================================================\n",
      "input_1 (InputLayer)         (None, 4)                 0         \n",
      "_________________________________________________________________\n",
      "dense_1 (Dense)              (None, 3)                 15        \n",
      "=================================================================\n",
      "Total params: 15\n",
      "Trainable params: 15\n",
      "Non-trainable params: 0\n",
      "_________________________________________________________________\n"
     ]
    }
   ],
   "source": [
    "model.summary()"
   ]
  },
  {
   "cell_type": "code",
   "execution_count": 32,
   "metadata": {},
   "outputs": [],
   "source": [
    "model.compile(optimizer='adam',\n",
    "              loss='categorical_crossentropy',\n",
    "              metrics=['accuracy'])"
   ]
  },
  {
   "cell_type": "code",
   "execution_count": 33,
   "metadata": {},
   "outputs": [
    {
     "data": {
      "text/plain": [
       "array([[-3.43178988,  1.73049867, -3.19597173]], dtype=float32)"
      ]
     },
     "execution_count": 33,
     "metadata": {},
     "output_type": "execute_result"
    }
   ],
   "source": [
    "model.predict(np.array([[ 5.1,  3.5,  1.4,  0.2]]))"
   ]
  },
  {
   "cell_type": "code",
   "execution_count": 34,
   "metadata": {},
   "outputs": [],
   "source": [
    "inputs = Input(shape=(4, ))\n",
    "fc = Dense(3)(inputs)\n",
    "predictions = Dense(3, activation='softmax')(fc)\n",
    "model = Model(input=inputs, output=predictions)"
   ]
  },
  {
   "cell_type": "code",
   "execution_count": 35,
   "metadata": {},
   "outputs": [
    {
     "name": "stdout",
     "output_type": "stream",
     "text": [
      "_________________________________________________________________\n",
      "Layer (type)                 Output Shape              Param #   \n",
      "=================================================================\n",
      "input_2 (InputLayer)         (None, 4)                 0         \n",
      "_________________________________________________________________\n",
      "dense_2 (Dense)              (None, 3)                 15        \n",
      "_________________________________________________________________\n",
      "dense_3 (Dense)              (None, 3)                 12        \n",
      "=================================================================\n",
      "Total params: 27\n",
      "Trainable params: 27\n",
      "Non-trainable params: 0\n",
      "_________________________________________________________________\n"
     ]
    }
   ],
   "source": [
    "model.summary()"
   ]
  },
  {
   "cell_type": "code",
   "execution_count": 36,
   "metadata": {},
   "outputs": [],
   "source": [
    "model.compile(optimizer='adam',\n",
    "              loss='categorical_crossentropy',\n",
    "              metrics=['accuracy'])"
   ]
  },
  {
   "cell_type": "code",
   "execution_count": 37,
   "metadata": {},
   "outputs": [
    {
     "data": {
      "text/plain": [
       "array([[ 0.3897492 ,  0.17437252,  0.43587837]], dtype=float32)"
      ]
     },
     "execution_count": 37,
     "metadata": {},
     "output_type": "execute_result"
    }
   ],
   "source": [
    "model.predict(np.array([[ 5.1,  3.5,  1.4,  0.2]]))"
   ]
  },
  {
   "cell_type": "markdown",
   "metadata": {
    "collapsed": true
   },
   "source": [
    "# Training"
   ]
  },
  {
   "cell_type": "code",
   "execution_count": 38,
   "metadata": {},
   "outputs": [
    {
     "data": {
      "text/plain": [
       "((150, 4), (150,))"
      ]
     },
     "execution_count": 38,
     "metadata": {},
     "output_type": "execute_result"
    }
   ],
   "source": [
    "X = np.array(iris.data)\n",
    "y = np.array(iris.target)\n",
    "X.shape, y.shape"
   ]
  },
  {
   "cell_type": "code",
   "execution_count": 39,
   "metadata": {},
   "outputs": [
    {
     "data": {
      "text/plain": [
       "2"
      ]
     },
     "execution_count": 39,
     "metadata": {},
     "output_type": "execute_result"
    }
   ],
   "source": [
    "y[100]"
   ]
  },
  {
   "cell_type": "code",
   "execution_count": 40,
   "metadata": {},
   "outputs": [],
   "source": [
    "from keras.utils.np_utils import to_categorical\n",
    "\n",
    "num_categories = 3\n",
    "\n",
    "y = to_categorical(y, num_categories)"
   ]
  },
  {
   "cell_type": "code",
   "execution_count": 41,
   "metadata": {},
   "outputs": [
    {
     "data": {
      "text/plain": [
       "array([ 0.,  0.,  1.])"
      ]
     },
     "execution_count": 41,
     "metadata": {},
     "output_type": "execute_result"
    }
   ],
   "source": [
    "y[100]"
   ]
  },
  {
   "cell_type": "code",
   "execution_count": 42,
   "metadata": {},
   "outputs": [],
   "source": [
    "from sklearn.model_selection import train_test_split\n",
    "X_train, X_test, y_train, y_test = train_test_split(X, y, test_size=0.20, random_state=42, stratify=y)"
   ]
  },
  {
   "cell_type": "code",
   "execution_count": 43,
   "metadata": {},
   "outputs": [
    {
     "data": {
      "text/plain": [
       "((120, 4), (30, 4), (120, 3), (30, 3))"
      ]
     },
     "execution_count": 43,
     "metadata": {},
     "output_type": "execute_result"
    }
   ],
   "source": [
    "X_train.shape, X_test.shape, y_train.shape, y_test.shape"
   ]
  },
  {
   "cell_type": "code",
   "execution_count": null,
   "metadata": {},
   "outputs": [],
   "source": [
    "# !rm -r tf_log\n",
    "\n",
    "# https://keras.io/callbacks/#tensorboard\n",
    "# tb_callback = keras.callbacks.TensorBoard(log_dir='./tf_log')\n",
    "# To start tensorboard\n",
    "# tensorboard --logdir=/mnt/c/Users/olive/Development/ml/tf_log\n",
    "# open http://localhost:6006"
   ]
  },
  {
   "cell_type": "code",
   "execution_count": 44,
   "metadata": {},
   "outputs": [
    {
     "name": "stdout",
     "output_type": "stream",
     "text": [
      "Train on 84 samples, validate on 36 samples\n",
      "Epoch 1/500\n",
      "84/84 [==============================] - 0s 3ms/step - loss: 1.1721 - acc: 0.4048 - val_loss: 1.1981 - val_acc: 0.4444\n",
      "Epoch 2/500\n",
      "84/84 [==============================] - 0s 354us/step - loss: 1.1381 - acc: 0.4524 - val_loss: 1.1656 - val_acc: 0.5278\n",
      "Epoch 3/500\n",
      "84/84 [==============================] - 0s 181us/step - loss: 1.1063 - acc: 0.4762 - val_loss: 1.1342 - val_acc: 0.5278\n",
      "Epoch 4/500\n",
      "84/84 [==============================] - 0s 290us/step - loss: 1.0738 - acc: 0.5119 - val_loss: 1.1040 - val_acc: 0.5556\n",
      "Epoch 5/500\n",
      "84/84 [==============================] - 0s 235us/step - loss: 1.0440 - acc: 0.5357 - val_loss: 1.0749 - val_acc: 0.5556\n",
      "Epoch 6/500\n",
      "84/84 [==============================] - 0s 142us/step - loss: 1.0153 - acc: 0.5595 - val_loss: 1.0472 - val_acc: 0.5556\n",
      "Epoch 7/500\n",
      "84/84 [==============================] - 0s 138us/step - loss: 0.9885 - acc: 0.5833 - val_loss: 1.0203 - val_acc: 0.5833\n",
      "Epoch 8/500\n",
      "84/84 [==============================] - 0s 144us/step - loss: 0.9619 - acc: 0.6429 - val_loss: 0.9948 - val_acc: 0.5833\n",
      "Epoch 9/500\n",
      "84/84 [==============================] - 0s 146us/step - loss: 0.9369 - acc: 0.6667 - val_loss: 0.9705 - val_acc: 0.5833\n",
      "Epoch 10/500\n",
      "84/84 [==============================] - 0s 154us/step - loss: 0.9118 - acc: 0.6667 - val_loss: 0.9477 - val_acc: 0.5833\n",
      "Epoch 11/500\n",
      "84/84 [==============================] - 0s 133us/step - loss: 0.8895 - acc: 0.6667 - val_loss: 0.9259 - val_acc: 0.6111\n",
      "Epoch 12/500\n",
      "84/84 [==============================] - 0s 140us/step - loss: 0.8677 - acc: 0.6667 - val_loss: 0.9050 - val_acc: 0.6111\n",
      "Epoch 13/500\n",
      "84/84 [==============================] - 0s 137us/step - loss: 0.8488 - acc: 0.6667 - val_loss: 0.8847 - val_acc: 0.6389\n",
      "Epoch 14/500\n",
      "84/84 [==============================] - 0s 125us/step - loss: 0.8302 - acc: 0.6667 - val_loss: 0.8655 - val_acc: 0.6389\n",
      "Epoch 15/500\n",
      "84/84 [==============================] - 0s 388us/step - loss: 0.8104 - acc: 0.6786 - val_loss: 0.8480 - val_acc: 0.6389\n",
      "Epoch 16/500\n",
      "84/84 [==============================] - 0s 202us/step - loss: 0.7937 - acc: 0.6786 - val_loss: 0.8312 - val_acc: 0.6389\n",
      "Epoch 17/500\n",
      "84/84 [==============================] - 0s 142us/step - loss: 0.7774 - acc: 0.6786 - val_loss: 0.8154 - val_acc: 0.6389\n",
      "Epoch 18/500\n",
      "84/84 [==============================] - 0s 185us/step - loss: 0.7618 - acc: 0.6786 - val_loss: 0.8004 - val_acc: 0.6389\n",
      "Epoch 19/500\n",
      "84/84 [==============================] - 0s 130us/step - loss: 0.7476 - acc: 0.6786 - val_loss: 0.7861 - val_acc: 0.6389\n",
      "Epoch 20/500\n",
      "84/84 [==============================] - ETA: 0s - loss: 0.7706 - acc: 0.656 - 0s 322us/step - loss: 0.7344 - acc: 0.6786 - val_loss: 0.7724 - val_acc: 0.6389\n",
      "Epoch 21/500\n",
      "84/84 [==============================] - 0s 357us/step - loss: 0.7218 - acc: 0.6786 - val_loss: 0.7595 - val_acc: 0.6389\n",
      "Epoch 22/500\n",
      "84/84 [==============================] - 0s 229us/step - loss: 0.7106 - acc: 0.6786 - val_loss: 0.7475 - val_acc: 0.6389\n",
      "Epoch 23/500\n",
      "84/84 [==============================] - 0s 302us/step - loss: 0.6969 - acc: 0.6786 - val_loss: 0.7369 - val_acc: 0.6389\n",
      "Epoch 24/500\n",
      "84/84 [==============================] - 0s 157us/step - loss: 0.6867 - acc: 0.6786 - val_loss: 0.7265 - val_acc: 0.6389\n",
      "Epoch 25/500\n",
      "84/84 [==============================] - 0s 269us/step - loss: 0.6773 - acc: 0.6786 - val_loss: 0.7164 - val_acc: 0.6389\n",
      "Epoch 26/500\n",
      "84/84 [==============================] - 0s 307us/step - loss: 0.6685 - acc: 0.6786 - val_loss: 0.7066 - val_acc: 0.6389\n",
      "Epoch 27/500\n",
      "84/84 [==============================] - 0s 177us/step - loss: 0.6594 - acc: 0.6786 - val_loss: 0.6976 - val_acc: 0.6389\n",
      "Epoch 28/500\n",
      "84/84 [==============================] - 0s 320us/step - loss: 0.6511 - acc: 0.6786 - val_loss: 0.6891 - val_acc: 0.6389\n",
      "Epoch 29/500\n",
      "84/84 [==============================] - 0s 177us/step - loss: 0.6435 - acc: 0.6786 - val_loss: 0.6812 - val_acc: 0.6389\n",
      "Epoch 30/500\n",
      "84/84 [==============================] - 0s 340us/step - loss: 0.6356 - acc: 0.6786 - val_loss: 0.6740 - val_acc: 0.6389\n",
      "Epoch 31/500\n",
      "84/84 [==============================] - 0s 216us/step - loss: 0.6284 - acc: 0.6786 - val_loss: 0.6671 - val_acc: 0.6389\n",
      "Epoch 32/500\n",
      "84/84 [==============================] - 0s 321us/step - loss: 0.6231 - acc: 0.6786 - val_loss: 0.6603 - val_acc: 0.6389\n",
      "Epoch 33/500\n",
      "84/84 [==============================] - 0s 330us/step - loss: 0.6166 - acc: 0.6786 - val_loss: 0.6542 - val_acc: 0.6389\n",
      "Epoch 34/500\n",
      "84/84 [==============================] - 0s 167us/step - loss: 0.6113 - acc: 0.6786 - val_loss: 0.6484 - val_acc: 0.6389\n",
      "Epoch 35/500\n",
      "84/84 [==============================] - 0s 283us/step - loss: 0.6060 - acc: 0.6786 - val_loss: 0.6431 - val_acc: 0.6389\n",
      "Epoch 36/500\n",
      "84/84 [==============================] - 0s 184us/step - loss: 0.6005 - acc: 0.6786 - val_loss: 0.6382 - val_acc: 0.6389\n",
      "Epoch 37/500\n",
      "84/84 [==============================] - 0s 289us/step - loss: 0.5954 - acc: 0.6786 - val_loss: 0.6337 - val_acc: 0.6389\n",
      "Epoch 38/500\n",
      "84/84 [==============================] - 0s 320us/step - loss: 0.5922 - acc: 0.6786 - val_loss: 0.6291 - val_acc: 0.6389\n",
      "Epoch 39/500\n",
      "84/84 [==============================] - 0s 187us/step - loss: 0.5877 - acc: 0.6786 - val_loss: 0.6249 - val_acc: 0.6389\n",
      "Epoch 40/500\n",
      "84/84 [==============================] - 0s 150us/step - loss: 0.5836 - acc: 0.6786 - val_loss: 0.6209 - val_acc: 0.6389\n",
      "Epoch 41/500\n",
      "84/84 [==============================] - 0s 266us/step - loss: 0.5798 - acc: 0.6786 - val_loss: 0.6172 - val_acc: 0.6389\n",
      "Epoch 42/500\n",
      "84/84 [==============================] - 0s 319us/step - loss: 0.5763 - acc: 0.6786 - val_loss: 0.6135 - val_acc: 0.6389\n",
      "Epoch 43/500\n",
      "84/84 [==============================] - 0s 331us/step - loss: 0.5735 - acc: 0.6786 - val_loss: 0.6099 - val_acc: 0.6389\n",
      "Epoch 44/500\n",
      "84/84 [==============================] - 0s 355us/step - loss: 0.5696 - acc: 0.6786 - val_loss: 0.6066 - val_acc: 0.6389\n",
      "Epoch 45/500\n",
      "84/84 [==============================] - 0s 217us/step - loss: 0.5667 - acc: 0.6786 - val_loss: 0.6034 - val_acc: 0.6389\n",
      "Epoch 46/500\n",
      "84/84 [==============================] - 0s 207us/step - loss: 0.5637 - acc: 0.6786 - val_loss: 0.6003 - val_acc: 0.6389\n",
      "Epoch 47/500\n",
      "84/84 [==============================] - 0s 334us/step - loss: 0.5611 - acc: 0.6786 - val_loss: 0.5971 - val_acc: 0.6389\n",
      "Epoch 48/500\n",
      "84/84 [==============================] - 0s 171us/step - loss: 0.5582 - acc: 0.6786 - val_loss: 0.5942 - val_acc: 0.6389\n",
      "Epoch 49/500\n",
      "84/84 [==============================] - 0s 134us/step - loss: 0.5558 - acc: 0.6786 - val_loss: 0.5913 - val_acc: 0.6389\n",
      "Epoch 50/500\n",
      "84/84 [==============================] - 0s 168us/step - loss: 0.5531 - acc: 0.6786 - val_loss: 0.5887 - val_acc: 0.6389\n",
      "Epoch 51/500\n",
      "84/84 [==============================] - 0s 140us/step - loss: 0.5505 - acc: 0.6786 - val_loss: 0.5862 - val_acc: 0.6389\n",
      "Epoch 52/500\n",
      "84/84 [==============================] - 0s 265us/step - loss: 0.5482 - acc: 0.6786 - val_loss: 0.5837 - val_acc: 0.6389\n",
      "Epoch 53/500\n",
      "84/84 [==============================] - 0s 155us/step - loss: 0.5458 - acc: 0.6786 - val_loss: 0.5812 - val_acc: 0.6389\n",
      "Epoch 54/500\n",
      "84/84 [==============================] - 0s 152us/step - loss: 0.5436 - acc: 0.6786 - val_loss: 0.5787 - val_acc: 0.6389\n",
      "Epoch 55/500\n",
      "84/84 [==============================] - 0s 225us/step - loss: 0.5413 - acc: 0.6786 - val_loss: 0.5762 - val_acc: 0.6389\n",
      "Epoch 56/500\n",
      "84/84 [==============================] - 0s 157us/step - loss: 0.5391 - acc: 0.6786 - val_loss: 0.5739 - val_acc: 0.6389\n",
      "Epoch 57/500\n",
      "84/84 [==============================] - 0s 124us/step - loss: 0.5370 - acc: 0.6786 - val_loss: 0.5716 - val_acc: 0.6389\n",
      "Epoch 58/500\n",
      "84/84 [==============================] - 0s 281us/step - loss: 0.5348 - acc: 0.6786 - val_loss: 0.5692 - val_acc: 0.6389\n",
      "Epoch 59/500\n",
      "84/84 [==============================] - 0s 107us/step - loss: 0.5326 - acc: 0.6786 - val_loss: 0.5669 - val_acc: 0.6389\n",
      "Epoch 60/500\n",
      "84/84 [==============================] - 0s 212us/step - loss: 0.5306 - acc: 0.6786 - val_loss: 0.5646 - val_acc: 0.6389\n",
      "Epoch 61/500\n",
      "84/84 [==============================] - 0s 183us/step - loss: 0.5286 - acc: 0.6786 - val_loss: 0.5624 - val_acc: 0.6389\n",
      "Epoch 62/500\n",
      "84/84 [==============================] - ETA: 0s - loss: 0.4686 - acc: 0.718 - 0s 145us/step - loss: 0.5266 - acc: 0.6786 - val_loss: 0.5602 - val_acc: 0.6389\n",
      "Epoch 63/500\n",
      "84/84 [==============================] - 0s 247us/step - loss: 0.5246 - acc: 0.6786 - val_loss: 0.5581 - val_acc: 0.6389\n",
      "Epoch 64/500\n",
      "84/84 [==============================] - 0s 227us/step - loss: 0.5226 - acc: 0.6786 - val_loss: 0.5560 - val_acc: 0.6389\n",
      "Epoch 65/500\n",
      "84/84 [==============================] - 0s 135us/step - loss: 0.5207 - acc: 0.6786 - val_loss: 0.5539 - val_acc: 0.6389\n",
      "Epoch 66/500\n",
      "84/84 [==============================] - 0s 241us/step - loss: 0.5189 - acc: 0.6786 - val_loss: 0.5518 - val_acc: 0.6389\n",
      "Epoch 67/500\n",
      "84/84 [==============================] - 0s 188us/step - loss: 0.5169 - acc: 0.6786 - val_loss: 0.5499 - val_acc: 0.6389\n",
      "Epoch 68/500\n",
      "84/84 [==============================] - 0s 222us/step - loss: 0.5151 - acc: 0.6786 - val_loss: 0.5480 - val_acc: 0.6389\n",
      "Epoch 69/500\n",
      "84/84 [==============================] - 0s 143us/step - loss: 0.5133 - acc: 0.6786 - val_loss: 0.5460 - val_acc: 0.6389\n",
      "Epoch 70/500\n",
      "84/84 [==============================] - 0s 217us/step - loss: 0.5114 - acc: 0.6786 - val_loss: 0.5441 - val_acc: 0.6389\n",
      "Epoch 71/500\n",
      "84/84 [==============================] - 0s 115us/step - loss: 0.5097 - acc: 0.6786 - val_loss: 0.5422 - val_acc: 0.6389\n",
      "Epoch 72/500\n",
      "84/84 [==============================] - 0s 281us/step - loss: 0.5079 - acc: 0.6786 - val_loss: 0.5402 - val_acc: 0.6389\n",
      "Epoch 73/500\n",
      "84/84 [==============================] - 0s 156us/step - loss: 0.5061 - acc: 0.6786 - val_loss: 0.5383 - val_acc: 0.6389\n",
      "Epoch 74/500\n",
      "84/84 [==============================] - 0s 366us/step - loss: 0.5043 - acc: 0.6786 - val_loss: 0.5364 - val_acc: 0.6389\n",
      "Epoch 75/500\n",
      "84/84 [==============================] - 0s 336us/step - loss: 0.5026 - acc: 0.6786 - val_loss: 0.5345 - val_acc: 0.6389\n",
      "Epoch 76/500\n",
      "84/84 [==============================] - 0s 164us/step - loss: 0.5010 - acc: 0.6786 - val_loss: 0.5326 - val_acc: 0.6667\n",
      "Epoch 77/500\n",
      "84/84 [==============================] - 0s 256us/step - loss: 0.4994 - acc: 0.6786 - val_loss: 0.5307 - val_acc: 0.6667\n",
      "Epoch 78/500\n",
      "84/84 [==============================] - 0s 273us/step - loss: 0.4977 - acc: 0.6905 - val_loss: 0.5289 - val_acc: 0.6667\n",
      "Epoch 79/500\n",
      "84/84 [==============================] - 0s 209us/step - loss: 0.4960 - acc: 0.6905 - val_loss: 0.5271 - val_acc: 0.6667\n",
      "Epoch 80/500\n",
      "84/84 [==============================] - 0s 244us/step - loss: 0.4944 - acc: 0.6905 - val_loss: 0.5254 - val_acc: 0.6667\n",
      "Epoch 81/500\n",
      "84/84 [==============================] - 0s 305us/step - loss: 0.4928 - acc: 0.6905 - val_loss: 0.5237 - val_acc: 0.6667\n",
      "Epoch 82/500\n",
      "84/84 [==============================] - 0s 157us/step - loss: 0.4913 - acc: 0.6905 - val_loss: 0.5219 - val_acc: 0.6667\n",
      "Epoch 83/500\n",
      "84/84 [==============================] - 0s 249us/step - loss: 0.4897 - acc: 0.6905 - val_loss: 0.5203 - val_acc: 0.6667\n",
      "Epoch 84/500\n",
      "84/84 [==============================] - 0s 147us/step - loss: 0.4881 - acc: 0.6905 - val_loss: 0.5186 - val_acc: 0.6667\n",
      "Epoch 85/500\n",
      "84/84 [==============================] - 0s 142us/step - loss: 0.4867 - acc: 0.6905 - val_loss: 0.5168 - val_acc: 0.6667\n",
      "Epoch 86/500\n",
      "84/84 [==============================] - 0s 259us/step - loss: 0.4851 - acc: 0.6905 - val_loss: 0.5151 - val_acc: 0.6667\n",
      "Epoch 87/500\n",
      "84/84 [==============================] - 0s 256us/step - loss: 0.4836 - acc: 0.6905 - val_loss: 0.5133 - val_acc: 0.6667\n",
      "Epoch 88/500\n",
      "84/84 [==============================] - 0s 208us/step - loss: 0.4821 - acc: 0.6905 - val_loss: 0.5116 - val_acc: 0.6667\n",
      "Epoch 89/500\n",
      "84/84 [==============================] - ETA: 0s - loss: 0.4810 - acc: 0.750 - 0s 283us/step - loss: 0.4807 - acc: 0.6905 - val_loss: 0.5099 - val_acc: 0.6667\n",
      "Epoch 90/500\n",
      "84/84 [==============================] - 0s 234us/step - loss: 0.4791 - acc: 0.6905 - val_loss: 0.5083 - val_acc: 0.6667\n",
      "Epoch 91/500\n",
      "84/84 [==============================] - 0s 130us/step - loss: 0.4777 - acc: 0.7024 - val_loss: 0.5066 - val_acc: 0.6667\n",
      "Epoch 92/500\n",
      "84/84 [==============================] - 0s 283us/step - loss: 0.4763 - acc: 0.7024 - val_loss: 0.5049 - val_acc: 0.6667\n",
      "Epoch 93/500\n",
      "84/84 [==============================] - 0s 136us/step - loss: 0.4748 - acc: 0.7024 - val_loss: 0.5033 - val_acc: 0.6944\n",
      "Epoch 94/500\n",
      "84/84 [==============================] - 0s 166us/step - loss: 0.4734 - acc: 0.7024 - val_loss: 0.5016 - val_acc: 0.6944\n",
      "Epoch 95/500\n",
      "84/84 [==============================] - 0s 162us/step - loss: 0.4721 - acc: 0.7024 - val_loss: 0.4999 - val_acc: 0.6944\n",
      "Epoch 96/500\n",
      "84/84 [==============================] - 0s 133us/step - loss: 0.4707 - acc: 0.7024 - val_loss: 0.4984 - val_acc: 0.6944\n",
      "Epoch 97/500\n",
      "84/84 [==============================] - 0s 153us/step - loss: 0.4693 - acc: 0.7024 - val_loss: 0.4968 - val_acc: 0.6944\n",
      "Epoch 98/500\n",
      "84/84 [==============================] - 0s 194us/step - loss: 0.4679 - acc: 0.7024 - val_loss: 0.4951 - val_acc: 0.6944\n",
      "Epoch 99/500\n",
      "84/84 [==============================] - 0s 175us/step - loss: 0.4666 - acc: 0.7143 - val_loss: 0.4935 - val_acc: 0.6944\n",
      "Epoch 100/500\n",
      "84/84 [==============================] - 0s 133us/step - loss: 0.4651 - acc: 0.7262 - val_loss: 0.4919 - val_acc: 0.6944\n",
      "Epoch 101/500\n",
      "84/84 [==============================] - 0s 304us/step - loss: 0.4638 - acc: 0.7262 - val_loss: 0.4904 - val_acc: 0.6944\n",
      "Epoch 102/500\n",
      "84/84 [==============================] - 0s 254us/step - loss: 0.4627 - acc: 0.7262 - val_loss: 0.4888 - val_acc: 0.6944\n",
      "Epoch 103/500\n",
      "84/84 [==============================] - 0s 162us/step - loss: 0.4612 - acc: 0.7500 - val_loss: 0.4873 - val_acc: 0.6944\n",
      "Epoch 104/500\n",
      "84/84 [==============================] - 0s 172us/step - loss: 0.4599 - acc: 0.7500 - val_loss: 0.4858 - val_acc: 0.6944\n",
      "Epoch 105/500\n",
      "84/84 [==============================] - 0s 173us/step - loss: 0.4585 - acc: 0.7619 - val_loss: 0.4843 - val_acc: 0.6944\n",
      "Epoch 106/500\n",
      "84/84 [==============================] - 0s 151us/step - loss: 0.4573 - acc: 0.7619 - val_loss: 0.4828 - val_acc: 0.6944\n",
      "Epoch 107/500\n",
      "84/84 [==============================] - 0s 231us/step - loss: 0.4560 - acc: 0.7619 - val_loss: 0.4813 - val_acc: 0.6944\n",
      "Epoch 108/500\n",
      "84/84 [==============================] - 0s 307us/step - loss: 0.4548 - acc: 0.7738 - val_loss: 0.4798 - val_acc: 0.6944\n",
      "Epoch 109/500\n",
      "84/84 [==============================] - 0s 148us/step - loss: 0.4535 - acc: 0.7738 - val_loss: 0.4782 - val_acc: 0.6944\n",
      "Epoch 110/500\n",
      "84/84 [==============================] - 0s 253us/step - loss: 0.4524 - acc: 0.7857 - val_loss: 0.4767 - val_acc: 0.7222\n",
      "Epoch 111/500\n",
      "84/84 [==============================] - 0s 234us/step - loss: 0.4511 - acc: 0.7857 - val_loss: 0.4752 - val_acc: 0.7500\n",
      "Epoch 112/500\n",
      "84/84 [==============================] - 0s 443us/step - loss: 0.4499 - acc: 0.7857 - val_loss: 0.4737 - val_acc: 0.7500\n",
      "Epoch 113/500\n",
      "84/84 [==============================] - 0s 240us/step - loss: 0.4487 - acc: 0.7857 - val_loss: 0.4723 - val_acc: 0.7500\n",
      "Epoch 114/500\n",
      "84/84 [==============================] - 0s 550us/step - loss: 0.4475 - acc: 0.7857 - val_loss: 0.4708 - val_acc: 0.7500\n",
      "Epoch 115/500\n",
      "84/84 [==============================] - 0s 302us/step - loss: 0.4463 - acc: 0.7976 - val_loss: 0.4693 - val_acc: 0.7778\n",
      "Epoch 116/500\n",
      "84/84 [==============================] - 0s 291us/step - loss: 0.4451 - acc: 0.7976 - val_loss: 0.4679 - val_acc: 0.7778\n",
      "Epoch 117/500\n",
      "84/84 [==============================] - 0s 489us/step - loss: 0.4440 - acc: 0.7976 - val_loss: 0.4665 - val_acc: 0.7778\n",
      "Epoch 118/500\n",
      "84/84 [==============================] - 0s 179us/step - loss: 0.4428 - acc: 0.7976 - val_loss: 0.4651 - val_acc: 0.7778\n",
      "Epoch 119/500\n",
      "84/84 [==============================] - 0s 216us/step - loss: 0.4417 - acc: 0.7976 - val_loss: 0.4637 - val_acc: 0.7778\n",
      "Epoch 120/500\n",
      "84/84 [==============================] - 0s 417us/step - loss: 0.4405 - acc: 0.7976 - val_loss: 0.4624 - val_acc: 0.7778\n",
      "Epoch 121/500\n"
     ]
    },
    {
     "name": "stdout",
     "output_type": "stream",
     "text": [
      "84/84 [==============================] - 0s 300us/step - loss: 0.4394 - acc: 0.7976 - val_loss: 0.4611 - val_acc: 0.7778\n",
      "Epoch 122/500\n",
      "84/84 [==============================] - 0s 169us/step - loss: 0.4382 - acc: 0.7976 - val_loss: 0.4598 - val_acc: 0.7778\n",
      "Epoch 123/500\n",
      "84/84 [==============================] - 0s 275us/step - loss: 0.4372 - acc: 0.7976 - val_loss: 0.4585 - val_acc: 0.7778\n",
      "Epoch 124/500\n",
      "84/84 [==============================] - 0s 208us/step - loss: 0.4360 - acc: 0.7976 - val_loss: 0.4572 - val_acc: 0.7778\n",
      "Epoch 125/500\n",
      "84/84 [==============================] - 0s 122us/step - loss: 0.4348 - acc: 0.7976 - val_loss: 0.4559 - val_acc: 0.7778\n",
      "Epoch 126/500\n",
      "84/84 [==============================] - 0s 115us/step - loss: 0.4338 - acc: 0.7976 - val_loss: 0.4546 - val_acc: 0.8056\n",
      "Epoch 127/500\n",
      "84/84 [==============================] - 0s 321us/step - loss: 0.4327 - acc: 0.7976 - val_loss: 0.4533 - val_acc: 0.8056\n",
      "Epoch 128/500\n",
      "84/84 [==============================] - 0s 481us/step - loss: 0.4315 - acc: 0.7976 - val_loss: 0.4520 - val_acc: 0.8056\n",
      "Epoch 129/500\n",
      "84/84 [==============================] - 0s 290us/step - loss: 0.4305 - acc: 0.7976 - val_loss: 0.4508 - val_acc: 0.8056\n",
      "Epoch 130/500\n",
      "84/84 [==============================] - 0s 99us/step - loss: 0.4294 - acc: 0.7976 - val_loss: 0.4495 - val_acc: 0.8056\n",
      "Epoch 131/500\n",
      "84/84 [==============================] - 0s 299us/step - loss: 0.4283 - acc: 0.7976 - val_loss: 0.4482 - val_acc: 0.8056\n",
      "Epoch 132/500\n",
      "84/84 [==============================] - 0s 338us/step - loss: 0.4273 - acc: 0.7976 - val_loss: 0.4469 - val_acc: 0.8056\n",
      "Epoch 133/500\n",
      "84/84 [==============================] - 0s 142us/step - loss: 0.4262 - acc: 0.7976 - val_loss: 0.4456 - val_acc: 0.8056\n",
      "Epoch 134/500\n",
      "84/84 [==============================] - 0s 352us/step - loss: 0.4251 - acc: 0.7976 - val_loss: 0.4443 - val_acc: 0.8056\n",
      "Epoch 135/500\n",
      "84/84 [==============================] - 0s 338us/step - loss: 0.4241 - acc: 0.7976 - val_loss: 0.4429 - val_acc: 0.8333\n",
      "Epoch 136/500\n",
      "84/84 [==============================] - 0s 295us/step - loss: 0.4231 - acc: 0.7976 - val_loss: 0.4417 - val_acc: 0.8333\n",
      "Epoch 137/500\n",
      "84/84 [==============================] - 0s 212us/step - loss: 0.4220 - acc: 0.8095 - val_loss: 0.4404 - val_acc: 0.8333\n",
      "Epoch 138/500\n",
      "84/84 [==============================] - 0s 214us/step - loss: 0.4209 - acc: 0.8095 - val_loss: 0.4391 - val_acc: 0.8333\n",
      "Epoch 139/500\n",
      "84/84 [==============================] - 0s 151us/step - loss: 0.4199 - acc: 0.8095 - val_loss: 0.4377 - val_acc: 0.8611\n",
      "Epoch 140/500\n",
      "84/84 [==============================] - 0s 179us/step - loss: 0.4188 - acc: 0.8095 - val_loss: 0.4364 - val_acc: 0.8611\n",
      "Epoch 141/500\n",
      "84/84 [==============================] - 0s 227us/step - loss: 0.4178 - acc: 0.8095 - val_loss: 0.4351 - val_acc: 0.8611\n",
      "Epoch 142/500\n",
      "84/84 [==============================] - 0s 161us/step - loss: 0.4168 - acc: 0.8214 - val_loss: 0.4338 - val_acc: 0.8611\n",
      "Epoch 143/500\n",
      "84/84 [==============================] - 0s 226us/step - loss: 0.4158 - acc: 0.8214 - val_loss: 0.4325 - val_acc: 0.8889\n",
      "Epoch 144/500\n",
      "84/84 [==============================] - 0s 219us/step - loss: 0.4147 - acc: 0.8333 - val_loss: 0.4312 - val_acc: 0.8889\n",
      "Epoch 145/500\n",
      "84/84 [==============================] - 0s 182us/step - loss: 0.4137 - acc: 0.8333 - val_loss: 0.4300 - val_acc: 0.8889\n",
      "Epoch 146/500\n",
      "84/84 [==============================] - 0s 145us/step - loss: 0.4127 - acc: 0.8333 - val_loss: 0.4288 - val_acc: 0.8889\n",
      "Epoch 147/500\n",
      "84/84 [==============================] - 0s 503us/step - loss: 0.4117 - acc: 0.8333 - val_loss: 0.4275 - val_acc: 0.9167\n",
      "Epoch 148/500\n",
      "84/84 [==============================] - 0s 132us/step - loss: 0.4107 - acc: 0.8333 - val_loss: 0.4263 - val_acc: 0.9167\n",
      "Epoch 149/500\n",
      "84/84 [==============================] - 0s 348us/step - loss: 0.4097 - acc: 0.8452 - val_loss: 0.4250 - val_acc: 0.9167\n",
      "Epoch 150/500\n",
      "84/84 [==============================] - 0s 143us/step - loss: 0.4087 - acc: 0.8452 - val_loss: 0.4237 - val_acc: 0.9167\n",
      "Epoch 151/500\n",
      "84/84 [==============================] - 0s 222us/step - loss: 0.4077 - acc: 0.8452 - val_loss: 0.4224 - val_acc: 0.9167\n",
      "Epoch 152/500\n",
      "84/84 [==============================] - 0s 142us/step - loss: 0.4068 - acc: 0.8452 - val_loss: 0.4212 - val_acc: 0.9167\n",
      "Epoch 153/500\n",
      "84/84 [==============================] - 0s 268us/step - loss: 0.4059 - acc: 0.8452 - val_loss: 0.4199 - val_acc: 0.9444\n",
      "Epoch 154/500\n",
      "84/84 [==============================] - 0s 133us/step - loss: 0.4047 - acc: 0.8452 - val_loss: 0.4187 - val_acc: 0.9722\n",
      "Epoch 155/500\n",
      "84/84 [==============================] - 0s 330us/step - loss: 0.4037 - acc: 0.8452 - val_loss: 0.4174 - val_acc: 0.9722\n",
      "Epoch 156/500\n",
      "84/84 [==============================] - 0s 548us/step - loss: 0.4027 - acc: 0.8452 - val_loss: 0.4162 - val_acc: 0.9722\n",
      "Epoch 157/500\n",
      "84/84 [==============================] - 0s 292us/step - loss: 0.4018 - acc: 0.8452 - val_loss: 0.4151 - val_acc: 0.9722\n",
      "Epoch 158/500\n",
      "84/84 [==============================] - 0s 232us/step - loss: 0.4009 - acc: 0.8452 - val_loss: 0.4139 - val_acc: 0.9722\n",
      "Epoch 159/500\n",
      "84/84 [==============================] - 0s 219us/step - loss: 0.3999 - acc: 0.8452 - val_loss: 0.4127 - val_acc: 1.0000\n",
      "Epoch 160/500\n",
      "84/84 [==============================] - 0s 367us/step - loss: 0.3990 - acc: 0.8571 - val_loss: 0.4115 - val_acc: 1.0000\n",
      "Epoch 161/500\n",
      "84/84 [==============================] - 0s 195us/step - loss: 0.3980 - acc: 0.8690 - val_loss: 0.4103 - val_acc: 1.0000\n",
      "Epoch 162/500\n",
      "84/84 [==============================] - 0s 294us/step - loss: 0.3970 - acc: 0.8690 - val_loss: 0.4091 - val_acc: 1.0000\n",
      "Epoch 163/500\n",
      "84/84 [==============================] - 0s 178us/step - loss: 0.3961 - acc: 0.8690 - val_loss: 0.4079 - val_acc: 1.0000\n",
      "Epoch 164/500\n",
      "84/84 [==============================] - 0s 323us/step - loss: 0.3951 - acc: 0.8690 - val_loss: 0.4068 - val_acc: 1.0000\n",
      "Epoch 165/500\n",
      "84/84 [==============================] - 0s 150us/step - loss: 0.3942 - acc: 0.8690 - val_loss: 0.4057 - val_acc: 1.0000\n",
      "Epoch 166/500\n",
      "84/84 [==============================] - 0s 249us/step - loss: 0.3933 - acc: 0.8690 - val_loss: 0.4045 - val_acc: 1.0000\n",
      "Epoch 167/500\n",
      "84/84 [==============================] - 0s 364us/step - loss: 0.3923 - acc: 0.8690 - val_loss: 0.4034 - val_acc: 1.0000\n",
      "Epoch 168/500\n",
      "84/84 [==============================] - 0s 332us/step - loss: 0.3915 - acc: 0.8690 - val_loss: 0.4022 - val_acc: 1.0000\n",
      "Epoch 169/500\n",
      "84/84 [==============================] - 0s 288us/step - loss: 0.3905 - acc: 0.8690 - val_loss: 0.4011 - val_acc: 1.0000\n",
      "Epoch 170/500\n",
      "84/84 [==============================] - 0s 268us/step - loss: 0.3897 - acc: 0.8690 - val_loss: 0.3999 - val_acc: 1.0000\n",
      "Epoch 171/500\n",
      "84/84 [==============================] - 0s 270us/step - loss: 0.3887 - acc: 0.8690 - val_loss: 0.3988 - val_acc: 1.0000\n",
      "Epoch 172/500\n",
      "84/84 [==============================] - 0s 370us/step - loss: 0.3879 - acc: 0.8690 - val_loss: 0.3976 - val_acc: 1.0000\n",
      "Epoch 173/500\n",
      "84/84 [==============================] - 0s 179us/step - loss: 0.3869 - acc: 0.8690 - val_loss: 0.3965 - val_acc: 1.0000\n",
      "Epoch 174/500\n",
      "84/84 [==============================] - 0s 320us/step - loss: 0.3859 - acc: 0.8690 - val_loss: 0.3953 - val_acc: 1.0000\n",
      "Epoch 175/500\n",
      "84/84 [==============================] - 0s 215us/step - loss: 0.3851 - acc: 0.8690 - val_loss: 0.3941 - val_acc: 1.0000\n",
      "Epoch 176/500\n",
      "84/84 [==============================] - 0s 257us/step - loss: 0.3841 - acc: 0.8690 - val_loss: 0.3928 - val_acc: 1.0000\n",
      "Epoch 177/500\n",
      "84/84 [==============================] - 0s 267us/step - loss: 0.3832 - acc: 0.8690 - val_loss: 0.3916 - val_acc: 1.0000\n",
      "Epoch 178/500\n",
      "84/84 [==============================] - 0s 224us/step - loss: 0.3823 - acc: 0.8690 - val_loss: 0.3904 - val_acc: 1.0000\n",
      "Epoch 179/500\n",
      "84/84 [==============================] - 0s 340us/step - loss: 0.3813 - acc: 0.8690 - val_loss: 0.3892 - val_acc: 1.0000\n",
      "Epoch 180/500\n",
      "84/84 [==============================] - 0s 149us/step - loss: 0.3804 - acc: 0.8690 - val_loss: 0.3880 - val_acc: 1.0000\n",
      "Epoch 181/500\n",
      "84/84 [==============================] - 0s 225us/step - loss: 0.3795 - acc: 0.8929 - val_loss: 0.3868 - val_acc: 1.0000\n"
     ]
    },
    {
     "name": "stdout",
     "output_type": "stream",
     "text": [
      "Epoch 182/500\n",
      "84/84 [==============================] - 0s 187us/step - loss: 0.3786 - acc: 0.8929 - val_loss: 0.3856 - val_acc: 1.0000\n",
      "Epoch 183/500\n",
      "84/84 [==============================] - 0s 263us/step - loss: 0.3776 - acc: 0.8929 - val_loss: 0.3844 - val_acc: 1.0000\n",
      "Epoch 184/500\n",
      "84/84 [==============================] - 0s 213us/step - loss: 0.3767 - acc: 0.8929 - val_loss: 0.3832 - val_acc: 1.0000\n",
      "Epoch 185/500\n",
      "84/84 [==============================] - 0s 333us/step - loss: 0.3758 - acc: 0.8929 - val_loss: 0.3820 - val_acc: 1.0000\n",
      "Epoch 186/500\n",
      "84/84 [==============================] - 0s 189us/step - loss: 0.3749 - acc: 0.8929 - val_loss: 0.3808 - val_acc: 1.0000\n",
      "Epoch 187/500\n",
      "84/84 [==============================] - 0s 154us/step - loss: 0.3739 - acc: 0.8929 - val_loss: 0.3796 - val_acc: 1.0000\n",
      "Epoch 188/500\n",
      "84/84 [==============================] - 0s 347us/step - loss: 0.3730 - acc: 0.8929 - val_loss: 0.3784 - val_acc: 1.0000\n",
      "Epoch 189/500\n",
      "84/84 [==============================] - 0s 195us/step - loss: 0.3721 - acc: 0.8929 - val_loss: 0.3772 - val_acc: 1.0000\n",
      "Epoch 190/500\n",
      "84/84 [==============================] - 0s 144us/step - loss: 0.3712 - acc: 0.8929 - val_loss: 0.3761 - val_acc: 1.0000\n",
      "Epoch 191/500\n",
      "84/84 [==============================] - 0s 154us/step - loss: 0.3705 - acc: 0.8929 - val_loss: 0.3749 - val_acc: 1.0000\n",
      "Epoch 192/500\n",
      "84/84 [==============================] - 0s 156us/step - loss: 0.3694 - acc: 0.8929 - val_loss: 0.3737 - val_acc: 1.0000\n",
      "Epoch 193/500\n",
      "84/84 [==============================] - 0s 166us/step - loss: 0.3685 - acc: 0.8929 - val_loss: 0.3725 - val_acc: 1.0000\n",
      "Epoch 194/500\n",
      "84/84 [==============================] - 0s 188us/step - loss: 0.3676 - acc: 0.8929 - val_loss: 0.3714 - val_acc: 1.0000\n",
      "Epoch 195/500\n",
      "84/84 [==============================] - 0s 246us/step - loss: 0.3667 - acc: 0.8929 - val_loss: 0.3702 - val_acc: 1.0000\n",
      "Epoch 196/500\n",
      "84/84 [==============================] - 0s 218us/step - loss: 0.3658 - acc: 0.8929 - val_loss: 0.3690 - val_acc: 1.0000\n",
      "Epoch 197/500\n",
      "84/84 [==============================] - 0s 166us/step - loss: 0.3649 - acc: 0.9048 - val_loss: 0.3679 - val_acc: 1.0000\n",
      "Epoch 198/500\n",
      "84/84 [==============================] - 0s 171us/step - loss: 0.3640 - acc: 0.9286 - val_loss: 0.3667 - val_acc: 1.0000\n",
      "Epoch 199/500\n",
      "84/84 [==============================] - 0s 215us/step - loss: 0.3632 - acc: 0.9405 - val_loss: 0.3656 - val_acc: 1.0000\n",
      "Epoch 200/500\n",
      "84/84 [==============================] - 0s 188us/step - loss: 0.3623 - acc: 0.9405 - val_loss: 0.3644 - val_acc: 1.0000\n",
      "Epoch 201/500\n",
      "84/84 [==============================] - 0s 167us/step - loss: 0.3614 - acc: 0.9405 - val_loss: 0.3632 - val_acc: 1.0000\n",
      "Epoch 202/500\n",
      "84/84 [==============================] - 0s 147us/step - loss: 0.3605 - acc: 0.9405 - val_loss: 0.3621 - val_acc: 1.0000\n",
      "Epoch 203/500\n",
      "84/84 [==============================] - 0s 192us/step - loss: 0.3597 - acc: 0.9405 - val_loss: 0.3609 - val_acc: 1.0000\n",
      "Epoch 204/500\n",
      "84/84 [==============================] - 0s 191us/step - loss: 0.3587 - acc: 0.9286 - val_loss: 0.3598 - val_acc: 1.0000\n",
      "Epoch 205/500\n",
      "84/84 [==============================] - 0s 255us/step - loss: 0.3578 - acc: 0.9405 - val_loss: 0.3586 - val_acc: 1.0000\n",
      "Epoch 206/500\n",
      "84/84 [==============================] - 0s 147us/step - loss: 0.3570 - acc: 0.9405 - val_loss: 0.3575 - val_acc: 1.0000\n",
      "Epoch 207/500\n",
      "84/84 [==============================] - 0s 205us/step - loss: 0.3561 - acc: 0.9405 - val_loss: 0.3564 - val_acc: 1.0000\n",
      "Epoch 208/500\n",
      "84/84 [==============================] - ETA: 0s - loss: 0.2780 - acc: 0.968 - 0s 150us/step - loss: 0.3551 - acc: 0.9405 - val_loss: 0.3552 - val_acc: 1.0000\n",
      "Epoch 209/500\n",
      "84/84 [==============================] - 0s 255us/step - loss: 0.3544 - acc: 0.9405 - val_loss: 0.3541 - val_acc: 1.0000\n",
      "Epoch 210/500\n",
      "84/84 [==============================] - 0s 170us/step - loss: 0.3535 - acc: 0.9524 - val_loss: 0.3530 - val_acc: 1.0000\n",
      "Epoch 211/500\n",
      "84/84 [==============================] - 0s 247us/step - loss: 0.3525 - acc: 0.9524 - val_loss: 0.3519 - val_acc: 1.0000\n",
      "Epoch 212/500\n",
      "84/84 [==============================] - 0s 123us/step - loss: 0.3519 - acc: 0.9405 - val_loss: 0.3507 - val_acc: 1.0000\n",
      "Epoch 213/500\n",
      "84/84 [==============================] - 0s 219us/step - loss: 0.3508 - acc: 0.9405 - val_loss: 0.3497 - val_acc: 1.0000\n",
      "Epoch 214/500\n",
      "84/84 [==============================] - 0s 178us/step - loss: 0.3500 - acc: 0.9405 - val_loss: 0.3486 - val_acc: 1.0000\n",
      "Epoch 215/500\n",
      "84/84 [==============================] - 0s 198us/step - loss: 0.3491 - acc: 0.9405 - val_loss: 0.3474 - val_acc: 1.0000\n",
      "Epoch 216/500\n",
      "84/84 [==============================] - 0s 216us/step - loss: 0.3483 - acc: 0.9405 - val_loss: 0.3463 - val_acc: 1.0000\n",
      "Epoch 217/500\n",
      "84/84 [==============================] - 0s 202us/step - loss: 0.3474 - acc: 0.9405 - val_loss: 0.3452 - val_acc: 1.0000\n",
      "Epoch 218/500\n",
      "84/84 [==============================] - 0s 243us/step - loss: 0.3467 - acc: 0.9405 - val_loss: 0.3441 - val_acc: 1.0000\n",
      "Epoch 219/500\n",
      "84/84 [==============================] - 0s 266us/step - loss: 0.3457 - acc: 0.9405 - val_loss: 0.3429 - val_acc: 1.0000\n",
      "Epoch 220/500\n",
      "84/84 [==============================] - 0s 119us/step - loss: 0.3449 - acc: 0.9405 - val_loss: 0.3418 - val_acc: 1.0000\n",
      "Epoch 221/500\n",
      "84/84 [==============================] - 0s 194us/step - loss: 0.3439 - acc: 0.9405 - val_loss: 0.3407 - val_acc: 1.0000\n",
      "Epoch 222/500\n",
      "84/84 [==============================] - 0s 270us/step - loss: 0.3430 - acc: 0.9405 - val_loss: 0.3395 - val_acc: 1.0000\n",
      "Epoch 223/500\n",
      "84/84 [==============================] - 0s 319us/step - loss: 0.3422 - acc: 0.9405 - val_loss: 0.3384 - val_acc: 1.0000\n",
      "Epoch 224/500\n",
      "84/84 [==============================] - 0s 120us/step - loss: 0.3414 - acc: 0.9524 - val_loss: 0.3372 - val_acc: 1.0000\n",
      "Epoch 225/500\n",
      "84/84 [==============================] - 0s 154us/step - loss: 0.3404 - acc: 0.9524 - val_loss: 0.3361 - val_acc: 1.0000\n",
      "Epoch 226/500\n",
      "84/84 [==============================] - ETA: 0s - loss: 0.3820 - acc: 0.937 - 0s 116us/step - loss: 0.3395 - acc: 0.9524 - val_loss: 0.3349 - val_acc: 1.0000\n",
      "Epoch 227/500\n",
      "84/84 [==============================] - 0s 129us/step - loss: 0.3387 - acc: 0.9524 - val_loss: 0.3338 - val_acc: 1.0000\n",
      "Epoch 228/500\n",
      "84/84 [==============================] - 0s 155us/step - loss: 0.3378 - acc: 0.9524 - val_loss: 0.3326 - val_acc: 1.0000\n",
      "Epoch 229/500\n",
      "84/84 [==============================] - ETA: 0s - loss: 0.3401 - acc: 0.937 - 0s 120us/step - loss: 0.3370 - acc: 0.9524 - val_loss: 0.3315 - val_acc: 1.0000\n",
      "Epoch 230/500\n",
      "84/84 [==============================] - 0s 120us/step - loss: 0.3362 - acc: 0.9524 - val_loss: 0.3304 - val_acc: 1.0000\n",
      "Epoch 231/500\n",
      "84/84 [==============================] - 0s 135us/step - loss: 0.3352 - acc: 0.9524 - val_loss: 0.3293 - val_acc: 1.0000\n",
      "Epoch 232/500\n",
      "84/84 [==============================] - 0s 130us/step - loss: 0.3344 - acc: 0.9524 - val_loss: 0.3282 - val_acc: 1.0000\n",
      "Epoch 233/500\n",
      "84/84 [==============================] - 0s 115us/step - loss: 0.3336 - acc: 0.9524 - val_loss: 0.3271 - val_acc: 1.0000\n",
      "Epoch 234/500\n",
      "84/84 [==============================] - 0s 146us/step - loss: 0.3327 - acc: 0.9524 - val_loss: 0.3259 - val_acc: 1.0000\n",
      "Epoch 235/500\n",
      "84/84 [==============================] - 0s 121us/step - loss: 0.3318 - acc: 0.9524 - val_loss: 0.3248 - val_acc: 1.0000\n",
      "Epoch 236/500\n",
      "84/84 [==============================] - 0s 203us/step - loss: 0.3312 - acc: 0.9524 - val_loss: 0.3237 - val_acc: 1.0000\n",
      "Epoch 237/500\n",
      "84/84 [==============================] - 0s 268us/step - loss: 0.3301 - acc: 0.9524 - val_loss: 0.3225 - val_acc: 1.0000\n",
      "Epoch 238/500\n",
      "84/84 [==============================] - 0s 134us/step - loss: 0.3293 - acc: 0.9524 - val_loss: 0.3214 - val_acc: 1.0000\n",
      "Epoch 239/500\n",
      "84/84 [==============================] - 0s 237us/step - loss: 0.3284 - acc: 0.9524 - val_loss: 0.3203 - val_acc: 1.0000\n",
      "Epoch 240/500\n",
      "84/84 [==============================] - 0s 212us/step - loss: 0.3275 - acc: 0.9524 - val_loss: 0.3191 - val_acc: 1.0000\n",
      "Epoch 241/500\n",
      "84/84 [==============================] - 0s 283us/step - loss: 0.3266 - acc: 0.9524 - val_loss: 0.3179 - val_acc: 1.0000\n"
     ]
    },
    {
     "name": "stdout",
     "output_type": "stream",
     "text": [
      "Epoch 242/500\n",
      "84/84 [==============================] - 0s 146us/step - loss: 0.3258 - acc: 0.9524 - val_loss: 0.3168 - val_acc: 1.0000\n",
      "Epoch 243/500\n",
      "84/84 [==============================] - 0s 201us/step - loss: 0.3248 - acc: 0.9524 - val_loss: 0.3157 - val_acc: 1.0000\n",
      "Epoch 244/500\n",
      "84/84 [==============================] - 0s 250us/step - loss: 0.3240 - acc: 0.9524 - val_loss: 0.3145 - val_acc: 1.0000\n",
      "Epoch 245/500\n",
      "84/84 [==============================] - 0s 118us/step - loss: 0.3232 - acc: 0.9524 - val_loss: 0.3134 - val_acc: 1.0000\n",
      "Epoch 246/500\n",
      "84/84 [==============================] - 0s 233us/step - loss: 0.3223 - acc: 0.9524 - val_loss: 0.3123 - val_acc: 1.0000\n",
      "Epoch 247/500\n",
      "84/84 [==============================] - 0s 209us/step - loss: 0.3215 - acc: 0.9524 - val_loss: 0.3111 - val_acc: 1.0000\n",
      "Epoch 248/500\n",
      "84/84 [==============================] - 0s 216us/step - loss: 0.3206 - acc: 0.9524 - val_loss: 0.3100 - val_acc: 1.0000\n",
      "Epoch 249/500\n",
      "84/84 [==============================] - 0s 188us/step - loss: 0.3198 - acc: 0.9524 - val_loss: 0.3088 - val_acc: 1.0000\n",
      "Epoch 250/500\n",
      "84/84 [==============================] - 0s 190us/step - loss: 0.3189 - acc: 0.9524 - val_loss: 0.3077 - val_acc: 1.0000\n",
      "Epoch 251/500\n",
      "84/84 [==============================] - 0s 155us/step - loss: 0.3180 - acc: 0.9524 - val_loss: 0.3066 - val_acc: 1.0000\n",
      "Epoch 252/500\n",
      "84/84 [==============================] - 0s 207us/step - loss: 0.3173 - acc: 0.9524 - val_loss: 0.3055 - val_acc: 1.0000\n",
      "Epoch 253/500\n",
      "84/84 [==============================] - 0s 259us/step - loss: 0.3164 - acc: 0.9524 - val_loss: 0.3044 - val_acc: 1.0000\n",
      "Epoch 254/500\n",
      "84/84 [==============================] - 0s 140us/step - loss: 0.3156 - acc: 0.9524 - val_loss: 0.3032 - val_acc: 1.0000\n",
      "Epoch 255/500\n",
      "84/84 [==============================] - 0s 257us/step - loss: 0.3145 - acc: 0.9524 - val_loss: 0.3021 - val_acc: 1.0000\n",
      "Epoch 256/500\n",
      "84/84 [==============================] - 0s 158us/step - loss: 0.3138 - acc: 0.9524 - val_loss: 0.3010 - val_acc: 1.0000\n",
      "Epoch 257/500\n",
      "84/84 [==============================] - 0s 346us/step - loss: 0.3129 - acc: 0.9524 - val_loss: 0.2999 - val_acc: 1.0000\n",
      "Epoch 258/500\n",
      "84/84 [==============================] - 0s 206us/step - loss: 0.3122 - acc: 0.9524 - val_loss: 0.2987 - val_acc: 1.0000\n",
      "Epoch 259/500\n",
      "84/84 [==============================] - 0s 199us/step - loss: 0.3112 - acc: 0.9524 - val_loss: 0.2976 - val_acc: 1.0000\n",
      "Epoch 260/500\n",
      "84/84 [==============================] - 0s 160us/step - loss: 0.3103 - acc: 0.9524 - val_loss: 0.2965 - val_acc: 1.0000\n",
      "Epoch 261/500\n",
      "84/84 [==============================] - 0s 169us/step - loss: 0.3095 - acc: 0.9524 - val_loss: 0.2954 - val_acc: 1.0000\n",
      "Epoch 262/500\n",
      "84/84 [==============================] - 0s 253us/step - loss: 0.3086 - acc: 0.9524 - val_loss: 0.2943 - val_acc: 1.0000\n",
      "Epoch 263/500\n",
      "84/84 [==============================] - 0s 208us/step - loss: 0.3079 - acc: 0.9524 - val_loss: 0.2933 - val_acc: 1.0000\n",
      "Epoch 264/500\n",
      "84/84 [==============================] - 0s 179us/step - loss: 0.3070 - acc: 0.9524 - val_loss: 0.2922 - val_acc: 1.0000\n",
      "Epoch 265/500\n",
      "84/84 [==============================] - 0s 138us/step - loss: 0.3060 - acc: 0.9524 - val_loss: 0.2911 - val_acc: 1.0000\n",
      "Epoch 266/500\n",
      "84/84 [==============================] - 0s 233us/step - loss: 0.3053 - acc: 0.9524 - val_loss: 0.2900 - val_acc: 1.0000\n",
      "Epoch 267/500\n",
      "84/84 [==============================] - 0s 206us/step - loss: 0.3045 - acc: 0.9524 - val_loss: 0.2890 - val_acc: 1.0000\n",
      "Epoch 268/500\n",
      "84/84 [==============================] - 0s 121us/step - loss: 0.3036 - acc: 0.9524 - val_loss: 0.2879 - val_acc: 1.0000\n",
      "Epoch 269/500\n",
      "84/84 [==============================] - 0s 196us/step - loss: 0.3029 - acc: 0.9524 - val_loss: 0.2868 - val_acc: 1.0000\n",
      "Epoch 270/500\n",
      "84/84 [==============================] - 0s 209us/step - loss: 0.3020 - acc: 0.9524 - val_loss: 0.2857 - val_acc: 1.0000\n",
      "Epoch 271/500\n",
      "84/84 [==============================] - 0s 454us/step - loss: 0.3013 - acc: 0.9524 - val_loss: 0.2847 - val_acc: 1.0000\n",
      "Epoch 272/500\n",
      "84/84 [==============================] - 0s 261us/step - loss: 0.3003 - acc: 0.9524 - val_loss: 0.2836 - val_acc: 1.0000\n",
      "Epoch 273/500\n",
      "84/84 [==============================] - 0s 184us/step - loss: 0.2996 - acc: 0.9524 - val_loss: 0.2826 - val_acc: 1.0000\n",
      "Epoch 274/500\n",
      "84/84 [==============================] - 0s 259us/step - loss: 0.2988 - acc: 0.9524 - val_loss: 0.2815 - val_acc: 1.0000\n",
      "Epoch 275/500\n",
      "84/84 [==============================] - 0s 141us/step - loss: 0.2979 - acc: 0.9524 - val_loss: 0.2805 - val_acc: 1.0000\n",
      "Epoch 276/500\n",
      "84/84 [==============================] - ETA: 0s - loss: 0.3341 - acc: 0.937 - 0s 209us/step - loss: 0.2971 - acc: 0.9524 - val_loss: 0.2794 - val_acc: 1.0000\n",
      "Epoch 277/500\n",
      "84/84 [==============================] - 0s 137us/step - loss: 0.2962 - acc: 0.9524 - val_loss: 0.2784 - val_acc: 1.0000\n",
      "Epoch 278/500\n",
      "84/84 [==============================] - 0s 327us/step - loss: 0.2954 - acc: 0.9524 - val_loss: 0.2774 - val_acc: 1.0000\n",
      "Epoch 279/500\n",
      "84/84 [==============================] - 0s 420us/step - loss: 0.2947 - acc: 0.9524 - val_loss: 0.2763 - val_acc: 1.0000\n",
      "Epoch 280/500\n",
      "84/84 [==============================] - 0s 267us/step - loss: 0.2939 - acc: 0.9524 - val_loss: 0.2753 - val_acc: 1.0000\n",
      "Epoch 281/500\n",
      "84/84 [==============================] - 0s 387us/step - loss: 0.2933 - acc: 0.9524 - val_loss: 0.2743 - val_acc: 1.0000\n",
      "Epoch 282/500\n",
      "84/84 [==============================] - 0s 267us/step - loss: 0.2923 - acc: 0.9524 - val_loss: 0.2733 - val_acc: 1.0000\n",
      "Epoch 283/500\n",
      "84/84 [==============================] - 0s 378us/step - loss: 0.2916 - acc: 0.9524 - val_loss: 0.2722 - val_acc: 1.0000\n",
      "Epoch 284/500\n",
      "84/84 [==============================] - 0s 209us/step - loss: 0.2908 - acc: 0.9524 - val_loss: 0.2712 - val_acc: 1.0000\n",
      "Epoch 285/500\n",
      "84/84 [==============================] - 0s 396us/step - loss: 0.2900 - acc: 0.9524 - val_loss: 0.2702 - val_acc: 1.0000\n",
      "Epoch 286/500\n",
      "84/84 [==============================] - 0s 289us/step - loss: 0.2891 - acc: 0.9524 - val_loss: 0.2691 - val_acc: 1.0000\n",
      "Epoch 287/500\n",
      "84/84 [==============================] - 0s 127us/step - loss: 0.2883 - acc: 0.9524 - val_loss: 0.2681 - val_acc: 1.0000\n",
      "Epoch 288/500\n",
      "84/84 [==============================] - 0s 606us/step - loss: 0.2875 - acc: 0.9524 - val_loss: 0.2671 - val_acc: 1.0000\n",
      "Epoch 289/500\n",
      "84/84 [==============================] - 0s 165us/step - loss: 0.2866 - acc: 0.9643 - val_loss: 0.2661 - val_acc: 1.0000\n",
      "Epoch 290/500\n",
      "84/84 [==============================] - 0s 354us/step - loss: 0.2858 - acc: 0.9643 - val_loss: 0.2652 - val_acc: 1.0000\n",
      "Epoch 291/500\n",
      "84/84 [==============================] - 0s 330us/step - loss: 0.2851 - acc: 0.9643 - val_loss: 0.2643 - val_acc: 1.0000\n",
      "Epoch 292/500\n",
      "84/84 [==============================] - 0s 493us/step - loss: 0.2842 - acc: 0.9643 - val_loss: 0.2633 - val_acc: 1.0000\n",
      "Epoch 293/500\n",
      "84/84 [==============================] - 0s 205us/step - loss: 0.2836 - acc: 0.9643 - val_loss: 0.2623 - val_acc: 1.0000\n",
      "Epoch 294/500\n",
      "84/84 [==============================] - 0s 171us/step - loss: 0.2829 - acc: 0.9643 - val_loss: 0.2613 - val_acc: 1.0000\n",
      "Epoch 295/500\n",
      "84/84 [==============================] - 0s 134us/step - loss: 0.2821 - acc: 0.9643 - val_loss: 0.2602 - val_acc: 1.0000\n",
      "Epoch 296/500\n",
      "84/84 [==============================] - 0s 271us/step - loss: 0.2813 - acc: 0.9643 - val_loss: 0.2592 - val_acc: 1.0000\n",
      "Epoch 297/500\n",
      "84/84 [==============================] - 0s 146us/step - loss: 0.2806 - acc: 0.9643 - val_loss: 0.2581 - val_acc: 1.0000\n",
      "Epoch 298/500\n",
      "84/84 [==============================] - 0s 189us/step - loss: 0.2797 - acc: 0.9643 - val_loss: 0.2570 - val_acc: 1.0000\n",
      "Epoch 299/500\n",
      "84/84 [==============================] - 0s 188us/step - loss: 0.2788 - acc: 0.9643 - val_loss: 0.2560 - val_acc: 1.0000\n",
      "Epoch 300/500\n",
      "84/84 [==============================] - 0s 355us/step - loss: 0.2781 - acc: 0.9643 - val_loss: 0.2550 - val_acc: 1.0000\n",
      "Epoch 301/500\n",
      "84/84 [==============================] - 0s 341us/step - loss: 0.2773 - acc: 0.9643 - val_loss: 0.2540 - val_acc: 1.0000\n",
      "Epoch 302/500\n",
      "84/84 [==============================] - 0s 288us/step - loss: 0.2765 - acc: 0.9643 - val_loss: 0.2530 - val_acc: 1.0000\n",
      "Epoch 303/500\n",
      "84/84 [==============================] - 0s 167us/step - loss: 0.2757 - acc: 0.9643 - val_loss: 0.2521 - val_acc: 1.0000\n",
      "Epoch 304/500\n",
      "84/84 [==============================] - 0s 140us/step - loss: 0.2751 - acc: 0.9643 - val_loss: 0.2511 - val_acc: 1.0000\n",
      "Epoch 305/500\n",
      "84/84 [==============================] - 0s 187us/step - loss: 0.2742 - acc: 0.9643 - val_loss: 0.2502 - val_acc: 1.0000\n",
      "Epoch 306/500\n",
      "84/84 [==============================] - 0s 178us/step - loss: 0.2735 - acc: 0.9643 - val_loss: 0.2492 - val_acc: 1.0000\n",
      "Epoch 307/500\n",
      "84/84 [==============================] - 0s 350us/step - loss: 0.2727 - acc: 0.9643 - val_loss: 0.2483 - val_acc: 1.0000\n",
      "Epoch 308/500\n",
      "84/84 [==============================] - 0s 119us/step - loss: 0.2719 - acc: 0.9643 - val_loss: 0.2474 - val_acc: 1.0000\n",
      "Epoch 309/500\n",
      "84/84 [==============================] - 0s 331us/step - loss: 0.2712 - acc: 0.9643 - val_loss: 0.2465 - val_acc: 1.0000\n",
      "Epoch 310/500\n",
      "84/84 [==============================] - 0s 173us/step - loss: 0.2705 - acc: 0.9643 - val_loss: 0.2456 - val_acc: 1.0000\n",
      "Epoch 311/500\n",
      "84/84 [==============================] - 0s 276us/step - loss: 0.2697 - acc: 0.9643 - val_loss: 0.2446 - val_acc: 1.0000\n",
      "Epoch 312/500\n",
      "84/84 [==============================] - 0s 183us/step - loss: 0.2689 - acc: 0.9643 - val_loss: 0.2436 - val_acc: 1.0000\n",
      "Epoch 313/500\n",
      "84/84 [==============================] - 0s 154us/step - loss: 0.2681 - acc: 0.9643 - val_loss: 0.2426 - val_acc: 1.0000\n",
      "Epoch 314/500\n",
      "84/84 [==============================] - 0s 167us/step - loss: 0.2673 - acc: 0.9643 - val_loss: 0.2415 - val_acc: 1.0000\n",
      "Epoch 315/500\n",
      "84/84 [==============================] - 0s 188us/step - loss: 0.2667 - acc: 0.9643 - val_loss: 0.2405 - val_acc: 1.0000\n",
      "Epoch 316/500\n",
      "84/84 [==============================] - 0s 273us/step - loss: 0.2659 - acc: 0.9643 - val_loss: 0.2395 - val_acc: 1.0000\n",
      "Epoch 317/500\n",
      "84/84 [==============================] - 0s 257us/step - loss: 0.2653 - acc: 0.9643 - val_loss: 0.2386 - val_acc: 1.0000\n",
      "Epoch 318/500\n",
      "84/84 [==============================] - 0s 164us/step - loss: 0.2645 - acc: 0.9643 - val_loss: 0.2377 - val_acc: 1.0000\n",
      "Epoch 319/500\n",
      "84/84 [==============================] - 0s 306us/step - loss: 0.2638 - acc: 0.9643 - val_loss: 0.2368 - val_acc: 1.0000\n",
      "Epoch 320/500\n",
      "84/84 [==============================] - 0s 159us/step - loss: 0.2629 - acc: 0.9643 - val_loss: 0.2359 - val_acc: 1.0000\n",
      "Epoch 321/500\n",
      "84/84 [==============================] - 0s 265us/step - loss: 0.2623 - acc: 0.9643 - val_loss: 0.2350 - val_acc: 1.0000\n",
      "Epoch 322/500\n",
      "84/84 [==============================] - 0s 126us/step - loss: 0.2615 - acc: 0.9643 - val_loss: 0.2341 - val_acc: 1.0000\n",
      "Epoch 323/500\n",
      "84/84 [==============================] - 0s 179us/step - loss: 0.2608 - acc: 0.9643 - val_loss: 0.2332 - val_acc: 1.0000\n",
      "Epoch 324/500\n",
      "84/84 [==============================] - 0s 166us/step - loss: 0.2600 - acc: 0.9643 - val_loss: 0.2322 - val_acc: 1.0000\n",
      "Epoch 325/500\n",
      "84/84 [==============================] - 0s 159us/step - loss: 0.2593 - acc: 0.9643 - val_loss: 0.2313 - val_acc: 1.0000\n",
      "Epoch 326/500\n",
      "84/84 [==============================] - 0s 240us/step - loss: 0.2587 - acc: 0.9643 - val_loss: 0.2305 - val_acc: 1.0000\n",
      "Epoch 327/500\n",
      "84/84 [==============================] - 0s 113us/step - loss: 0.2578 - acc: 0.9643 - val_loss: 0.2295 - val_acc: 1.0000\n",
      "Epoch 328/500\n",
      "84/84 [==============================] - 0s 254us/step - loss: 0.2573 - acc: 0.9643 - val_loss: 0.2286 - val_acc: 1.0000\n",
      "Epoch 329/500\n",
      "84/84 [==============================] - 0s 179us/step - loss: 0.2564 - acc: 0.9643 - val_loss: 0.2276 - val_acc: 1.0000\n",
      "Epoch 330/500\n",
      "84/84 [==============================] - 0s 322us/step - loss: 0.2557 - acc: 0.9643 - val_loss: 0.2267 - val_acc: 1.0000\n",
      "Epoch 331/500\n",
      "84/84 [==============================] - 0s 549us/step - loss: 0.2549 - acc: 0.9643 - val_loss: 0.2258 - val_acc: 1.0000\n",
      "Epoch 332/500\n",
      "84/84 [==============================] - 0s 180us/step - loss: 0.2544 - acc: 0.9643 - val_loss: 0.2249 - val_acc: 1.0000\n",
      "Epoch 333/500\n",
      "84/84 [==============================] - 0s 139us/step - loss: 0.2541 - acc: 0.9643 - val_loss: 0.2240 - val_acc: 1.0000\n",
      "Epoch 334/500\n",
      "84/84 [==============================] - 0s 171us/step - loss: 0.2532 - acc: 0.9643 - val_loss: 0.2231 - val_acc: 1.0000\n",
      "Epoch 335/500\n",
      "84/84 [==============================] - 0s 328us/step - loss: 0.2521 - acc: 0.9643 - val_loss: 0.2223 - val_acc: 1.0000\n",
      "Epoch 336/500\n",
      "84/84 [==============================] - 0s 309us/step - loss: 0.2516 - acc: 0.9643 - val_loss: 0.2215 - val_acc: 1.0000\n",
      "Epoch 337/500\n",
      "84/84 [==============================] - 0s 114us/step - loss: 0.2507 - acc: 0.9643 - val_loss: 0.2206 - val_acc: 1.0000\n",
      "Epoch 338/500\n",
      "84/84 [==============================] - 0s 173us/step - loss: 0.2501 - acc: 0.9643 - val_loss: 0.2198 - val_acc: 1.0000\n",
      "Epoch 339/500\n",
      "84/84 [==============================] - 0s 154us/step - loss: 0.2493 - acc: 0.9643 - val_loss: 0.2189 - val_acc: 1.0000\n",
      "Epoch 340/500\n",
      "84/84 [==============================] - 0s 88us/step - loss: 0.2486 - acc: 0.9643 - val_loss: 0.2180 - val_acc: 1.0000\n",
      "Epoch 341/500\n",
      "84/84 [==============================] - 0s 104us/step - loss: 0.2482 - acc: 0.9643 - val_loss: 0.2171 - val_acc: 1.0000\n",
      "Epoch 342/500\n",
      "84/84 [==============================] - 0s 154us/step - loss: 0.2473 - acc: 0.9643 - val_loss: 0.2164 - val_acc: 1.0000\n",
      "Epoch 343/500\n",
      "84/84 [==============================] - 0s 154us/step - loss: 0.2465 - acc: 0.9643 - val_loss: 0.2157 - val_acc: 1.0000\n",
      "Epoch 344/500\n",
      "84/84 [==============================] - 0s 275us/step - loss: 0.2458 - acc: 0.9643 - val_loss: 0.2150 - val_acc: 1.0000\n",
      "Epoch 345/500\n",
      "84/84 [==============================] - 0s 83us/step - loss: 0.2452 - acc: 0.9643 - val_loss: 0.2142 - val_acc: 1.0000\n",
      "Epoch 346/500\n",
      "84/84 [==============================] - 0s 80us/step - loss: 0.2447 - acc: 0.9643 - val_loss: 0.2134 - val_acc: 1.0000\n",
      "Epoch 347/500\n",
      "84/84 [==============================] - 0s 250us/step - loss: 0.2439 - acc: 0.9643 - val_loss: 0.2125 - val_acc: 1.0000\n",
      "Epoch 348/500\n",
      "84/84 [==============================] - 0s 285us/step - loss: 0.2432 - acc: 0.9643 - val_loss: 0.2116 - val_acc: 1.0000\n",
      "Epoch 349/500\n",
      "84/84 [==============================] - 0s 139us/step - loss: 0.2425 - acc: 0.9643 - val_loss: 0.2105 - val_acc: 1.0000\n",
      "Epoch 350/500\n",
      "84/84 [==============================] - 0s 294us/step - loss: 0.2418 - acc: 0.9643 - val_loss: 0.2096 - val_acc: 1.0000\n",
      "Epoch 351/500\n",
      "84/84 [==============================] - 0s 200us/step - loss: 0.2413 - acc: 0.9643 - val_loss: 0.2086 - val_acc: 1.0000\n",
      "Epoch 352/500\n",
      "84/84 [==============================] - 0s 91us/step - loss: 0.2405 - acc: 0.9643 - val_loss: 0.2078 - val_acc: 1.0000\n",
      "Epoch 353/500\n",
      "84/84 [==============================] - 0s 95us/step - loss: 0.2398 - acc: 0.9643 - val_loss: 0.2069 - val_acc: 1.0000\n",
      "Epoch 354/500\n",
      "84/84 [==============================] - 0s 274us/step - loss: 0.2393 - acc: 0.9643 - val_loss: 0.2061 - val_acc: 1.0000\n",
      "Epoch 355/500\n",
      "84/84 [==============================] - 0s 84us/step - loss: 0.2386 - acc: 0.9643 - val_loss: 0.2053 - val_acc: 1.0000\n",
      "Epoch 356/500\n",
      "84/84 [==============================] - 0s 211us/step - loss: 0.2378 - acc: 0.9643 - val_loss: 0.2046 - val_acc: 1.0000\n",
      "Epoch 357/500\n",
      "84/84 [==============================] - 0s 91us/step - loss: 0.2372 - acc: 0.9643 - val_loss: 0.2039 - val_acc: 1.0000\n",
      "Epoch 358/500\n",
      "84/84 [==============================] - 0s 287us/step - loss: 0.2371 - acc: 0.9643 - val_loss: 0.2033 - val_acc: 1.0000\n",
      "Epoch 359/500\n",
      "84/84 [==============================] - 0s 244us/step - loss: 0.2359 - acc: 0.9643 - val_loss: 0.2024 - val_acc: 1.0000\n",
      "Epoch 360/500\n",
      "84/84 [==============================] - 0s 133us/step - loss: 0.2352 - acc: 0.9643 - val_loss: 0.2016 - val_acc: 1.0000\n",
      "Epoch 361/500\n",
      "84/84 [==============================] - 0s 188us/step - loss: 0.2347 - acc: 0.9643 - val_loss: 0.2009 - val_acc: 1.0000\n",
      "Epoch 362/500\n",
      "84/84 [==============================] - 0s 269us/step - loss: 0.2341 - acc: 0.9643 - val_loss: 0.2002 - val_acc: 1.0000\n"
     ]
    },
    {
     "name": "stdout",
     "output_type": "stream",
     "text": [
      "Epoch 363/500\n",
      "84/84 [==============================] - 0s 170us/step - loss: 0.2334 - acc: 0.9643 - val_loss: 0.1992 - val_acc: 1.0000\n",
      "Epoch 364/500\n",
      "84/84 [==============================] - 0s 221us/step - loss: 0.2328 - acc: 0.9643 - val_loss: 0.1984 - val_acc: 1.0000\n",
      "Epoch 365/500\n",
      "84/84 [==============================] - 0s 203us/step - loss: 0.2319 - acc: 0.9643 - val_loss: 0.1978 - val_acc: 1.0000\n",
      "Epoch 366/500\n",
      "84/84 [==============================] - 0s 354us/step - loss: 0.2314 - acc: 0.9643 - val_loss: 0.1973 - val_acc: 1.0000\n",
      "Epoch 367/500\n",
      "84/84 [==============================] - 0s 561us/step - loss: 0.2307 - acc: 0.9643 - val_loss: 0.1966 - val_acc: 1.0000\n",
      "Epoch 368/500\n",
      "84/84 [==============================] - 0s 169us/step - loss: 0.2302 - acc: 0.9643 - val_loss: 0.1958 - val_acc: 1.0000\n",
      "Epoch 369/500\n",
      "84/84 [==============================] - 0s 297us/step - loss: 0.2296 - acc: 0.9643 - val_loss: 0.1949 - val_acc: 1.0000\n",
      "Epoch 370/500\n",
      "84/84 [==============================] - 0s 359us/step - loss: 0.2288 - acc: 0.9643 - val_loss: 0.1942 - val_acc: 1.0000\n",
      "Epoch 371/500\n",
      "84/84 [==============================] - ETA: 0s - loss: 0.2098 - acc: 0.968 - 0s 377us/step - loss: 0.2282 - acc: 0.9643 - val_loss: 0.1934 - val_acc: 1.0000\n",
      "Epoch 372/500\n",
      "84/84 [==============================] - 0s 368us/step - loss: 0.2278 - acc: 0.9643 - val_loss: 0.1925 - val_acc: 1.0000\n",
      "Epoch 373/500\n",
      "84/84 [==============================] - 0s 199us/step - loss: 0.2270 - acc: 0.9643 - val_loss: 0.1918 - val_acc: 1.0000\n",
      "Epoch 374/500\n",
      "84/84 [==============================] - 0s 218us/step - loss: 0.2265 - acc: 0.9643 - val_loss: 0.1909 - val_acc: 1.0000\n",
      "Epoch 375/500\n",
      "84/84 [==============================] - 0s 192us/step - loss: 0.2256 - acc: 0.9643 - val_loss: 0.1900 - val_acc: 1.0000\n",
      "Epoch 376/500\n",
      "84/84 [==============================] - 0s 236us/step - loss: 0.2252 - acc: 0.9643 - val_loss: 0.1891 - val_acc: 1.0000\n",
      "Epoch 377/500\n",
      "84/84 [==============================] - 0s 154us/step - loss: 0.2246 - acc: 0.9643 - val_loss: 0.1883 - val_acc: 1.0000\n",
      "Epoch 378/500\n",
      "84/84 [==============================] - ETA: 0s - loss: 0.2321 - acc: 0.968 - 0s 317us/step - loss: 0.2239 - acc: 0.9643 - val_loss: 0.1875 - val_acc: 1.0000\n",
      "Epoch 379/500\n",
      "84/84 [==============================] - 0s 310us/step - loss: 0.2234 - acc: 0.9643 - val_loss: 0.1868 - val_acc: 1.0000\n",
      "Epoch 380/500\n",
      "84/84 [==============================] - 0s 204us/step - loss: 0.2228 - acc: 0.9643 - val_loss: 0.1861 - val_acc: 1.0000\n",
      "Epoch 381/500\n",
      "84/84 [==============================] - 0s 145us/step - loss: 0.2222 - acc: 0.9643 - val_loss: 0.1856 - val_acc: 1.0000\n",
      "Epoch 382/500\n",
      "84/84 [==============================] - 0s 301us/step - loss: 0.2215 - acc: 0.9643 - val_loss: 0.1849 - val_acc: 1.0000\n",
      "Epoch 383/500\n",
      "84/84 [==============================] - 0s 167us/step - loss: 0.2209 - acc: 0.9643 - val_loss: 0.1843 - val_acc: 1.0000\n",
      "Epoch 384/500\n",
      "84/84 [==============================] - 0s 201us/step - loss: 0.2204 - acc: 0.9643 - val_loss: 0.1837 - val_acc: 1.0000\n",
      "Epoch 385/500\n",
      "84/84 [==============================] - 0s 231us/step - loss: 0.2198 - acc: 0.9643 - val_loss: 0.1829 - val_acc: 1.0000\n",
      "Epoch 386/500\n",
      "84/84 [==============================] - 0s 184us/step - loss: 0.2191 - acc: 0.9643 - val_loss: 0.1821 - val_acc: 1.0000\n",
      "Epoch 387/500\n",
      "84/84 [==============================] - 0s 199us/step - loss: 0.2186 - acc: 0.9643 - val_loss: 0.1814 - val_acc: 1.0000\n",
      "Epoch 388/500\n",
      "84/84 [==============================] - 0s 250us/step - loss: 0.2181 - acc: 0.9643 - val_loss: 0.1807 - val_acc: 1.0000\n",
      "Epoch 389/500\n",
      "84/84 [==============================] - 0s 167us/step - loss: 0.2174 - acc: 0.9643 - val_loss: 0.1801 - val_acc: 1.0000\n",
      "Epoch 390/500\n",
      "84/84 [==============================] - 0s 391us/step - loss: 0.2170 - acc: 0.9643 - val_loss: 0.1795 - val_acc: 1.0000\n",
      "Epoch 391/500\n",
      "84/84 [==============================] - 0s 193us/step - loss: 0.2164 - acc: 0.9643 - val_loss: 0.1787 - val_acc: 1.0000\n",
      "Epoch 392/500\n",
      "84/84 [==============================] - 0s 272us/step - loss: 0.2156 - acc: 0.9643 - val_loss: 0.1780 - val_acc: 1.0000\n",
      "Epoch 393/500\n",
      "84/84 [==============================] - 0s 234us/step - loss: 0.2152 - acc: 0.9643 - val_loss: 0.1774 - val_acc: 1.0000\n",
      "Epoch 394/500\n",
      "84/84 [==============================] - 0s 171us/step - loss: 0.2145 - acc: 0.9643 - val_loss: 0.1766 - val_acc: 1.0000\n",
      "Epoch 395/500\n",
      "84/84 [==============================] - 0s 145us/step - loss: 0.2142 - acc: 0.9643 - val_loss: 0.1756 - val_acc: 1.0000\n",
      "Epoch 396/500\n",
      "84/84 [==============================] - 0s 126us/step - loss: 0.2136 - acc: 0.9643 - val_loss: 0.1749 - val_acc: 1.0000\n",
      "Epoch 397/500\n",
      "84/84 [==============================] - 0s 190us/step - loss: 0.2134 - acc: 0.9643 - val_loss: 0.1740 - val_acc: 1.0000\n",
      "Epoch 398/500\n",
      "84/84 [==============================] - 0s 208us/step - loss: 0.2128 - acc: 0.9643 - val_loss: 0.1735 - val_acc: 1.0000\n",
      "Epoch 399/500\n",
      "84/84 [==============================] - 0s 211us/step - loss: 0.2119 - acc: 0.9643 - val_loss: 0.1728 - val_acc: 1.0000\n",
      "Epoch 400/500\n",
      "84/84 [==============================] - 0s 133us/step - loss: 0.2113 - acc: 0.9643 - val_loss: 0.1722 - val_acc: 1.0000\n",
      "Epoch 401/500\n",
      "84/84 [==============================] - 0s 227us/step - loss: 0.2107 - acc: 0.9643 - val_loss: 0.1717 - val_acc: 1.0000\n",
      "Epoch 402/500\n",
      "84/84 [==============================] - 0s 123us/step - loss: 0.2102 - acc: 0.9643 - val_loss: 0.1714 - val_acc: 1.0000\n",
      "Epoch 403/500\n",
      "84/84 [==============================] - 0s 297us/step - loss: 0.2098 - acc: 0.9643 - val_loss: 0.1710 - val_acc: 1.0000\n",
      "Epoch 404/500\n",
      "84/84 [==============================] - 0s 191us/step - loss: 0.2093 - acc: 0.9643 - val_loss: 0.1702 - val_acc: 1.0000\n",
      "Epoch 405/500\n",
      "84/84 [==============================] - 0s 208us/step - loss: 0.2085 - acc: 0.9643 - val_loss: 0.1697 - val_acc: 1.0000\n",
      "Epoch 406/500\n",
      "84/84 [==============================] - 0s 133us/step - loss: 0.2079 - acc: 0.9643 - val_loss: 0.1691 - val_acc: 1.0000\n",
      "Epoch 407/500\n",
      "84/84 [==============================] - 0s 239us/step - loss: 0.2076 - acc: 0.9643 - val_loss: 0.1686 - val_acc: 1.0000\n",
      "Epoch 408/500\n",
      "84/84 [==============================] - 0s 154us/step - loss: 0.2068 - acc: 0.9643 - val_loss: 0.1679 - val_acc: 1.0000\n",
      "Epoch 409/500\n",
      "84/84 [==============================] - 0s 275us/step - loss: 0.2063 - acc: 0.9643 - val_loss: 0.1672 - val_acc: 1.0000\n",
      "Epoch 410/500\n",
      "84/84 [==============================] - 0s 250us/step - loss: 0.2058 - acc: 0.9643 - val_loss: 0.1666 - val_acc: 1.0000\n",
      "Epoch 411/500\n",
      "84/84 [==============================] - 0s 147us/step - loss: 0.2053 - acc: 0.9643 - val_loss: 0.1660 - val_acc: 1.0000\n",
      "Epoch 412/500\n",
      "84/84 [==============================] - 0s 126us/step - loss: 0.2047 - acc: 0.9643 - val_loss: 0.1653 - val_acc: 1.0000\n",
      "Epoch 413/500\n",
      "84/84 [==============================] - 0s 184us/step - loss: 0.2041 - acc: 0.9643 - val_loss: 0.1645 - val_acc: 1.0000\n",
      "Epoch 414/500\n",
      "84/84 [==============================] - 0s 240us/step - loss: 0.2036 - acc: 0.9643 - val_loss: 0.1637 - val_acc: 1.0000\n",
      "Epoch 415/500\n",
      "84/84 [==============================] - 0s 236us/step - loss: 0.2031 - acc: 0.9643 - val_loss: 0.1630 - val_acc: 1.0000\n",
      "Epoch 416/500\n",
      "84/84 [==============================] - 0s 124us/step - loss: 0.2026 - acc: 0.9643 - val_loss: 0.1623 - val_acc: 1.0000\n",
      "Epoch 417/500\n",
      "84/84 [==============================] - 0s 255us/step - loss: 0.2021 - acc: 0.9643 - val_loss: 0.1616 - val_acc: 1.0000\n",
      "Epoch 418/500\n",
      "84/84 [==============================] - 0s 289us/step - loss: 0.2016 - acc: 0.9643 - val_loss: 0.1609 - val_acc: 1.0000\n",
      "Epoch 419/500\n",
      "84/84 [==============================] - 0s 126us/step - loss: 0.2013 - acc: 0.9643 - val_loss: 0.1602 - val_acc: 1.0000\n",
      "Epoch 420/500\n",
      "84/84 [==============================] - 0s 126us/step - loss: 0.2006 - acc: 0.9643 - val_loss: 0.1597 - val_acc: 1.0000\n",
      "Epoch 421/500\n",
      "84/84 [==============================] - 0s 136us/step - loss: 0.2001 - acc: 0.9643 - val_loss: 0.1592 - val_acc: 1.0000\n",
      "Epoch 422/500\n",
      "84/84 [==============================] - 0s 158us/step - loss: 0.1997 - acc: 0.9643 - val_loss: 0.1589 - val_acc: 1.0000\n",
      "Epoch 423/500\n",
      "84/84 [==============================] - 0s 144us/step - loss: 0.1991 - acc: 0.9643 - val_loss: 0.1583 - val_acc: 1.0000\n",
      "Epoch 424/500\n",
      "84/84 [==============================] - 0s 163us/step - loss: 0.1985 - acc: 0.9643 - val_loss: 0.1577 - val_acc: 1.0000\n",
      "Epoch 425/500\n",
      "84/84 [==============================] - 0s 132us/step - loss: 0.1980 - acc: 0.9643 - val_loss: 0.1571 - val_acc: 1.0000\n",
      "Epoch 426/500\n",
      "84/84 [==============================] - 0s 164us/step - loss: 0.1975 - acc: 0.9643 - val_loss: 0.1565 - val_acc: 1.0000\n",
      "Epoch 427/500\n",
      "84/84 [==============================] - 0s 149us/step - loss: 0.1971 - acc: 0.9643 - val_loss: 0.1559 - val_acc: 1.0000\n",
      "Epoch 428/500\n",
      "84/84 [==============================] - 0s 139us/step - loss: 0.1965 - acc: 0.9643 - val_loss: 0.1552 - val_acc: 1.0000\n",
      "Epoch 429/500\n",
      "84/84 [==============================] - 0s 149us/step - loss: 0.1961 - acc: 0.9643 - val_loss: 0.1546 - val_acc: 1.0000\n",
      "Epoch 430/500\n",
      "84/84 [==============================] - 0s 372us/step - loss: 0.1955 - acc: 0.9643 - val_loss: 0.1541 - val_acc: 1.0000\n",
      "Epoch 431/500\n",
      "84/84 [==============================] - 0s 192us/step - loss: 0.1952 - acc: 0.9643 - val_loss: 0.1540 - val_acc: 1.0000\n",
      "Epoch 432/500\n",
      "84/84 [==============================] - 0s 174us/step - loss: 0.1944 - acc: 0.9643 - val_loss: 0.1537 - val_acc: 1.0000\n",
      "Epoch 433/500\n",
      "84/84 [==============================] - 0s 307us/step - loss: 0.1941 - acc: 0.9643 - val_loss: 0.1533 - val_acc: 1.0000\n",
      "Epoch 434/500\n",
      "84/84 [==============================] - 0s 135us/step - loss: 0.1936 - acc: 0.9643 - val_loss: 0.1528 - val_acc: 1.0000\n",
      "Epoch 435/500\n",
      "84/84 [==============================] - 0s 128us/step - loss: 0.1933 - acc: 0.9643 - val_loss: 0.1524 - val_acc: 1.0000\n",
      "Epoch 436/500\n",
      "84/84 [==============================] - 0s 233us/step - loss: 0.1927 - acc: 0.9762 - val_loss: 0.1515 - val_acc: 1.0000\n",
      "Epoch 437/500\n",
      "84/84 [==============================] - 0s 233us/step - loss: 0.1922 - acc: 0.9643 - val_loss: 0.1509 - val_acc: 1.0000\n",
      "Epoch 438/500\n",
      "84/84 [==============================] - 0s 209us/step - loss: 0.1917 - acc: 0.9643 - val_loss: 0.1498 - val_acc: 1.0000\n",
      "Epoch 439/500\n",
      "84/84 [==============================] - 0s 179us/step - loss: 0.1916 - acc: 0.9643 - val_loss: 0.1489 - val_acc: 1.0000\n",
      "Epoch 440/500\n",
      "84/84 [==============================] - 0s 114us/step - loss: 0.1909 - acc: 0.9643 - val_loss: 0.1484 - val_acc: 1.0000\n",
      "Epoch 441/500\n",
      "84/84 [==============================] - 0s 119us/step - loss: 0.1905 - acc: 0.9643 - val_loss: 0.1478 - val_acc: 1.0000\n",
      "Epoch 442/500\n",
      "84/84 [==============================] - 0s 320us/step - loss: 0.1898 - acc: 0.9643 - val_loss: 0.1473 - val_acc: 1.0000\n",
      "Epoch 443/500\n",
      "84/84 [==============================] - 0s 339us/step - loss: 0.1895 - acc: 0.9643 - val_loss: 0.1466 - val_acc: 1.0000\n",
      "Epoch 444/500\n",
      "84/84 [==============================] - 0s 286us/step - loss: 0.1890 - acc: 0.9643 - val_loss: 0.1462 - val_acc: 1.0000\n",
      "Epoch 445/500\n",
      "84/84 [==============================] - 0s 166us/step - loss: 0.1889 - acc: 0.9643 - val_loss: 0.1460 - val_acc: 1.0000\n",
      "Epoch 446/500\n",
      "84/84 [==============================] - 0s 235us/step - loss: 0.1880 - acc: 0.9643 - val_loss: 0.1455 - val_acc: 1.0000\n",
      "Epoch 447/500\n",
      "84/84 [==============================] - 0s 217us/step - loss: 0.1879 - acc: 0.9643 - val_loss: 0.1447 - val_acc: 1.0000\n",
      "Epoch 448/500\n",
      "84/84 [==============================] - 0s 271us/step - loss: 0.1875 - acc: 0.9643 - val_loss: 0.1446 - val_acc: 1.0000\n",
      "Epoch 449/500\n",
      "84/84 [==============================] - 0s 120us/step - loss: 0.1866 - acc: 0.9643 - val_loss: 0.1440 - val_acc: 1.0000\n",
      "Epoch 450/500\n",
      "84/84 [==============================] - 0s 245us/step - loss: 0.1861 - acc: 0.9643 - val_loss: 0.1436 - val_acc: 1.0000\n",
      "Epoch 451/500\n",
      "84/84 [==============================] - 0s 373us/step - loss: 0.1858 - acc: 0.9643 - val_loss: 0.1432 - val_acc: 1.0000\n",
      "Epoch 452/500\n",
      "84/84 [==============================] - 0s 229us/step - loss: 0.1853 - acc: 0.9643 - val_loss: 0.1430 - val_acc: 1.0000\n",
      "Epoch 453/500\n",
      "84/84 [==============================] - 0s 227us/step - loss: 0.1848 - acc: 0.9643 - val_loss: 0.1426 - val_acc: 1.0000\n",
      "Epoch 454/500\n",
      "84/84 [==============================] - 0s 108us/step - loss: 0.1843 - acc: 0.9643 - val_loss: 0.1421 - val_acc: 1.0000\n",
      "Epoch 455/500\n",
      "84/84 [==============================] - 0s 137us/step - loss: 0.1839 - acc: 0.9643 - val_loss: 0.1415 - val_acc: 1.0000\n",
      "Epoch 456/500\n",
      "84/84 [==============================] - 0s 122us/step - loss: 0.1835 - acc: 0.9643 - val_loss: 0.1410 - val_acc: 1.0000\n",
      "Epoch 457/500\n",
      "84/84 [==============================] - 0s 101us/step - loss: 0.1832 - acc: 0.9643 - val_loss: 0.1403 - val_acc: 1.0000\n",
      "Epoch 458/500\n",
      "84/84 [==============================] - 0s 107us/step - loss: 0.1828 - acc: 0.9643 - val_loss: 0.1399 - val_acc: 1.0000\n",
      "Epoch 459/500\n",
      "84/84 [==============================] - 0s 127us/step - loss: 0.1822 - acc: 0.9643 - val_loss: 0.1393 - val_acc: 1.0000\n",
      "Epoch 460/500\n",
      "84/84 [==============================] - 0s 144us/step - loss: 0.1818 - acc: 0.9643 - val_loss: 0.1388 - val_acc: 1.0000\n",
      "Epoch 461/500\n",
      "84/84 [==============================] - 0s 107us/step - loss: 0.1816 - acc: 0.9643 - val_loss: 0.1381 - val_acc: 1.0000\n",
      "Epoch 462/500\n",
      "84/84 [==============================] - 0s 107us/step - loss: 0.1810 - acc: 0.9643 - val_loss: 0.1376 - val_acc: 1.0000\n",
      "Epoch 463/500\n",
      "84/84 [==============================] - 0s 83us/step - loss: 0.1806 - acc: 0.9643 - val_loss: 0.1373 - val_acc: 1.0000\n",
      "Epoch 464/500\n",
      "84/84 [==============================] - 0s 129us/step - loss: 0.1800 - acc: 0.9643 - val_loss: 0.1369 - val_acc: 1.0000\n",
      "Epoch 465/500\n",
      "84/84 [==============================] - 0s 168us/step - loss: 0.1796 - acc: 0.9643 - val_loss: 0.1365 - val_acc: 1.0000\n",
      "Epoch 466/500\n",
      "84/84 [==============================] - 0s 155us/step - loss: 0.1793 - acc: 0.9643 - val_loss: 0.1359 - val_acc: 1.0000\n",
      "Epoch 467/500\n",
      "84/84 [==============================] - 0s 79us/step - loss: 0.1789 - acc: 0.9643 - val_loss: 0.1359 - val_acc: 1.0000\n",
      "Epoch 468/500\n",
      "84/84 [==============================] - 0s 90us/step - loss: 0.1785 - acc: 0.9643 - val_loss: 0.1354 - val_acc: 1.0000\n",
      "Epoch 469/500\n",
      "84/84 [==============================] - 0s 121us/step - loss: 0.1782 - acc: 0.9643 - val_loss: 0.1353 - val_acc: 1.0000\n",
      "Epoch 470/500\n",
      "84/84 [==============================] - 0s 136us/step - loss: 0.1778 - acc: 0.9762 - val_loss: 0.1347 - val_acc: 1.0000\n",
      "Epoch 471/500\n",
      "84/84 [==============================] - 0s 197us/step - loss: 0.1772 - acc: 0.9643 - val_loss: 0.1343 - val_acc: 1.0000\n",
      "Epoch 472/500\n",
      "84/84 [==============================] - 0s 81us/step - loss: 0.1769 - acc: 0.9762 - val_loss: 0.1343 - val_acc: 1.0000\n",
      "Epoch 473/500\n",
      "84/84 [==============================] - 0s 209us/step - loss: 0.1766 - acc: 0.9762 - val_loss: 0.1340 - val_acc: 1.0000\n",
      "Epoch 474/500\n",
      "84/84 [==============================] - 0s 205us/step - loss: 0.1760 - acc: 0.9762 - val_loss: 0.1333 - val_acc: 1.0000\n",
      "Epoch 475/500\n",
      "84/84 [==============================] - 0s 95us/step - loss: 0.1756 - acc: 0.9762 - val_loss: 0.1324 - val_acc: 1.0000\n",
      "Epoch 476/500\n",
      "84/84 [==============================] - 0s 101us/step - loss: 0.1751 - acc: 0.9643 - val_loss: 0.1313 - val_acc: 1.0000\n",
      "Epoch 477/500\n",
      "84/84 [==============================] - 0s 243us/step - loss: 0.1749 - acc: 0.9643 - val_loss: 0.1304 - val_acc: 1.0000\n",
      "Epoch 478/500\n",
      "84/84 [==============================] - 0s 248us/step - loss: 0.1746 - acc: 0.9643 - val_loss: 0.1299 - val_acc: 1.0000\n",
      "Epoch 479/500\n",
      "84/84 [==============================] - 0s 295us/step - loss: 0.1741 - acc: 0.9643 - val_loss: 0.1297 - val_acc: 1.0000\n",
      "Epoch 480/500\n",
      "84/84 [==============================] - 0s 340us/step - loss: 0.1737 - acc: 0.9643 - val_loss: 0.1293 - val_acc: 1.0000\n",
      "Epoch 481/500\n",
      "84/84 [==============================] - 0s 305us/step - loss: 0.1733 - acc: 0.9643 - val_loss: 0.1291 - val_acc: 1.0000\n",
      "Epoch 482/500\n",
      "84/84 [==============================] - 0s 237us/step - loss: 0.1728 - acc: 0.9643 - val_loss: 0.1289 - val_acc: 1.0000\n",
      "Epoch 483/500\n",
      "84/84 [==============================] - 0s 186us/step - loss: 0.1726 - acc: 0.9643 - val_loss: 0.1288 - val_acc: 1.0000\n"
     ]
    },
    {
     "name": "stdout",
     "output_type": "stream",
     "text": [
      "Epoch 484/500\n",
      "84/84 [==============================] - 0s 163us/step - loss: 0.1721 - acc: 0.9643 - val_loss: 0.1285 - val_acc: 1.0000\n",
      "Epoch 485/500\n",
      "84/84 [==============================] - ETA: 0s - loss: 0.2079 - acc: 0.937 - 0s 85us/step - loss: 0.1717 - acc: 0.9643 - val_loss: 0.1282 - val_acc: 1.0000\n",
      "Epoch 486/500\n",
      "84/84 [==============================] - 0s 235us/step - loss: 0.1713 - acc: 0.9643 - val_loss: 0.1278 - val_acc: 1.0000\n",
      "Epoch 487/500\n",
      "84/84 [==============================] - 0s 96us/step - loss: 0.1712 - acc: 0.9762 - val_loss: 0.1275 - val_acc: 1.0000\n",
      "Epoch 488/500\n",
      "84/84 [==============================] - 0s 131us/step - loss: 0.1705 - acc: 0.9762 - val_loss: 0.1266 - val_acc: 1.0000\n",
      "Epoch 489/500\n",
      "84/84 [==============================] - 0s 168us/step - loss: 0.1701 - acc: 0.9643 - val_loss: 0.1258 - val_acc: 1.0000\n",
      "Epoch 490/500\n",
      "84/84 [==============================] - 0s 79us/step - loss: 0.1698 - acc: 0.9643 - val_loss: 0.1251 - val_acc: 1.0000\n",
      "Epoch 491/500\n",
      "84/84 [==============================] - 0s 227us/step - loss: 0.1695 - acc: 0.9643 - val_loss: 0.1247 - val_acc: 1.0000\n",
      "Epoch 492/500\n",
      "84/84 [==============================] - 0s 166us/step - loss: 0.1692 - acc: 0.9643 - val_loss: 0.1243 - val_acc: 1.0000\n",
      "Epoch 493/500\n",
      "84/84 [==============================] - 0s 266us/step - loss: 0.1688 - acc: 0.9643 - val_loss: 0.1241 - val_acc: 1.0000\n",
      "Epoch 494/500\n",
      "84/84 [==============================] - 0s 540us/step - loss: 0.1684 - acc: 0.9643 - val_loss: 0.1240 - val_acc: 1.0000\n",
      "Epoch 495/500\n",
      "84/84 [==============================] - 0s 335us/step - loss: 0.1680 - acc: 0.9643 - val_loss: 0.1238 - val_acc: 1.0000\n",
      "Epoch 496/500\n",
      "84/84 [==============================] - 0s 746us/step - loss: 0.1676 - acc: 0.9643 - val_loss: 0.1235 - val_acc: 1.0000\n",
      "Epoch 497/500\n",
      "84/84 [==============================] - 0s 282us/step - loss: 0.1676 - acc: 0.9643 - val_loss: 0.1234 - val_acc: 1.0000\n",
      "Epoch 498/500\n",
      "84/84 [==============================] - 0s 260us/step - loss: 0.1669 - acc: 0.9643 - val_loss: 0.1227 - val_acc: 1.0000\n",
      "Epoch 499/500\n",
      "84/84 [==============================] - 0s 125us/step - loss: 0.1667 - acc: 0.9643 - val_loss: 0.1220 - val_acc: 1.0000\n",
      "Epoch 500/500\n",
      "84/84 [==============================] - 0s 137us/step - loss: 0.1662 - acc: 0.9643 - val_loss: 0.1218 - val_acc: 1.0000\n",
      "CPU times: user 7.84 s, sys: 999 ms, total: 8.84 s\n",
      "Wall time: 12.1 s\n"
     ]
    },
    {
     "data": {
      "text/plain": [
       "<keras.callbacks.History at 0x7fcbededc128>"
      ]
     },
     "execution_count": 44,
     "metadata": {},
     "output_type": "execute_result"
    }
   ],
   "source": [
    "# %time model.fit(X_train, y_train, epochs=500, validation_split=0.3, callbacks=[tb_callback])\n",
    "%time model.fit(X_train, y_train, epochs=500, validation_split=0.3)"
   ]
  },
  {
   "cell_type": "markdown",
   "metadata": {},
   "source": [
    "# Bewertung"
   ]
  },
  {
   "cell_type": "code",
   "execution_count": 45,
   "metadata": {},
   "outputs": [
    {
     "data": {
      "text/plain": [
       "array([[  9.94341850e-01,   5.65805100e-03,   8.86318006e-08]], dtype=float32)"
      ]
     },
     "execution_count": 45,
     "metadata": {},
     "output_type": "execute_result"
    }
   ],
   "source": [
    "model.predict(np.array([[ 5.1,  3.5,  1.4,  0.2]]))"
   ]
  },
  {
   "cell_type": "code",
   "execution_count": 46,
   "metadata": {},
   "outputs": [
    {
     "data": {
      "text/plain": [
       "(array([ 5.1,  3.5,  1.4,  0.2]), array([ 1.,  0.,  0.]))"
      ]
     },
     "execution_count": 46,
     "metadata": {},
     "output_type": "execute_result"
    }
   ],
   "source": [
    "X[0], y[0]"
   ]
  },
  {
   "cell_type": "code",
   "execution_count": 47,
   "metadata": {},
   "outputs": [
    {
     "name": "stdout",
     "output_type": "stream",
     "text": [
      "120/120 [==============================] - 0s 130us/step\n"
     ]
    },
    {
     "data": {
      "text/plain": [
       "(0.15265472332636515, 0.97499999999999998)"
      ]
     },
     "execution_count": 47,
     "metadata": {},
     "output_type": "execute_result"
    }
   ],
   "source": [
    "train_loss, train_accuracy = model.evaluate(X_train, y_train)\n",
    "train_loss, train_accuracy"
   ]
  },
  {
   "cell_type": "code",
   "execution_count": 48,
   "metadata": {},
   "outputs": [
    {
     "name": "stdout",
     "output_type": "stream",
     "text": [
      "\r",
      "30/30 [==============================] - 0s 360us/step\n"
     ]
    },
    {
     "data": {
      "text/plain": [
       "(0.13830555975437164, 1.0)"
      ]
     },
     "execution_count": 48,
     "metadata": {},
     "output_type": "execute_result"
    }
   ],
   "source": [
    "test_loss, test_accuracy = model.evaluate(X_test, y_test)\n",
    "test_loss, test_accuracy"
   ]
  }
 ],
 "metadata": {
  "kernelspec": {
   "display_name": "Python 3.6",
   "language": "python",
   "name": "python36"
  },
  "language_info": {
   "codemirror_mode": {
    "name": "ipython",
    "version": 3
   },
   "file_extension": ".py",
   "mimetype": "text/x-python",
   "name": "python",
   "nbconvert_exporter": "python",
   "pygments_lexer": "ipython3",
   "version": "3.6.3"
  }
 },
 "nbformat": 4,
 "nbformat_minor": 2
}
